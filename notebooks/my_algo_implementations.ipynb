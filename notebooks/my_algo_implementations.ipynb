{
 "cells": [
  {
   "cell_type": "markdown",
   "metadata": {},
   "source": [
    "# My Numerical Analysis Algorithm Implementations\n",
    "○ Cholesky  \n",
    "○ SVD  \n",
    "○ Finite Differences ODEs  \n"
   ]
  },
  {
   "cell_type": "code",
   "execution_count": 5,
   "metadata": {},
   "outputs": [],
   "source": [
    "using Plots, LinearAlgebra"
   ]
  },
  {
   "cell_type": "markdown",
   "metadata": {},
   "source": [
    "## Finite Differences"
   ]
  },
  {
   "cell_type": "code",
   "execution_count": 7,
   "metadata": {},
   "outputs": [
    {
     "data": {
      "application/vnd.webio.node+json": {
       "children": [],
       "instanceArgs": {
        "namespace": "html",
        "tag": "div"
       },
       "nodeType": "DOM",
       "props": {},
       "type": "node"
      },
      "text/html": [
       "<div style=\"padding: 1em; background-color: #f8d6da; border: 1px solid #f5c6cb; font-weight: bold;\">\n",
       "<p>The WebIO Jupyter extension was not detected. See the\n",
       "<a href=\"https://juliagizmos.github.io/WebIO.jl/latest/providers/ijulia/\" target=\"_blank\">\n",
       "    WebIO Jupyter integration documentation\n",
       "</a>\n",
       "for more information.\n",
       "</div>\n"
      ],
      "text/plain": [
       "WebIO._IJuliaInit()"
      ]
     },
     "metadata": {},
     "output_type": "display_data"
    },
    {
     "data": {
      "image/png": "[encoded data removed]",
      "image/svg+xml": "<?xml version=\"1.0\" encoding=\"utf-8\"?>\n<svg xmlns=\"http://www.w3.org/2000/svg\" xmlns:xlink=\"http://www.w3.org/1999/xlink\" width=\"600\" height=\"400\" viewBox=\"0 0 2400 1600\">\n<defs>\n  <clipPath id=\"clip950\">\n    <rect x=\"0\" y=\"0\" width=\"2400\" height=\"1600\"/>\n  </clipPath>\n</defs>\n<path clip-path=\"url(#clip950)\" d=\"\nM0 1600 L2400 1600 L2400 0 L0 0  Z\n  \" fill=\"#ffffff\" fill-rule=\"evenodd\" fill-opacity=\"1\"/>\n<defs>\n  <clipPath id=\"clip951\">\n    <rect x=\"480\" y=\"0\" width=\"1681\" height=\"1600\"/>\n  </clipPath>\n</defs>\n<path clip-path=\"url(#clip950)\" d=\"\nM188.292 1486.45 L2352.76 1486.45 L2352.76 47.2441 L188.292 47.2441  Z\n  \" fill=\"#ffffff\" fill-rule=\"evenodd\" fill-opacity=\"1\"/>\n<defs>\n  <clipPath id=\"clip952\">\n    <rect x=\"188\" y=\"47\" width=\"2165\" height=\"1440\"/>\n  </clipPath>\n</defs>\n<polyline clip-path=\"url(#clip952)\" style=\"stroke:#000000; stroke-linecap:butt; stroke-linejoin:round; stroke-width:2; stroke-opacity:0.1; fill:none\" points=\"\n  215.518,1486.45 215.518,47.2441 \n  \"/>\n<polyline clip-path=\"url(#clip952)\" style=\"stroke:#000000; stroke-linecap:butt; stroke-linejoin:round; stroke-width:2; stroke-opacity:0.1; fill:none\" points=\"\n  555.843,1486.45 555.843,47.2441 \n  \"/>\n<polyline clip-path=\"url(#clip952)\" style=\"stroke:#000000; stroke-linecap:butt; stroke-linejoin:round; stroke-width:2; stroke-opacity:0.1; fill:none\" points=\"\n  896.167,1486.45 896.167,47.2441 \n  \"/>\n<polyline clip-path=\"url(#clip952)\" style=\"stroke:#000000; stroke-linecap:butt; stroke-linejoin:round; stroke-width:2; stroke-opacity:0.1; fill:none\" points=\"\n  1236.49,1486.45 1236.49,47.2441 \n  \"/>\n<polyline clip-path=\"url(#clip952)\" style=\"stroke:#000000; stroke-linecap:butt; stroke-linejoin:round; stroke-width:2; stroke-opacity:0.1; fill:none\" points=\"\n  1576.82,1486.45 1576.82,47.2441 \n  \"/>\n<polyline clip-path=\"url(#clip952)\" style=\"stroke:#000000; stroke-linecap:butt; stroke-linejoin:round; stroke-width:2; stroke-opacity:0.1; fill:none\" points=\"\n  1917.14,1486.45 1917.14,47.2441 \n  \"/>\n<polyline clip-path=\"url(#clip952)\" style=\"stroke:#000000; stroke-linecap:butt; stroke-linejoin:round; stroke-width:2; stroke-opacity:0.1; fill:none\" points=\"\n  2257.47,1486.45 2257.47,47.2441 \n  \"/>\n<polyline clip-path=\"url(#clip950)\" style=\"stroke:#000000; stroke-linecap:butt; stroke-linejoin:round; stroke-width:4; stroke-opacity:1; fill:none\" points=\"\n  188.292,1486.45 2352.76,1486.45 \n  \"/>\n<polyline clip-path=\"url(#clip950)\" style=\"stroke:#000000; stroke-linecap:butt; stroke-linejoin:round; stroke-width:4; stroke-opacity:1; fill:none\" points=\"\n  215.518,1486.45 215.518,1467.55 \n  \"/>\n<polyline clip-path=\"url(#clip950)\" style=\"stroke:#000000; stroke-linecap:butt; stroke-linejoin:round; stroke-width:4; stroke-opacity:1; fill:none\" points=\"\n  555.843,1486.45 555.843,1467.55 \n  \"/>\n<polyline clip-path=\"url(#clip950)\" style=\"stroke:#000000; stroke-linecap:butt; stroke-linejoin:round; stroke-width:4; stroke-opacity:1; fill:none\" points=\"\n  896.167,1486.45 896.167,1467.55 \n  \"/>\n<polyline clip-path=\"url(#clip950)\" style=\"stroke:#000000; stroke-linecap:butt; stroke-linejoin:round; stroke-width:4; stroke-opacity:1; fill:none\" points=\"\n  1236.49,1486.45 1236.49,1467.55 \n  \"/>\n<polyline clip-path=\"url(#clip950)\" style=\"stroke:#000000; stroke-linecap:butt; stroke-linejoin:round; stroke-width:4; stroke-opacity:1; fill:none\" points=\"\n  1576.82,1486.45 1576.82,1467.55 \n  \"/>\n<polyline clip-path=\"url(#clip950)\" style=\"stroke:#000000; stroke-linecap:butt; stroke-linejoin:round; stroke-width:4; stroke-opacity:1; fill:none\" points=\"\n  1917.14,1486.45 1917.14,1467.55 \n  \"/>\n<polyline clip-path=\"url(#clip950)\" style=\"stroke:#000000; stroke-linecap:butt; stroke-linejoin:round; stroke-width:4; stroke-opacity:1; fill:none\" points=\"\n  2257.47,1486.45 2257.47,1467.55 \n  \"/>\n<path clip-path=\"url(#clip950)\" d=\"M215.518 1517.37 Q211.907 1517.37 210.078 1520.93 Q208.273 1524.47 208.273 1531.6 Q208.273 1538.71 210.078 1542.27 Q211.907 1545.82 215.518 1545.82 Q219.152 1545.82 220.958 1542.27 Q222.787 1538.71 222.787 1531.6 Q222.787 1524.47 220.958 1520.93 Q219.152 1517.37 215.518 1517.37 M215.518 1513.66 Q221.328 1513.66 224.384 1518.27 Q227.463 1522.85 227.463 1531.6 Q227.463 1540.33 224.384 1544.94 Q221.328 1549.52 215.518 1549.52 Q209.708 1549.52 206.629 1544.94 Q203.574 1540.33 203.574 1531.6 Q203.574 1522.85 206.629 1518.27 Q209.708 1513.66 215.518 1513.66 Z\" fill=\"#000000\" fill-rule=\"evenodd\" fill-opacity=\"1\" /><path clip-path=\"url(#clip950)\" d=\"M530.53 1544.91 L538.169 1544.91 L538.169 1518.55 L529.859 1520.21 L529.859 1515.95 L538.123 1514.29 L542.799 1514.29 L542.799 1544.91 L550.438 1544.91 L550.438 1548.85 L530.53 1548.85 L530.53 1544.91 Z\" fill=\"#000000\" fill-rule=\"evenodd\" fill-opacity=\"1\" /><path clip-path=\"url(#clip950)\" d=\"M569.882 1517.37 Q566.271 1517.37 564.442 1520.93 Q562.637 1524.47 562.637 1531.6 Q562.637 1538.71 564.442 1542.27 Q566.271 1545.82 569.882 1545.82 Q573.516 1545.82 575.322 1542.27 Q577.15 1538.71 577.15 1531.6 Q577.15 1524.47 575.322 1520.93 Q573.516 1517.37 569.882 1517.37 M569.882 1513.66 Q575.692 1513.66 578.748 1518.27 Q581.826 1522.85 581.826 1531.6 Q581.826 1540.33 578.748 1544.94 Q575.692 1549.52 569.882 1549.52 Q564.072 1549.52 560.993 1544.94 Q557.938 1540.33 557.938 1531.6 Q557.938 1522.85 560.993 1518.27 Q564.072 1513.66 569.882 1513.66 Z\" fill=\"#000000\" fill-rule=\"evenodd\" fill-opacity=\"1\" /><path clip-path=\"url(#clip950)\" d=\"M874.94 1544.91 L891.26 1544.91 L891.26 1548.85 L869.315 1548.85 L869.315 1544.91 Q871.977 1542.16 876.561 1537.53 Q881.167 1532.88 882.348 1531.53 Q884.593 1529.01 885.473 1527.27 Q886.376 1525.51 886.376 1523.82 Q886.376 1521.07 884.431 1519.33 Q882.51 1517.6 879.408 1517.6 Q877.209 1517.6 874.755 1518.36 Q872.325 1519.13 869.547 1520.68 L869.547 1515.95 Q872.371 1514.82 874.825 1514.24 Q877.278 1513.66 879.315 1513.66 Q884.686 1513.66 887.88 1516.35 Q891.075 1519.03 891.075 1523.52 Q891.075 1525.65 890.264 1527.57 Q889.477 1529.47 887.371 1532.07 Q886.792 1532.74 883.69 1535.95 Q880.589 1539.15 874.94 1544.91 Z\" fill=\"#000000\" fill-rule=\"evenodd\" fill-opacity=\"1\" /><path clip-path=\"url(#clip950)\" d=\"M911.074 1517.37 Q907.463 1517.37 905.635 1520.93 Q903.829 1524.47 903.829 1531.6 Q903.829 1538.71 905.635 1542.27 Q907.463 1545.82 911.074 1545.82 Q914.709 1545.82 916.514 1542.27 Q918.343 1538.71 918.343 1531.6 Q918.343 1524.47 916.514 1520.93 Q914.709 1517.37 911.074 1517.37 M911.074 1513.66 Q916.885 1513.66 919.94 1518.27 Q923.019 1522.85 923.019 1531.6 Q923.019 1540.33 919.94 1544.94 Q916.885 1549.52 911.074 1549.52 Q905.264 1549.52 902.186 1544.94 Q899.13 1540.33 899.13 1531.6 Q899.13 1522.85 902.186 1518.27 Q905.264 1513.66 911.074 1513.66 Z\" fill=\"#000000\" fill-rule=\"evenodd\" fill-opacity=\"1\" /><path clip-path=\"url(#clip950)\" d=\"M1225.33 1530.21 Q1228.69 1530.93 1230.57 1533.2 Q1232.46 1535.47 1232.46 1538.8 Q1232.46 1543.92 1228.95 1546.72 Q1225.43 1549.52 1218.95 1549.52 Q1216.77 1549.52 1214.45 1549.08 Q1212.16 1548.66 1209.71 1547.81 L1209.71 1543.29 Q1211.65 1544.43 1213.97 1545.01 Q1216.28 1545.58 1218.81 1545.58 Q1223.2 1545.58 1225.5 1543.85 Q1227.81 1542.11 1227.81 1538.8 Q1227.81 1535.75 1225.66 1534.03 Q1223.53 1532.3 1219.71 1532.3 L1215.68 1532.3 L1215.68 1528.45 L1219.89 1528.45 Q1223.34 1528.45 1225.17 1527.09 Q1227 1525.7 1227 1523.11 Q1227 1520.45 1225.1 1519.03 Q1223.23 1517.6 1219.71 1517.6 Q1217.79 1517.6 1215.59 1518.01 Q1213.39 1518.43 1210.75 1519.31 L1210.75 1515.14 Q1213.41 1514.4 1215.73 1514.03 Q1218.07 1513.66 1220.13 1513.66 Q1225.45 1513.66 1228.55 1516.09 Q1231.65 1518.5 1231.65 1522.62 Q1231.65 1525.49 1230.01 1527.48 Q1228.37 1529.45 1225.33 1530.21 Z\" fill=\"#000000\" fill-rule=\"evenodd\" fill-opacity=\"1\" /><path clip-path=\"url(#clip950)\" d=\"M1251.33 1517.37 Q1247.72 1517.37 1245.89 1520.93 Q1244.08 1524.47 1244.08 1531.6 Q1244.08 1538.71 1245.89 1542.27 Q1247.72 1545.82 1251.33 1545.82 Q1254.96 1545.82 1256.77 1542.27 Q1258.6 1538.71 1258.6 1531.6 Q1258.6 1524.47 1256.77 1520.93 Q1254.96 1517.37 1251.33 1517.37 M1251.33 1513.66 Q1257.14 1513.66 1260.2 1518.27 Q1263.27 1522.85 1263.27 1531.6 Q1263.27 1540.33 1260.2 1544.94 Q1257.14 1549.52 1251.33 1549.52 Q1245.52 1549.52 1242.44 1544.94 Q1239.39 1540.33 1239.39 1531.6 Q1239.39 1522.85 1242.44 1518.27 Q1245.52 1513.66 1251.33 1513.66 Z\" fill=\"#000000\" fill-rule=\"evenodd\" fill-opacity=\"1\" /><path clip-path=\"url(#clip950)\" d=\"M1564.99 1518.36 L1553.18 1536.81 L1564.99 1536.81 L1564.99 1518.36 M1563.76 1514.29 L1569.64 1514.29 L1569.64 1536.81 L1574.57 1536.81 L1574.57 1540.7 L1569.64 1540.7 L1569.64 1548.85 L1564.99 1548.85 L1564.99 1540.7 L1549.39 1540.7 L1549.39 1536.19 L1563.76 1514.29 Z\" fill=\"#000000\" fill-rule=\"evenodd\" fill-opacity=\"1\" /><path clip-path=\"url(#clip950)\" d=\"M1592.3 1517.37 Q1588.69 1517.37 1586.86 1520.93 Q1585.06 1524.47 1585.06 1531.6 Q1585.06 1538.71 1586.86 1542.27 Q1588.69 1545.82 1592.3 1545.82 Q1595.94 1545.82 1597.74 1542.27 Q1599.57 1538.71 1599.57 1531.6 Q1599.57 1524.47 1597.74 1520.93 Q1595.94 1517.37 1592.3 1517.37 M1592.3 1513.66 Q1598.11 1513.66 1601.17 1518.27 Q1604.25 1522.85 1604.25 1531.6 Q1604.25 1540.33 1601.17 1544.94 Q1598.11 1549.52 1592.3 1549.52 Q1586.49 1549.52 1583.41 1544.94 Q1580.36 1540.33 1580.36 1531.6 Q1580.36 1522.85 1583.41 1518.27 Q1586.49 1513.66 1592.3 1513.66 Z\" fill=\"#000000\" fill-rule=\"evenodd\" fill-opacity=\"1\" /><path clip-path=\"url(#clip950)\" d=\"M1891.84 1514.29 L1910.2 1514.29 L1910.2 1518.22 L1896.12 1518.22 L1896.12 1526.7 Q1897.14 1526.35 1898.16 1526.19 Q1899.18 1526 1900.2 1526 Q1905.98 1526 1909.36 1529.17 Q1912.74 1532.34 1912.74 1537.76 Q1912.74 1543.34 1909.27 1546.44 Q1905.8 1549.52 1899.48 1549.52 Q1897.3 1549.52 1895.03 1549.15 Q1892.79 1548.78 1890.38 1548.04 L1890.38 1543.34 Q1892.46 1544.47 1894.69 1545.03 Q1896.91 1545.58 1899.39 1545.58 Q1903.39 1545.58 1905.73 1543.48 Q1908.07 1541.37 1908.07 1537.76 Q1908.07 1534.15 1905.73 1532.04 Q1903.39 1529.94 1899.39 1529.94 Q1897.51 1529.94 1895.64 1530.35 Q1893.78 1530.77 1891.84 1531.65 L1891.84 1514.29 Z\" fill=\"#000000\" fill-rule=\"evenodd\" fill-opacity=\"1\" /><path clip-path=\"url(#clip950)\" d=\"M1931.96 1517.37 Q1928.34 1517.37 1926.52 1520.93 Q1924.71 1524.47 1924.71 1531.6 Q1924.71 1538.71 1926.52 1542.27 Q1928.34 1545.82 1931.96 1545.82 Q1935.59 1545.82 1937.4 1542.27 Q1939.22 1538.71 1939.22 1531.6 Q1939.22 1524.47 1937.4 1520.93 Q1935.59 1517.37 1931.96 1517.37 M1931.96 1513.66 Q1937.77 1513.66 1940.82 1518.27 Q1943.9 1522.85 1943.9 1531.6 Q1943.9 1540.33 1940.82 1544.94 Q1937.77 1549.52 1931.96 1549.52 Q1926.15 1549.52 1923.07 1544.94 Q1920.01 1540.33 1920.01 1531.6 Q1920.01 1522.85 1923.07 1518.27 Q1926.15 1513.66 1931.96 1513.66 Z\" fill=\"#000000\" fill-rule=\"evenodd\" fill-opacity=\"1\" /><path clip-path=\"url(#clip950)\" d=\"M2242.87 1529.7 Q2239.72 1529.7 2237.87 1531.86 Q2236.04 1534.01 2236.04 1537.76 Q2236.04 1541.49 2237.87 1543.66 Q2239.72 1545.82 2242.87 1545.82 Q2246.02 1545.82 2247.85 1543.66 Q2249.7 1541.49 2249.7 1537.76 Q2249.7 1534.01 2247.85 1531.86 Q2246.02 1529.7 2242.87 1529.7 M2252.15 1515.05 L2252.15 1519.31 Q2250.39 1518.48 2248.59 1518.04 Q2246.81 1517.6 2245.05 1517.6 Q2240.42 1517.6 2237.96 1520.72 Q2235.53 1523.85 2235.19 1530.17 Q2236.55 1528.15 2238.61 1527.09 Q2240.67 1526 2243.15 1526 Q2248.36 1526 2251.37 1529.17 Q2254.4 1532.32 2254.4 1537.76 Q2254.4 1543.08 2251.25 1546.3 Q2248.1 1549.52 2242.87 1549.52 Q2236.87 1549.52 2233.7 1544.94 Q2230.53 1540.33 2230.53 1531.6 Q2230.53 1523.41 2234.42 1518.55 Q2238.31 1513.66 2244.86 1513.66 Q2246.62 1513.66 2248.4 1514.01 Q2250.21 1514.36 2252.15 1515.05 Z\" fill=\"#000000\" fill-rule=\"evenodd\" fill-opacity=\"1\" /><path clip-path=\"url(#clip950)\" d=\"M2272.45 1517.37 Q2268.84 1517.37 2267.01 1520.93 Q2265.21 1524.47 2265.21 1531.6 Q2265.21 1538.71 2267.01 1542.27 Q2268.84 1545.82 2272.45 1545.82 Q2276.09 1545.82 2277.89 1542.27 Q2279.72 1538.71 2279.72 1531.6 Q2279.72 1524.47 2277.89 1520.93 Q2276.09 1517.37 2272.45 1517.37 M2272.45 1513.66 Q2278.26 1513.66 2281.32 1518.27 Q2284.4 1522.85 2284.4 1531.6 Q2284.4 1540.33 2281.32 1544.94 Q2278.26 1549.52 2272.45 1549.52 Q2266.64 1549.52 2263.56 1544.94 Q2260.51 1540.33 2260.51 1531.6 Q2260.51 1522.85 2263.56 1518.27 Q2266.64 1513.66 2272.45 1513.66 Z\" fill=\"#000000\" fill-rule=\"evenodd\" fill-opacity=\"1\" /><polyline clip-path=\"url(#clip952)\" style=\"stroke:#000000; stroke-linecap:butt; stroke-linejoin:round; stroke-width:2; stroke-opacity:0.1; fill:none\" points=\"\n  188.292,955.344 2352.76,955.344 \n  \"/>\n<polyline clip-path=\"url(#clip952)\" style=\"stroke:#000000; stroke-linecap:butt; stroke-linejoin:round; stroke-width:2; stroke-opacity:0.1; fill:none\" points=\"\n  188.292,87.9763 2352.76,87.9763 \n  \"/>\n<polyline clip-path=\"url(#clip950)\" style=\"stroke:#000000; stroke-linecap:butt; stroke-linejoin:round; stroke-width:4; stroke-opacity:1; fill:none\" points=\"\n  188.292,1486.45 188.292,47.2441 \n  \"/>\n<polyline clip-path=\"url(#clip950)\" style=\"stroke:#000000; stroke-linecap:butt; stroke-linejoin:round; stroke-width:4; stroke-opacity:1; fill:none\" points=\"\n  188.292,955.344 207.19,955.344 \n  \"/>\n<polyline clip-path=\"url(#clip950)\" style=\"stroke:#000000; stroke-linecap:butt; stroke-linejoin:round; stroke-width:4; stroke-opacity:1; fill:none\" points=\"\n  188.292,87.9763 207.19,87.9763 \n  \"/>\n<path clip-path=\"url(#clip950)\" d=\"M51.6634 975.137 L59.3023 975.137 L59.3023 948.771 L50.9921 950.438 L50.9921 946.178 L59.256 944.512 L63.9319 944.512 L63.9319 975.137 L71.5707 975.137 L71.5707 979.072 L51.6634 979.072 L51.6634 975.137 Z\" fill=\"#000000\" fill-rule=\"evenodd\" fill-opacity=\"1\" /><path clip-path=\"url(#clip950)\" d=\"M91.0151 947.59 Q87.404 947.59 85.5753 951.155 Q83.7697 954.697 83.7697 961.826 Q83.7697 968.933 85.5753 972.498 Q87.404 976.039 91.0151 976.039 Q94.6493 976.039 96.4548 972.498 Q98.2835 968.933 98.2835 961.826 Q98.2835 954.697 96.4548 951.155 Q94.6493 947.59 91.0151 947.59 M91.0151 943.887 Q96.8252 943.887 99.8808 948.493 Q102.959 953.076 102.959 961.826 Q102.959 970.553 99.8808 975.16 Q96.8252 979.743 91.0151 979.743 Q85.2049 979.743 82.1262 975.16 Q79.0707 970.553 79.0707 961.826 Q79.0707 953.076 82.1262 948.493 Q85.2049 943.887 91.0151 943.887 Z\" fill=\"#000000\" fill-rule=\"evenodd\" fill-opacity=\"1\" /><path clip-path=\"url(#clip950)\" d=\"M102.959 937.988 L127.071 937.988 L127.071 941.185 L102.959 941.185 L102.959 937.988 Z\" fill=\"#000000\" fill-rule=\"evenodd\" fill-opacity=\"1\" /><path clip-path=\"url(#clip950)\" d=\"M135.309 923.581 L150.223 923.581 L150.223 926.779 L138.788 926.779 L138.788 933.662 Q139.616 933.38 140.443 933.248 Q141.271 933.098 142.098 933.098 Q146.8 933.098 149.546 935.675 Q152.292 938.251 152.292 942.652 Q152.292 947.185 149.471 949.705 Q146.65 952.207 141.515 952.207 Q139.747 952.207 137.904 951.906 Q136.08 951.605 134.124 951.003 L134.124 947.185 Q135.817 948.107 137.622 948.558 Q139.428 949.009 141.44 949.009 Q144.694 949.009 146.593 947.298 Q148.493 945.586 148.493 942.652 Q148.493 939.718 146.593 938.007 Q144.694 936.295 141.44 936.295 Q139.917 936.295 138.393 936.634 Q136.889 936.972 135.309 937.687 L135.309 923.581 Z\" fill=\"#000000\" fill-rule=\"evenodd\" fill-opacity=\"1\" /><path clip-path=\"url(#clip950)\" d=\"M81.5866 107.769 L89.2254 107.769 L89.2254 81.4031 L80.9153 83.0698 L80.9153 78.8105 L89.1791 77.1439 L93.855 77.1439 L93.855 107.769 L101.494 107.769 L101.494 111.704 L81.5866 111.704 L81.5866 107.769 Z\" fill=\"#000000\" fill-rule=\"evenodd\" fill-opacity=\"1\" /><path clip-path=\"url(#clip950)\" d=\"M120.938 80.2226 Q117.327 80.2226 115.498 83.7874 Q113.693 87.329 113.693 94.4586 Q113.693 101.565 115.498 105.13 Q117.327 108.671 120.938 108.671 Q124.572 108.671 126.378 105.13 Q128.207 101.565 128.207 94.4586 Q128.207 87.329 126.378 83.7874 Q124.572 80.2226 120.938 80.2226 M120.938 76.5189 Q126.748 76.5189 129.804 81.1253 Q132.883 85.7086 132.883 94.4586 Q132.883 103.185 129.804 107.792 Q126.748 112.375 120.938 112.375 Q115.128 112.375 112.049 107.792 Q108.994 103.185 108.994 94.4586 Q108.994 85.7086 112.049 81.1253 Q115.128 76.5189 120.938 76.5189 Z\" fill=\"#000000\" fill-rule=\"evenodd\" fill-opacity=\"1\" /><path clip-path=\"url(#clip950)\" d=\"M142.587 58.7149 Q139.653 58.7149 138.168 61.6113 Q136.701 64.4889 136.701 70.2817 Q136.701 76.0557 138.168 78.9521 Q139.653 81.8297 142.587 81.8297 Q145.54 81.8297 147.007 78.9521 Q148.493 76.0557 148.493 70.2817 Q148.493 64.4889 147.007 61.6113 Q145.54 58.7149 142.587 58.7149 M142.587 55.7057 Q147.308 55.7057 149.791 59.4484 Q152.292 63.1724 152.292 70.2817 Q152.292 77.3722 149.791 81.115 Q147.308 84.8389 142.587 84.8389 Q137.867 84.8389 135.365 81.115 Q132.883 77.3722 132.883 70.2817 Q132.883 63.1724 135.365 59.4484 Q137.867 55.7057 142.587 55.7057 Z\" fill=\"#000000\" fill-rule=\"evenodd\" fill-opacity=\"1\" /><polyline clip-path=\"url(#clip952)\" style=\"stroke:#009af9; stroke-linecap:butt; stroke-linejoin:round; stroke-width:4; stroke-opacity:1; fill:none\" points=\"\n  249.551,87.9763 283.583,140.197 317.616,192.418 351.648,244.639 385.68,296.859 419.713,349.08 453.745,401.301 487.778,453.522 521.81,505.742 555.843,557.963 \n  589.875,610.184 623.908,662.404 657.94,714.625 691.972,766.846 726.005,819.067 760.037,871.287 794.07,923.508 828.102,975.729 862.135,1027.95 896.167,1080.17 \n  930.2,1132.39 964.232,1184.61 998.264,1236.83 1032.3,1289.05 1066.33,1341.27 1100.36,1393.49 1134.39,1445.72 \n  \"/>\n<polyline clip-path=\"url(#clip952)\" style=\"stroke:#009af9; stroke-linecap:butt; stroke-linejoin:round; stroke-width:4; stroke-opacity:1; fill:none\" points=\"\n  2053.27,87.9763 2087.3,87.9763 2121.34,87.9763 2155.37,87.9763 2189.4,87.9763 2223.43,87.9763 2257.47,87.9763 2291.5,87.9763 \n  \"/>\n<path clip-path=\"url(#clip950)\" d=\"\nM1987.68 198.898 L2280.61 198.898 L2280.61 95.2176 L1987.68 95.2176  Z\n  \" fill=\"#ffffff\" fill-rule=\"evenodd\" fill-opacity=\"1\"/>\n<polyline clip-path=\"url(#clip950)\" style=\"stroke:#000000; stroke-linecap:butt; stroke-linejoin:round; stroke-width:4; stroke-opacity:1; fill:none\" points=\"\n  1987.68,198.898 2280.61,198.898 2280.61,95.2176 1987.68,95.2176 1987.68,198.898 \n  \"/>\n<polyline clip-path=\"url(#clip950)\" style=\"stroke:#009af9; stroke-linecap:butt; stroke-linejoin:round; stroke-width:4; stroke-opacity:1; fill:none\" points=\"\n  2011.73,147.058 2156.03,147.058 \n  \"/>\n<path clip-path=\"url(#clip950)\" d=\"M2193.92 166.745 Q2192.11 171.375 2190.4 172.787 Q2188.69 174.199 2185.82 174.199 L2182.42 174.199 L2182.42 170.634 L2184.92 170.634 Q2186.67 170.634 2187.65 169.8 Q2188.62 168.967 2189.8 165.865 L2190.56 163.921 L2180.08 138.412 L2184.59 138.412 L2192.69 158.689 L2200.8 138.412 L2205.31 138.412 L2193.92 166.745 Z\" fill=\"#000000\" fill-rule=\"evenodd\" fill-opacity=\"1\" /><path clip-path=\"url(#clip950)\" d=\"M2212.6 160.402 L2220.24 160.402 L2220.24 134.037 L2211.93 135.703 L2211.93 131.444 L2220.19 129.778 L2224.87 129.778 L2224.87 160.402 L2232.51 160.402 L2232.51 164.338 L2212.6 164.338 L2212.6 160.402 Z\" fill=\"#000000\" fill-rule=\"evenodd\" fill-opacity=\"1\" /></svg>\n",
      "text/html": [
       "<?xml version=\"1.0\" encoding=\"utf-8\"?>\n",
       "<svg xmlns=\"http://www.w3.org/2000/svg\" xmlns:xlink=\"http://www.w3.org/1999/xlink\" width=\"600\" height=\"400\" viewBox=\"0 0 2400 1600\">\n",
       "<defs>\n",
       "  <clipPath id=\"clip000\">\n",
       "    <rect x=\"0\" y=\"0\" width=\"2400\" height=\"1600\"/>\n",
       "  </clipPath>\n",
       "</defs>\n",
       "<path clip-path=\"url(#clip000)\" d=\"\n",
       "M0 1600 L2400 1600 L2400 0 L0 0  Z\n",
       "  \" fill=\"#ffffff\" fill-rule=\"evenodd\" fill-opacity=\"1\"/>\n",
       "<defs>\n",
       "  <clipPath id=\"clip001\">\n",
       "    <rect x=\"480\" y=\"0\" width=\"1681\" height=\"1600\"/>\n",
       "  </clipPath>\n",
       "</defs>\n",
       "<path clip-path=\"url(#clip000)\" d=\"\n",
       "M188.292 1486.45 L2352.76 1486.45 L2352.76 47.2441 L188.292 47.2441  Z\n",
       "  \" fill=\"#ffffff\" fill-rule=\"evenodd\" fill-opacity=\"1\"/>\n",
       "<defs>\n",
       "  <clipPath id=\"clip002\">\n",
       "    <rect x=\"188\" y=\"47\" width=\"2165\" height=\"1440\"/>\n",
       "  </clipPath>\n",
       "</defs>\n",
       "<polyline clip-path=\"url(#clip002)\" style=\"stroke:#000000; stroke-linecap:butt; stroke-linejoin:round; stroke-width:2; stroke-opacity:0.1; fill:none\" points=\"\n",
       "  215.518,1486.45 215.518,47.2441 \n",
       "  \"/>\n",
       "<polyline clip-path=\"url(#clip002)\" style=\"stroke:#000000; stroke-linecap:butt; stroke-linejoin:round; stroke-width:2; stroke-opacity:0.1; fill:none\" points=\"\n",
       "  555.843,1486.45 555.843,47.2441 \n",
       "  \"/>\n",
       "<polyline clip-path=\"url(#clip002)\" style=\"stroke:#000000; stroke-linecap:butt; stroke-linejoin:round; stroke-width:2; stroke-opacity:0.1; fill:none\" points=\"\n",
       "  896.167,1486.45 896.167,47.2441 \n",
       "  \"/>\n",
       "<polyline clip-path=\"url(#clip002)\" style=\"stroke:#000000; stroke-linecap:butt; stroke-linejoin:round; stroke-width:2; stroke-opacity:0.1; fill:none\" points=\"\n",
       "  1236.49,1486.45 1236.49,47.2441 \n",
       "  \"/>\n",
       "<polyline clip-path=\"url(#clip002)\" style=\"stroke:#000000; stroke-linecap:butt; stroke-linejoin:round; stroke-width:2; stroke-opacity:0.1; fill:none\" points=\"\n",
       "  1576.82,1486.45 1576.82,47.2441 \n",
       "  \"/>\n",
       "<polyline clip-path=\"url(#clip002)\" style=\"stroke:#000000; stroke-linecap:butt; stroke-linejoin:round; stroke-width:2; stroke-opacity:0.1; fill:none\" points=\"\n",
       "  1917.14,1486.45 1917.14,47.2441 \n",
       "  \"/>\n",
       "<polyline clip-path=\"url(#clip002)\" style=\"stroke:#000000; stroke-linecap:butt; stroke-linejoin:round; stroke-width:2; stroke-opacity:0.1; fill:none\" points=\"\n",
       "  2257.47,1486.45 2257.47,47.2441 \n",
       "  \"/>\n",
       "<polyline clip-path=\"url(#clip000)\" style=\"stroke:#000000; stroke-linecap:butt; stroke-linejoin:round; stroke-width:4; stroke-opacity:1; fill:none\" points=\"\n",
       "  188.292,1486.45 2352.76,1486.45 \n",
       "  \"/>\n",
       "<polyline clip-path=\"url(#clip000)\" style=\"stroke:#000000; stroke-linecap:butt; stroke-linejoin:round; stroke-width:4; stroke-opacity:1; fill:none\" points=\"\n",
       "  215.518,1486.45 215.518,1467.55 \n",
       "  \"/>\n",
       "<polyline clip-path=\"url(#clip000)\" style=\"stroke:#000000; stroke-linecap:butt; stroke-linejoin:round; stroke-width:4; stroke-opacity:1; fill:none\" points=\"\n",
       "  555.843,1486.45 555.843,1467.55 \n",
       "  \"/>\n",
       "<polyline clip-path=\"url(#clip000)\" style=\"stroke:#000000; stroke-linecap:butt; stroke-linejoin:round; stroke-width:4; stroke-opacity:1; fill:none\" points=\"\n",
       "  896.167,1486.45 896.167,1467.55 \n",
       "  \"/>\n",
       "<polyline clip-path=\"url(#clip000)\" style=\"stroke:#000000; stroke-linecap:butt; stroke-linejoin:round; stroke-width:4; stroke-opacity:1; fill:none\" points=\"\n",
       "  1236.49,1486.45 1236.49,1467.55 \n",
       "  \"/>\n",
       "<polyline clip-path=\"url(#clip000)\" style=\"stroke:#000000; stroke-linecap:butt; stroke-linejoin:round; stroke-width:4; stroke-opacity:1; fill:none\" points=\"\n",
       "  1576.82,1486.45 1576.82,1467.55 \n",
       "  \"/>\n",
       "<polyline clip-path=\"url(#clip000)\" style=\"stroke:#000000; stroke-linecap:butt; stroke-linejoin:round; stroke-width:4; stroke-opacity:1; fill:none\" points=\"\n",
       "  1917.14,1486.45 1917.14,1467.55 \n",
       "  \"/>\n",
       "<polyline clip-path=\"url(#clip000)\" style=\"stroke:#000000; stroke-linecap:butt; stroke-linejoin:round; stroke-width:4; stroke-opacity:1; fill:none\" points=\"\n",
       "  2257.47,1486.45 2257.47,1467.55 \n",
       "  \"/>\n",
       "<path clip-path=\"url(#clip000)\" d=\"M215.518 1517.37 Q211.907 1517.37 210.078 1520.93 Q208.273 1524.47 208.273 1531.6 Q208.273 1538.71 210.078 1542.27 Q211.907 1545.82 215.518 1545.82 Q219.152 1545.82 220.958 1542.27 Q222.787 1538.71 222.787 1531.6 Q222.787 1524.47 220.958 1520.93 Q219.152 1517.37 215.518 1517.37 M215.518 1513.66 Q221.328 1513.66 224.384 1518.27 Q227.463 1522.85 227.463 1531.6 Q227.463 1540.33 224.384 1544.94 Q221.328 1549.52 215.518 1549.52 Q209.708 1549.52 206.629 1544.94 Q203.574 1540.33 203.574 1531.6 Q203.574 1522.85 206.629 1518.27 Q209.708 1513.66 215.518 1513.66 Z\" fill=\"#000000\" fill-rule=\"evenodd\" fill-opacity=\"1\" /><path clip-path=\"url(#clip000)\" d=\"M530.53 1544.91 L538.169 1544.91 L538.169 1518.55 L529.859 1520.21 L529.859 1515.95 L538.123 1514.29 L542.799 1514.29 L542.799 1544.91 L550.438 1544.91 L550.438 1548.85 L530.53 1548.85 L530.53 1544.91 Z\" fill=\"#000000\" fill-rule=\"evenodd\" fill-opacity=\"1\" /><path clip-path=\"url(#clip000)\" d=\"M569.882 1517.37 Q566.271 1517.37 564.442 1520.93 Q562.637 1524.47 562.637 1531.6 Q562.637 1538.71 564.442 1542.27 Q566.271 1545.82 569.882 1545.82 Q573.516 1545.82 575.322 1542.27 Q577.15 1538.71 577.15 1531.6 Q577.15 1524.47 575.322 1520.93 Q573.516 1517.37 569.882 1517.37 M569.882 1513.66 Q575.692 1513.66 578.748 1518.27 Q581.826 1522.85 581.826 1531.6 Q581.826 1540.33 578.748 1544.94 Q575.692 1549.52 569.882 1549.52 Q564.072 1549.52 560.993 1544.94 Q557.938 1540.33 557.938 1531.6 Q557.938 1522.85 560.993 1518.27 Q564.072 1513.66 569.882 1513.66 Z\" fill=\"#000000\" fill-rule=\"evenodd\" fill-opacity=\"1\" /><path clip-path=\"url(#clip000)\" d=\"M874.94 1544.91 L891.26 1544.91 L891.26 1548.85 L869.315 1548.85 L869.315 1544.91 Q871.977 1542.16 876.561 1537.53 Q881.167 1532.88 882.348 1531.53 Q884.593 1529.01 885.473 1527.27 Q886.376 1525.51 886.376 1523.82 Q886.376 1521.07 884.431 1519.33 Q882.51 1517.6 879.408 1517.6 Q877.209 1517.6 874.755 1518.36 Q872.325 1519.13 869.547 1520.68 L869.547 1515.95 Q872.371 1514.82 874.825 1514.24 Q877.278 1513.66 879.315 1513.66 Q884.686 1513.66 887.88 1516.35 Q891.075 1519.03 891.075 1523.52 Q891.075 1525.65 890.264 1527.57 Q889.477 1529.47 887.371 1532.07 Q886.792 1532.74 883.69 1535.95 Q880.589 1539.15 874.94 1544.91 Z\" fill=\"#000000\" fill-rule=\"evenodd\" fill-opacity=\"1\" /><path clip-path=\"url(#clip000)\" d=\"M911.074 1517.37 Q907.463 1517.37 905.635 1520.93 Q903.829 1524.47 903.829 1531.6 Q903.829 1538.71 905.635 1542.27 Q907.463 1545.82 911.074 1545.82 Q914.709 1545.82 916.514 1542.27 Q918.343 1538.71 918.343 1531.6 Q918.343 1524.47 916.514 1520.93 Q914.709 1517.37 911.074 1517.37 M911.074 1513.66 Q916.885 1513.66 919.94 1518.27 Q923.019 1522.85 923.019 1531.6 Q923.019 1540.33 919.94 1544.94 Q916.885 1549.52 911.074 1549.52 Q905.264 1549.52 902.186 1544.94 Q899.13 1540.33 899.13 1531.6 Q899.13 1522.85 902.186 1518.27 Q905.264 1513.66 911.074 1513.66 Z\" fill=\"#000000\" fill-rule=\"evenodd\" fill-opacity=\"1\" /><path clip-path=\"url(#clip000)\" d=\"M1225.33 1530.21 Q1228.69 1530.93 1230.57 1533.2 Q1232.46 1535.47 1232.46 1538.8 Q1232.46 1543.92 1228.95 1546.72 Q1225.43 1549.52 1218.95 1549.52 Q1216.77 1549.52 1214.45 1549.08 Q1212.16 1548.66 1209.71 1547.81 L1209.71 1543.29 Q1211.65 1544.43 1213.97 1545.01 Q1216.28 1545.58 1218.81 1545.58 Q1223.2 1545.58 1225.5 1543.85 Q1227.81 1542.11 1227.81 1538.8 Q1227.81 1535.75 1225.66 1534.03 Q1223.53 1532.3 1219.71 1532.3 L1215.68 1532.3 L1215.68 1528.45 L1219.89 1528.45 Q1223.34 1528.45 1225.17 1527.09 Q1227 1525.7 1227 1523.11 Q1227 1520.45 1225.1 1519.03 Q1223.23 1517.6 1219.71 1517.6 Q1217.79 1517.6 1215.59 1518.01 Q1213.39 1518.43 1210.75 1519.31 L1210.75 1515.14 Q1213.41 1514.4 1215.73 1514.03 Q1218.07 1513.66 1220.13 1513.66 Q1225.45 1513.66 1228.55 1516.09 Q1231.65 1518.5 1231.65 1522.62 Q1231.65 1525.49 1230.01 1527.48 Q1228.37 1529.45 1225.33 1530.21 Z\" fill=\"#000000\" fill-rule=\"evenodd\" fill-opacity=\"1\" /><path clip-path=\"url(#clip000)\" d=\"M1251.33 1517.37 Q1247.72 1517.37 1245.89 1520.93 Q1244.08 1524.47 1244.08 1531.6 Q1244.08 1538.71 1245.89 1542.27 Q1247.72 1545.82 1251.33 1545.82 Q1254.96 1545.82 1256.77 1542.27 Q1258.6 1538.71 1258.6 1531.6 Q1258.6 1524.47 1256.77 1520.93 Q1254.96 1517.37 1251.33 1517.37 M1251.33 1513.66 Q1257.14 1513.66 1260.2 1518.27 Q1263.27 1522.85 1263.27 1531.6 Q1263.27 1540.33 1260.2 1544.94 Q1257.14 1549.52 1251.33 1549.52 Q1245.52 1549.52 1242.44 1544.94 Q1239.39 1540.33 1239.39 1531.6 Q1239.39 1522.85 1242.44 1518.27 Q1245.52 1513.66 1251.33 1513.66 Z\" fill=\"#000000\" fill-rule=\"evenodd\" fill-opacity=\"1\" /><path clip-path=\"url(#clip000)\" d=\"M1564.99 1518.36 L1553.18 1536.81 L1564.99 1536.81 L1564.99 1518.36 M1563.76 1514.29 L1569.64 1514.29 L1569.64 1536.81 L1574.57 1536.81 L1574.57 1540.7 L1569.64 1540.7 L1569.64 1548.85 L1564.99 1548.85 L1564.99 1540.7 L1549.39 1540.7 L1549.39 1536.19 L1563.76 1514.29 Z\" fill=\"#000000\" fill-rule=\"evenodd\" fill-opacity=\"1\" /><path clip-path=\"url(#clip000)\" d=\"M1592.3 1517.37 Q1588.69 1517.37 1586.86 1520.93 Q1585.06 1524.47 1585.06 1531.6 Q1585.06 1538.71 1586.86 1542.27 Q1588.69 1545.82 1592.3 1545.82 Q1595.94 1545.82 1597.74 1542.27 Q1599.57 1538.71 1599.57 1531.6 Q1599.57 1524.47 1597.74 1520.93 Q1595.94 1517.37 1592.3 1517.37 M1592.3 1513.66 Q1598.11 1513.66 1601.17 1518.27 Q1604.25 1522.85 1604.25 1531.6 Q1604.25 1540.33 1601.17 1544.94 Q1598.11 1549.52 1592.3 1549.52 Q1586.49 1549.52 1583.41 1544.94 Q1580.36 1540.33 1580.36 1531.6 Q1580.36 1522.85 1583.41 1518.27 Q1586.49 1513.66 1592.3 1513.66 Z\" fill=\"#000000\" fill-rule=\"evenodd\" fill-opacity=\"1\" /><path clip-path=\"url(#clip000)\" d=\"M1891.84 1514.29 L1910.2 1514.29 L1910.2 1518.22 L1896.12 1518.22 L1896.12 1526.7 Q1897.14 1526.35 1898.16 1526.19 Q1899.18 1526 1900.2 1526 Q1905.98 1526 1909.36 1529.17 Q1912.74 1532.34 1912.74 1537.76 Q1912.74 1543.34 1909.27 1546.44 Q1905.8 1549.52 1899.48 1549.52 Q1897.3 1549.52 1895.03 1549.15 Q1892.79 1548.78 1890.38 1548.04 L1890.38 1543.34 Q1892.46 1544.47 1894.69 1545.03 Q1896.91 1545.58 1899.39 1545.58 Q1903.39 1545.58 1905.73 1543.48 Q1908.07 1541.37 1908.07 1537.76 Q1908.07 1534.15 1905.73 1532.04 Q1903.39 1529.94 1899.39 1529.94 Q1897.51 1529.94 1895.64 1530.35 Q1893.78 1530.77 1891.84 1531.65 L1891.84 1514.29 Z\" fill=\"#000000\" fill-rule=\"evenodd\" fill-opacity=\"1\" /><path clip-path=\"url(#clip000)\" d=\"M1931.96 1517.37 Q1928.34 1517.37 1926.52 1520.93 Q1924.71 1524.47 1924.71 1531.6 Q1924.71 1538.71 1926.52 1542.27 Q1928.34 1545.82 1931.96 1545.82 Q1935.59 1545.82 1937.4 1542.27 Q1939.22 1538.71 1939.22 1531.6 Q1939.22 1524.47 1937.4 1520.93 Q1935.59 1517.37 1931.96 1517.37 M1931.96 1513.66 Q1937.77 1513.66 1940.82 1518.27 Q1943.9 1522.85 1943.9 1531.6 Q1943.9 1540.33 1940.82 1544.94 Q1937.77 1549.52 1931.96 1549.52 Q1926.15 1549.52 1923.07 1544.94 Q1920.01 1540.33 1920.01 1531.6 Q1920.01 1522.85 1923.07 1518.27 Q1926.15 1513.66 1931.96 1513.66 Z\" fill=\"#000000\" fill-rule=\"evenodd\" fill-opacity=\"1\" /><path clip-path=\"url(#clip000)\" d=\"M2242.87 1529.7 Q2239.72 1529.7 2237.87 1531.86 Q2236.04 1534.01 2236.04 1537.76 Q2236.04 1541.49 2237.87 1543.66 Q2239.72 1545.82 2242.87 1545.82 Q2246.02 1545.82 2247.85 1543.66 Q2249.7 1541.49 2249.7 1537.76 Q2249.7 1534.01 2247.85 1531.86 Q2246.02 1529.7 2242.87 1529.7 M2252.15 1515.05 L2252.15 1519.31 Q2250.39 1518.48 2248.59 1518.04 Q2246.81 1517.6 2245.05 1517.6 Q2240.42 1517.6 2237.96 1520.72 Q2235.53 1523.85 2235.19 1530.17 Q2236.55 1528.15 2238.61 1527.09 Q2240.67 1526 2243.15 1526 Q2248.36 1526 2251.37 1529.17 Q2254.4 1532.32 2254.4 1537.76 Q2254.4 1543.08 2251.25 1546.3 Q2248.1 1549.52 2242.87 1549.52 Q2236.87 1549.52 2233.7 1544.94 Q2230.53 1540.33 2230.53 1531.6 Q2230.53 1523.41 2234.42 1518.55 Q2238.31 1513.66 2244.86 1513.66 Q2246.62 1513.66 2248.4 1514.01 Q2250.21 1514.36 2252.15 1515.05 Z\" fill=\"#000000\" fill-rule=\"evenodd\" fill-opacity=\"1\" /><path clip-path=\"url(#clip000)\" d=\"M2272.45 1517.37 Q2268.84 1517.37 2267.01 1520.93 Q2265.21 1524.47 2265.21 1531.6 Q2265.21 1538.71 2267.01 1542.27 Q2268.84 1545.82 2272.45 1545.82 Q2276.09 1545.82 2277.89 1542.27 Q2279.72 1538.71 2279.72 1531.6 Q2279.72 1524.47 2277.89 1520.93 Q2276.09 1517.37 2272.45 1517.37 M2272.45 1513.66 Q2278.26 1513.66 2281.32 1518.27 Q2284.4 1522.85 2284.4 1531.6 Q2284.4 1540.33 2281.32 1544.94 Q2278.26 1549.52 2272.45 1549.52 Q2266.64 1549.52 2263.56 1544.94 Q2260.51 1540.33 2260.51 1531.6 Q2260.51 1522.85 2263.56 1518.27 Q2266.64 1513.66 2272.45 1513.66 Z\" fill=\"#000000\" fill-rule=\"evenodd\" fill-opacity=\"1\" /><polyline clip-path=\"url(#clip002)\" style=\"stroke:#000000; stroke-linecap:butt; stroke-linejoin:round; stroke-width:2; stroke-opacity:0.1; fill:none\" points=\"\n",
       "  188.292,955.344 2352.76,955.344 \n",
       "  \"/>\n",
       "<polyline clip-path=\"url(#clip002)\" style=\"stroke:#000000; stroke-linecap:butt; stroke-linejoin:round; stroke-width:2; stroke-opacity:0.1; fill:none\" points=\"\n",
       "  188.292,87.9763 2352.76,87.9763 \n",
       "  \"/>\n",
       "<polyline clip-path=\"url(#clip000)\" style=\"stroke:#000000; stroke-linecap:butt; stroke-linejoin:round; stroke-width:4; stroke-opacity:1; fill:none\" points=\"\n",
       "  188.292,1486.45 188.292,47.2441 \n",
       "  \"/>\n",
       "<polyline clip-path=\"url(#clip000)\" style=\"stroke:#000000; stroke-linecap:butt; stroke-linejoin:round; stroke-width:4; stroke-opacity:1; fill:none\" points=\"\n",
       "  188.292,955.344 207.19,955.344 \n",
       "  \"/>\n",
       "<polyline clip-path=\"url(#clip000)\" style=\"stroke:#000000; stroke-linecap:butt; stroke-linejoin:round; stroke-width:4; stroke-opacity:1; fill:none\" points=\"\n",
       "  188.292,87.9763 207.19,87.9763 \n",
       "  \"/>\n",
       "<path clip-path=\"url(#clip000)\" d=\"M51.6634 975.137 L59.3023 975.137 L59.3023 948.771 L50.9921 950.438 L50.9921 946.178 L59.256 944.512 L63.9319 944.512 L63.9319 975.137 L71.5707 975.137 L71.5707 979.072 L51.6634 979.072 L51.6634 975.137 Z\" fill=\"#000000\" fill-rule=\"evenodd\" fill-opacity=\"1\" /><path clip-path=\"url(#clip000)\" d=\"M91.0151 947.59 Q87.404 947.59 85.5753 951.155 Q83.7697 954.697 83.7697 961.826 Q83.7697 968.933 85.5753 972.498 Q87.404 976.039 91.0151 976.039 Q94.6493 976.039 96.4548 972.498 Q98.2835 968.933 98.2835 961.826 Q98.2835 954.697 96.4548 951.155 Q94.6493 947.59 91.0151 947.59 M91.0151 943.887 Q96.8252 943.887 99.8808 948.493 Q102.959 953.076 102.959 961.826 Q102.959 970.553 99.8808 975.16 Q96.8252 979.743 91.0151 979.743 Q85.2049 979.743 82.1262 975.16 Q79.0707 970.553 79.0707 961.826 Q79.0707 953.076 82.1262 948.493 Q85.2049 943.887 91.0151 943.887 Z\" fill=\"#000000\" fill-rule=\"evenodd\" fill-opacity=\"1\" /><path clip-path=\"url(#clip000)\" d=\"M102.959 937.988 L127.071 937.988 L127.071 941.185 L102.959 941.185 L102.959 937.988 Z\" fill=\"#000000\" fill-rule=\"evenodd\" fill-opacity=\"1\" /><path clip-path=\"url(#clip000)\" d=\"M135.309 923.581 L150.223 923.581 L150.223 926.779 L138.788 926.779 L138.788 933.662 Q139.616 933.38 140.443 933.248 Q141.271 933.098 142.098 933.098 Q146.8 933.098 149.546 935.675 Q152.292 938.251 152.292 942.652 Q152.292 947.185 149.471 949.705 Q146.65 952.207 141.515 952.207 Q139.747 952.207 137.904 951.906 Q136.08 951.605 134.124 951.003 L134.124 947.185 Q135.817 948.107 137.622 948.558 Q139.428 949.009 141.44 949.009 Q144.694 949.009 146.593 947.298 Q148.493 945.586 148.493 942.652 Q148.493 939.718 146.593 938.007 Q144.694 936.295 141.44 936.295 Q139.917 936.295 138.393 936.634 Q136.889 936.972 135.309 937.687 L135.309 923.581 Z\" fill=\"#000000\" fill-rule=\"evenodd\" fill-opacity=\"1\" /><path clip-path=\"url(#clip000)\" d=\"M81.5866 107.769 L89.2254 107.769 L89.2254 81.4031 L80.9153 83.0698 L80.9153 78.8105 L89.1791 77.1439 L93.855 77.1439 L93.855 107.769 L101.494 107.769 L101.494 111.704 L81.5866 111.704 L81.5866 107.769 Z\" fill=\"#000000\" fill-rule=\"evenodd\" fill-opacity=\"1\" /><path clip-path=\"url(#clip000)\" d=\"M120.938 80.2226 Q117.327 80.2226 115.498 83.7874 Q113.693 87.329 113.693 94.4586 Q113.693 101.565 115.498 105.13 Q117.327 108.671 120.938 108.671 Q124.572 108.671 126.378 105.13 Q128.207 101.565 128.207 94.4586 Q128.207 87.329 126.378 83.7874 Q124.572 80.2226 120.938 80.2226 M120.938 76.5189 Q126.748 76.5189 129.804 81.1253 Q132.883 85.7086 132.883 94.4586 Q132.883 103.185 129.804 107.792 Q126.748 112.375 120.938 112.375 Q115.128 112.375 112.049 107.792 Q108.994 103.185 108.994 94.4586 Q108.994 85.7086 112.049 81.1253 Q115.128 76.5189 120.938 76.5189 Z\" fill=\"#000000\" fill-rule=\"evenodd\" fill-opacity=\"1\" /><path clip-path=\"url(#clip000)\" d=\"M142.587 58.7149 Q139.653 58.7149 138.168 61.6113 Q136.701 64.4889 136.701 70.2817 Q136.701 76.0557 138.168 78.9521 Q139.653 81.8297 142.587 81.8297 Q145.54 81.8297 147.007 78.9521 Q148.493 76.0557 148.493 70.2817 Q148.493 64.4889 147.007 61.6113 Q145.54 58.7149 142.587 58.7149 M142.587 55.7057 Q147.308 55.7057 149.791 59.4484 Q152.292 63.1724 152.292 70.2817 Q152.292 77.3722 149.791 81.115 Q147.308 84.8389 142.587 84.8389 Q137.867 84.8389 135.365 81.115 Q132.883 77.3722 132.883 70.2817 Q132.883 63.1724 135.365 59.4484 Q137.867 55.7057 142.587 55.7057 Z\" fill=\"#000000\" fill-rule=\"evenodd\" fill-opacity=\"1\" /><polyline clip-path=\"url(#clip002)\" style=\"stroke:#009af9; stroke-linecap:butt; stroke-linejoin:round; stroke-width:4; stroke-opacity:1; fill:none\" points=\"\n",
       "  249.551,87.9763 283.583,140.197 317.616,192.418 351.648,244.639 385.68,296.859 419.713,349.08 453.745,401.301 487.778,453.522 521.81,505.742 555.843,557.963 \n",
       "  589.875,610.184 623.908,662.404 657.94,714.625 691.972,766.846 726.005,819.067 760.037,871.287 794.07,923.508 828.102,975.729 862.135,1027.95 896.167,1080.17 \n",
       "  930.2,1132.39 964.232,1184.61 998.264,1236.83 1032.3,1289.05 1066.33,1341.27 1100.36,1393.49 1134.39,1445.72 \n",
       "  \"/>\n",
       "<polyline clip-path=\"url(#clip002)\" style=\"stroke:#009af9; stroke-linecap:butt; stroke-linejoin:round; stroke-width:4; stroke-opacity:1; fill:none\" points=\"\n",
       "  2053.27,87.9763 2087.3,87.9763 2121.34,87.9763 2155.37,87.9763 2189.4,87.9763 2223.43,87.9763 2257.47,87.9763 2291.5,87.9763 \n",
       "  \"/>\n",
       "<path clip-path=\"url(#clip000)\" d=\"\n",
       "M1987.68 198.898 L2280.61 198.898 L2280.61 95.2176 L1987.68 95.2176  Z\n",
       "  \" fill=\"#ffffff\" fill-rule=\"evenodd\" fill-opacity=\"1\"/>\n",
       "<polyline clip-path=\"url(#clip000)\" style=\"stroke:#000000; stroke-linecap:butt; stroke-linejoin:round; stroke-width:4; stroke-opacity:1; fill:none\" points=\"\n",
       "  1987.68,198.898 2280.61,198.898 2280.61,95.2176 1987.68,95.2176 1987.68,198.898 \n",
       "  \"/>\n",
       "<polyline clip-path=\"url(#clip000)\" style=\"stroke:#009af9; stroke-linecap:butt; stroke-linejoin:round; stroke-width:4; stroke-opacity:1; fill:none\" points=\"\n",
       "  2011.73,147.058 2156.03,147.058 \n",
       "  \"/>\n",
       "<path clip-path=\"url(#clip000)\" d=\"M2193.92 166.745 Q2192.11 171.375 2190.4 172.787 Q2188.69 174.199 2185.82 174.199 L2182.42 174.199 L2182.42 170.634 L2184.92 170.634 Q2186.67 170.634 2187.65 169.8 Q2188.62 168.967 2189.8 165.865 L2190.56 163.921 L2180.08 138.412 L2184.59 138.412 L2192.69 158.689 L2200.8 138.412 L2205.31 138.412 L2193.92 166.745 Z\" fill=\"#000000\" fill-rule=\"evenodd\" fill-opacity=\"1\" /><path clip-path=\"url(#clip000)\" d=\"M2212.6 160.402 L2220.24 160.402 L2220.24 134.037 L2211.93 135.703 L2211.93 131.444 L2220.19 129.778 L2224.87 129.778 L2224.87 160.402 L2232.51 160.402 L2232.51 164.338 L2212.6 164.338 L2212.6 160.402 Z\" fill=\"#000000\" fill-rule=\"evenodd\" fill-opacity=\"1\" /></svg>\n"
      ]
     },
     "execution_count": 7,
     "metadata": {},
     "output_type": "execute_result"
    }
   ],
   "source": [
    "f = x -> 1 + x + x^2\n",
    "h = 2.0 .^(0:-1:-60)\n",
    "\n",
    "# Avoid zero division errors\n",
    "nanabs = x -> iszero(x) ? NaN : abs(x)\n",
    "\n",
    "plot(nanabs.(((f.(h) .- f(0)) ./ h) .- 1); yscale=:log10)"
   ]
  },
  {
   "cell_type": "code",
   "execution_count": 12,
   "metadata": {},
   "outputs": [
    {
     "name": "stdout",
     "output_type": "stream",
     "text": [
      "Error in fd approximation: 1.4901161193847656e-8\n"
     ]
    }
   ],
   "source": [
    "# As a general rule we use sqrt of machine epsilon for our h\n",
    "h = sqrt(eps())\n",
    "println(\"Error in fd approximation: $(abs(((f(h) - f(0)) / h) - 1))\")"
   ]
  },
  {
   "cell_type": "code",
   "execution_count": 22,
   "metadata": {},
   "outputs": [
    {
     "data": {
      "text/plain": [
       "cont (generic function with 1 method)"
      ]
     },
     "execution_count": 22,
     "metadata": {},
     "output_type": "execute_result"
    }
   ],
   "source": [
    "# Central Difference\n",
    "centraldiff(x, h, f) = (f(x + h) - f(x - h)) / (2*h)\n",
    "# computes an error, where fp(x) is the true derivative as an analytical function\n",
    "centraldifferror(x, h, f, fp) = abs(centraldiff(x, h, f) - fp(x))\n",
    "# Forward Difference\n",
    "forwarddiff(x, h, f) = (f(x + h) - f(x)) / h\n",
    "# Backward Difference\n",
    "backwarddiff(x, h, f) = (f(x) - f(x - h)) / h\n",
    "# We already implemented central differences in a previous problem\n",
    "# Second derivative via finite difference\n",
    "finitediffsecond(x, h, f) = (f(x + h) - 2 * f(x) + f(x - h))/ (h^2)\n",
    "   \n",
    "# Define the functions\n",
    "f = x -> exp(exp(x)cos(x) + sin(x))\n",
    "g = x -> prod([x] ./ (1:1000) .- 1)\n",
    "function cont(n, x)  # Continued fraction\n",
    "   ret = 2*one(x)\n",
    "   for k = 1:n-1\n",
    "       ret = 2 + (x-1)/ret\n",
    "   end\n",
    "   1 + (x-1)/ret  # Note: this works in reverse\n",
    "end"
   ]
  },
  {
   "cell_type": "code",
   "execution_count": 23,
   "metadata": {},
   "outputs": [
    {
     "name": "stdout",
     "output_type": "stream",
     "text": [
      "f'(0.1) with forward difference: 6.58477258682251\n",
      "f'(0.1) with central difference: 6.584772554609315\n",
      "f''(0.1) via finite difference: 12.002685822813502\n",
      "g'(0.1) with forward difference: -3.5938262827694416\n",
      "g'(0.1) with central difference: -3.5938265143690638\n",
      "g''(0.1) via finite difference: 26.638595097431924\n",
      "cont'(0.1) with forward difference: 1.5811387598514557\n",
      "cont'(0.1) with central difference: 1.5811388231813908\n",
      "cont''(0.1) via finite difference: -7.905698560322122\n"
     ]
    }
   ],
   "source": [
    "x = 0.1\n",
    "h = eps()\n",
    "# Values for exp(exp(x)cos(x) + sin(x))\n",
    "println(\"f'($x) with forward difference: \", forwarddiff(x, sqrt(h), f))\n",
    "println(\"f'($x) with central difference: \", centraldiff(x, cbrt(h), f))\n",
    "println(\"f''($x) via finite difference: \", finitediffsecond(x, cbrt(h), f))\n",
    "# Values for prod([x] ./ (1:1000) .- 1)\n",
    "println(\"g'($x) with forward difference: \", forwarddiff(x, sqrt(h), g))\n",
    "println(\"g'($x) with central difference: \", centraldiff(x, cbrt(h), g))\n",
    "println(\"g''($x) via finite difference: \", finitediffsecond(x, cbrt(h), g))\n",
    "# Values for the continued fraction\n",
    "println(\"cont'($x) with forward difference: \", forwarddiff(x, sqrt(h), x->cont(1000,x)))\n",
    "println(\"cont'($x) with central difference: \", centraldiff(x, sqrt(h), x->cont(1000,x)))\n",
    "println(\"cont''($x) via finite difference: \", finitediffsecond(x, cbrt(h), x->cont(1000,x)))"
   ]
  },
  {
   "cell_type": "markdown",
   "metadata": {},
   "source": [
    "## Dual Numbers"
   ]
  },
  {
   "cell_type": "code",
   "execution_count": 10,
   "metadata": {},
   "outputs": [],
   "source": [
    "# Implementation of the Dual type\n",
    "struct Dual{T}\n",
    "    a::T\n",
    "    b::T\n",
    "end"
   ]
  },
  {
   "cell_type": "code",
   "execution_count": 40,
   "metadata": {},
   "outputs": [
    {
     "data": {
      "text/plain": [
       "abs (generic function with 28 methods)"
      ]
     },
     "execution_count": 40,
     "metadata": {},
     "output_type": "execute_result"
    }
   ],
   "source": [
    "# Dual(a) represents a + 0*ϵ\n",
    "Dual(a::Real) = Dual(a, zero(a)) # for real numbers we use a + 0ϵ\n",
    "\n",
    "# Allow for a + b*ϵ syntax\n",
    "const ϵ = Dual(0, 1)\n",
    "\n",
    "import Base: +, *, -, /, ^, zero, exp, sin, cos, log, sqrt, abs, one\n",
    "\n",
    "# support polynomials like 1 + x, x - 1, 2x or x*2 by reducing to Dual\n",
    "+(x::Real, y::Dual) = Dual(x) + y\n",
    "+(x::Dual, y::Real) = x + Dual(y)\n",
    "-(x::Real, y::Dual) = Dual(x) - y\n",
    "-(x::Dual, y::Real) = x - Dual(y)\n",
    "*(x::Real, y::Dual) = Dual(x) * y\n",
    "*(x::Dual, y::Real) = x * Dual(y)\n",
    "\n",
    "# support x/2 (but not yet division of duals)\n",
    "/(x::Dual, k::Real) = Dual(x.a/k, x.b/k)\n",
    "\n",
    "# a simple recursive function to support x^2, x^3, etc.\n",
    "function ^(x::Dual, k::Integer)\n",
    "    if k < 0\n",
    "        error(\"Not implemented\")\n",
    "    elseif k == 1\n",
    "        x\n",
    "    else\n",
    "        x^(k-1) * x\n",
    "    end\n",
    "end\n",
    "\n",
    "# support identity of type Dual\n",
    "one(x::Dual) = Dual(one(eltype(x.a)))\n",
    "\n",
    "# Algebraic operationds for duals\n",
    "-(x::Dual) = Dual(-x.a, -x.b)\n",
    "+(x::Dual, y::Dual) = Dual(x.a + y.a, x.b + y.b)\n",
    "-(x::Dual, y::Dual) = Dual(x.a - y.a, x.b - y.b)\n",
    "*(x::Dual, y::Dual) = Dual(x.a*y.a, x.a*y.b + x.b*y.a)\n",
    "function /(x::Dual, y::Dual)\n",
    "   if iszero(y.a)\n",
    "       error(\"Division for dual numbers is ill-defined when denonimator real part is zero.\")\n",
    "   end\n",
    "   return Dual(x.a / y.a, (y.a * x.b - x.a * y.b) / y.a^2)\n",
    "   ## END\n",
    "end\n",
    "\n",
    "# Function Implementations\n",
    "exp(x::Dual) = Dual(exp(x.a), exp(x.a) * x.b)\n",
    "sin(x::Dual) = Dual(sin(x.a), x.b*cos(x.a))\n",
    "cos(x::Dual) = Dual(cos(x.a), x.b*sin(x.a)) \n",
    "log(x::Dual) = Dual(log(x.a), x.b/x.a)\n",
    "sqrt(x::Dual) = Dual(sqrt(x.a), x.b/(2*sqrt(x.a)))\n",
    "abs(x::Dual) = Dual(abs(a), b*sign(x.a))"
   ]
  },
  {
   "cell_type": "code",
   "execution_count": 41,
   "metadata": {},
   "outputs": [
    {
     "name": "stdout",
     "output_type": "stream",
     "text": [
      "7.3170307864221\n",
      "-3.593826513101571\n",
      "1.5811388300841893\n"
     ]
    }
   ],
   "source": [
    "# Using dual numbers to compute derivatives\n",
    "fdual = f(0.1+ϵ)\n",
    "println(fdual.b)\n",
    "gdual = g(0.1+ϵ)\n",
    "println(gdual.b)\n",
    "contdual = cont(1000,0.1+ϵ)\n",
    "println(contdual.b)"
   ]
  },
  {
   "cell_type": "code",
   "execution_count": 43,
   "metadata": {},
   "outputs": [
    {
     "data": {
      "text/plain": [
       "newton (generic function with 1 method)"
      ]
     },
     "execution_count": 43,
     "metadata": {},
     "output_type": "execute_result"
    }
   ],
   "source": [
    "# Newton Iteration\n",
    "function newton(f, x0, n)\n",
    "   ## TODO: compute x_n\n",
    "   ## SOLUTION\n",
    "   xk = x0\n",
    "   for k = 1:n\n",
    "       fd = f(xk + ϵ)\n",
    "       xk = xk - fd.a / fd.b\n",
    "   end\n",
    "   return xk\n",
    "   ## END\n",
    "end"
   ]
  },
  {
   "cell_type": "code",
   "execution_count": 44,
   "metadata": {},
   "outputs": [
    {
     "data": {
      "text/plain": [
       "-4.440892098500626e-16"
      ]
     },
     "execution_count": 44,
     "metadata": {},
     "output_type": "execute_result"
    }
   ],
   "source": [
    "# Test Case for above example\n",
    "f_ex(x) = x^2-3\n",
    "n = 5\n",
    "x0 = 1\n",
    "# compute proposed root\n",
    "xn = newton(f_ex,x0,n)\n",
    "# check that obtained point is an approximate root\n",
    "f_ex(xn)"
   ]
  },
  {
   "cell_type": "markdown",
   "metadata": {},
   "source": [
    "## QR Decomposition $A = QR$\n",
    "Provided the col rank of $A$ is full, $x = R^{-1} Q^T b$"
   ]
  },
  {
   "cell_type": "markdown",
   "metadata": {},
   "source": [
    "### Least Squares"
   ]
  },
  {
   "cell_type": "code",
   "execution_count": null,
   "metadata": {},
   "outputs": [],
   "source": [
    "m,n = 100,3\n",
    "\n",
    "x = range(0,1; length=m) # 100 points\n",
    "f = 2 .+ x .+ 2x.^2 .+ 0.1 .* randn.() # Noisy quadratic\n",
    "\n",
    "A = x .^ (0:2)'  # 100 x 3 matrix, equivalent to [ones(m) x x.^2]\n",
    "Q,R̂ = qr(A)\n",
    "Q̂ = Q[:,1:n] # Q represents full orthogonal matrix so we take first 3 columns\n",
    "\n",
    "p₀,p₁,p₂ = R̂ \\ Q̂'f"
   ]
  },
  {
   "cell_type": "markdown",
   "metadata": {},
   "source": [
    "### QR with Gram Schmidt\n",
    "Idea: The columns of Q are an orthorgonal basis for the col span of A"
   ]
  },
  {
   "cell_type": "code",
   "execution_count": 97,
   "metadata": {},
   "outputs": [
    {
     "data": {
      "text/plain": [
       "3.8956806801599406e-16"
      ]
     },
     "execution_count": 97,
     "metadata": {},
     "output_type": "execute_result"
    }
   ],
   "source": [
    "# Calculate Q, and R using gramschmidt\n",
    "function my_gramschmidt(A::AbstractMatrix)\n",
    "    m, n = size(A)\n",
    "    m >= n || error(\"Number of rows must be greater than number of columns!\")\n",
    "    R = zeros(n, n)\n",
    "    Q = zeros(m, n)\n",
    "    Q[:, 1] = A[:, 1] / norm(A[:, 1])\n",
    "    R[1, 1] = Q[:, 1]' * A[:, 1]\n",
    "    for j = 2:n\n",
    "        v_j = A[:, j]\n",
    "        sum = zeros(m)  # Initialize\n",
    "        for k = 1:j-1\n",
    "            R[k, j] = Q[:, k]' * A[:, j]\n",
    "            sum += R[k, j] * Q[:, k]\n",
    "        end\n",
    "        v_j -= sum\n",
    "        R[j, j] = norm(v_j)\n",
    "        Q[:, j] = v_j / R[j, j] \n",
    "    end\n",
    "    return Q, R\n",
    "end\n",
    "Q_1, R_1 = my_gramschmidt(A)\n",
    "norm(A - Q_1*R_1)"
   ]
  },
  {
   "cell_type": "code",
   "execution_count": 98,
   "metadata": {},
   "outputs": [
    {
     "data": {
      "text/plain": [
       "3.8956806801599406e-16"
      ]
     },
     "execution_count": 98,
     "metadata": {},
     "output_type": "execute_result"
    }
   ],
   "source": [
    "# Lectures Implementation\n",
    "function gramschmidt(A::AbstractMatrix)\n",
    "    m,n = size(A)\n",
    "    m ≥ n || error(\"Not supported\")\n",
    "    R = zeros(n,n)\n",
    "    Q = zeros(m,n)\n",
    "    for j = 1:n\n",
    "        for k = 1:j-1\n",
    "            R[k,j] = Q[:,k]'*A[:,j]\n",
    "        end\n",
    "        v = A[:,j] - Q[:,1:j-1]*R[1:j-1,j]\n",
    "        R[j,j] = norm(v)\n",
    "        Q[:,j] = v/R[j,j]\n",
    "    end\n",
    "    return Q, R\n",
    "end\n",
    "\n",
    "Q_2, R_2 = gramschmidt(A)\n",
    "norm(A - Q_2*R_2)"
   ]
  },
  {
   "cell_type": "code",
   "execution_count": 101,
   "metadata": {},
   "outputs": [
    {
     "data": {
      "text/plain": [
       "true"
      ]
     },
     "execution_count": 101,
     "metadata": {},
     "output_type": "execute_result"
    }
   ],
   "source": [
    "Q_1*R_1 == Q_2*R_2"
   ]
  },
  {
   "cell_type": "markdown",
   "metadata": {},
   "source": [
    "### QR with Householder\n",
    "Probably won't come up since was in practice."
   ]
  },
  {
   "cell_type": "code",
   "execution_count": 109,
   "metadata": {},
   "outputs": [
    {
     "data": {
      "text/plain": [
       "true"
      ]
     },
     "execution_count": 109,
     "metadata": {},
     "output_type": "execute_result"
    }
   ],
   "source": [
    "function householderreflection(x::AbstractArray)\n",
    "    y = copy(x)\n",
    "    y[1] += (x[1] >= 0 ? 1 : -1) * norm(x) \n",
    "    w = y / norm(y)\n",
    "    return I - 2 * w * w'\n",
    "end\n",
    "\n",
    "function householderqr(A)\n",
    "    m,n = size(A)\n",
    "    R = copy(A)\n",
    "    Q = Matrix(1.0I, m, m)\n",
    "    for j = 1:n\n",
    "        Qⱼ = householderreflection(A[j:end,j])\n",
    "        R[j:end,:] = Qⱼ*R[j:end,:]\n",
    "        Q[:,j:end] = Q[:,j:end]*Qⱼ  # Stacking Qⱼ\n",
    "    end\n",
    "    return Q, R\n",
    "end\n",
    "\n",
    "m,n = 7,5\n",
    "A = randn(m, n)\n",
    "Q,R = householderqr(A)\n",
    "Q*R ≈ A"
   ]
  },
  {
   "cell_type": "markdown",
   "metadata": {},
   "source": [
    "## PLU Decomposition"
   ]
  },
  {
   "cell_type": "markdown",
   "metadata": {},
   "source": [
    "### LU"
   ]
  },
  {
   "cell_type": "code",
   "execution_count": 265,
   "metadata": {},
   "outputs": [
    {
     "data": {
      "text/plain": [
       "4×4 Array{Int64,2}:\n",
       " 1  1  1  1\n",
       " 3  4  1  9\n",
       " 1  4  8  7\n",
       " 1  2  9  6"
      ]
     },
     "execution_count": 265,
     "metadata": {},
     "output_type": "execute_result"
    }
   ],
   "source": [
    "A = [1 1 1 1;\n",
    "     3 4 1 9;\n",
    "     1 4 8 7;\n",
    "     1 2 9 6]\n"
   ]
  },
  {
   "cell_type": "code",
   "execution_count": 266,
   "metadata": {},
   "outputs": [
    {
     "data": {
      "text/plain": [
       "true"
      ]
     },
     "execution_count": 266,
     "metadata": {},
     "output_type": "execute_result"
    }
   ],
   "source": [
    "# Julia LinearAlgebra implementation\n",
    "L, U, σ = lu(A)\n",
    "# So to invert the system we can do:\n",
    "b = randn(4)\n",
    "U\\(L\\b[σ]) == A\\b"
   ]
  },
  {
   "cell_type": "code",
   "execution_count": 268,
   "metadata": {},
   "outputs": [
    {
     "data": {
      "text/plain": [
       "true"
      ]
     },
     "execution_count": 268,
     "metadata": {},
     "output_type": "execute_result"
    }
   ],
   "source": [
    "function my_plu(A::AbstractMatrix)\n",
    "        m, n = size(A)\n",
    "        m == n || error(\"A must be a square matrix!\")\n",
    "        rank(A) == n || error(\"A must be non-singular!\")\n",
    "        L = P = I\n",
    "        U = copy(A)\n",
    "        for j = 1:n-1\n",
    "            eⱼ = zeros(n)'  # Create canonical basis vector\n",
    "            eⱼ[j] = 1\n",
    "            max_idx = argmax(abs.(U[j:n, j])) + j - 1  # Deal with offset\n",
    "            σⱼ = Array(1:n) \n",
    "            σⱼ[j], σⱼ[max_idx] = max_idx, j  # Swap the j^th row with row corresponding to max_idx\n",
    "            Pⱼ = I(n)[σⱼ, :]  # Permute the rows of the identity matrix\n",
    "            P = Pⱼ * P  # Product of permutation matrices, P = P_n-1 * P_n-2 * ... * P_2 * P_1\n",
    "            U = Pⱼ * U  # Permute the j^th col of A\n",
    "            Lⱼ = I - [fill(0, j); U[j+1:n, j] / U[j, j] ] * eⱼ\n",
    "            U = Lⱼ * U\n",
    "        end\n",
    "        L = inv(U * inv(P*A))  # Recovering L\n",
    "    return P, L, U\n",
    "end\n",
    "\n",
    "P, L, U = my_plu(A)\n",
    "P'*L*U ≈ A"
   ]
  },
  {
   "cell_type": "markdown",
   "metadata": {},
   "source": [
    "## Cholesky Decomposition"
   ]
  },
  {
   "cell_type": "markdown",
   "metadata": {},
   "source": [
    "### Cholesky $A = L L^T$\n",
    "Note: If A has a cholesky decomposition then it's symmetric."
   ]
  },
  {
   "cell_type": "code",
   "execution_count": 15,
   "metadata": {},
   "outputs": [
    {
     "data": {
      "text/plain": [
       "my_lower_cholesky (generic function with 1 method)"
      ]
     },
     "execution_count": 15,
     "metadata": {},
     "output_type": "execute_result"
    }
   ],
   "source": [
    "function my_lower_cholesky(A::AbstractMatrix)\n",
    "    m, n = size(A)\n",
    "    m == n || error(\"Matrix must be square!\")\n",
    "    isposdef(A) || error(\"Matrix must be positive definite!\")\n",
    "    Aₖ = copy(A)\n",
    "    L = zeros(n, n)\n",
    "    for k = 1:n\n",
    "        vₖ = Aₖ[2:n-k+1, 1]\n",
    "        αₖ = Aₖ[1, 1]\n",
    "        L[k, k] = sqrt(αₖ)\n",
    "        L[k+1:n, k] = vₖ[1:end] / sqrt(αₖ)\n",
    "        Aₖ = Aₖ[2:n-k+1, 2:n-k+1] - ((vₖ * vₖ')/αₖ)\n",
    "    end\n",
    "    return L\n",
    "end\n"
   ]
  },
  {
   "cell_type": "markdown",
   "metadata": {},
   "source": [
    "### Cholesky $A = U U^T$"
   ]
  },
  {
   "cell_type": "code",
   "execution_count": 49,
   "metadata": {},
   "outputs": [
    {
     "data": {
      "text/plain": [
       "my_upper_cholesky (generic function with 1 method)"
      ]
     },
     "execution_count": 49,
     "metadata": {},
     "output_type": "execute_result"
    }
   ],
   "source": [
    "function my_upper_cholesky(A::AbstractMatrix)\n",
    "    m, n = size(A)\n",
    "    m == n || error(\"Matrix must be square!\")\n",
    "    isposdef(A) || error(\"Matrix must be positive definite!\")\n",
    "    Aₖ = copy(A)\n",
    "    U = zeros(n, n)\n",
    "    for k = 1:n\n",
    "        vₖ = Aₖ[1:end-1, end]\n",
    "        αₖ = Aₖ[end, end]\n",
    "        U[n-k+1, n-k+1] = sqrt(αₖ)\n",
    "        U[1:n-k, n-k+1] = vₖ[1:end] / sqrt(αₖ)\n",
    "        Aₖ = Aₖ[1:n-k, 1:n-k] - ((vₖ * vₖ')/αₖ)\n",
    "    end\n",
    "    return U\n",
    "end\n"
   ]
  },
  {
   "cell_type": "code",
   "execution_count": 52,
   "metadata": {},
   "outputs": [
    {
     "name": "stdout",
     "output_type": "stream",
     "text": [
      "true\n",
      "true\n"
     ]
    }
   ],
   "source": [
    "A = [1 -1;\n",
    "     -1 3;]\n",
    "L = my_lower_cholesky(A)\n",
    "U = my_upper_cholesky(A)\n",
    "println(L*L' ≈ A)\n",
    "println(U*U' ≈ A)"
   ]
  },
  {
   "cell_type": "markdown",
   "metadata": {},
   "source": [
    "## SVD"
   ]
  },
  {
   "cell_type": "markdown",
   "metadata": {},
   "source": [
    "### SVD Best Rank Approximation\n",
    "What is the best rank r approximation to a function?"
   ]
  },
  {
   "cell_type": "code",
   "execution_count": 2,
   "metadata": {},
   "outputs": [
    {
     "data": {
      "text/plain": [
       "find_min_rank (generic function with 1 method)"
      ]
     },
     "execution_count": 2,
     "metadata": {},
     "output_type": "execute_result"
    }
   ],
   "source": [
    "# Helper function to compute nxn grid of samples\n",
    "# Assumes f is a function of x and y\n",
    "function samples(f, n)\n",
    "    x = y = range(0, 1; length=n)\n",
    "    return f.(x, y')\n",
    "end\n",
    "\n",
    "# Return the minimum rank required for the minimum rank approximation\n",
    "# to be within ϵ error tolerance\n",
    "function find_min_rank(f, n, ϵ)\n",
    "    F = samples(f, n)\n",
    "    U, σ, V = svd(F)\n",
    "    for rank in 1:n\n",
    "        Σₖ = Diagonal(σ[1:rank])\n",
    "        Uₖ = U[:, 1:rank]\n",
    "        Vₖ = V[:, 1:rank]\n",
    "        if norm(Uₖ*Σₖ*Vₖ' - F) <= ϵ\n",
    "            return rank\n",
    "        end\n",
    "    end\n",
    "end"
   ]
  },
  {
   "cell_type": "markdown",
   "metadata": {},
   "source": [
    "## Time Evolution Problems"
   ]
  },
  {
   "cell_type": "markdown",
   "metadata": {},
   "source": [
    "### Indefinite Integration"
   ]
  },
  {
   "cell_type": "code",
   "execution_count": 7,
   "metadata": {},
   "outputs": [
    {
     "data": {
      "image/png": "[encoded data removed]",
      "image/svg+xml": "<?xml version=\"1.0\" encoding=\"utf-8\"?>\n<svg xmlns=\"http://www.w3.org/2000/svg\" xmlns:xlink=\"http://www.w3.org/1999/xlink\" width=\"600\" height=\"400\" viewBox=\"0 0 2400 1600\">\n<defs>\n  <clipPath id=\"clip230\">\n    <rect x=\"0\" y=\"0\" width=\"2400\" height=\"1600\"/>\n  </clipPath>\n</defs>\n<path clip-path=\"url(#clip230)\" d=\"\nM0 1600 L2400 1600 L2400 0 L0 0  Z\n  \" fill=\"#ffffff\" fill-rule=\"evenodd\" fill-opacity=\"1\"/>\n<defs>\n  <clipPath id=\"clip231\">\n    <rect x=\"480\" y=\"0\" width=\"1681\" height=\"1600\"/>\n  </clipPath>\n</defs>\n<path clip-path=\"url(#clip230)\" d=\"\nM156.598 1486.45 L2352.76 1486.45 L2352.76 47.2441 L156.598 47.2441  Z\n  \" fill=\"#ffffff\" fill-rule=\"evenodd\" fill-opacity=\"1\"/>\n<defs>\n  <clipPath id=\"clip232\">\n    <rect x=\"156\" y=\"47\" width=\"2197\" height=\"1440\"/>\n  </clipPath>\n</defs>\n<polyline clip-path=\"url(#clip232)\" style=\"stroke:#000000; stroke-linecap:butt; stroke-linejoin:round; stroke-width:2; stroke-opacity:0.1; fill:none\" points=\"\n  218.754,1486.45 218.754,47.2441 \n  \"/>\n<polyline clip-path=\"url(#clip232)\" style=\"stroke:#000000; stroke-linecap:butt; stroke-linejoin:round; stroke-width:2; stroke-opacity:0.1; fill:none\" points=\"\n  736.715,1486.45 736.715,47.2441 \n  \"/>\n<polyline clip-path=\"url(#clip232)\" style=\"stroke:#000000; stroke-linecap:butt; stroke-linejoin:round; stroke-width:2; stroke-opacity:0.1; fill:none\" points=\"\n  1254.68,1486.45 1254.68,47.2441 \n  \"/>\n<polyline clip-path=\"url(#clip232)\" style=\"stroke:#000000; stroke-linecap:butt; stroke-linejoin:round; stroke-width:2; stroke-opacity:0.1; fill:none\" points=\"\n  1772.64,1486.45 1772.64,47.2441 \n  \"/>\n<polyline clip-path=\"url(#clip232)\" style=\"stroke:#000000; stroke-linecap:butt; stroke-linejoin:round; stroke-width:2; stroke-opacity:0.1; fill:none\" points=\"\n  2290.6,1486.45 2290.6,47.2441 \n  \"/>\n<polyline clip-path=\"url(#clip230)\" style=\"stroke:#000000; stroke-linecap:butt; stroke-linejoin:round; stroke-width:4; stroke-opacity:1; fill:none\" points=\"\n  156.598,1486.45 2352.76,1486.45 \n  \"/>\n<polyline clip-path=\"url(#clip230)\" style=\"stroke:#000000; stroke-linecap:butt; stroke-linejoin:round; stroke-width:4; stroke-opacity:1; fill:none\" points=\"\n  218.754,1486.45 218.754,1467.55 \n  \"/>\n<polyline clip-path=\"url(#clip230)\" style=\"stroke:#000000; stroke-linecap:butt; stroke-linejoin:round; stroke-width:4; stroke-opacity:1; fill:none\" points=\"\n  736.715,1486.45 736.715,1467.55 \n  \"/>\n<polyline clip-path=\"url(#clip230)\" style=\"stroke:#000000; stroke-linecap:butt; stroke-linejoin:round; stroke-width:4; stroke-opacity:1; fill:none\" points=\"\n  1254.68,1486.45 1254.68,1467.55 \n  \"/>\n<polyline clip-path=\"url(#clip230)\" style=\"stroke:#000000; stroke-linecap:butt; stroke-linejoin:round; stroke-width:4; stroke-opacity:1; fill:none\" points=\"\n  1772.64,1486.45 1772.64,1467.55 \n  \"/>\n<polyline clip-path=\"url(#clip230)\" style=\"stroke:#000000; stroke-linecap:butt; stroke-linejoin:round; stroke-width:4; stroke-opacity:1; fill:none\" points=\"\n  2290.6,1486.45 2290.6,1467.55 \n  \"/>\n<path clip-path=\"url(#clip230)\" d=\"M181.057 1517.37 Q177.446 1517.37 175.617 1520.93 Q173.812 1524.47 173.812 1531.6 Q173.812 1538.71 175.617 1542.27 Q177.446 1545.82 181.057 1545.82 Q184.691 1545.82 186.497 1542.27 Q188.326 1538.71 188.326 1531.6 Q188.326 1524.47 186.497 1520.93 Q184.691 1517.37 181.057 1517.37 M181.057 1513.66 Q186.867 1513.66 189.923 1518.27 Q193.001 1522.85 193.001 1531.6 Q193.001 1540.33 189.923 1544.94 Q186.867 1549.52 181.057 1549.52 Q175.247 1549.52 172.168 1544.94 Q169.113 1540.33 169.113 1531.6 Q169.113 1522.85 172.168 1518.27 Q175.247 1513.66 181.057 1513.66 Z\" fill=\"#000000\" fill-rule=\"evenodd\" fill-opacity=\"1\" /><path clip-path=\"url(#clip230)\" d=\"M201.219 1542.97 L206.103 1542.97 L206.103 1548.85 L201.219 1548.85 L201.219 1542.97 Z\" fill=\"#000000\" fill-rule=\"evenodd\" fill-opacity=\"1\" /><path clip-path=\"url(#clip230)\" d=\"M226.288 1517.37 Q222.677 1517.37 220.849 1520.93 Q219.043 1524.47 219.043 1531.6 Q219.043 1538.71 220.849 1542.27 Q222.677 1545.82 226.288 1545.82 Q229.923 1545.82 231.728 1542.27 Q233.557 1538.71 233.557 1531.6 Q233.557 1524.47 231.728 1520.93 Q229.923 1517.37 226.288 1517.37 M226.288 1513.66 Q232.098 1513.66 235.154 1518.27 Q238.233 1522.85 238.233 1531.6 Q238.233 1540.33 235.154 1544.94 Q232.098 1549.52 226.288 1549.52 Q220.478 1549.52 217.399 1544.94 Q214.344 1540.33 214.344 1531.6 Q214.344 1522.85 217.399 1518.27 Q220.478 1513.66 226.288 1513.66 Z\" fill=\"#000000\" fill-rule=\"evenodd\" fill-opacity=\"1\" /><path clip-path=\"url(#clip230)\" d=\"M256.45 1517.37 Q252.839 1517.37 251.01 1520.93 Q249.205 1524.47 249.205 1531.6 Q249.205 1538.71 251.01 1542.27 Q252.839 1545.82 256.45 1545.82 Q260.084 1545.82 261.89 1542.27 Q263.719 1538.71 263.719 1531.6 Q263.719 1524.47 261.89 1520.93 Q260.084 1517.37 256.45 1517.37 M256.45 1513.66 Q262.26 1513.66 265.316 1518.27 Q268.395 1522.85 268.395 1531.6 Q268.395 1540.33 265.316 1544.94 Q262.26 1549.52 256.45 1549.52 Q250.64 1549.52 247.561 1544.94 Q244.506 1540.33 244.506 1531.6 Q244.506 1522.85 247.561 1518.27 Q250.64 1513.66 256.45 1513.66 Z\" fill=\"#000000\" fill-rule=\"evenodd\" fill-opacity=\"1\" /><path clip-path=\"url(#clip230)\" d=\"M699.516 1517.37 Q695.905 1517.37 694.077 1520.93 Q692.271 1524.47 692.271 1531.6 Q692.271 1538.71 694.077 1542.27 Q695.905 1545.82 699.516 1545.82 Q703.151 1545.82 704.956 1542.27 Q706.785 1538.71 706.785 1531.6 Q706.785 1524.47 704.956 1520.93 Q703.151 1517.37 699.516 1517.37 M699.516 1513.66 Q705.327 1513.66 708.382 1518.27 Q711.461 1522.85 711.461 1531.6 Q711.461 1540.33 708.382 1544.94 Q705.327 1549.52 699.516 1549.52 Q693.706 1549.52 690.628 1544.94 Q687.572 1540.33 687.572 1531.6 Q687.572 1522.85 690.628 1518.27 Q693.706 1513.66 699.516 1513.66 Z\" fill=\"#000000\" fill-rule=\"evenodd\" fill-opacity=\"1\" /><path clip-path=\"url(#clip230)\" d=\"M719.678 1542.97 L724.563 1542.97 L724.563 1548.85 L719.678 1548.85 L719.678 1542.97 Z\" fill=\"#000000\" fill-rule=\"evenodd\" fill-opacity=\"1\" /><path clip-path=\"url(#clip230)\" d=\"M738.776 1544.91 L755.095 1544.91 L755.095 1548.85 L733.151 1548.85 L733.151 1544.91 Q735.813 1542.16 740.396 1537.53 Q745.002 1532.88 746.183 1531.53 Q748.428 1529.01 749.308 1527.27 Q750.211 1525.51 750.211 1523.82 Q750.211 1521.07 748.266 1519.33 Q746.345 1517.6 743.243 1517.6 Q741.044 1517.6 738.59 1518.36 Q736.16 1519.13 733.382 1520.68 L733.382 1515.95 Q736.206 1514.82 738.66 1514.24 Q741.113 1513.66 743.151 1513.66 Q748.521 1513.66 751.715 1516.35 Q754.91 1519.03 754.91 1523.52 Q754.91 1525.65 754.1 1527.57 Q753.312 1529.47 751.206 1532.07 Q750.627 1532.74 747.525 1535.95 Q744.424 1539.15 738.776 1544.91 Z\" fill=\"#000000\" fill-rule=\"evenodd\" fill-opacity=\"1\" /><path clip-path=\"url(#clip230)\" d=\"M764.956 1514.29 L783.312 1514.29 L783.312 1518.22 L769.238 1518.22 L769.238 1526.7 Q770.257 1526.35 771.275 1526.19 Q772.294 1526 773.312 1526 Q779.099 1526 782.479 1529.17 Q785.859 1532.34 785.859 1537.76 Q785.859 1543.34 782.386 1546.44 Q778.914 1549.52 772.595 1549.52 Q770.419 1549.52 768.15 1549.15 Q765.905 1548.78 763.498 1548.04 L763.498 1543.34 Q765.581 1544.47 767.803 1545.03 Q770.025 1545.58 772.502 1545.58 Q776.507 1545.58 778.845 1543.48 Q781.183 1541.37 781.183 1537.76 Q781.183 1534.15 778.845 1532.04 Q776.507 1529.94 772.502 1529.94 Q770.627 1529.94 768.752 1530.35 Q766.9 1530.77 764.956 1531.65 L764.956 1514.29 Z\" fill=\"#000000\" fill-rule=\"evenodd\" fill-opacity=\"1\" /><path clip-path=\"url(#clip230)\" d=\"M1216.98 1517.37 Q1213.37 1517.37 1211.54 1520.93 Q1209.74 1524.47 1209.74 1531.6 Q1209.74 1538.71 1211.54 1542.27 Q1213.37 1545.82 1216.98 1545.82 Q1220.61 1545.82 1222.42 1542.27 Q1224.25 1538.71 1224.25 1531.6 Q1224.25 1524.47 1222.42 1520.93 Q1220.61 1517.37 1216.98 1517.37 M1216.98 1513.66 Q1222.79 1513.66 1225.85 1518.27 Q1228.92 1522.85 1228.92 1531.6 Q1228.92 1540.33 1225.85 1544.94 Q1222.79 1549.52 1216.98 1549.52 Q1211.17 1549.52 1208.09 1544.94 Q1205.04 1540.33 1205.04 1531.6 Q1205.04 1522.85 1208.09 1518.27 Q1211.17 1513.66 1216.98 1513.66 Z\" fill=\"#000000\" fill-rule=\"evenodd\" fill-opacity=\"1\" /><path clip-path=\"url(#clip230)\" d=\"M1237.14 1542.97 L1242.03 1542.97 L1242.03 1548.85 L1237.14 1548.85 L1237.14 1542.97 Z\" fill=\"#000000\" fill-rule=\"evenodd\" fill-opacity=\"1\" /><path clip-path=\"url(#clip230)\" d=\"M1252.26 1514.29 L1270.61 1514.29 L1270.61 1518.22 L1256.54 1518.22 L1256.54 1526.7 Q1257.56 1526.35 1258.58 1526.19 Q1259.6 1526 1260.61 1526 Q1266.4 1526 1269.78 1529.17 Q1273.16 1532.34 1273.16 1537.76 Q1273.16 1543.34 1269.69 1546.44 Q1266.22 1549.52 1259.9 1549.52 Q1257.72 1549.52 1255.45 1549.15 Q1253.21 1548.78 1250.8 1548.04 L1250.8 1543.34 Q1252.88 1544.47 1255.11 1545.03 Q1257.33 1545.58 1259.8 1545.58 Q1263.81 1545.58 1266.15 1543.48 Q1268.48 1541.37 1268.48 1537.76 Q1268.48 1534.15 1266.15 1532.04 Q1263.81 1529.94 1259.8 1529.94 Q1257.93 1529.94 1256.05 1530.35 Q1254.2 1530.77 1252.26 1531.65 L1252.26 1514.29 Z\" fill=\"#000000\" fill-rule=\"evenodd\" fill-opacity=\"1\" /><path clip-path=\"url(#clip230)\" d=\"M1292.37 1517.37 Q1288.76 1517.37 1286.93 1520.93 Q1285.13 1524.47 1285.13 1531.6 Q1285.13 1538.71 1286.93 1542.27 Q1288.76 1545.82 1292.37 1545.82 Q1296.01 1545.82 1297.81 1542.27 Q1299.64 1538.71 1299.64 1531.6 Q1299.64 1524.47 1297.81 1520.93 Q1296.01 1517.37 1292.37 1517.37 M1292.37 1513.66 Q1298.18 1513.66 1301.24 1518.27 Q1304.32 1522.85 1304.32 1531.6 Q1304.32 1540.33 1301.24 1544.94 Q1298.18 1549.52 1292.37 1549.52 Q1286.56 1549.52 1283.48 1544.94 Q1280.43 1540.33 1280.43 1531.6 Q1280.43 1522.85 1283.48 1518.27 Q1286.56 1513.66 1292.37 1513.66 Z\" fill=\"#000000\" fill-rule=\"evenodd\" fill-opacity=\"1\" /><path clip-path=\"url(#clip230)\" d=\"M1735.44 1517.37 Q1731.83 1517.37 1730 1520.93 Q1728.19 1524.47 1728.19 1531.6 Q1728.19 1538.71 1730 1542.27 Q1731.83 1545.82 1735.44 1545.82 Q1739.07 1545.82 1740.88 1542.27 Q1742.71 1538.71 1742.71 1531.6 Q1742.71 1524.47 1740.88 1520.93 Q1739.07 1517.37 1735.44 1517.37 M1735.44 1513.66 Q1741.25 1513.66 1744.31 1518.27 Q1747.38 1522.85 1747.38 1531.6 Q1747.38 1540.33 1744.31 1544.94 Q1741.25 1549.52 1735.44 1549.52 Q1729.63 1549.52 1726.55 1544.94 Q1723.5 1540.33 1723.5 1531.6 Q1723.5 1522.85 1726.55 1518.27 Q1729.63 1513.66 1735.44 1513.66 Z\" fill=\"#000000\" fill-rule=\"evenodd\" fill-opacity=\"1\" /><path clip-path=\"url(#clip230)\" d=\"M1755.6 1542.97 L1760.49 1542.97 L1760.49 1548.85 L1755.6 1548.85 L1755.6 1542.97 Z\" fill=\"#000000\" fill-rule=\"evenodd\" fill-opacity=\"1\" /><path clip-path=\"url(#clip230)\" d=\"M1769.49 1514.29 L1791.71 1514.29 L1791.71 1516.28 L1779.17 1548.85 L1774.28 1548.85 L1786.09 1518.22 L1769.49 1518.22 L1769.49 1514.29 Z\" fill=\"#000000\" fill-rule=\"evenodd\" fill-opacity=\"1\" /><path clip-path=\"url(#clip230)\" d=\"M1800.88 1514.29 L1819.24 1514.29 L1819.24 1518.22 L1805.16 1518.22 L1805.16 1526.7 Q1806.18 1526.35 1807.2 1526.19 Q1808.22 1526 1809.24 1526 Q1815.02 1526 1818.4 1529.17 Q1821.78 1532.34 1821.78 1537.76 Q1821.78 1543.34 1818.31 1546.44 Q1814.84 1549.52 1808.52 1549.52 Q1806.34 1549.52 1804.07 1549.15 Q1801.83 1548.78 1799.42 1548.04 L1799.42 1543.34 Q1801.5 1544.47 1803.73 1545.03 Q1805.95 1545.58 1808.43 1545.58 Q1812.43 1545.58 1814.77 1543.48 Q1817.11 1541.37 1817.11 1537.76 Q1817.11 1534.15 1814.77 1532.04 Q1812.43 1529.94 1808.43 1529.94 Q1806.55 1529.94 1804.68 1530.35 Q1802.82 1530.77 1800.88 1531.65 L1800.88 1514.29 Z\" fill=\"#000000\" fill-rule=\"evenodd\" fill-opacity=\"1\" /><path clip-path=\"url(#clip230)\" d=\"M2242.67 1544.91 L2250.31 1544.91 L2250.31 1518.55 L2242 1520.21 L2242 1515.95 L2250.27 1514.29 L2254.94 1514.29 L2254.94 1544.91 L2262.58 1544.91 L2262.58 1548.85 L2242.67 1548.85 L2242.67 1544.91 Z\" fill=\"#000000\" fill-rule=\"evenodd\" fill-opacity=\"1\" /><path clip-path=\"url(#clip230)\" d=\"M2272.02 1542.97 L2276.91 1542.97 L2276.91 1548.85 L2272.02 1548.85 L2272.02 1542.97 Z\" fill=\"#000000\" fill-rule=\"evenodd\" fill-opacity=\"1\" /><path clip-path=\"url(#clip230)\" d=\"M2297.09 1517.37 Q2293.48 1517.37 2291.65 1520.93 Q2289.85 1524.47 2289.85 1531.6 Q2289.85 1538.71 2291.65 1542.27 Q2293.48 1545.82 2297.09 1545.82 Q2300.73 1545.82 2302.53 1542.27 Q2304.36 1538.71 2304.36 1531.6 Q2304.36 1524.47 2302.53 1520.93 Q2300.73 1517.37 2297.09 1517.37 M2297.09 1513.66 Q2302.9 1513.66 2305.96 1518.27 Q2309.04 1522.85 2309.04 1531.6 Q2309.04 1540.33 2305.96 1544.94 Q2302.9 1549.52 2297.09 1549.52 Q2291.28 1549.52 2288.2 1544.94 Q2285.15 1540.33 2285.15 1531.6 Q2285.15 1522.85 2288.2 1518.27 Q2291.28 1513.66 2297.09 1513.66 Z\" fill=\"#000000\" fill-rule=\"evenodd\" fill-opacity=\"1\" /><path clip-path=\"url(#clip230)\" d=\"M2327.26 1517.37 Q2323.64 1517.37 2321.82 1520.93 Q2320.01 1524.47 2320.01 1531.6 Q2320.01 1538.71 2321.82 1542.27 Q2323.64 1545.82 2327.26 1545.82 Q2330.89 1545.82 2332.7 1542.27 Q2334.52 1538.71 2334.52 1531.6 Q2334.52 1524.47 2332.7 1520.93 Q2330.89 1517.37 2327.26 1517.37 M2327.26 1513.66 Q2333.07 1513.66 2336.12 1518.27 Q2339.2 1522.85 2339.2 1531.6 Q2339.2 1540.33 2336.12 1544.94 Q2333.07 1549.52 2327.26 1549.52 Q2321.45 1549.52 2318.37 1544.94 Q2315.31 1540.33 2315.31 1531.6 Q2315.31 1522.85 2318.37 1518.27 Q2321.45 1513.66 2327.26 1513.66 Z\" fill=\"#000000\" fill-rule=\"evenodd\" fill-opacity=\"1\" /><polyline clip-path=\"url(#clip232)\" style=\"stroke:#000000; stroke-linecap:butt; stroke-linejoin:round; stroke-width:2; stroke-opacity:0.1; fill:none\" points=\"\n  156.598,1445.72 2352.76,1445.72 \n  \"/>\n<polyline clip-path=\"url(#clip232)\" style=\"stroke:#000000; stroke-linecap:butt; stroke-linejoin:round; stroke-width:2; stroke-opacity:0.1; fill:none\" points=\"\n  156.598,1132.2 2352.76,1132.2 \n  \"/>\n<polyline clip-path=\"url(#clip232)\" style=\"stroke:#000000; stroke-linecap:butt; stroke-linejoin:round; stroke-width:2; stroke-opacity:0.1; fill:none\" points=\"\n  156.598,818.688 2352.76,818.688 \n  \"/>\n<polyline clip-path=\"url(#clip232)\" style=\"stroke:#000000; stroke-linecap:butt; stroke-linejoin:round; stroke-width:2; stroke-opacity:0.1; fill:none\" points=\"\n  156.598,505.175 2352.76,505.175 \n  \"/>\n<polyline clip-path=\"url(#clip232)\" style=\"stroke:#000000; stroke-linecap:butt; stroke-linejoin:round; stroke-width:2; stroke-opacity:0.1; fill:none\" points=\"\n  156.598,191.661 2352.76,191.661 \n  \"/>\n<polyline clip-path=\"url(#clip230)\" style=\"stroke:#000000; stroke-linecap:butt; stroke-linejoin:round; stroke-width:4; stroke-opacity:1; fill:none\" points=\"\n  156.598,1486.45 156.598,47.2441 \n  \"/>\n<polyline clip-path=\"url(#clip230)\" style=\"stroke:#000000; stroke-linecap:butt; stroke-linejoin:round; stroke-width:4; stroke-opacity:1; fill:none\" points=\"\n  156.598,1445.72 175.496,1445.72 \n  \"/>\n<polyline clip-path=\"url(#clip230)\" style=\"stroke:#000000; stroke-linecap:butt; stroke-linejoin:round; stroke-width:4; stroke-opacity:1; fill:none\" points=\"\n  156.598,1132.2 175.496,1132.2 \n  \"/>\n<polyline clip-path=\"url(#clip230)\" style=\"stroke:#000000; stroke-linecap:butt; stroke-linejoin:round; stroke-width:4; stroke-opacity:1; fill:none\" points=\"\n  156.598,818.688 175.496,818.688 \n  \"/>\n<polyline clip-path=\"url(#clip230)\" style=\"stroke:#000000; stroke-linecap:butt; stroke-linejoin:round; stroke-width:4; stroke-opacity:1; fill:none\" points=\"\n  156.598,505.175 175.496,505.175 \n  \"/>\n<polyline clip-path=\"url(#clip230)\" style=\"stroke:#000000; stroke-linecap:butt; stroke-linejoin:round; stroke-width:4; stroke-opacity:1; fill:none\" points=\"\n  156.598,191.661 175.496,191.661 \n  \"/>\n<path clip-path=\"url(#clip230)\" d=\"M63.4226 1431.51 Q59.8115 1431.51 57.9828 1435.08 Q56.1773 1438.62 56.1773 1445.75 Q56.1773 1452.86 57.9828 1456.42 Q59.8115 1459.96 63.4226 1459.96 Q67.0569 1459.96 68.8624 1456.42 Q70.6911 1452.86 70.6911 1445.75 Q70.6911 1438.62 68.8624 1435.08 Q67.0569 1431.51 63.4226 1431.51 M63.4226 1427.81 Q69.2328 1427.81 72.2883 1432.42 Q75.367 1437 75.367 1445.75 Q75.367 1454.48 72.2883 1459.08 Q69.2328 1463.67 63.4226 1463.67 Q57.6125 1463.67 54.5338 1459.08 Q51.4782 1454.48 51.4782 1445.75 Q51.4782 1437 54.5338 1432.42 Q57.6125 1427.81 63.4226 1427.81 Z\" fill=\"#000000\" fill-rule=\"evenodd\" fill-opacity=\"1\" /><path clip-path=\"url(#clip230)\" d=\"M83.5845 1457.12 L88.4688 1457.12 L88.4688 1463 L83.5845 1463 L83.5845 1457.12 Z\" fill=\"#000000\" fill-rule=\"evenodd\" fill-opacity=\"1\" /><path clip-path=\"url(#clip230)\" d=\"M108.654 1431.51 Q105.043 1431.51 103.214 1435.08 Q101.409 1438.62 101.409 1445.75 Q101.409 1452.86 103.214 1456.42 Q105.043 1459.96 108.654 1459.96 Q112.288 1459.96 114.094 1456.42 Q115.922 1452.86 115.922 1445.75 Q115.922 1438.62 114.094 1435.08 Q112.288 1431.51 108.654 1431.51 M108.654 1427.81 Q114.464 1427.81 117.52 1432.42 Q120.598 1437 120.598 1445.75 Q120.598 1454.48 117.52 1459.08 Q114.464 1463.67 108.654 1463.67 Q102.844 1463.67 99.765 1459.08 Q96.7095 1454.48 96.7095 1445.75 Q96.7095 1437 99.765 1432.42 Q102.844 1427.81 108.654 1427.81 Z\" fill=\"#000000\" fill-rule=\"evenodd\" fill-opacity=\"1\" /><path clip-path=\"url(#clip230)\" d=\"M65.0198 1118 Q61.4087 1118 59.58 1121.57 Q57.7745 1125.11 57.7745 1132.24 Q57.7745 1139.34 59.58 1142.91 Q61.4087 1146.45 65.0198 1146.45 Q68.6541 1146.45 70.4596 1142.91 Q72.2883 1139.34 72.2883 1132.24 Q72.2883 1125.11 70.4596 1121.57 Q68.6541 1118 65.0198 1118 M65.0198 1114.3 Q70.83 1114.3 73.8855 1118.9 Q76.9642 1123.49 76.9642 1132.24 Q76.9642 1140.96 73.8855 1145.57 Q70.83 1150.15 65.0198 1150.15 Q59.2097 1150.15 56.131 1145.57 Q53.0754 1140.96 53.0754 1132.24 Q53.0754 1123.49 56.131 1118.9 Q59.2097 1114.3 65.0198 1114.3 Z\" fill=\"#000000\" fill-rule=\"evenodd\" fill-opacity=\"1\" /><path clip-path=\"url(#clip230)\" d=\"M85.1818 1143.6 L90.066 1143.6 L90.066 1149.48 L85.1818 1149.48 L85.1818 1143.6 Z\" fill=\"#000000\" fill-rule=\"evenodd\" fill-opacity=\"1\" /><path clip-path=\"url(#clip230)\" d=\"M104.279 1145.55 L120.598 1145.55 L120.598 1149.48 L98.6539 1149.48 L98.6539 1145.55 Q101.316 1142.79 105.899 1138.16 Q110.506 1133.51 111.686 1132.17 Q113.932 1129.64 114.811 1127.91 Q115.714 1126.15 115.714 1124.46 Q115.714 1121.7 113.77 1119.97 Q111.848 1118.23 108.746 1118.23 Q106.547 1118.23 104.094 1119 Q101.663 1119.76 98.8854 1121.31 L98.8854 1116.59 Q101.709 1115.45 104.163 1114.88 Q106.617 1114.3 108.654 1114.3 Q114.024 1114.3 117.219 1116.98 Q120.413 1119.67 120.413 1124.16 Q120.413 1126.29 119.603 1128.21 Q118.816 1130.11 116.709 1132.7 Q116.131 1133.37 113.029 1136.59 Q109.927 1139.78 104.279 1145.55 Z\" fill=\"#000000\" fill-rule=\"evenodd\" fill-opacity=\"1\" /><path clip-path=\"url(#clip230)\" d=\"M62.9365 804.487 Q59.3254 804.487 57.4967 808.052 Q55.6912 811.594 55.6912 818.723 Q55.6912 825.83 57.4967 829.394 Q59.3254 832.936 62.9365 832.936 Q66.5707 832.936 68.3763 829.394 Q70.205 825.83 70.205 818.723 Q70.205 811.594 68.3763 808.052 Q66.5707 804.487 62.9365 804.487 M62.9365 800.783 Q68.7467 800.783 71.8022 805.39 Q74.8809 809.973 74.8809 818.723 Q74.8809 827.45 71.8022 832.056 Q68.7467 836.64 62.9365 836.64 Q57.1264 836.64 54.0477 832.056 Q50.9921 827.45 50.9921 818.723 Q50.9921 809.973 54.0477 805.39 Q57.1264 800.783 62.9365 800.783 Z\" fill=\"#000000\" fill-rule=\"evenodd\" fill-opacity=\"1\" /><path clip-path=\"url(#clip230)\" d=\"M83.0984 830.089 L87.9827 830.089 L87.9827 835.968 L83.0984 835.968 L83.0984 830.089 Z\" fill=\"#000000\" fill-rule=\"evenodd\" fill-opacity=\"1\" /><path clip-path=\"url(#clip230)\" d=\"M111.015 805.483 L99.2095 823.932 L111.015 823.932 L111.015 805.483 M109.788 801.408 L115.668 801.408 L115.668 823.932 L120.598 823.932 L120.598 827.82 L115.668 827.82 L115.668 835.968 L111.015 835.968 L111.015 827.82 L95.4132 827.82 L95.4132 823.307 L109.788 801.408 Z\" fill=\"#000000\" fill-rule=\"evenodd\" fill-opacity=\"1\" /><path clip-path=\"url(#clip230)\" d=\"M63.2606 490.974 Q59.6495 490.974 57.8208 494.538 Q56.0152 498.08 56.0152 505.21 Q56.0152 512.316 57.8208 515.881 Q59.6495 519.422 63.2606 519.422 Q66.8948 519.422 68.7004 515.881 Q70.5291 512.316 70.5291 505.21 Q70.5291 498.08 68.7004 494.538 Q66.8948 490.974 63.2606 490.974 M63.2606 487.27 Q69.0707 487.27 72.1263 491.876 Q75.205 496.46 75.205 505.21 Q75.205 513.936 72.1263 518.543 Q69.0707 523.126 63.2606 523.126 Q57.4504 523.126 54.3717 518.543 Q51.3162 513.936 51.3162 505.21 Q51.3162 496.46 54.3717 491.876 Q57.4504 487.27 63.2606 487.27 Z\" fill=\"#000000\" fill-rule=\"evenodd\" fill-opacity=\"1\" /><path clip-path=\"url(#clip230)\" d=\"M83.4225 516.575 L88.3067 516.575 L88.3067 522.455 L83.4225 522.455 L83.4225 516.575 Z\" fill=\"#000000\" fill-rule=\"evenodd\" fill-opacity=\"1\" /><path clip-path=\"url(#clip230)\" d=\"M109.071 503.311 Q105.922 503.311 104.071 505.464 Q102.242 507.617 102.242 511.367 Q102.242 515.094 104.071 517.27 Q105.922 519.422 109.071 519.422 Q112.219 519.422 114.047 517.27 Q115.899 515.094 115.899 511.367 Q115.899 507.617 114.047 505.464 Q112.219 503.311 109.071 503.311 M118.353 488.659 L118.353 492.918 Q116.594 492.085 114.788 491.645 Q113.006 491.205 111.246 491.205 Q106.617 491.205 104.163 494.33 Q101.733 497.455 101.385 503.774 Q102.751 501.761 104.811 500.696 Q106.871 499.608 109.348 499.608 Q114.557 499.608 117.566 502.779 Q120.598 505.927 120.598 511.367 Q120.598 516.691 117.45 519.909 Q114.302 523.126 109.071 523.126 Q103.075 523.126 99.9039 518.543 Q96.7326 513.936 96.7326 505.21 Q96.7326 497.015 100.621 492.154 Q104.51 487.27 111.061 487.27 Q112.82 487.27 114.603 487.617 Q116.408 487.964 118.353 488.659 Z\" fill=\"#000000\" fill-rule=\"evenodd\" fill-opacity=\"1\" /><path clip-path=\"url(#clip230)\" d=\"M63.5152 177.46 Q59.9041 177.46 58.0754 181.025 Q56.2699 184.566 56.2699 191.696 Q56.2699 198.802 58.0754 202.367 Q59.9041 205.909 63.5152 205.909 Q67.1494 205.909 68.955 202.367 Q70.7837 198.802 70.7837 191.696 Q70.7837 184.566 68.955 181.025 Q67.1494 177.46 63.5152 177.46 M63.5152 173.756 Q69.3254 173.756 72.3809 178.363 Q75.4596 182.946 75.4596 191.696 Q75.4596 200.423 72.3809 205.029 Q69.3254 209.613 63.5152 209.613 Q57.7051 209.613 54.6264 205.029 Q51.5708 200.423 51.5708 191.696 Q51.5708 182.946 54.6264 178.363 Q57.7051 173.756 63.5152 173.756 Z\" fill=\"#000000\" fill-rule=\"evenodd\" fill-opacity=\"1\" /><path clip-path=\"url(#clip230)\" d=\"M83.6771 203.062 L88.5614 203.062 L88.5614 208.941 L83.6771 208.941 L83.6771 203.062 Z\" fill=\"#000000\" fill-rule=\"evenodd\" fill-opacity=\"1\" /><path clip-path=\"url(#clip230)\" d=\"M108.746 192.529 Q105.413 192.529 103.492 194.312 Q101.594 196.094 101.594 199.219 Q101.594 202.344 103.492 204.126 Q105.413 205.909 108.746 205.909 Q112.08 205.909 114.001 204.126 Q115.922 202.321 115.922 199.219 Q115.922 196.094 114.001 194.312 Q112.103 192.529 108.746 192.529 M104.071 190.539 Q101.061 189.798 99.3715 187.738 Q97.7048 185.678 97.7048 182.715 Q97.7048 178.571 100.645 176.164 Q103.608 173.756 108.746 173.756 Q113.908 173.756 116.848 176.164 Q119.788 178.571 119.788 182.715 Q119.788 185.678 118.098 187.738 Q116.432 189.798 113.445 190.539 Q116.825 191.326 118.7 193.617 Q120.598 195.909 120.598 199.219 Q120.598 204.242 117.52 206.927 Q114.464 209.613 108.746 209.613 Q103.029 209.613 99.9502 206.927 Q96.8947 204.242 96.8947 199.219 Q96.8947 195.909 98.7928 193.617 Q100.691 191.326 104.071 190.539 M102.358 183.154 Q102.358 185.84 104.024 187.344 Q105.714 188.849 108.746 188.849 Q111.756 188.849 113.445 187.344 Q115.158 185.84 115.158 183.154 Q115.158 180.469 113.445 178.965 Q111.756 177.46 108.746 177.46 Q105.714 177.46 104.024 178.965 Q102.358 180.469 102.358 183.154 Z\" fill=\"#000000\" fill-rule=\"evenodd\" fill-opacity=\"1\" /><polyline clip-path=\"url(#clip232)\" style=\"stroke:#009af9; stroke-linecap:butt; stroke-linejoin:round; stroke-width:4; stroke-opacity:1; fill:none\" points=\"\n  218.754,1445.72 448.959,1271.9 679.164,1100.23 909.369,932.816 1139.57,771.73 1369.78,618.956 1599.98,476.379 1830.19,345.757 2060.4,228.7 2290.6,126.653 \n  \n  \"/>\n<circle clip-path=\"url(#clip232)\" cx=\"218.754\" cy=\"1445.72\" r=\"14\" fill=\"#e26f46\" fill-rule=\"evenodd\" fill-opacity=\"1\" stroke=\"#000000\" stroke-opacity=\"1\" stroke-width=\"3.2\"/>\n<circle clip-path=\"url(#clip232)\" cx=\"448.959\" cy=\"1272.62\" r=\"14\" fill=\"#e26f46\" fill-rule=\"evenodd\" fill-opacity=\"1\" stroke=\"#000000\" stroke-opacity=\"1\" stroke-width=\"3.2\"/>\n<circle clip-path=\"url(#clip232)\" cx=\"679.164\" cy=\"1102.72\" r=\"14\" fill=\"#e26f46\" fill-rule=\"evenodd\" fill-opacity=\"1\" stroke=\"#000000\" stroke-opacity=\"1\" stroke-width=\"3.2\"/>\n<circle clip-path=\"url(#clip232)\" cx=\"909.369\" cy=\"938.137\" r=\"14\" fill=\"#e26f46\" fill-rule=\"evenodd\" fill-opacity=\"1\" stroke=\"#000000\" stroke-opacity=\"1\" stroke-width=\"3.2\"/>\n<circle clip-path=\"url(#clip232)\" cx=\"1139.57\" cy=\"780.884\" r=\"14\" fill=\"#e26f46\" fill-rule=\"evenodd\" fill-opacity=\"1\" stroke=\"#000000\" stroke-opacity=\"1\" stroke-width=\"3.2\"/>\n<circle clip-path=\"url(#clip232)\" cx=\"1369.78\" cy=\"632.904\" r=\"14\" fill=\"#e26f46\" fill-rule=\"evenodd\" fill-opacity=\"1\" stroke=\"#000000\" stroke-opacity=\"1\" stroke-width=\"3.2\"/>\n<circle clip-path=\"url(#clip232)\" cx=\"1599.98\" cy=\"496.023\" r=\"14\" fill=\"#e26f46\" fill-rule=\"evenodd\" fill-opacity=\"1\" stroke=\"#000000\" stroke-opacity=\"1\" stroke-width=\"3.2\"/>\n<circle clip-path=\"url(#clip232)\" cx=\"1830.19\" cy=\"371.928\" r=\"14\" fill=\"#e26f46\" fill-rule=\"evenodd\" fill-opacity=\"1\" stroke=\"#000000\" stroke-opacity=\"1\" stroke-width=\"3.2\"/>\n<circle clip-path=\"url(#clip232)\" cx=\"2060.4\" cy=\"262.151\" r=\"14\" fill=\"#e26f46\" fill-rule=\"evenodd\" fill-opacity=\"1\" stroke=\"#000000\" stroke-opacity=\"1\" stroke-width=\"3.2\"/>\n<circle clip-path=\"url(#clip232)\" cx=\"2290.6\" cy=\"168.044\" r=\"14\" fill=\"#e26f46\" fill-rule=\"evenodd\" fill-opacity=\"1\" stroke=\"#000000\" stroke-opacity=\"1\" stroke-width=\"3.2\"/>\n<circle clip-path=\"url(#clip232)\" cx=\"218.754\" cy=\"1445.72\" r=\"14\" fill=\"#3da44d\" fill-rule=\"evenodd\" fill-opacity=\"1\" stroke=\"#000000\" stroke-opacity=\"1\" stroke-width=\"3.2\"/>\n<circle clip-path=\"url(#clip232)\" cx=\"448.959\" cy=\"1271.81\" r=\"14\" fill=\"#3da44d\" fill-rule=\"evenodd\" fill-opacity=\"1\" stroke=\"#000000\" stroke-opacity=\"1\" stroke-width=\"3.2\"/>\n<circle clip-path=\"url(#clip232)\" cx=\"679.164\" cy=\"1100.05\" r=\"14\" fill=\"#3da44d\" fill-rule=\"evenodd\" fill-opacity=\"1\" stroke=\"#000000\" stroke-opacity=\"1\" stroke-width=\"3.2\"/>\n<circle clip-path=\"url(#clip232)\" cx=\"909.369\" cy=\"932.552\" r=\"14\" fill=\"#3da44d\" fill-rule=\"evenodd\" fill-opacity=\"1\" stroke=\"#000000\" stroke-opacity=\"1\" stroke-width=\"3.2\"/>\n<circle clip-path=\"url(#clip232)\" cx=\"1139.57\" cy=\"771.383\" r=\"14\" fill=\"#3da44d\" fill-rule=\"evenodd\" fill-opacity=\"1\" stroke=\"#000000\" stroke-opacity=\"1\" stroke-width=\"3.2\"/>\n<circle clip-path=\"url(#clip232)\" cx=\"1369.78\" cy=\"618.531\" r=\"14\" fill=\"#3da44d\" fill-rule=\"evenodd\" fill-opacity=\"1\" stroke=\"#000000\" stroke-opacity=\"1\" stroke-width=\"3.2\"/>\n<circle clip-path=\"url(#clip232)\" cx=\"1599.98\" cy=\"475.88\" r=\"14\" fill=\"#3da44d\" fill-rule=\"evenodd\" fill-opacity=\"1\" stroke=\"#000000\" stroke-opacity=\"1\" stroke-width=\"3.2\"/>\n<circle clip-path=\"url(#clip232)\" cx=\"1830.19\" cy=\"345.191\" r=\"14\" fill=\"#3da44d\" fill-rule=\"evenodd\" fill-opacity=\"1\" stroke=\"#000000\" stroke-opacity=\"1\" stroke-width=\"3.2\"/>\n<circle clip-path=\"url(#clip232)\" cx=\"2060.4\" cy=\"228.074\" r=\"14\" fill=\"#3da44d\" fill-rule=\"evenodd\" fill-opacity=\"1\" stroke=\"#000000\" stroke-opacity=\"1\" stroke-width=\"3.2\"/>\n<circle clip-path=\"url(#clip232)\" cx=\"2290.6\" cy=\"125.974\" r=\"14\" fill=\"#3da44d\" fill-rule=\"evenodd\" fill-opacity=\"1\" stroke=\"#000000\" stroke-opacity=\"1\" stroke-width=\"3.2\"/>\n<circle clip-path=\"url(#clip232)\" cx=\"218.754\" cy=\"1445.72\" r=\"14\" fill=\"#c271d2\" fill-rule=\"evenodd\" fill-opacity=\"1\" stroke=\"#000000\" stroke-opacity=\"1\" stroke-width=\"3.2\"/>\n<circle clip-path=\"url(#clip232)\" cx=\"448.959\" cy=\"1271.54\" r=\"14\" fill=\"#c271d2\" fill-rule=\"evenodd\" fill-opacity=\"1\" stroke=\"#000000\" stroke-opacity=\"1\" stroke-width=\"3.2\"/>\n<circle clip-path=\"url(#clip232)\" cx=\"679.164\" cy=\"1098.44\" r=\"14\" fill=\"#c271d2\" fill-rule=\"evenodd\" fill-opacity=\"1\" stroke=\"#000000\" stroke-opacity=\"1\" stroke-width=\"3.2\"/>\n<circle clip-path=\"url(#clip232)\" cx=\"909.369\" cy=\"928.55\" r=\"14\" fill=\"#c271d2\" fill-rule=\"evenodd\" fill-opacity=\"1\" stroke=\"#000000\" stroke-opacity=\"1\" stroke-width=\"3.2\"/>\n<circle clip-path=\"url(#clip232)\" cx=\"1139.57\" cy=\"763.963\" r=\"14\" fill=\"#c271d2\" fill-rule=\"evenodd\" fill-opacity=\"1\" stroke=\"#000000\" stroke-opacity=\"1\" stroke-width=\"3.2\"/>\n<circle clip-path=\"url(#clip232)\" cx=\"1369.78\" cy=\"606.71\" r=\"14\" fill=\"#c271d2\" fill-rule=\"evenodd\" fill-opacity=\"1\" stroke=\"#000000\" stroke-opacity=\"1\" stroke-width=\"3.2\"/>\n<circle clip-path=\"url(#clip232)\" cx=\"1599.98\" cy=\"458.73\" r=\"14\" fill=\"#c271d2\" fill-rule=\"evenodd\" fill-opacity=\"1\" stroke=\"#000000\" stroke-opacity=\"1\" stroke-width=\"3.2\"/>\n<circle clip-path=\"url(#clip232)\" cx=\"1830.19\" cy=\"321.849\" r=\"14\" fill=\"#c271d2\" fill-rule=\"evenodd\" fill-opacity=\"1\" stroke=\"#000000\" stroke-opacity=\"1\" stroke-width=\"3.2\"/>\n<circle clip-path=\"url(#clip232)\" cx=\"2060.4\" cy=\"197.754\" r=\"14\" fill=\"#c271d2\" fill-rule=\"evenodd\" fill-opacity=\"1\" stroke=\"#000000\" stroke-opacity=\"1\" stroke-width=\"3.2\"/>\n<circle clip-path=\"url(#clip232)\" cx=\"2290.6\" cy=\"87.9763\" r=\"14\" fill=\"#c271d2\" fill-rule=\"evenodd\" fill-opacity=\"1\" stroke=\"#000000\" stroke-opacity=\"1\" stroke-width=\"3.2\"/>\n<path clip-path=\"url(#clip230)\" d=\"\nM1733.06 354.418 L2279.55 354.418 L2279.55 95.2176 L1733.06 95.2176  Z\n  \" fill=\"#ffffff\" fill-rule=\"evenodd\" fill-opacity=\"1\"/>\n<polyline clip-path=\"url(#clip230)\" style=\"stroke:#000000; stroke-linecap:butt; stroke-linejoin:round; stroke-width:4; stroke-opacity:1; fill:none\" points=\"\n  1733.06,354.418 2279.55,354.418 2279.55,95.2176 1733.06,95.2176 1733.06,354.418 \n  \"/>\n<polyline clip-path=\"url(#clip230)\" style=\"stroke:#009af9; stroke-linecap:butt; stroke-linejoin:round; stroke-width:4; stroke-opacity:1; fill:none\" points=\"\n  1757.46,147.058 1903.87,147.058 \n  \"/>\n<path clip-path=\"url(#clip230)\" d=\"M1946.7 139.176 L1946.7 143.203 Q1944.89 142.277 1942.95 141.815 Q1941 141.352 1938.92 141.352 Q1935.75 141.352 1934.15 142.324 Q1932.58 143.296 1932.58 145.24 Q1932.58 146.722 1933.71 147.578 Q1934.85 148.412 1938.27 149.176 L1939.73 149.5 Q1944.27 150.472 1946.17 152.254 Q1948.09 154.014 1948.09 157.185 Q1948.09 160.796 1945.22 162.902 Q1942.37 165.009 1937.37 165.009 Q1935.29 165.009 1933.02 164.592 Q1930.77 164.199 1928.27 163.388 L1928.27 158.99 Q1930.63 160.217 1932.92 160.842 Q1935.22 161.444 1937.46 161.444 Q1940.47 161.444 1942.09 160.426 Q1943.71 159.384 1943.71 157.509 Q1943.71 155.773 1942.53 154.847 Q1941.37 153.921 1937.42 153.064 L1935.93 152.717 Q1931.98 151.884 1930.22 150.171 Q1928.46 148.435 1928.46 145.426 Q1928.46 141.768 1931.05 139.778 Q1933.64 137.787 1938.41 137.787 Q1940.77 137.787 1942.86 138.134 Q1944.94 138.481 1946.7 139.176 Z\" fill=\"#000000\" fill-rule=\"evenodd\" fill-opacity=\"1\" /><path clip-path=\"url(#clip230)\" d=\"M1954.87 138.412 L1959.13 138.412 L1959.13 164.338 L1954.87 164.338 L1954.87 138.412 M1954.87 128.319 L1959.13 128.319 L1959.13 133.713 L1954.87 133.713 L1954.87 128.319 Z\" fill=\"#000000\" fill-rule=\"evenodd\" fill-opacity=\"1\" /><path clip-path=\"url(#clip230)\" d=\"M1989.59 148.689 L1989.59 164.338 L1985.33 164.338 L1985.33 148.828 Q1985.33 145.148 1983.9 143.319 Q1982.46 141.49 1979.59 141.49 Q1976.14 141.49 1974.15 143.69 Q1972.16 145.889 1972.16 149.685 L1972.16 164.338 L1967.88 164.338 L1967.88 138.412 L1972.16 138.412 L1972.16 142.44 Q1973.69 140.102 1975.75 138.944 Q1977.83 137.787 1980.54 137.787 Q1985.01 137.787 1987.3 140.565 Q1989.59 143.319 1989.59 148.689 Z\" fill=\"#000000\" fill-rule=\"evenodd\" fill-opacity=\"1\" /><path clip-path=\"url(#clip230)\" d=\"M2008.32 128.366 Q2005.22 133.69 2003.71 138.898 Q2002.21 144.106 2002.21 149.453 Q2002.21 154.801 2003.71 160.055 Q2005.24 165.287 2008.32 170.588 L2004.61 170.588 Q2001.14 165.148 1999.41 159.893 Q1997.69 154.639 1997.69 149.453 Q1997.69 144.291 1999.41 139.06 Q2001.12 133.828 2004.61 128.366 L2008.32 128.366 Z\" fill=\"#000000\" fill-rule=\"evenodd\" fill-opacity=\"1\" /><path clip-path=\"url(#clip230)\" d=\"M2038.13 138.412 L2028.76 151.027 L2038.62 164.338 L2033.6 164.338 L2026.05 154.152 L2018.5 164.338 L2013.48 164.338 L2023.55 150.773 L2014.34 138.412 L2019.36 138.412 L2026.23 147.648 L2033.11 138.412 L2038.13 138.412 Z\" fill=\"#000000\" fill-rule=\"evenodd\" fill-opacity=\"1\" /><path clip-path=\"url(#clip230)\" d=\"M2043.97 128.366 L2047.67 128.366 Q2051.14 133.828 2052.85 139.06 Q2054.59 144.291 2054.59 149.453 Q2054.59 154.639 2052.85 159.893 Q2051.14 165.148 2047.67 170.588 L2043.97 170.588 Q2047.04 165.287 2048.55 160.055 Q2050.08 154.801 2050.08 149.453 Q2050.08 144.106 2048.55 138.898 Q2047.04 133.69 2043.97 128.366 Z\" fill=\"#000000\" fill-rule=\"evenodd\" fill-opacity=\"1\" /><circle clip-path=\"url(#clip230)\" cx=\"1830.66\" cy=\"198.898\" r=\"23\" fill=\"#e26f46\" fill-rule=\"evenodd\" fill-opacity=\"1\" stroke=\"#000000\" stroke-opacity=\"1\" stroke-width=\"5.12\"/>\n<path clip-path=\"url(#clip230)\" d=\"M1947.04 203.238 Q1947.04 198.539 1945.1 195.877 Q1943.18 193.192 1939.8 193.192 Q1936.42 193.192 1934.48 195.877 Q1932.55 198.539 1932.55 203.238 Q1932.55 207.937 1934.48 210.622 Q1936.42 213.284 1939.8 213.284 Q1943.18 213.284 1945.1 210.622 Q1947.04 207.937 1947.04 203.238 M1932.55 194.187 Q1933.9 191.872 1935.93 190.761 Q1937.99 189.627 1940.84 189.627 Q1945.56 189.627 1948.5 193.377 Q1951.47 197.127 1951.47 203.238 Q1951.47 209.349 1948.5 213.099 Q1945.56 216.849 1940.84 216.849 Q1937.99 216.849 1935.93 215.738 Q1933.9 214.603 1932.55 212.289 L1932.55 216.178 L1928.27 216.178 L1928.27 180.159 L1932.55 180.159 L1932.55 194.187 Z\" fill=\"#000000\" fill-rule=\"evenodd\" fill-opacity=\"1\" /><path clip-path=\"url(#clip230)\" d=\"M1970.31 203.145 Q1965.15 203.145 1963.16 204.326 Q1961.17 205.506 1961.17 208.354 Q1961.17 210.622 1962.65 211.965 Q1964.15 213.284 1966.72 213.284 Q1970.26 213.284 1972.39 210.784 Q1974.54 208.261 1974.54 204.094 L1974.54 203.145 L1970.31 203.145 M1978.8 201.386 L1978.8 216.178 L1974.54 216.178 L1974.54 212.242 Q1973.09 214.603 1970.91 215.738 Q1968.73 216.849 1965.59 216.849 Q1961.61 216.849 1959.24 214.627 Q1956.91 212.381 1956.91 208.631 Q1956.91 204.256 1959.82 202.034 Q1962.76 199.812 1968.57 199.812 L1974.54 199.812 L1974.54 199.395 Q1974.54 196.455 1972.6 194.858 Q1970.68 193.238 1967.18 193.238 Q1964.96 193.238 1962.86 193.77 Q1960.75 194.303 1958.8 195.367 L1958.8 191.432 Q1961.14 190.53 1963.34 190.09 Q1965.54 189.627 1967.62 189.627 Q1973.25 189.627 1976.03 192.543 Q1978.8 195.46 1978.8 201.386 Z\" fill=\"#000000\" fill-rule=\"evenodd\" fill-opacity=\"1\" /><path clip-path=\"url(#clip230)\" d=\"M2006.23 191.247 L2006.23 195.229 Q2004.43 194.233 2002.6 193.747 Q2000.79 193.238 1998.94 193.238 Q1994.8 193.238 1992.51 195.877 Q1990.22 198.492 1990.22 203.238 Q1990.22 207.983 1992.51 210.622 Q1994.8 213.238 1998.94 213.238 Q2000.79 213.238 2002.6 212.752 Q2004.43 212.242 2006.23 211.247 L2006.23 215.182 Q2004.45 216.016 2002.53 216.432 Q2000.63 216.849 1998.48 216.849 Q1992.62 216.849 1989.17 213.168 Q1985.73 209.488 1985.73 203.238 Q1985.73 196.895 1989.2 193.261 Q1992.69 189.627 1998.76 189.627 Q2000.73 189.627 2002.6 190.043 Q2004.48 190.437 2006.23 191.247 Z\" fill=\"#000000\" fill-rule=\"evenodd\" fill-opacity=\"1\" /><path clip-path=\"url(#clip230)\" d=\"M2013.48 180.159 L2017.76 180.159 L2017.76 201.432 L2030.47 190.252 L2035.91 190.252 L2022.16 202.381 L2036.49 216.178 L2030.93 216.178 L2017.76 203.516 L2017.76 216.178 L2013.48 216.178 L2013.48 180.159 Z\" fill=\"#000000\" fill-rule=\"evenodd\" fill-opacity=\"1\" /><path clip-path=\"url(#clip230)\" d=\"M2038.62 190.252 L2042.88 190.252 L2048.2 210.483 L2053.5 190.252 L2058.53 190.252 L2063.85 210.483 L2069.15 190.252 L2073.41 190.252 L2066.63 216.178 L2061.6 216.178 L2056.03 194.928 L2050.42 216.178 L2045.4 216.178 L2038.62 190.252 Z\" fill=\"#000000\" fill-rule=\"evenodd\" fill-opacity=\"1\" /><path clip-path=\"url(#clip230)\" d=\"M2091.65 203.145 Q2086.49 203.145 2084.5 204.326 Q2082.51 205.506 2082.51 208.354 Q2082.51 210.622 2083.99 211.965 Q2085.49 213.284 2088.06 213.284 Q2091.6 213.284 2093.73 210.784 Q2095.89 208.261 2095.89 204.094 L2095.89 203.145 L2091.65 203.145 M2100.15 201.386 L2100.15 216.178 L2095.89 216.178 L2095.89 212.242 Q2094.43 214.603 2092.25 215.738 Q2090.08 216.849 2086.93 216.849 Q2082.95 216.849 2080.59 214.627 Q2078.25 212.381 2078.25 208.631 Q2078.25 204.256 2081.16 202.034 Q2084.1 199.812 2089.91 199.812 L2095.89 199.812 L2095.89 199.395 Q2095.89 196.455 2093.94 194.858 Q2092.02 193.238 2088.53 193.238 Q2086.3 193.238 2084.2 193.77 Q2082.09 194.303 2080.15 195.367 L2080.15 191.432 Q2082.48 190.53 2084.68 190.09 Q2086.88 189.627 2088.97 189.627 Q2094.59 189.627 2097.37 192.543 Q2100.15 195.46 2100.15 201.386 Z\" fill=\"#000000\" fill-rule=\"evenodd\" fill-opacity=\"1\" /><path clip-path=\"url(#clip230)\" d=\"M2123.94 194.233 Q2123.22 193.817 2122.37 193.631 Q2121.53 193.423 2120.52 193.423 Q2116.91 193.423 2114.96 195.784 Q2113.04 198.122 2113.04 202.52 L2113.04 216.178 L2108.76 216.178 L2108.76 190.252 L2113.04 190.252 L2113.04 194.28 Q2114.38 191.918 2116.53 190.784 Q2118.69 189.627 2121.77 189.627 Q2122.21 189.627 2122.74 189.696 Q2123.27 189.743 2123.92 189.858 L2123.94 194.233 Z\" fill=\"#000000\" fill-rule=\"evenodd\" fill-opacity=\"1\" /><path clip-path=\"url(#clip230)\" d=\"M2144.64 194.187 L2144.64 180.159 L2148.9 180.159 L2148.9 216.178 L2144.64 216.178 L2144.64 212.289 Q2143.29 214.603 2141.23 215.738 Q2139.2 216.849 2136.33 216.849 Q2131.63 216.849 2128.66 213.099 Q2125.72 209.349 2125.72 203.238 Q2125.72 197.127 2128.66 193.377 Q2131.63 189.627 2136.33 189.627 Q2139.2 189.627 2141.23 190.761 Q2143.29 191.872 2144.64 194.187 M2130.12 203.238 Q2130.12 207.937 2132.04 210.622 Q2133.99 213.284 2137.37 213.284 Q2140.75 213.284 2142.69 210.622 Q2144.64 207.937 2144.64 203.238 Q2144.64 198.539 2142.69 195.877 Q2140.75 193.192 2137.37 193.192 Q2133.99 193.192 2132.04 195.877 Q2130.12 198.539 2130.12 203.238 Z\" fill=\"#000000\" fill-rule=\"evenodd\" fill-opacity=\"1\" /><path clip-path=\"url(#clip230)\" d=\"M2174.73 194.187 L2174.73 180.159 L2178.99 180.159 L2178.99 216.178 L2174.73 216.178 L2174.73 212.289 Q2173.39 214.603 2171.33 215.738 Q2169.29 216.849 2166.42 216.849 Q2161.72 216.849 2158.76 213.099 Q2155.82 209.349 2155.82 203.238 Q2155.82 197.127 2158.76 193.377 Q2161.72 189.627 2166.42 189.627 Q2169.29 189.627 2171.33 190.761 Q2173.39 191.872 2174.73 194.187 M2160.22 203.238 Q2160.22 207.937 2162.14 210.622 Q2164.08 213.284 2167.46 213.284 Q2170.84 213.284 2172.78 210.622 Q2174.73 207.937 2174.73 203.238 Q2174.73 198.539 2172.78 195.877 Q2170.84 193.192 2167.46 193.192 Q2164.08 193.192 2162.14 195.877 Q2160.22 198.539 2160.22 203.238 Z\" fill=\"#000000\" fill-rule=\"evenodd\" fill-opacity=\"1\" /><path clip-path=\"url(#clip230)\" d=\"M2187.76 190.252 L2192.02 190.252 L2192.02 216.178 L2187.76 216.178 L2187.76 190.252 M2187.76 180.159 L2192.02 180.159 L2192.02 185.553 L2187.76 185.553 L2187.76 180.159 Z\" fill=\"#000000\" fill-rule=\"evenodd\" fill-opacity=\"1\" /><path clip-path=\"url(#clip230)\" d=\"M2214.06 180.159 L2214.06 183.701 L2209.98 183.701 Q2207.69 183.701 2206.79 184.627 Q2205.91 185.553 2205.91 187.96 L2205.91 190.252 L2212.92 190.252 L2212.92 193.562 L2205.91 193.562 L2205.91 216.178 L2201.63 216.178 L2201.63 193.562 L2197.55 193.562 L2197.55 190.252 L2201.63 190.252 L2201.63 188.446 Q2201.63 184.118 2203.64 182.15 Q2205.65 180.159 2210.03 180.159 L2214.06 180.159 Z\" fill=\"#000000\" fill-rule=\"evenodd\" fill-opacity=\"1\" /><path clip-path=\"url(#clip230)\" d=\"M2230.75 180.159 L2230.75 183.701 L2226.67 183.701 Q2224.38 183.701 2223.48 184.627 Q2222.6 185.553 2222.6 187.96 L2222.6 190.252 L2229.61 190.252 L2229.61 193.562 L2222.6 193.562 L2222.6 216.178 L2218.32 216.178 L2218.32 193.562 L2214.24 193.562 L2214.24 190.252 L2218.32 190.252 L2218.32 188.446 Q2218.32 184.118 2220.33 182.15 Q2222.34 180.159 2226.72 180.159 L2230.75 180.159 Z\" fill=\"#000000\" fill-rule=\"evenodd\" fill-opacity=\"1\" /><circle clip-path=\"url(#clip230)\" cx=\"1830.66\" cy=\"250.738\" r=\"23\" fill=\"#3da44d\" fill-rule=\"evenodd\" fill-opacity=\"1\" stroke=\"#000000\" stroke-opacity=\"1\" stroke-width=\"5.12\"/>\n<path clip-path=\"url(#clip230)\" d=\"M1948.62 247.069 Q1950.22 244.198 1952.44 242.833 Q1954.66 241.467 1957.67 241.467 Q1961.72 241.467 1963.92 244.314 Q1966.12 247.138 1966.12 252.369 L1966.12 268.018 L1961.84 268.018 L1961.84 252.508 Q1961.84 248.782 1960.52 246.976 Q1959.2 245.17 1956.49 245.17 Q1953.18 245.17 1951.26 247.37 Q1949.34 249.569 1949.34 253.365 L1949.34 268.018 L1945.05 268.018 L1945.05 252.508 Q1945.05 248.758 1943.73 246.976 Q1942.42 245.17 1939.66 245.17 Q1936.4 245.17 1934.48 247.393 Q1932.55 249.592 1932.55 253.365 L1932.55 268.018 L1928.27 268.018 L1928.27 242.092 L1932.55 242.092 L1932.55 246.12 Q1934.01 243.735 1936.05 242.601 Q1938.09 241.467 1940.89 241.467 Q1943.71 241.467 1945.68 242.902 Q1947.67 244.337 1948.62 247.069 Z\" fill=\"#000000\" fill-rule=\"evenodd\" fill-opacity=\"1\" /><path clip-path=\"url(#clip230)\" d=\"M1974.61 242.092 L1978.87 242.092 L1978.87 268.018 L1974.61 268.018 L1974.61 242.092 M1974.61 231.999 L1978.87 231.999 L1978.87 237.393 L1974.61 237.393 L1974.61 231.999 Z\" fill=\"#000000\" fill-rule=\"evenodd\" fill-opacity=\"1\" /><path clip-path=\"url(#clip230)\" d=\"M2004.85 246.027 L2004.85 231.999 L2009.1 231.999 L2009.1 268.018 L2004.85 268.018 L2004.85 264.129 Q2003.5 266.443 2001.44 267.578 Q1999.41 268.689 1996.54 268.689 Q1991.84 268.689 1988.87 264.939 Q1985.93 261.189 1985.93 255.078 Q1985.93 248.967 1988.87 245.217 Q1991.84 241.467 1996.54 241.467 Q1999.41 241.467 2001.44 242.601 Q2003.5 243.712 2004.85 246.027 M1990.33 255.078 Q1990.33 259.777 1992.25 262.462 Q1994.2 265.124 1997.58 265.124 Q2000.96 265.124 2002.9 262.462 Q2004.85 259.777 2004.85 255.078 Q2004.85 250.379 2002.9 247.717 Q2000.96 245.032 1997.58 245.032 Q1994.2 245.032 1992.25 247.717 Q1990.33 250.379 1990.33 255.078 Z\" fill=\"#000000\" fill-rule=\"evenodd\" fill-opacity=\"1\" /><path clip-path=\"url(#clip230)\" d=\"M2034.94 246.027 L2034.94 231.999 L2039.2 231.999 L2039.2 268.018 L2034.94 268.018 L2034.94 264.129 Q2033.6 266.443 2031.54 267.578 Q2029.5 268.689 2026.63 268.689 Q2021.93 268.689 2018.97 264.939 Q2016.03 261.189 2016.03 255.078 Q2016.03 248.967 2018.97 245.217 Q2021.93 241.467 2026.63 241.467 Q2029.5 241.467 2031.54 242.601 Q2033.6 243.712 2034.94 246.027 M2020.42 255.078 Q2020.42 259.777 2022.35 262.462 Q2024.29 265.124 2027.67 265.124 Q2031.05 265.124 2032.99 262.462 Q2034.94 259.777 2034.94 255.078 Q2034.94 250.379 2032.99 247.717 Q2031.05 245.032 2027.67 245.032 Q2024.29 245.032 2022.35 247.717 Q2020.42 250.379 2020.42 255.078 Z\" fill=\"#000000\" fill-rule=\"evenodd\" fill-opacity=\"1\" /><path clip-path=\"url(#clip230)\" d=\"M2047.97 242.092 L2052.23 242.092 L2052.23 268.018 L2047.97 268.018 L2047.97 242.092 M2047.97 231.999 L2052.23 231.999 L2052.23 237.393 L2047.97 237.393 L2047.97 231.999 Z\" fill=\"#000000\" fill-rule=\"evenodd\" fill-opacity=\"1\" /><path clip-path=\"url(#clip230)\" d=\"M2074.27 231.999 L2074.27 235.541 L2070.19 235.541 Q2067.9 235.541 2067 236.467 Q2066.12 237.393 2066.12 239.8 L2066.12 242.092 L2073.13 242.092 L2073.13 245.402 L2066.12 245.402 L2066.12 268.018 L2061.84 268.018 L2061.84 245.402 L2057.76 245.402 L2057.76 242.092 L2061.84 242.092 L2061.84 240.286 Q2061.84 235.958 2063.85 233.99 Q2065.86 231.999 2070.24 231.999 L2074.27 231.999 Z\" fill=\"#000000\" fill-rule=\"evenodd\" fill-opacity=\"1\" /><path clip-path=\"url(#clip230)\" d=\"M2090.96 231.999 L2090.96 235.541 L2086.88 235.541 Q2084.59 235.541 2083.69 236.467 Q2082.81 237.393 2082.81 239.8 L2082.81 242.092 L2089.82 242.092 L2089.82 245.402 L2082.81 245.402 L2082.81 268.018 L2078.53 268.018 L2078.53 245.402 L2074.45 245.402 L2074.45 242.092 L2078.53 242.092 L2078.53 240.286 Q2078.53 235.958 2080.54 233.99 Q2082.55 231.999 2086.93 231.999 L2090.96 231.999 Z\" fill=\"#000000\" fill-rule=\"evenodd\" fill-opacity=\"1\" /><circle clip-path=\"url(#clip230)\" cx=\"1830.66\" cy=\"302.578\" r=\"23\" fill=\"#c271d2\" fill-rule=\"evenodd\" fill-opacity=\"1\" stroke=\"#000000\" stroke-opacity=\"1\" stroke-width=\"5.12\"/>\n<path clip-path=\"url(#clip230)\" d=\"M1944.78 283.839 L1944.78 287.381 L1940.7 287.381 Q1938.41 287.381 1937.51 288.307 Q1936.63 289.233 1936.63 291.64 L1936.63 293.932 L1943.64 293.932 L1943.64 297.242 L1936.63 297.242 L1936.63 319.858 L1932.35 319.858 L1932.35 297.242 L1928.27 297.242 L1928.27 293.932 L1932.35 293.932 L1932.35 292.126 Q1932.35 287.798 1934.36 285.83 Q1936.37 283.839 1940.75 283.839 L1944.78 283.839 Z\" fill=\"#000000\" fill-rule=\"evenodd\" fill-opacity=\"1\" /><path clip-path=\"url(#clip230)\" d=\"M1958.39 296.918 Q1954.96 296.918 1952.97 299.603 Q1950.98 302.265 1950.98 306.918 Q1950.98 311.571 1952.95 314.256 Q1954.94 316.918 1958.39 316.918 Q1961.79 316.918 1963.78 314.233 Q1965.77 311.547 1965.77 306.918 Q1965.77 302.311 1963.78 299.626 Q1961.79 296.918 1958.39 296.918 M1958.39 293.307 Q1963.94 293.307 1967.11 296.918 Q1970.29 300.529 1970.29 306.918 Q1970.29 313.284 1967.11 316.918 Q1963.94 320.529 1958.39 320.529 Q1952.81 320.529 1949.64 316.918 Q1946.49 313.284 1946.49 306.918 Q1946.49 300.529 1949.64 296.918 Q1952.81 293.307 1958.39 293.307 Z\" fill=\"#000000\" fill-rule=\"evenodd\" fill-opacity=\"1\" /><path clip-path=\"url(#clip230)\" d=\"M1992.37 297.913 Q1991.65 297.497 1990.79 297.311 Q1989.96 297.103 1988.94 297.103 Q1985.33 297.103 1983.39 299.464 Q1981.47 301.802 1981.47 306.2 L1981.47 319.858 L1977.18 319.858 L1977.18 293.932 L1981.47 293.932 L1981.47 297.96 Q1982.81 295.598 1984.96 294.464 Q1987.11 293.307 1990.19 293.307 Q1990.63 293.307 1991.17 293.376 Q1991.7 293.423 1992.35 293.538 L1992.37 297.913 Z\" fill=\"#000000\" fill-rule=\"evenodd\" fill-opacity=\"1\" /><path clip-path=\"url(#clip230)\" d=\"M1994.36 293.932 L1998.62 293.932 L2003.94 314.163 L2009.24 293.932 L2014.27 293.932 L2019.59 314.163 L2024.89 293.932 L2029.15 293.932 L2022.37 319.858 L2017.35 319.858 L2011.77 298.608 L2006.17 319.858 L2001.14 319.858 L1994.36 293.932 Z\" fill=\"#000000\" fill-rule=\"evenodd\" fill-opacity=\"1\" /><path clip-path=\"url(#clip230)\" d=\"M2047.39 306.825 Q2042.23 306.825 2040.24 308.006 Q2038.25 309.186 2038.25 312.034 Q2038.25 314.302 2039.73 315.645 Q2041.23 316.964 2043.8 316.964 Q2047.35 316.964 2049.47 314.464 Q2051.63 311.941 2051.63 307.774 L2051.63 306.825 L2047.39 306.825 M2055.89 305.066 L2055.89 319.858 L2051.63 319.858 L2051.63 315.922 Q2050.17 318.283 2047.99 319.418 Q2045.82 320.529 2042.67 320.529 Q2038.69 320.529 2036.33 318.307 Q2033.99 316.061 2033.99 312.311 Q2033.99 307.936 2036.91 305.714 Q2039.85 303.492 2045.66 303.492 L2051.63 303.492 L2051.63 303.075 Q2051.63 300.135 2049.68 298.538 Q2047.76 296.918 2044.27 296.918 Q2042.04 296.918 2039.94 297.45 Q2037.83 297.983 2035.89 299.047 L2035.89 295.112 Q2038.23 294.21 2040.42 293.77 Q2042.62 293.307 2044.71 293.307 Q2050.33 293.307 2053.11 296.223 Q2055.89 299.14 2055.89 305.066 Z\" fill=\"#000000\" fill-rule=\"evenodd\" fill-opacity=\"1\" /><path clip-path=\"url(#clip230)\" d=\"M2079.68 297.913 Q2078.97 297.497 2078.11 297.311 Q2077.28 297.103 2076.26 297.103 Q2072.65 297.103 2070.7 299.464 Q2068.78 301.802 2068.78 306.2 L2068.78 319.858 L2064.5 319.858 L2064.5 293.932 L2068.78 293.932 L2068.78 297.96 Q2070.12 295.598 2072.28 294.464 Q2074.43 293.307 2077.51 293.307 Q2077.95 293.307 2078.48 293.376 Q2079.01 293.423 2079.66 293.538 L2079.68 297.913 Z\" fill=\"#000000\" fill-rule=\"evenodd\" fill-opacity=\"1\" /><path clip-path=\"url(#clip230)\" d=\"M2100.38 297.867 L2100.38 283.839 L2104.64 283.839 L2104.64 319.858 L2100.38 319.858 L2100.38 315.969 Q2099.03 318.283 2096.97 319.418 Q2094.94 320.529 2092.07 320.529 Q2087.37 320.529 2084.41 316.779 Q2081.47 313.029 2081.47 306.918 Q2081.47 300.807 2084.41 297.057 Q2087.37 293.307 2092.07 293.307 Q2094.94 293.307 2096.97 294.441 Q2099.03 295.552 2100.38 297.867 M2085.86 306.918 Q2085.86 311.617 2087.78 314.302 Q2089.73 316.964 2093.11 316.964 Q2096.49 316.964 2098.43 314.302 Q2100.38 311.617 2100.38 306.918 Q2100.38 302.219 2098.43 299.557 Q2096.49 296.872 2093.11 296.872 Q2089.73 296.872 2087.78 299.557 Q2085.86 302.219 2085.86 306.918 Z\" fill=\"#000000\" fill-rule=\"evenodd\" fill-opacity=\"1\" /><path clip-path=\"url(#clip230)\" d=\"M2130.47 297.867 L2130.47 283.839 L2134.73 283.839 L2134.73 319.858 L2130.47 319.858 L2130.47 315.969 Q2129.13 318.283 2127.07 319.418 Q2125.03 320.529 2122.16 320.529 Q2117.46 320.529 2114.5 316.779 Q2111.56 313.029 2111.56 306.918 Q2111.56 300.807 2114.5 297.057 Q2117.46 293.307 2122.16 293.307 Q2125.03 293.307 2127.07 294.441 Q2129.13 295.552 2130.47 297.867 M2115.96 306.918 Q2115.96 311.617 2117.88 314.302 Q2119.82 316.964 2123.2 316.964 Q2126.58 316.964 2128.53 314.302 Q2130.47 311.617 2130.47 306.918 Q2130.47 302.219 2128.53 299.557 Q2126.58 296.872 2123.2 296.872 Q2119.82 296.872 2117.88 299.557 Q2115.96 302.219 2115.96 306.918 Z\" fill=\"#000000\" fill-rule=\"evenodd\" fill-opacity=\"1\" /><path clip-path=\"url(#clip230)\" d=\"M2143.5 293.932 L2147.76 293.932 L2147.76 319.858 L2143.5 319.858 L2143.5 293.932 M2143.5 283.839 L2147.76 283.839 L2147.76 289.233 L2143.5 289.233 L2143.5 283.839 Z\" fill=\"#000000\" fill-rule=\"evenodd\" fill-opacity=\"1\" /><path clip-path=\"url(#clip230)\" d=\"M2169.8 283.839 L2169.8 287.381 L2165.72 287.381 Q2163.43 287.381 2162.53 288.307 Q2161.65 289.233 2161.65 291.64 L2161.65 293.932 L2168.66 293.932 L2168.66 297.242 L2161.65 297.242 L2161.65 319.858 L2157.37 319.858 L2157.37 297.242 L2153.29 297.242 L2153.29 293.932 L2157.37 293.932 L2157.37 292.126 Q2157.37 287.798 2159.38 285.83 Q2161.4 283.839 2165.77 283.839 L2169.8 283.839 Z\" fill=\"#000000\" fill-rule=\"evenodd\" fill-opacity=\"1\" /><path clip-path=\"url(#clip230)\" d=\"M2186.49 283.839 L2186.49 287.381 L2182.41 287.381 Q2180.12 287.381 2179.22 288.307 Q2178.34 289.233 2178.34 291.64 L2178.34 293.932 L2185.35 293.932 L2185.35 297.242 L2178.34 297.242 L2178.34 319.858 L2174.06 319.858 L2174.06 297.242 L2169.98 297.242 L2169.98 293.932 L2174.06 293.932 L2174.06 292.126 Q2174.06 287.798 2176.07 285.83 Q2178.09 283.839 2182.46 283.839 L2186.49 283.839 Z\" fill=\"#000000\" fill-rule=\"evenodd\" fill-opacity=\"1\" /></svg>\n",
      "text/html": [
       "<?xml version=\"1.0\" encoding=\"utf-8\"?>\n",
       "<svg xmlns=\"http://www.w3.org/2000/svg\" xmlns:xlink=\"http://www.w3.org/1999/xlink\" width=\"600\" height=\"400\" viewBox=\"0 0 2400 1600\">\n",
       "<defs>\n",
       "  <clipPath id=\"clip280\">\n",
       "    <rect x=\"0\" y=\"0\" width=\"2400\" height=\"1600\"/>\n",
       "  </clipPath>\n",
       "</defs>\n",
       "<path clip-path=\"url(#clip280)\" d=\"\n",
       "M0 1600 L2400 1600 L2400 0 L0 0  Z\n",
       "  \" fill=\"#ffffff\" fill-rule=\"evenodd\" fill-opacity=\"1\"/>\n",
       "<defs>\n",
       "  <clipPath id=\"clip281\">\n",
       "    <rect x=\"480\" y=\"0\" width=\"1681\" height=\"1600\"/>\n",
       "  </clipPath>\n",
       "</defs>\n",
       "<path clip-path=\"url(#clip280)\" d=\"\n",
       "M156.598 1486.45 L2352.76 1486.45 L2352.76 47.2441 L156.598 47.2441  Z\n",
       "  \" fill=\"#ffffff\" fill-rule=\"evenodd\" fill-opacity=\"1\"/>\n",
       "<defs>\n",
       "  <clipPath id=\"clip282\">\n",
       "    <rect x=\"156\" y=\"47\" width=\"2197\" height=\"1440\"/>\n",
       "  </clipPath>\n",
       "</defs>\n",
       "<polyline clip-path=\"url(#clip282)\" style=\"stroke:#000000; stroke-linecap:butt; stroke-linejoin:round; stroke-width:2; stroke-opacity:0.1; fill:none\" points=\"\n",
       "  218.754,1486.45 218.754,47.2441 \n",
       "  \"/>\n",
       "<polyline clip-path=\"url(#clip282)\" style=\"stroke:#000000; stroke-linecap:butt; stroke-linejoin:round; stroke-width:2; stroke-opacity:0.1; fill:none\" points=\"\n",
       "  736.715,1486.45 736.715,47.2441 \n",
       "  \"/>\n",
       "<polyline clip-path=\"url(#clip282)\" style=\"stroke:#000000; stroke-linecap:butt; stroke-linejoin:round; stroke-width:2; stroke-opacity:0.1; fill:none\" points=\"\n",
       "  1254.68,1486.45 1254.68,47.2441 \n",
       "  \"/>\n",
       "<polyline clip-path=\"url(#clip282)\" style=\"stroke:#000000; stroke-linecap:butt; stroke-linejoin:round; stroke-width:2; stroke-opacity:0.1; fill:none\" points=\"\n",
       "  1772.64,1486.45 1772.64,47.2441 \n",
       "  \"/>\n",
       "<polyline clip-path=\"url(#clip282)\" style=\"stroke:#000000; stroke-linecap:butt; stroke-linejoin:round; stroke-width:2; stroke-opacity:0.1; fill:none\" points=\"\n",
       "  2290.6,1486.45 2290.6,47.2441 \n",
       "  \"/>\n",
       "<polyline clip-path=\"url(#clip280)\" style=\"stroke:#000000; stroke-linecap:butt; stroke-linejoin:round; stroke-width:4; stroke-opacity:1; fill:none\" points=\"\n",
       "  156.598,1486.45 2352.76,1486.45 \n",
       "  \"/>\n",
       "<polyline clip-path=\"url(#clip280)\" style=\"stroke:#000000; stroke-linecap:butt; stroke-linejoin:round; stroke-width:4; stroke-opacity:1; fill:none\" points=\"\n",
       "  218.754,1486.45 218.754,1467.55 \n",
       "  \"/>\n",
       "<polyline clip-path=\"url(#clip280)\" style=\"stroke:#000000; stroke-linecap:butt; stroke-linejoin:round; stroke-width:4; stroke-opacity:1; fill:none\" points=\"\n",
       "  736.715,1486.45 736.715,1467.55 \n",
       "  \"/>\n",
       "<polyline clip-path=\"url(#clip280)\" style=\"stroke:#000000; stroke-linecap:butt; stroke-linejoin:round; stroke-width:4; stroke-opacity:1; fill:none\" points=\"\n",
       "  1254.68,1486.45 1254.68,1467.55 \n",
       "  \"/>\n",
       "<polyline clip-path=\"url(#clip280)\" style=\"stroke:#000000; stroke-linecap:butt; stroke-linejoin:round; stroke-width:4; stroke-opacity:1; fill:none\" points=\"\n",
       "  1772.64,1486.45 1772.64,1467.55 \n",
       "  \"/>\n",
       "<polyline clip-path=\"url(#clip280)\" style=\"stroke:#000000; stroke-linecap:butt; stroke-linejoin:round; stroke-width:4; stroke-opacity:1; fill:none\" points=\"\n",
       "  2290.6,1486.45 2290.6,1467.55 \n",
       "  \"/>\n",
       "<path clip-path=\"url(#clip280)\" d=\"M181.057 1517.37 Q177.446 1517.37 175.617 1520.93 Q173.812 1524.47 173.812 1531.6 Q173.812 1538.71 175.617 1542.27 Q177.446 1545.82 181.057 1545.82 Q184.691 1545.82 186.497 1542.27 Q188.326 1538.71 188.326 1531.6 Q188.326 1524.47 186.497 1520.93 Q184.691 1517.37 181.057 1517.37 M181.057 1513.66 Q186.867 1513.66 189.923 1518.27 Q193.001 1522.85 193.001 1531.6 Q193.001 1540.33 189.923 1544.94 Q186.867 1549.52 181.057 1549.52 Q175.247 1549.52 172.168 1544.94 Q169.113 1540.33 169.113 1531.6 Q169.113 1522.85 172.168 1518.27 Q175.247 1513.66 181.057 1513.66 Z\" fill=\"#000000\" fill-rule=\"evenodd\" fill-opacity=\"1\" /><path clip-path=\"url(#clip280)\" d=\"M201.219 1542.97 L206.103 1542.97 L206.103 1548.85 L201.219 1548.85 L201.219 1542.97 Z\" fill=\"#000000\" fill-rule=\"evenodd\" fill-opacity=\"1\" /><path clip-path=\"url(#clip280)\" d=\"M226.288 1517.37 Q222.677 1517.37 220.849 1520.93 Q219.043 1524.47 219.043 1531.6 Q219.043 1538.71 220.849 1542.27 Q222.677 1545.82 226.288 1545.82 Q229.923 1545.82 231.728 1542.27 Q233.557 1538.71 233.557 1531.6 Q233.557 1524.47 231.728 1520.93 Q229.923 1517.37 226.288 1517.37 M226.288 1513.66 Q232.098 1513.66 235.154 1518.27 Q238.233 1522.85 238.233 1531.6 Q238.233 1540.33 235.154 1544.94 Q232.098 1549.52 226.288 1549.52 Q220.478 1549.52 217.399 1544.94 Q214.344 1540.33 214.344 1531.6 Q214.344 1522.85 217.399 1518.27 Q220.478 1513.66 226.288 1513.66 Z\" fill=\"#000000\" fill-rule=\"evenodd\" fill-opacity=\"1\" /><path clip-path=\"url(#clip280)\" d=\"M256.45 1517.37 Q252.839 1517.37 251.01 1520.93 Q249.205 1524.47 249.205 1531.6 Q249.205 1538.71 251.01 1542.27 Q252.839 1545.82 256.45 1545.82 Q260.084 1545.82 261.89 1542.27 Q263.719 1538.71 263.719 1531.6 Q263.719 1524.47 261.89 1520.93 Q260.084 1517.37 256.45 1517.37 M256.45 1513.66 Q262.26 1513.66 265.316 1518.27 Q268.395 1522.85 268.395 1531.6 Q268.395 1540.33 265.316 1544.94 Q262.26 1549.52 256.45 1549.52 Q250.64 1549.52 247.561 1544.94 Q244.506 1540.33 244.506 1531.6 Q244.506 1522.85 247.561 1518.27 Q250.64 1513.66 256.45 1513.66 Z\" fill=\"#000000\" fill-rule=\"evenodd\" fill-opacity=\"1\" /><path clip-path=\"url(#clip280)\" d=\"M699.516 1517.37 Q695.905 1517.37 694.077 1520.93 Q692.271 1524.47 692.271 1531.6 Q692.271 1538.71 694.077 1542.27 Q695.905 1545.82 699.516 1545.82 Q703.151 1545.82 704.956 1542.27 Q706.785 1538.71 706.785 1531.6 Q706.785 1524.47 704.956 1520.93 Q703.151 1517.37 699.516 1517.37 M699.516 1513.66 Q705.327 1513.66 708.382 1518.27 Q711.461 1522.85 711.461 1531.6 Q711.461 1540.33 708.382 1544.94 Q705.327 1549.52 699.516 1549.52 Q693.706 1549.52 690.628 1544.94 Q687.572 1540.33 687.572 1531.6 Q687.572 1522.85 690.628 1518.27 Q693.706 1513.66 699.516 1513.66 Z\" fill=\"#000000\" fill-rule=\"evenodd\" fill-opacity=\"1\" /><path clip-path=\"url(#clip280)\" d=\"M719.678 1542.97 L724.563 1542.97 L724.563 1548.85 L719.678 1548.85 L719.678 1542.97 Z\" fill=\"#000000\" fill-rule=\"evenodd\" fill-opacity=\"1\" /><path clip-path=\"url(#clip280)\" d=\"M738.776 1544.91 L755.095 1544.91 L755.095 1548.85 L733.151 1548.85 L733.151 1544.91 Q735.813 1542.16 740.396 1537.53 Q745.002 1532.88 746.183 1531.53 Q748.428 1529.01 749.308 1527.27 Q750.211 1525.51 750.211 1523.82 Q750.211 1521.07 748.266 1519.33 Q746.345 1517.6 743.243 1517.6 Q741.044 1517.6 738.59 1518.36 Q736.16 1519.13 733.382 1520.68 L733.382 1515.95 Q736.206 1514.82 738.66 1514.24 Q741.113 1513.66 743.151 1513.66 Q748.521 1513.66 751.715 1516.35 Q754.91 1519.03 754.91 1523.52 Q754.91 1525.65 754.1 1527.57 Q753.312 1529.47 751.206 1532.07 Q750.627 1532.74 747.525 1535.95 Q744.424 1539.15 738.776 1544.91 Z\" fill=\"#000000\" fill-rule=\"evenodd\" fill-opacity=\"1\" /><path clip-path=\"url(#clip280)\" d=\"M764.956 1514.29 L783.312 1514.29 L783.312 1518.22 L769.238 1518.22 L769.238 1526.7 Q770.257 1526.35 771.275 1526.19 Q772.294 1526 773.312 1526 Q779.099 1526 782.479 1529.17 Q785.859 1532.34 785.859 1537.76 Q785.859 1543.34 782.386 1546.44 Q778.914 1549.52 772.595 1549.52 Q770.419 1549.52 768.15 1549.15 Q765.905 1548.78 763.498 1548.04 L763.498 1543.34 Q765.581 1544.47 767.803 1545.03 Q770.025 1545.58 772.502 1545.58 Q776.507 1545.58 778.845 1543.48 Q781.183 1541.37 781.183 1537.76 Q781.183 1534.15 778.845 1532.04 Q776.507 1529.94 772.502 1529.94 Q770.627 1529.94 768.752 1530.35 Q766.9 1530.77 764.956 1531.65 L764.956 1514.29 Z\" fill=\"#000000\" fill-rule=\"evenodd\" fill-opacity=\"1\" /><path clip-path=\"url(#clip280)\" d=\"M1216.98 1517.37 Q1213.37 1517.37 1211.54 1520.93 Q1209.74 1524.47 1209.74 1531.6 Q1209.74 1538.71 1211.54 1542.27 Q1213.37 1545.82 1216.98 1545.82 Q1220.61 1545.82 1222.42 1542.27 Q1224.25 1538.71 1224.25 1531.6 Q1224.25 1524.47 1222.42 1520.93 Q1220.61 1517.37 1216.98 1517.37 M1216.98 1513.66 Q1222.79 1513.66 1225.85 1518.27 Q1228.92 1522.85 1228.92 1531.6 Q1228.92 1540.33 1225.85 1544.94 Q1222.79 1549.52 1216.98 1549.52 Q1211.17 1549.52 1208.09 1544.94 Q1205.04 1540.33 1205.04 1531.6 Q1205.04 1522.85 1208.09 1518.27 Q1211.17 1513.66 1216.98 1513.66 Z\" fill=\"#000000\" fill-rule=\"evenodd\" fill-opacity=\"1\" /><path clip-path=\"url(#clip280)\" d=\"M1237.14 1542.97 L1242.03 1542.97 L1242.03 1548.85 L1237.14 1548.85 L1237.14 1542.97 Z\" fill=\"#000000\" fill-rule=\"evenodd\" fill-opacity=\"1\" /><path clip-path=\"url(#clip280)\" d=\"M1252.26 1514.29 L1270.61 1514.29 L1270.61 1518.22 L1256.54 1518.22 L1256.54 1526.7 Q1257.56 1526.35 1258.58 1526.19 Q1259.6 1526 1260.61 1526 Q1266.4 1526 1269.78 1529.17 Q1273.16 1532.34 1273.16 1537.76 Q1273.16 1543.34 1269.69 1546.44 Q1266.22 1549.52 1259.9 1549.52 Q1257.72 1549.52 1255.45 1549.15 Q1253.21 1548.78 1250.8 1548.04 L1250.8 1543.34 Q1252.88 1544.47 1255.11 1545.03 Q1257.33 1545.58 1259.8 1545.58 Q1263.81 1545.58 1266.15 1543.48 Q1268.48 1541.37 1268.48 1537.76 Q1268.48 1534.15 1266.15 1532.04 Q1263.81 1529.94 1259.8 1529.94 Q1257.93 1529.94 1256.05 1530.35 Q1254.2 1530.77 1252.26 1531.65 L1252.26 1514.29 Z\" fill=\"#000000\" fill-rule=\"evenodd\" fill-opacity=\"1\" /><path clip-path=\"url(#clip280)\" d=\"M1292.37 1517.37 Q1288.76 1517.37 1286.93 1520.93 Q1285.13 1524.47 1285.13 1531.6 Q1285.13 1538.71 1286.93 1542.27 Q1288.76 1545.82 1292.37 1545.82 Q1296.01 1545.82 1297.81 1542.27 Q1299.64 1538.71 1299.64 1531.6 Q1299.64 1524.47 1297.81 1520.93 Q1296.01 1517.37 1292.37 1517.37 M1292.37 1513.66 Q1298.18 1513.66 1301.24 1518.27 Q1304.32 1522.85 1304.32 1531.6 Q1304.32 1540.33 1301.24 1544.94 Q1298.18 1549.52 1292.37 1549.52 Q1286.56 1549.52 1283.48 1544.94 Q1280.43 1540.33 1280.43 1531.6 Q1280.43 1522.85 1283.48 1518.27 Q1286.56 1513.66 1292.37 1513.66 Z\" fill=\"#000000\" fill-rule=\"evenodd\" fill-opacity=\"1\" /><path clip-path=\"url(#clip280)\" d=\"M1735.44 1517.37 Q1731.83 1517.37 1730 1520.93 Q1728.19 1524.47 1728.19 1531.6 Q1728.19 1538.71 1730 1542.27 Q1731.83 1545.82 1735.44 1545.82 Q1739.07 1545.82 1740.88 1542.27 Q1742.71 1538.71 1742.71 1531.6 Q1742.71 1524.47 1740.88 1520.93 Q1739.07 1517.37 1735.44 1517.37 M1735.44 1513.66 Q1741.25 1513.66 1744.31 1518.27 Q1747.38 1522.85 1747.38 1531.6 Q1747.38 1540.33 1744.31 1544.94 Q1741.25 1549.52 1735.44 1549.52 Q1729.63 1549.52 1726.55 1544.94 Q1723.5 1540.33 1723.5 1531.6 Q1723.5 1522.85 1726.55 1518.27 Q1729.63 1513.66 1735.44 1513.66 Z\" fill=\"#000000\" fill-rule=\"evenodd\" fill-opacity=\"1\" /><path clip-path=\"url(#clip280)\" d=\"M1755.6 1542.97 L1760.49 1542.97 L1760.49 1548.85 L1755.6 1548.85 L1755.6 1542.97 Z\" fill=\"#000000\" fill-rule=\"evenodd\" fill-opacity=\"1\" /><path clip-path=\"url(#clip280)\" d=\"M1769.49 1514.29 L1791.71 1514.29 L1791.71 1516.28 L1779.17 1548.85 L1774.28 1548.85 L1786.09 1518.22 L1769.49 1518.22 L1769.49 1514.29 Z\" fill=\"#000000\" fill-rule=\"evenodd\" fill-opacity=\"1\" /><path clip-path=\"url(#clip280)\" d=\"M1800.88 1514.29 L1819.24 1514.29 L1819.24 1518.22 L1805.16 1518.22 L1805.16 1526.7 Q1806.18 1526.35 1807.2 1526.19 Q1808.22 1526 1809.24 1526 Q1815.02 1526 1818.4 1529.17 Q1821.78 1532.34 1821.78 1537.76 Q1821.78 1543.34 1818.31 1546.44 Q1814.84 1549.52 1808.52 1549.52 Q1806.34 1549.52 1804.07 1549.15 Q1801.83 1548.78 1799.42 1548.04 L1799.42 1543.34 Q1801.5 1544.47 1803.73 1545.03 Q1805.95 1545.58 1808.43 1545.58 Q1812.43 1545.58 1814.77 1543.48 Q1817.11 1541.37 1817.11 1537.76 Q1817.11 1534.15 1814.77 1532.04 Q1812.43 1529.94 1808.43 1529.94 Q1806.55 1529.94 1804.68 1530.35 Q1802.82 1530.77 1800.88 1531.65 L1800.88 1514.29 Z\" fill=\"#000000\" fill-rule=\"evenodd\" fill-opacity=\"1\" /><path clip-path=\"url(#clip280)\" d=\"M2242.67 1544.91 L2250.31 1544.91 L2250.31 1518.55 L2242 1520.21 L2242 1515.95 L2250.27 1514.29 L2254.94 1514.29 L2254.94 1544.91 L2262.58 1544.91 L2262.58 1548.85 L2242.67 1548.85 L2242.67 1544.91 Z\" fill=\"#000000\" fill-rule=\"evenodd\" fill-opacity=\"1\" /><path clip-path=\"url(#clip280)\" d=\"M2272.02 1542.97 L2276.91 1542.97 L2276.91 1548.85 L2272.02 1548.85 L2272.02 1542.97 Z\" fill=\"#000000\" fill-rule=\"evenodd\" fill-opacity=\"1\" /><path clip-path=\"url(#clip280)\" d=\"M2297.09 1517.37 Q2293.48 1517.37 2291.65 1520.93 Q2289.85 1524.47 2289.85 1531.6 Q2289.85 1538.71 2291.65 1542.27 Q2293.48 1545.82 2297.09 1545.82 Q2300.73 1545.82 2302.53 1542.27 Q2304.36 1538.71 2304.36 1531.6 Q2304.36 1524.47 2302.53 1520.93 Q2300.73 1517.37 2297.09 1517.37 M2297.09 1513.66 Q2302.9 1513.66 2305.96 1518.27 Q2309.04 1522.85 2309.04 1531.6 Q2309.04 1540.33 2305.96 1544.94 Q2302.9 1549.52 2297.09 1549.52 Q2291.28 1549.52 2288.2 1544.94 Q2285.15 1540.33 2285.15 1531.6 Q2285.15 1522.85 2288.2 1518.27 Q2291.28 1513.66 2297.09 1513.66 Z\" fill=\"#000000\" fill-rule=\"evenodd\" fill-opacity=\"1\" /><path clip-path=\"url(#clip280)\" d=\"M2327.26 1517.37 Q2323.64 1517.37 2321.82 1520.93 Q2320.01 1524.47 2320.01 1531.6 Q2320.01 1538.71 2321.82 1542.27 Q2323.64 1545.82 2327.26 1545.82 Q2330.89 1545.82 2332.7 1542.27 Q2334.52 1538.71 2334.52 1531.6 Q2334.52 1524.47 2332.7 1520.93 Q2330.89 1517.37 2327.26 1517.37 M2327.26 1513.66 Q2333.07 1513.66 2336.12 1518.27 Q2339.2 1522.85 2339.2 1531.6 Q2339.2 1540.33 2336.12 1544.94 Q2333.07 1549.52 2327.26 1549.52 Q2321.45 1549.52 2318.37 1544.94 Q2315.31 1540.33 2315.31 1531.6 Q2315.31 1522.85 2318.37 1518.27 Q2321.45 1513.66 2327.26 1513.66 Z\" fill=\"#000000\" fill-rule=\"evenodd\" fill-opacity=\"1\" /><polyline clip-path=\"url(#clip282)\" style=\"stroke:#000000; stroke-linecap:butt; stroke-linejoin:round; stroke-width:2; stroke-opacity:0.1; fill:none\" points=\"\n",
       "  156.598,1445.72 2352.76,1445.72 \n",
       "  \"/>\n",
       "<polyline clip-path=\"url(#clip282)\" style=\"stroke:#000000; stroke-linecap:butt; stroke-linejoin:round; stroke-width:2; stroke-opacity:0.1; fill:none\" points=\"\n",
       "  156.598,1132.2 2352.76,1132.2 \n",
       "  \"/>\n",
       "<polyline clip-path=\"url(#clip282)\" style=\"stroke:#000000; stroke-linecap:butt; stroke-linejoin:round; stroke-width:2; stroke-opacity:0.1; fill:none\" points=\"\n",
       "  156.598,818.688 2352.76,818.688 \n",
       "  \"/>\n",
       "<polyline clip-path=\"url(#clip282)\" style=\"stroke:#000000; stroke-linecap:butt; stroke-linejoin:round; stroke-width:2; stroke-opacity:0.1; fill:none\" points=\"\n",
       "  156.598,505.175 2352.76,505.175 \n",
       "  \"/>\n",
       "<polyline clip-path=\"url(#clip282)\" style=\"stroke:#000000; stroke-linecap:butt; stroke-linejoin:round; stroke-width:2; stroke-opacity:0.1; fill:none\" points=\"\n",
       "  156.598,191.661 2352.76,191.661 \n",
       "  \"/>\n",
       "<polyline clip-path=\"url(#clip280)\" style=\"stroke:#000000; stroke-linecap:butt; stroke-linejoin:round; stroke-width:4; stroke-opacity:1; fill:none\" points=\"\n",
       "  156.598,1486.45 156.598,47.2441 \n",
       "  \"/>\n",
       "<polyline clip-path=\"url(#clip280)\" style=\"stroke:#000000; stroke-linecap:butt; stroke-linejoin:round; stroke-width:4; stroke-opacity:1; fill:none\" points=\"\n",
       "  156.598,1445.72 175.496,1445.72 \n",
       "  \"/>\n",
       "<polyline clip-path=\"url(#clip280)\" style=\"stroke:#000000; stroke-linecap:butt; stroke-linejoin:round; stroke-width:4; stroke-opacity:1; fill:none\" points=\"\n",
       "  156.598,1132.2 175.496,1132.2 \n",
       "  \"/>\n",
       "<polyline clip-path=\"url(#clip280)\" style=\"stroke:#000000; stroke-linecap:butt; stroke-linejoin:round; stroke-width:4; stroke-opacity:1; fill:none\" points=\"\n",
       "  156.598,818.688 175.496,818.688 \n",
       "  \"/>\n",
       "<polyline clip-path=\"url(#clip280)\" style=\"stroke:#000000; stroke-linecap:butt; stroke-linejoin:round; stroke-width:4; stroke-opacity:1; fill:none\" points=\"\n",
       "  156.598,505.175 175.496,505.175 \n",
       "  \"/>\n",
       "<polyline clip-path=\"url(#clip280)\" style=\"stroke:#000000; stroke-linecap:butt; stroke-linejoin:round; stroke-width:4; stroke-opacity:1; fill:none\" points=\"\n",
       "  156.598,191.661 175.496,191.661 \n",
       "  \"/>\n",
       "<path clip-path=\"url(#clip280)\" d=\"M63.4226 1431.51 Q59.8115 1431.51 57.9828 1435.08 Q56.1773 1438.62 56.1773 1445.75 Q56.1773 1452.86 57.9828 1456.42 Q59.8115 1459.96 63.4226 1459.96 Q67.0569 1459.96 68.8624 1456.42 Q70.6911 1452.86 70.6911 1445.75 Q70.6911 1438.62 68.8624 1435.08 Q67.0569 1431.51 63.4226 1431.51 M63.4226 1427.81 Q69.2328 1427.81 72.2883 1432.42 Q75.367 1437 75.367 1445.75 Q75.367 1454.48 72.2883 1459.08 Q69.2328 1463.67 63.4226 1463.67 Q57.6125 1463.67 54.5338 1459.08 Q51.4782 1454.48 51.4782 1445.75 Q51.4782 1437 54.5338 1432.42 Q57.6125 1427.81 63.4226 1427.81 Z\" fill=\"#000000\" fill-rule=\"evenodd\" fill-opacity=\"1\" /><path clip-path=\"url(#clip280)\" d=\"M83.5845 1457.12 L88.4688 1457.12 L88.4688 1463 L83.5845 1463 L83.5845 1457.12 Z\" fill=\"#000000\" fill-rule=\"evenodd\" fill-opacity=\"1\" /><path clip-path=\"url(#clip280)\" d=\"M108.654 1431.51 Q105.043 1431.51 103.214 1435.08 Q101.409 1438.62 101.409 1445.75 Q101.409 1452.86 103.214 1456.42 Q105.043 1459.96 108.654 1459.96 Q112.288 1459.96 114.094 1456.42 Q115.922 1452.86 115.922 1445.75 Q115.922 1438.62 114.094 1435.08 Q112.288 1431.51 108.654 1431.51 M108.654 1427.81 Q114.464 1427.81 117.52 1432.42 Q120.598 1437 120.598 1445.75 Q120.598 1454.48 117.52 1459.08 Q114.464 1463.67 108.654 1463.67 Q102.844 1463.67 99.765 1459.08 Q96.7095 1454.48 96.7095 1445.75 Q96.7095 1437 99.765 1432.42 Q102.844 1427.81 108.654 1427.81 Z\" fill=\"#000000\" fill-rule=\"evenodd\" fill-opacity=\"1\" /><path clip-path=\"url(#clip280)\" d=\"M65.0198 1118 Q61.4087 1118 59.58 1121.57 Q57.7745 1125.11 57.7745 1132.24 Q57.7745 1139.34 59.58 1142.91 Q61.4087 1146.45 65.0198 1146.45 Q68.6541 1146.45 70.4596 1142.91 Q72.2883 1139.34 72.2883 1132.24 Q72.2883 1125.11 70.4596 1121.57 Q68.6541 1118 65.0198 1118 M65.0198 1114.3 Q70.83 1114.3 73.8855 1118.9 Q76.9642 1123.49 76.9642 1132.24 Q76.9642 1140.96 73.8855 1145.57 Q70.83 1150.15 65.0198 1150.15 Q59.2097 1150.15 56.131 1145.57 Q53.0754 1140.96 53.0754 1132.24 Q53.0754 1123.49 56.131 1118.9 Q59.2097 1114.3 65.0198 1114.3 Z\" fill=\"#000000\" fill-rule=\"evenodd\" fill-opacity=\"1\" /><path clip-path=\"url(#clip280)\" d=\"M85.1818 1143.6 L90.066 1143.6 L90.066 1149.48 L85.1818 1149.48 L85.1818 1143.6 Z\" fill=\"#000000\" fill-rule=\"evenodd\" fill-opacity=\"1\" /><path clip-path=\"url(#clip280)\" d=\"M104.279 1145.55 L120.598 1145.55 L120.598 1149.48 L98.6539 1149.48 L98.6539 1145.55 Q101.316 1142.79 105.899 1138.16 Q110.506 1133.51 111.686 1132.17 Q113.932 1129.64 114.811 1127.91 Q115.714 1126.15 115.714 1124.46 Q115.714 1121.7 113.77 1119.97 Q111.848 1118.23 108.746 1118.23 Q106.547 1118.23 104.094 1119 Q101.663 1119.76 98.8854 1121.31 L98.8854 1116.59 Q101.709 1115.45 104.163 1114.88 Q106.617 1114.3 108.654 1114.3 Q114.024 1114.3 117.219 1116.98 Q120.413 1119.67 120.413 1124.16 Q120.413 1126.29 119.603 1128.21 Q118.816 1130.11 116.709 1132.7 Q116.131 1133.37 113.029 1136.59 Q109.927 1139.78 104.279 1145.55 Z\" fill=\"#000000\" fill-rule=\"evenodd\" fill-opacity=\"1\" /><path clip-path=\"url(#clip280)\" d=\"M62.9365 804.487 Q59.3254 804.487 57.4967 808.052 Q55.6912 811.594 55.6912 818.723 Q55.6912 825.83 57.4967 829.394 Q59.3254 832.936 62.9365 832.936 Q66.5707 832.936 68.3763 829.394 Q70.205 825.83 70.205 818.723 Q70.205 811.594 68.3763 808.052 Q66.5707 804.487 62.9365 804.487 M62.9365 800.783 Q68.7467 800.783 71.8022 805.39 Q74.8809 809.973 74.8809 818.723 Q74.8809 827.45 71.8022 832.056 Q68.7467 836.64 62.9365 836.64 Q57.1264 836.64 54.0477 832.056 Q50.9921 827.45 50.9921 818.723 Q50.9921 809.973 54.0477 805.39 Q57.1264 800.783 62.9365 800.783 Z\" fill=\"#000000\" fill-rule=\"evenodd\" fill-opacity=\"1\" /><path clip-path=\"url(#clip280)\" d=\"M83.0984 830.089 L87.9827 830.089 L87.9827 835.968 L83.0984 835.968 L83.0984 830.089 Z\" fill=\"#000000\" fill-rule=\"evenodd\" fill-opacity=\"1\" /><path clip-path=\"url(#clip280)\" d=\"M111.015 805.483 L99.2095 823.932 L111.015 823.932 L111.015 805.483 M109.788 801.408 L115.668 801.408 L115.668 823.932 L120.598 823.932 L120.598 827.82 L115.668 827.82 L115.668 835.968 L111.015 835.968 L111.015 827.82 L95.4132 827.82 L95.4132 823.307 L109.788 801.408 Z\" fill=\"#000000\" fill-rule=\"evenodd\" fill-opacity=\"1\" /><path clip-path=\"url(#clip280)\" d=\"M63.2606 490.974 Q59.6495 490.974 57.8208 494.538 Q56.0152 498.08 56.0152 505.21 Q56.0152 512.316 57.8208 515.881 Q59.6495 519.422 63.2606 519.422 Q66.8948 519.422 68.7004 515.881 Q70.5291 512.316 70.5291 505.21 Q70.5291 498.08 68.7004 494.538 Q66.8948 490.974 63.2606 490.974 M63.2606 487.27 Q69.0707 487.27 72.1263 491.876 Q75.205 496.46 75.205 505.21 Q75.205 513.936 72.1263 518.543 Q69.0707 523.126 63.2606 523.126 Q57.4504 523.126 54.3717 518.543 Q51.3162 513.936 51.3162 505.21 Q51.3162 496.46 54.3717 491.876 Q57.4504 487.27 63.2606 487.27 Z\" fill=\"#000000\" fill-rule=\"evenodd\" fill-opacity=\"1\" /><path clip-path=\"url(#clip280)\" d=\"M83.4225 516.575 L88.3067 516.575 L88.3067 522.455 L83.4225 522.455 L83.4225 516.575 Z\" fill=\"#000000\" fill-rule=\"evenodd\" fill-opacity=\"1\" /><path clip-path=\"url(#clip280)\" d=\"M109.071 503.311 Q105.922 503.311 104.071 505.464 Q102.242 507.617 102.242 511.367 Q102.242 515.094 104.071 517.27 Q105.922 519.422 109.071 519.422 Q112.219 519.422 114.047 517.27 Q115.899 515.094 115.899 511.367 Q115.899 507.617 114.047 505.464 Q112.219 503.311 109.071 503.311 M118.353 488.659 L118.353 492.918 Q116.594 492.085 114.788 491.645 Q113.006 491.205 111.246 491.205 Q106.617 491.205 104.163 494.33 Q101.733 497.455 101.385 503.774 Q102.751 501.761 104.811 500.696 Q106.871 499.608 109.348 499.608 Q114.557 499.608 117.566 502.779 Q120.598 505.927 120.598 511.367 Q120.598 516.691 117.45 519.909 Q114.302 523.126 109.071 523.126 Q103.075 523.126 99.9039 518.543 Q96.7326 513.936 96.7326 505.21 Q96.7326 497.015 100.621 492.154 Q104.51 487.27 111.061 487.27 Q112.82 487.27 114.603 487.617 Q116.408 487.964 118.353 488.659 Z\" fill=\"#000000\" fill-rule=\"evenodd\" fill-opacity=\"1\" /><path clip-path=\"url(#clip280)\" d=\"M63.5152 177.46 Q59.9041 177.46 58.0754 181.025 Q56.2699 184.566 56.2699 191.696 Q56.2699 198.802 58.0754 202.367 Q59.9041 205.909 63.5152 205.909 Q67.1494 205.909 68.955 202.367 Q70.7837 198.802 70.7837 191.696 Q70.7837 184.566 68.955 181.025 Q67.1494 177.46 63.5152 177.46 M63.5152 173.756 Q69.3254 173.756 72.3809 178.363 Q75.4596 182.946 75.4596 191.696 Q75.4596 200.423 72.3809 205.029 Q69.3254 209.613 63.5152 209.613 Q57.7051 209.613 54.6264 205.029 Q51.5708 200.423 51.5708 191.696 Q51.5708 182.946 54.6264 178.363 Q57.7051 173.756 63.5152 173.756 Z\" fill=\"#000000\" fill-rule=\"evenodd\" fill-opacity=\"1\" /><path clip-path=\"url(#clip280)\" d=\"M83.6771 203.062 L88.5614 203.062 L88.5614 208.941 L83.6771 208.941 L83.6771 203.062 Z\" fill=\"#000000\" fill-rule=\"evenodd\" fill-opacity=\"1\" /><path clip-path=\"url(#clip280)\" d=\"M108.746 192.529 Q105.413 192.529 103.492 194.312 Q101.594 196.094 101.594 199.219 Q101.594 202.344 103.492 204.126 Q105.413 205.909 108.746 205.909 Q112.08 205.909 114.001 204.126 Q115.922 202.321 115.922 199.219 Q115.922 196.094 114.001 194.312 Q112.103 192.529 108.746 192.529 M104.071 190.539 Q101.061 189.798 99.3715 187.738 Q97.7048 185.678 97.7048 182.715 Q97.7048 178.571 100.645 176.164 Q103.608 173.756 108.746 173.756 Q113.908 173.756 116.848 176.164 Q119.788 178.571 119.788 182.715 Q119.788 185.678 118.098 187.738 Q116.432 189.798 113.445 190.539 Q116.825 191.326 118.7 193.617 Q120.598 195.909 120.598 199.219 Q120.598 204.242 117.52 206.927 Q114.464 209.613 108.746 209.613 Q103.029 209.613 99.9502 206.927 Q96.8947 204.242 96.8947 199.219 Q96.8947 195.909 98.7928 193.617 Q100.691 191.326 104.071 190.539 M102.358 183.154 Q102.358 185.84 104.024 187.344 Q105.714 188.849 108.746 188.849 Q111.756 188.849 113.445 187.344 Q115.158 185.84 115.158 183.154 Q115.158 180.469 113.445 178.965 Q111.756 177.46 108.746 177.46 Q105.714 177.46 104.024 178.965 Q102.358 180.469 102.358 183.154 Z\" fill=\"#000000\" fill-rule=\"evenodd\" fill-opacity=\"1\" /><polyline clip-path=\"url(#clip282)\" style=\"stroke:#009af9; stroke-linecap:butt; stroke-linejoin:round; stroke-width:4; stroke-opacity:1; fill:none\" points=\"\n",
       "  218.754,1445.72 448.959,1271.9 679.164,1100.23 909.369,932.816 1139.57,771.73 1369.78,618.956 1599.98,476.379 1830.19,345.757 2060.4,228.7 2290.6,126.653 \n",
       "  \n",
       "  \"/>\n",
       "<circle clip-path=\"url(#clip282)\" cx=\"218.754\" cy=\"1445.72\" r=\"14\" fill=\"#e26f46\" fill-rule=\"evenodd\" fill-opacity=\"1\" stroke=\"#000000\" stroke-opacity=\"1\" stroke-width=\"3.2\"/>\n",
       "<circle clip-path=\"url(#clip282)\" cx=\"448.959\" cy=\"1272.62\" r=\"14\" fill=\"#e26f46\" fill-rule=\"evenodd\" fill-opacity=\"1\" stroke=\"#000000\" stroke-opacity=\"1\" stroke-width=\"3.2\"/>\n",
       "<circle clip-path=\"url(#clip282)\" cx=\"679.164\" cy=\"1102.72\" r=\"14\" fill=\"#e26f46\" fill-rule=\"evenodd\" fill-opacity=\"1\" stroke=\"#000000\" stroke-opacity=\"1\" stroke-width=\"3.2\"/>\n",
       "<circle clip-path=\"url(#clip282)\" cx=\"909.369\" cy=\"938.137\" r=\"14\" fill=\"#e26f46\" fill-rule=\"evenodd\" fill-opacity=\"1\" stroke=\"#000000\" stroke-opacity=\"1\" stroke-width=\"3.2\"/>\n",
       "<circle clip-path=\"url(#clip282)\" cx=\"1139.57\" cy=\"780.884\" r=\"14\" fill=\"#e26f46\" fill-rule=\"evenodd\" fill-opacity=\"1\" stroke=\"#000000\" stroke-opacity=\"1\" stroke-width=\"3.2\"/>\n",
       "<circle clip-path=\"url(#clip282)\" cx=\"1369.78\" cy=\"632.904\" r=\"14\" fill=\"#e26f46\" fill-rule=\"evenodd\" fill-opacity=\"1\" stroke=\"#000000\" stroke-opacity=\"1\" stroke-width=\"3.2\"/>\n",
       "<circle clip-path=\"url(#clip282)\" cx=\"1599.98\" cy=\"496.023\" r=\"14\" fill=\"#e26f46\" fill-rule=\"evenodd\" fill-opacity=\"1\" stroke=\"#000000\" stroke-opacity=\"1\" stroke-width=\"3.2\"/>\n",
       "<circle clip-path=\"url(#clip282)\" cx=\"1830.19\" cy=\"371.928\" r=\"14\" fill=\"#e26f46\" fill-rule=\"evenodd\" fill-opacity=\"1\" stroke=\"#000000\" stroke-opacity=\"1\" stroke-width=\"3.2\"/>\n",
       "<circle clip-path=\"url(#clip282)\" cx=\"2060.4\" cy=\"262.151\" r=\"14\" fill=\"#e26f46\" fill-rule=\"evenodd\" fill-opacity=\"1\" stroke=\"#000000\" stroke-opacity=\"1\" stroke-width=\"3.2\"/>\n",
       "<circle clip-path=\"url(#clip282)\" cx=\"2290.6\" cy=\"168.044\" r=\"14\" fill=\"#e26f46\" fill-rule=\"evenodd\" fill-opacity=\"1\" stroke=\"#000000\" stroke-opacity=\"1\" stroke-width=\"3.2\"/>\n",
       "<circle clip-path=\"url(#clip282)\" cx=\"218.754\" cy=\"1445.72\" r=\"14\" fill=\"#3da44d\" fill-rule=\"evenodd\" fill-opacity=\"1\" stroke=\"#000000\" stroke-opacity=\"1\" stroke-width=\"3.2\"/>\n",
       "<circle clip-path=\"url(#clip282)\" cx=\"448.959\" cy=\"1271.81\" r=\"14\" fill=\"#3da44d\" fill-rule=\"evenodd\" fill-opacity=\"1\" stroke=\"#000000\" stroke-opacity=\"1\" stroke-width=\"3.2\"/>\n",
       "<circle clip-path=\"url(#clip282)\" cx=\"679.164\" cy=\"1100.05\" r=\"14\" fill=\"#3da44d\" fill-rule=\"evenodd\" fill-opacity=\"1\" stroke=\"#000000\" stroke-opacity=\"1\" stroke-width=\"3.2\"/>\n",
       "<circle clip-path=\"url(#clip282)\" cx=\"909.369\" cy=\"932.552\" r=\"14\" fill=\"#3da44d\" fill-rule=\"evenodd\" fill-opacity=\"1\" stroke=\"#000000\" stroke-opacity=\"1\" stroke-width=\"3.2\"/>\n",
       "<circle clip-path=\"url(#clip282)\" cx=\"1139.57\" cy=\"771.383\" r=\"14\" fill=\"#3da44d\" fill-rule=\"evenodd\" fill-opacity=\"1\" stroke=\"#000000\" stroke-opacity=\"1\" stroke-width=\"3.2\"/>\n",
       "<circle clip-path=\"url(#clip282)\" cx=\"1369.78\" cy=\"618.531\" r=\"14\" fill=\"#3da44d\" fill-rule=\"evenodd\" fill-opacity=\"1\" stroke=\"#000000\" stroke-opacity=\"1\" stroke-width=\"3.2\"/>\n",
       "<circle clip-path=\"url(#clip282)\" cx=\"1599.98\" cy=\"475.88\" r=\"14\" fill=\"#3da44d\" fill-rule=\"evenodd\" fill-opacity=\"1\" stroke=\"#000000\" stroke-opacity=\"1\" stroke-width=\"3.2\"/>\n",
       "<circle clip-path=\"url(#clip282)\" cx=\"1830.19\" cy=\"345.191\" r=\"14\" fill=\"#3da44d\" fill-rule=\"evenodd\" fill-opacity=\"1\" stroke=\"#000000\" stroke-opacity=\"1\" stroke-width=\"3.2\"/>\n",
       "<circle clip-path=\"url(#clip282)\" cx=\"2060.4\" cy=\"228.074\" r=\"14\" fill=\"#3da44d\" fill-rule=\"evenodd\" fill-opacity=\"1\" stroke=\"#000000\" stroke-opacity=\"1\" stroke-width=\"3.2\"/>\n",
       "<circle clip-path=\"url(#clip282)\" cx=\"2290.6\" cy=\"125.974\" r=\"14\" fill=\"#3da44d\" fill-rule=\"evenodd\" fill-opacity=\"1\" stroke=\"#000000\" stroke-opacity=\"1\" stroke-width=\"3.2\"/>\n",
       "<circle clip-path=\"url(#clip282)\" cx=\"218.754\" cy=\"1445.72\" r=\"14\" fill=\"#c271d2\" fill-rule=\"evenodd\" fill-opacity=\"1\" stroke=\"#000000\" stroke-opacity=\"1\" stroke-width=\"3.2\"/>\n",
       "<circle clip-path=\"url(#clip282)\" cx=\"448.959\" cy=\"1271.54\" r=\"14\" fill=\"#c271d2\" fill-rule=\"evenodd\" fill-opacity=\"1\" stroke=\"#000000\" stroke-opacity=\"1\" stroke-width=\"3.2\"/>\n",
       "<circle clip-path=\"url(#clip282)\" cx=\"679.164\" cy=\"1098.44\" r=\"14\" fill=\"#c271d2\" fill-rule=\"evenodd\" fill-opacity=\"1\" stroke=\"#000000\" stroke-opacity=\"1\" stroke-width=\"3.2\"/>\n",
       "<circle clip-path=\"url(#clip282)\" cx=\"909.369\" cy=\"928.55\" r=\"14\" fill=\"#c271d2\" fill-rule=\"evenodd\" fill-opacity=\"1\" stroke=\"#000000\" stroke-opacity=\"1\" stroke-width=\"3.2\"/>\n",
       "<circle clip-path=\"url(#clip282)\" cx=\"1139.57\" cy=\"763.963\" r=\"14\" fill=\"#c271d2\" fill-rule=\"evenodd\" fill-opacity=\"1\" stroke=\"#000000\" stroke-opacity=\"1\" stroke-width=\"3.2\"/>\n",
       "<circle clip-path=\"url(#clip282)\" cx=\"1369.78\" cy=\"606.71\" r=\"14\" fill=\"#c271d2\" fill-rule=\"evenodd\" fill-opacity=\"1\" stroke=\"#000000\" stroke-opacity=\"1\" stroke-width=\"3.2\"/>\n",
       "<circle clip-path=\"url(#clip282)\" cx=\"1599.98\" cy=\"458.73\" r=\"14\" fill=\"#c271d2\" fill-rule=\"evenodd\" fill-opacity=\"1\" stroke=\"#000000\" stroke-opacity=\"1\" stroke-width=\"3.2\"/>\n",
       "<circle clip-path=\"url(#clip282)\" cx=\"1830.19\" cy=\"321.849\" r=\"14\" fill=\"#c271d2\" fill-rule=\"evenodd\" fill-opacity=\"1\" stroke=\"#000000\" stroke-opacity=\"1\" stroke-width=\"3.2\"/>\n",
       "<circle clip-path=\"url(#clip282)\" cx=\"2060.4\" cy=\"197.754\" r=\"14\" fill=\"#c271d2\" fill-rule=\"evenodd\" fill-opacity=\"1\" stroke=\"#000000\" stroke-opacity=\"1\" stroke-width=\"3.2\"/>\n",
       "<circle clip-path=\"url(#clip282)\" cx=\"2290.6\" cy=\"87.9763\" r=\"14\" fill=\"#c271d2\" fill-rule=\"evenodd\" fill-opacity=\"1\" stroke=\"#000000\" stroke-opacity=\"1\" stroke-width=\"3.2\"/>\n",
       "<path clip-path=\"url(#clip280)\" d=\"\n",
       "M1733.06 354.418 L2279.55 354.418 L2279.55 95.2176 L1733.06 95.2176  Z\n",
       "  \" fill=\"#ffffff\" fill-rule=\"evenodd\" fill-opacity=\"1\"/>\n",
       "<polyline clip-path=\"url(#clip280)\" style=\"stroke:#000000; stroke-linecap:butt; stroke-linejoin:round; stroke-width:4; stroke-opacity:1; fill:none\" points=\"\n",
       "  1733.06,354.418 2279.55,354.418 2279.55,95.2176 1733.06,95.2176 1733.06,354.418 \n",
       "  \"/>\n",
       "<polyline clip-path=\"url(#clip280)\" style=\"stroke:#009af9; stroke-linecap:butt; stroke-linejoin:round; stroke-width:4; stroke-opacity:1; fill:none\" points=\"\n",
       "  1757.46,147.058 1903.87,147.058 \n",
       "  \"/>\n",
       "<path clip-path=\"url(#clip280)\" d=\"M1946.7 139.176 L1946.7 143.203 Q1944.89 142.277 1942.95 141.815 Q1941 141.352 1938.92 141.352 Q1935.75 141.352 1934.15 142.324 Q1932.58 143.296 1932.58 145.24 Q1932.58 146.722 1933.71 147.578 Q1934.85 148.412 1938.27 149.176 L1939.73 149.5 Q1944.27 150.472 1946.17 152.254 Q1948.09 154.014 1948.09 157.185 Q1948.09 160.796 1945.22 162.902 Q1942.37 165.009 1937.37 165.009 Q1935.29 165.009 1933.02 164.592 Q1930.77 164.199 1928.27 163.388 L1928.27 158.99 Q1930.63 160.217 1932.92 160.842 Q1935.22 161.444 1937.46 161.444 Q1940.47 161.444 1942.09 160.426 Q1943.71 159.384 1943.71 157.509 Q1943.71 155.773 1942.53 154.847 Q1941.37 153.921 1937.42 153.064 L1935.93 152.717 Q1931.98 151.884 1930.22 150.171 Q1928.46 148.435 1928.46 145.426 Q1928.46 141.768 1931.05 139.778 Q1933.64 137.787 1938.41 137.787 Q1940.77 137.787 1942.86 138.134 Q1944.94 138.481 1946.7 139.176 Z\" fill=\"#000000\" fill-rule=\"evenodd\" fill-opacity=\"1\" /><path clip-path=\"url(#clip280)\" d=\"M1954.87 138.412 L1959.13 138.412 L1959.13 164.338 L1954.87 164.338 L1954.87 138.412 M1954.87 128.319 L1959.13 128.319 L1959.13 133.713 L1954.87 133.713 L1954.87 128.319 Z\" fill=\"#000000\" fill-rule=\"evenodd\" fill-opacity=\"1\" /><path clip-path=\"url(#clip280)\" d=\"M1989.59 148.689 L1989.59 164.338 L1985.33 164.338 L1985.33 148.828 Q1985.33 145.148 1983.9 143.319 Q1982.46 141.49 1979.59 141.49 Q1976.14 141.49 1974.15 143.69 Q1972.16 145.889 1972.16 149.685 L1972.16 164.338 L1967.88 164.338 L1967.88 138.412 L1972.16 138.412 L1972.16 142.44 Q1973.69 140.102 1975.75 138.944 Q1977.83 137.787 1980.54 137.787 Q1985.01 137.787 1987.3 140.565 Q1989.59 143.319 1989.59 148.689 Z\" fill=\"#000000\" fill-rule=\"evenodd\" fill-opacity=\"1\" /><path clip-path=\"url(#clip280)\" d=\"M2008.32 128.366 Q2005.22 133.69 2003.71 138.898 Q2002.21 144.106 2002.21 149.453 Q2002.21 154.801 2003.71 160.055 Q2005.24 165.287 2008.32 170.588 L2004.61 170.588 Q2001.14 165.148 1999.41 159.893 Q1997.69 154.639 1997.69 149.453 Q1997.69 144.291 1999.41 139.06 Q2001.12 133.828 2004.61 128.366 L2008.32 128.366 Z\" fill=\"#000000\" fill-rule=\"evenodd\" fill-opacity=\"1\" /><path clip-path=\"url(#clip280)\" d=\"M2038.13 138.412 L2028.76 151.027 L2038.62 164.338 L2033.6 164.338 L2026.05 154.152 L2018.5 164.338 L2013.48 164.338 L2023.55 150.773 L2014.34 138.412 L2019.36 138.412 L2026.23 147.648 L2033.11 138.412 L2038.13 138.412 Z\" fill=\"#000000\" fill-rule=\"evenodd\" fill-opacity=\"1\" /><path clip-path=\"url(#clip280)\" d=\"M2043.97 128.366 L2047.67 128.366 Q2051.14 133.828 2052.85 139.06 Q2054.59 144.291 2054.59 149.453 Q2054.59 154.639 2052.85 159.893 Q2051.14 165.148 2047.67 170.588 L2043.97 170.588 Q2047.04 165.287 2048.55 160.055 Q2050.08 154.801 2050.08 149.453 Q2050.08 144.106 2048.55 138.898 Q2047.04 133.69 2043.97 128.366 Z\" fill=\"#000000\" fill-rule=\"evenodd\" fill-opacity=\"1\" /><circle clip-path=\"url(#clip280)\" cx=\"1830.66\" cy=\"198.898\" r=\"23\" fill=\"#e26f46\" fill-rule=\"evenodd\" fill-opacity=\"1\" stroke=\"#000000\" stroke-opacity=\"1\" stroke-width=\"5.12\"/>\n",
       "<path clip-path=\"url(#clip280)\" d=\"M1947.04 203.238 Q1947.04 198.539 1945.1 195.877 Q1943.18 193.192 1939.8 193.192 Q1936.42 193.192 1934.48 195.877 Q1932.55 198.539 1932.55 203.238 Q1932.55 207.937 1934.48 210.622 Q1936.42 213.284 1939.8 213.284 Q1943.18 213.284 1945.1 210.622 Q1947.04 207.937 1947.04 203.238 M1932.55 194.187 Q1933.9 191.872 1935.93 190.761 Q1937.99 189.627 1940.84 189.627 Q1945.56 189.627 1948.5 193.377 Q1951.47 197.127 1951.47 203.238 Q1951.47 209.349 1948.5 213.099 Q1945.56 216.849 1940.84 216.849 Q1937.99 216.849 1935.93 215.738 Q1933.9 214.603 1932.55 212.289 L1932.55 216.178 L1928.27 216.178 L1928.27 180.159 L1932.55 180.159 L1932.55 194.187 Z\" fill=\"#000000\" fill-rule=\"evenodd\" fill-opacity=\"1\" /><path clip-path=\"url(#clip280)\" d=\"M1970.31 203.145 Q1965.15 203.145 1963.16 204.326 Q1961.17 205.506 1961.17 208.354 Q1961.17 210.622 1962.65 211.965 Q1964.15 213.284 1966.72 213.284 Q1970.26 213.284 1972.39 210.784 Q1974.54 208.261 1974.54 204.094 L1974.54 203.145 L1970.31 203.145 M1978.8 201.386 L1978.8 216.178 L1974.54 216.178 L1974.54 212.242 Q1973.09 214.603 1970.91 215.738 Q1968.73 216.849 1965.59 216.849 Q1961.61 216.849 1959.24 214.627 Q1956.91 212.381 1956.91 208.631 Q1956.91 204.256 1959.82 202.034 Q1962.76 199.812 1968.57 199.812 L1974.54 199.812 L1974.54 199.395 Q1974.54 196.455 1972.6 194.858 Q1970.68 193.238 1967.18 193.238 Q1964.96 193.238 1962.86 193.77 Q1960.75 194.303 1958.8 195.367 L1958.8 191.432 Q1961.14 190.53 1963.34 190.09 Q1965.54 189.627 1967.62 189.627 Q1973.25 189.627 1976.03 192.543 Q1978.8 195.46 1978.8 201.386 Z\" fill=\"#000000\" fill-rule=\"evenodd\" fill-opacity=\"1\" /><path clip-path=\"url(#clip280)\" d=\"M2006.23 191.247 L2006.23 195.229 Q2004.43 194.233 2002.6 193.747 Q2000.79 193.238 1998.94 193.238 Q1994.8 193.238 1992.51 195.877 Q1990.22 198.492 1990.22 203.238 Q1990.22 207.983 1992.51 210.622 Q1994.8 213.238 1998.94 213.238 Q2000.79 213.238 2002.6 212.752 Q2004.43 212.242 2006.23 211.247 L2006.23 215.182 Q2004.45 216.016 2002.53 216.432 Q2000.63 216.849 1998.48 216.849 Q1992.62 216.849 1989.17 213.168 Q1985.73 209.488 1985.73 203.238 Q1985.73 196.895 1989.2 193.261 Q1992.69 189.627 1998.76 189.627 Q2000.73 189.627 2002.6 190.043 Q2004.48 190.437 2006.23 191.247 Z\" fill=\"#000000\" fill-rule=\"evenodd\" fill-opacity=\"1\" /><path clip-path=\"url(#clip280)\" d=\"M2013.48 180.159 L2017.76 180.159 L2017.76 201.432 L2030.47 190.252 L2035.91 190.252 L2022.16 202.381 L2036.49 216.178 L2030.93 216.178 L2017.76 203.516 L2017.76 216.178 L2013.48 216.178 L2013.48 180.159 Z\" fill=\"#000000\" fill-rule=\"evenodd\" fill-opacity=\"1\" /><path clip-path=\"url(#clip280)\" d=\"M2038.62 190.252 L2042.88 190.252 L2048.2 210.483 L2053.5 190.252 L2058.53 190.252 L2063.85 210.483 L2069.15 190.252 L2073.41 190.252 L2066.63 216.178 L2061.6 216.178 L2056.03 194.928 L2050.42 216.178 L2045.4 216.178 L2038.62 190.252 Z\" fill=\"#000000\" fill-rule=\"evenodd\" fill-opacity=\"1\" /><path clip-path=\"url(#clip280)\" d=\"M2091.65 203.145 Q2086.49 203.145 2084.5 204.326 Q2082.51 205.506 2082.51 208.354 Q2082.51 210.622 2083.99 211.965 Q2085.49 213.284 2088.06 213.284 Q2091.6 213.284 2093.73 210.784 Q2095.89 208.261 2095.89 204.094 L2095.89 203.145 L2091.65 203.145 M2100.15 201.386 L2100.15 216.178 L2095.89 216.178 L2095.89 212.242 Q2094.43 214.603 2092.25 215.738 Q2090.08 216.849 2086.93 216.849 Q2082.95 216.849 2080.59 214.627 Q2078.25 212.381 2078.25 208.631 Q2078.25 204.256 2081.16 202.034 Q2084.1 199.812 2089.91 199.812 L2095.89 199.812 L2095.89 199.395 Q2095.89 196.455 2093.94 194.858 Q2092.02 193.238 2088.53 193.238 Q2086.3 193.238 2084.2 193.77 Q2082.09 194.303 2080.15 195.367 L2080.15 191.432 Q2082.48 190.53 2084.68 190.09 Q2086.88 189.627 2088.97 189.627 Q2094.59 189.627 2097.37 192.543 Q2100.15 195.46 2100.15 201.386 Z\" fill=\"#000000\" fill-rule=\"evenodd\" fill-opacity=\"1\" /><path clip-path=\"url(#clip280)\" d=\"M2123.94 194.233 Q2123.22 193.817 2122.37 193.631 Q2121.53 193.423 2120.52 193.423 Q2116.91 193.423 2114.96 195.784 Q2113.04 198.122 2113.04 202.52 L2113.04 216.178 L2108.76 216.178 L2108.76 190.252 L2113.04 190.252 L2113.04 194.28 Q2114.38 191.918 2116.53 190.784 Q2118.69 189.627 2121.77 189.627 Q2122.21 189.627 2122.74 189.696 Q2123.27 189.743 2123.92 189.858 L2123.94 194.233 Z\" fill=\"#000000\" fill-rule=\"evenodd\" fill-opacity=\"1\" /><path clip-path=\"url(#clip280)\" d=\"M2144.64 194.187 L2144.64 180.159 L2148.9 180.159 L2148.9 216.178 L2144.64 216.178 L2144.64 212.289 Q2143.29 214.603 2141.23 215.738 Q2139.2 216.849 2136.33 216.849 Q2131.63 216.849 2128.66 213.099 Q2125.72 209.349 2125.72 203.238 Q2125.72 197.127 2128.66 193.377 Q2131.63 189.627 2136.33 189.627 Q2139.2 189.627 2141.23 190.761 Q2143.29 191.872 2144.64 194.187 M2130.12 203.238 Q2130.12 207.937 2132.04 210.622 Q2133.99 213.284 2137.37 213.284 Q2140.75 213.284 2142.69 210.622 Q2144.64 207.937 2144.64 203.238 Q2144.64 198.539 2142.69 195.877 Q2140.75 193.192 2137.37 193.192 Q2133.99 193.192 2132.04 195.877 Q2130.12 198.539 2130.12 203.238 Z\" fill=\"#000000\" fill-rule=\"evenodd\" fill-opacity=\"1\" /><path clip-path=\"url(#clip280)\" d=\"M2174.73 194.187 L2174.73 180.159 L2178.99 180.159 L2178.99 216.178 L2174.73 216.178 L2174.73 212.289 Q2173.39 214.603 2171.33 215.738 Q2169.29 216.849 2166.42 216.849 Q2161.72 216.849 2158.76 213.099 Q2155.82 209.349 2155.82 203.238 Q2155.82 197.127 2158.76 193.377 Q2161.72 189.627 2166.42 189.627 Q2169.29 189.627 2171.33 190.761 Q2173.39 191.872 2174.73 194.187 M2160.22 203.238 Q2160.22 207.937 2162.14 210.622 Q2164.08 213.284 2167.46 213.284 Q2170.84 213.284 2172.78 210.622 Q2174.73 207.937 2174.73 203.238 Q2174.73 198.539 2172.78 195.877 Q2170.84 193.192 2167.46 193.192 Q2164.08 193.192 2162.14 195.877 Q2160.22 198.539 2160.22 203.238 Z\" fill=\"#000000\" fill-rule=\"evenodd\" fill-opacity=\"1\" /><path clip-path=\"url(#clip280)\" d=\"M2187.76 190.252 L2192.02 190.252 L2192.02 216.178 L2187.76 216.178 L2187.76 190.252 M2187.76 180.159 L2192.02 180.159 L2192.02 185.553 L2187.76 185.553 L2187.76 180.159 Z\" fill=\"#000000\" fill-rule=\"evenodd\" fill-opacity=\"1\" /><path clip-path=\"url(#clip280)\" d=\"M2214.06 180.159 L2214.06 183.701 L2209.98 183.701 Q2207.69 183.701 2206.79 184.627 Q2205.91 185.553 2205.91 187.96 L2205.91 190.252 L2212.92 190.252 L2212.92 193.562 L2205.91 193.562 L2205.91 216.178 L2201.63 216.178 L2201.63 193.562 L2197.55 193.562 L2197.55 190.252 L2201.63 190.252 L2201.63 188.446 Q2201.63 184.118 2203.64 182.15 Q2205.65 180.159 2210.03 180.159 L2214.06 180.159 Z\" fill=\"#000000\" fill-rule=\"evenodd\" fill-opacity=\"1\" /><path clip-path=\"url(#clip280)\" d=\"M2230.75 180.159 L2230.75 183.701 L2226.67 183.701 Q2224.38 183.701 2223.48 184.627 Q2222.6 185.553 2222.6 187.96 L2222.6 190.252 L2229.61 190.252 L2229.61 193.562 L2222.6 193.562 L2222.6 216.178 L2218.32 216.178 L2218.32 193.562 L2214.24 193.562 L2214.24 190.252 L2218.32 190.252 L2218.32 188.446 Q2218.32 184.118 2220.33 182.15 Q2222.34 180.159 2226.72 180.159 L2230.75 180.159 Z\" fill=\"#000000\" fill-rule=\"evenodd\" fill-opacity=\"1\" /><circle clip-path=\"url(#clip280)\" cx=\"1830.66\" cy=\"250.738\" r=\"23\" fill=\"#3da44d\" fill-rule=\"evenodd\" fill-opacity=\"1\" stroke=\"#000000\" stroke-opacity=\"1\" stroke-width=\"5.12\"/>\n",
       "<path clip-path=\"url(#clip280)\" d=\"M1948.62 247.069 Q1950.22 244.198 1952.44 242.833 Q1954.66 241.467 1957.67 241.467 Q1961.72 241.467 1963.92 244.314 Q1966.12 247.138 1966.12 252.369 L1966.12 268.018 L1961.84 268.018 L1961.84 252.508 Q1961.84 248.782 1960.52 246.976 Q1959.2 245.17 1956.49 245.17 Q1953.18 245.17 1951.26 247.37 Q1949.34 249.569 1949.34 253.365 L1949.34 268.018 L1945.05 268.018 L1945.05 252.508 Q1945.05 248.758 1943.73 246.976 Q1942.42 245.17 1939.66 245.17 Q1936.4 245.17 1934.48 247.393 Q1932.55 249.592 1932.55 253.365 L1932.55 268.018 L1928.27 268.018 L1928.27 242.092 L1932.55 242.092 L1932.55 246.12 Q1934.01 243.735 1936.05 242.601 Q1938.09 241.467 1940.89 241.467 Q1943.71 241.467 1945.68 242.902 Q1947.67 244.337 1948.62 247.069 Z\" fill=\"#000000\" fill-rule=\"evenodd\" fill-opacity=\"1\" /><path clip-path=\"url(#clip280)\" d=\"M1974.61 242.092 L1978.87 242.092 L1978.87 268.018 L1974.61 268.018 L1974.61 242.092 M1974.61 231.999 L1978.87 231.999 L1978.87 237.393 L1974.61 237.393 L1974.61 231.999 Z\" fill=\"#000000\" fill-rule=\"evenodd\" fill-opacity=\"1\" /><path clip-path=\"url(#clip280)\" d=\"M2004.85 246.027 L2004.85 231.999 L2009.1 231.999 L2009.1 268.018 L2004.85 268.018 L2004.85 264.129 Q2003.5 266.443 2001.44 267.578 Q1999.41 268.689 1996.54 268.689 Q1991.84 268.689 1988.87 264.939 Q1985.93 261.189 1985.93 255.078 Q1985.93 248.967 1988.87 245.217 Q1991.84 241.467 1996.54 241.467 Q1999.41 241.467 2001.44 242.601 Q2003.5 243.712 2004.85 246.027 M1990.33 255.078 Q1990.33 259.777 1992.25 262.462 Q1994.2 265.124 1997.58 265.124 Q2000.96 265.124 2002.9 262.462 Q2004.85 259.777 2004.85 255.078 Q2004.85 250.379 2002.9 247.717 Q2000.96 245.032 1997.58 245.032 Q1994.2 245.032 1992.25 247.717 Q1990.33 250.379 1990.33 255.078 Z\" fill=\"#000000\" fill-rule=\"evenodd\" fill-opacity=\"1\" /><path clip-path=\"url(#clip280)\" d=\"M2034.94 246.027 L2034.94 231.999 L2039.2 231.999 L2039.2 268.018 L2034.94 268.018 L2034.94 264.129 Q2033.6 266.443 2031.54 267.578 Q2029.5 268.689 2026.63 268.689 Q2021.93 268.689 2018.97 264.939 Q2016.03 261.189 2016.03 255.078 Q2016.03 248.967 2018.97 245.217 Q2021.93 241.467 2026.63 241.467 Q2029.5 241.467 2031.54 242.601 Q2033.6 243.712 2034.94 246.027 M2020.42 255.078 Q2020.42 259.777 2022.35 262.462 Q2024.29 265.124 2027.67 265.124 Q2031.05 265.124 2032.99 262.462 Q2034.94 259.777 2034.94 255.078 Q2034.94 250.379 2032.99 247.717 Q2031.05 245.032 2027.67 245.032 Q2024.29 245.032 2022.35 247.717 Q2020.42 250.379 2020.42 255.078 Z\" fill=\"#000000\" fill-rule=\"evenodd\" fill-opacity=\"1\" /><path clip-path=\"url(#clip280)\" d=\"M2047.97 242.092 L2052.23 242.092 L2052.23 268.018 L2047.97 268.018 L2047.97 242.092 M2047.97 231.999 L2052.23 231.999 L2052.23 237.393 L2047.97 237.393 L2047.97 231.999 Z\" fill=\"#000000\" fill-rule=\"evenodd\" fill-opacity=\"1\" /><path clip-path=\"url(#clip280)\" d=\"M2074.27 231.999 L2074.27 235.541 L2070.19 235.541 Q2067.9 235.541 2067 236.467 Q2066.12 237.393 2066.12 239.8 L2066.12 242.092 L2073.13 242.092 L2073.13 245.402 L2066.12 245.402 L2066.12 268.018 L2061.84 268.018 L2061.84 245.402 L2057.76 245.402 L2057.76 242.092 L2061.84 242.092 L2061.84 240.286 Q2061.84 235.958 2063.85 233.99 Q2065.86 231.999 2070.24 231.999 L2074.27 231.999 Z\" fill=\"#000000\" fill-rule=\"evenodd\" fill-opacity=\"1\" /><path clip-path=\"url(#clip280)\" d=\"M2090.96 231.999 L2090.96 235.541 L2086.88 235.541 Q2084.59 235.541 2083.69 236.467 Q2082.81 237.393 2082.81 239.8 L2082.81 242.092 L2089.82 242.092 L2089.82 245.402 L2082.81 245.402 L2082.81 268.018 L2078.53 268.018 L2078.53 245.402 L2074.45 245.402 L2074.45 242.092 L2078.53 242.092 L2078.53 240.286 Q2078.53 235.958 2080.54 233.99 Q2082.55 231.999 2086.93 231.999 L2090.96 231.999 Z\" fill=\"#000000\" fill-rule=\"evenodd\" fill-opacity=\"1\" /><circle clip-path=\"url(#clip280)\" cx=\"1830.66\" cy=\"302.578\" r=\"23\" fill=\"#c271d2\" fill-rule=\"evenodd\" fill-opacity=\"1\" stroke=\"#000000\" stroke-opacity=\"1\" stroke-width=\"5.12\"/>\n",
       "<path clip-path=\"url(#clip280)\" d=\"M1944.78 283.839 L1944.78 287.381 L1940.7 287.381 Q1938.41 287.381 1937.51 288.307 Q1936.63 289.233 1936.63 291.64 L1936.63 293.932 L1943.64 293.932 L1943.64 297.242 L1936.63 297.242 L1936.63 319.858 L1932.35 319.858 L1932.35 297.242 L1928.27 297.242 L1928.27 293.932 L1932.35 293.932 L1932.35 292.126 Q1932.35 287.798 1934.36 285.83 Q1936.37 283.839 1940.75 283.839 L1944.78 283.839 Z\" fill=\"#000000\" fill-rule=\"evenodd\" fill-opacity=\"1\" /><path clip-path=\"url(#clip280)\" d=\"M1958.39 296.918 Q1954.96 296.918 1952.97 299.603 Q1950.98 302.265 1950.98 306.918 Q1950.98 311.571 1952.95 314.256 Q1954.94 316.918 1958.39 316.918 Q1961.79 316.918 1963.78 314.233 Q1965.77 311.547 1965.77 306.918 Q1965.77 302.311 1963.78 299.626 Q1961.79 296.918 1958.39 296.918 M1958.39 293.307 Q1963.94 293.307 1967.11 296.918 Q1970.29 300.529 1970.29 306.918 Q1970.29 313.284 1967.11 316.918 Q1963.94 320.529 1958.39 320.529 Q1952.81 320.529 1949.64 316.918 Q1946.49 313.284 1946.49 306.918 Q1946.49 300.529 1949.64 296.918 Q1952.81 293.307 1958.39 293.307 Z\" fill=\"#000000\" fill-rule=\"evenodd\" fill-opacity=\"1\" /><path clip-path=\"url(#clip280)\" d=\"M1992.37 297.913 Q1991.65 297.497 1990.79 297.311 Q1989.96 297.103 1988.94 297.103 Q1985.33 297.103 1983.39 299.464 Q1981.47 301.802 1981.47 306.2 L1981.47 319.858 L1977.18 319.858 L1977.18 293.932 L1981.47 293.932 L1981.47 297.96 Q1982.81 295.598 1984.96 294.464 Q1987.11 293.307 1990.19 293.307 Q1990.63 293.307 1991.17 293.376 Q1991.7 293.423 1992.35 293.538 L1992.37 297.913 Z\" fill=\"#000000\" fill-rule=\"evenodd\" fill-opacity=\"1\" /><path clip-path=\"url(#clip280)\" d=\"M1994.36 293.932 L1998.62 293.932 L2003.94 314.163 L2009.24 293.932 L2014.27 293.932 L2019.59 314.163 L2024.89 293.932 L2029.15 293.932 L2022.37 319.858 L2017.35 319.858 L2011.77 298.608 L2006.17 319.858 L2001.14 319.858 L1994.36 293.932 Z\" fill=\"#000000\" fill-rule=\"evenodd\" fill-opacity=\"1\" /><path clip-path=\"url(#clip280)\" d=\"M2047.39 306.825 Q2042.23 306.825 2040.24 308.006 Q2038.25 309.186 2038.25 312.034 Q2038.25 314.302 2039.73 315.645 Q2041.23 316.964 2043.8 316.964 Q2047.35 316.964 2049.47 314.464 Q2051.63 311.941 2051.63 307.774 L2051.63 306.825 L2047.39 306.825 M2055.89 305.066 L2055.89 319.858 L2051.63 319.858 L2051.63 315.922 Q2050.17 318.283 2047.99 319.418 Q2045.82 320.529 2042.67 320.529 Q2038.69 320.529 2036.33 318.307 Q2033.99 316.061 2033.99 312.311 Q2033.99 307.936 2036.91 305.714 Q2039.85 303.492 2045.66 303.492 L2051.63 303.492 L2051.63 303.075 Q2051.63 300.135 2049.68 298.538 Q2047.76 296.918 2044.27 296.918 Q2042.04 296.918 2039.94 297.45 Q2037.83 297.983 2035.89 299.047 L2035.89 295.112 Q2038.23 294.21 2040.42 293.77 Q2042.62 293.307 2044.71 293.307 Q2050.33 293.307 2053.11 296.223 Q2055.89 299.14 2055.89 305.066 Z\" fill=\"#000000\" fill-rule=\"evenodd\" fill-opacity=\"1\" /><path clip-path=\"url(#clip280)\" d=\"M2079.68 297.913 Q2078.97 297.497 2078.11 297.311 Q2077.28 297.103 2076.26 297.103 Q2072.65 297.103 2070.7 299.464 Q2068.78 301.802 2068.78 306.2 L2068.78 319.858 L2064.5 319.858 L2064.5 293.932 L2068.78 293.932 L2068.78 297.96 Q2070.12 295.598 2072.28 294.464 Q2074.43 293.307 2077.51 293.307 Q2077.95 293.307 2078.48 293.376 Q2079.01 293.423 2079.66 293.538 L2079.68 297.913 Z\" fill=\"#000000\" fill-rule=\"evenodd\" fill-opacity=\"1\" /><path clip-path=\"url(#clip280)\" d=\"M2100.38 297.867 L2100.38 283.839 L2104.64 283.839 L2104.64 319.858 L2100.38 319.858 L2100.38 315.969 Q2099.03 318.283 2096.97 319.418 Q2094.94 320.529 2092.07 320.529 Q2087.37 320.529 2084.41 316.779 Q2081.47 313.029 2081.47 306.918 Q2081.47 300.807 2084.41 297.057 Q2087.37 293.307 2092.07 293.307 Q2094.94 293.307 2096.97 294.441 Q2099.03 295.552 2100.38 297.867 M2085.86 306.918 Q2085.86 311.617 2087.78 314.302 Q2089.73 316.964 2093.11 316.964 Q2096.49 316.964 2098.43 314.302 Q2100.38 311.617 2100.38 306.918 Q2100.38 302.219 2098.43 299.557 Q2096.49 296.872 2093.11 296.872 Q2089.73 296.872 2087.78 299.557 Q2085.86 302.219 2085.86 306.918 Z\" fill=\"#000000\" fill-rule=\"evenodd\" fill-opacity=\"1\" /><path clip-path=\"url(#clip280)\" d=\"M2130.47 297.867 L2130.47 283.839 L2134.73 283.839 L2134.73 319.858 L2130.47 319.858 L2130.47 315.969 Q2129.13 318.283 2127.07 319.418 Q2125.03 320.529 2122.16 320.529 Q2117.46 320.529 2114.5 316.779 Q2111.56 313.029 2111.56 306.918 Q2111.56 300.807 2114.5 297.057 Q2117.46 293.307 2122.16 293.307 Q2125.03 293.307 2127.07 294.441 Q2129.13 295.552 2130.47 297.867 M2115.96 306.918 Q2115.96 311.617 2117.88 314.302 Q2119.82 316.964 2123.2 316.964 Q2126.58 316.964 2128.53 314.302 Q2130.47 311.617 2130.47 306.918 Q2130.47 302.219 2128.53 299.557 Q2126.58 296.872 2123.2 296.872 Q2119.82 296.872 2117.88 299.557 Q2115.96 302.219 2115.96 306.918 Z\" fill=\"#000000\" fill-rule=\"evenodd\" fill-opacity=\"1\" /><path clip-path=\"url(#clip280)\" d=\"M2143.5 293.932 L2147.76 293.932 L2147.76 319.858 L2143.5 319.858 L2143.5 293.932 M2143.5 283.839 L2147.76 283.839 L2147.76 289.233 L2143.5 289.233 L2143.5 283.839 Z\" fill=\"#000000\" fill-rule=\"evenodd\" fill-opacity=\"1\" /><path clip-path=\"url(#clip280)\" d=\"M2169.8 283.839 L2169.8 287.381 L2165.72 287.381 Q2163.43 287.381 2162.53 288.307 Q2161.65 289.233 2161.65 291.64 L2161.65 293.932 L2168.66 293.932 L2168.66 297.242 L2161.65 297.242 L2161.65 319.858 L2157.37 319.858 L2157.37 297.242 L2153.29 297.242 L2153.29 293.932 L2157.37 293.932 L2157.37 292.126 Q2157.37 287.798 2159.38 285.83 Q2161.4 283.839 2165.77 283.839 L2169.8 283.839 Z\" fill=\"#000000\" fill-rule=\"evenodd\" fill-opacity=\"1\" /><path clip-path=\"url(#clip280)\" d=\"M2186.49 283.839 L2186.49 287.381 L2182.41 287.381 Q2180.12 287.381 2179.22 288.307 Q2178.34 289.233 2178.34 291.64 L2178.34 293.932 L2185.35 293.932 L2185.35 297.242 L2178.34 297.242 L2178.34 319.858 L2174.06 319.858 L2174.06 297.242 L2169.98 297.242 L2169.98 293.932 L2174.06 293.932 L2174.06 292.126 Q2174.06 287.798 2176.07 285.83 Q2178.09 283.839 2182.46 283.839 L2186.49 283.839 Z\" fill=\"#000000\" fill-rule=\"evenodd\" fill-opacity=\"1\" /></svg>\n"
      ]
     },
     "execution_count": 7,
     "metadata": {},
     "output_type": "execute_result"
    }
   ],
   "source": [
    "c = 0  # Initial condition\n",
    "f(x) = cos(x)\n",
    "n = 10\n",
    "\n",
    "x = range(0, 1; length=10)\n",
    "h = step(x)\n",
    "A = Bidiagonal([1; fill(1/h, n-1)], fill(-1/h, n-1), :L)\n",
    "ub = A \\ [c; f.(x[2:end])]  # Backward differences\n",
    "m = (x[1:end-1] + x[2:end]) / 2  # Midpoints\n",
    "um = A \\ [c; f.(m)]  # Midpoint differences\n",
    "uf = A \\ [c; f.(x[1:end-1])]  # Forward differences\n",
    "\n",
    "plot(x, sin.(x); label=\"sin(x)\")\n",
    "scatter!(x, ub; label=\"backwarddiff\")\n",
    "scatter!(x, um; label=\"middiff\")\n",
    "scatter!(x, uf; label=\"forwarddiff\")"
   ]
  },
  {
   "cell_type": "markdown",
   "metadata": {},
   "source": [
    "\n",
    "### Euler Methods\n",
    "Suppose we have a system of the form:\n",
    "$$\n",
    "u(0) = c \\\\\n",
    "u'(t) - a(t)u(t) = f(t)\n",
    "$$\n",
    "Then we can use the following function to approximate $u(t_k)  ~ ~ ~ \\forall k$ "
   ]
  },
  {
   "cell_type": "code",
   "execution_count": 10,
   "metadata": {},
   "outputs": [
    {
     "data": {
      "text/plain": [
       "forward_euler (generic function with 3 methods)"
      ]
     },
     "execution_count": 10,
     "metadata": {},
     "output_type": "execute_result"
    }
   ],
   "source": [
    "function forward_euler(a, f, c, n=1000)\n",
    "    t = range(0, 1; length=n)\n",
    "    h = step(t)\n",
    "    u = zeros(n)\n",
    "    u[1] = c  # Initial condition\n",
    "    for k = 1:n-1\n",
    "        u[k+1] = h*f(t[k]) + (1 + h*a(t[k]))*u[k]\n",
    "    end\n",
    "    return u\n",
    "end"
   ]
  },
  {
   "cell_type": "markdown",
   "metadata": {},
   "source": [
    "### Two Point Boundary Value Problems"
   ]
  }
 ],
 "metadata": {
  "kernelspec": {
   "display_name": "Julia Data Analysis Common 1.5.3",
   "language": "julia",
   "name": "julia-data-analysis-common-1.5"
  },
  "language_info": {
   "file_extension": ".jl",
   "mimetype": "application/julia",
   "name": "julia",
   "version": "1.5.3"
  },
  "orig_nbformat": 4
 },
 "nbformat": 4,
 "nbformat_minor": 2
}
