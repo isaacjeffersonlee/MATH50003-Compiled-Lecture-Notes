{
  "cells": [
    {
      "cell_type": "markdown",
      "metadata": {},
      "source": [
        "# MATH50003 Numerical Analysis (2021–2022) Practice Computer-based Exam\n",
        "\n",
        "\n",
        "For each problem, replace the `# TODO` to complete the question.\n",
        "The unit tests are provided to help you test your answers.\n",
        "You have 1 hour to complete the exam, as well as 1 hour for downloading/uploading.\n",
        "\n",
        "Problems are marked A/B/C to indicate difficulty (\"A\" being most difficult).\n",
        "Partial credit will be awarded for reasonable attempts even if the tests\n",
        "are not passed.\n",
        "\n",
        "You may use existing code from anywhere\n",
        "but you are **REQUIRED** to cite the source if it is not part of the module material,\n",
        "ideally by including a weblink in a comment. You **MUST NOT** ask for help online or\n",
        "communicate with others within or outside the module.\n",
        "Failure to follow these rules will be considered misconduct.\n",
        "\n",
        "\n",
        "\n",
        "You should use the following packages:"
      ]
    },
    {
      "cell_type": "code",
      "execution_count": 1,
      "metadata": {},
      "outputs": [],
      "source": [
        "using LinearAlgebra, SetRounding, Test"
      ]
    },
    {
      "cell_type": "markdown",
      "metadata": {},
      "source": [
        "**WARNING** It may be necessary to restart the kernel if issues arise. Remember to reload the packages\n",
        "when you do so.\n",
        "\n",
        "## 1. Numbers\n",
        "\n",
        "**Problem 1.1 (C)** Complete the following function `divideby3(x)` that\n",
        "returns a tuple `a,b` such that `a` is the largest `Float64` less \n",
        "than or equal to `x/3` and `b` is the smallest `Float64` greater than or equal to `x/3`."
      ]
    },
    {
      "cell_type": "markdown",
      "metadata": {},
      "source": [
        "### My Solution"
      ]
    },
    {
      "cell_type": "code",
      "execution_count": 2,
      "metadata": {},
      "outputs": [
        {
          "data": {
            "text/plain": [
              "divideby3 (generic function with 1 method)"
            ]
          },
          "execution_count": 2,
          "metadata": {},
          "output_type": "execute_result"
        }
      ],
      "source": [
        "function divideby3(x)\n",
        "    x = big(x)\n",
        "    # TODO: assign a,b so that a ≤ x ≤ b where b is either equal to a or the next float\n",
        "    a = Float64(x/3, RoundDown)\n",
        "    b = Float64(x/3, RoundUp)\n",
        "    return a, b\n",
        "end"
      ]
    },
    {
      "cell_type": "markdown",
      "metadata": {},
      "source": [
        "### Provided Solution"
      ]
    },
    {
      "cell_type": "code",
      "execution_count": 2,
      "metadata": {},
      "outputs": [
        {
          "data": {
            "text/plain": [
              "divideby3 (generic function with 1 method)"
            ]
          },
          "execution_count": 2,
          "metadata": {},
          "output_type": "execute_result"
        }
      ],
      "source": [
        "function divideby3(x)\n",
        "    a = setrounding(Float64, RoundDown) do\n",
        "        x / 3\n",
        "    end\n",
        "    b = setrounding(Float64, RoundUp) do\n",
        "        x / 3\n",
        "    end\n",
        "    return a, b\n",
        "end"
      ]
    },
    {
      "cell_type": "code",
      "execution_count": 3,
      "metadata": {},
      "outputs": [
        {
          "data": {
            "text/plain": [
              "\u001b[32m\u001b[1mTest Passed\u001b[22m\u001b[39m"
            ]
          },
          "execution_count": 3,
          "metadata": {},
          "output_type": "execute_result"
        }
      ],
      "source": [
        "x = 0.1 # arbitary x\n",
        "a,b = divideby3(x)\n",
        "@test a ≤ big(x)/3 ≤ b\n",
        "@test b == a || b == nextfloat(a)"
      ]
    },
    {
      "cell_type": "markdown",
      "metadata": {},
      "source": [
        "## 2. Differentiation\n",
        "\n",
        "**Problem 2.1 (C)** Use the following off-center finite-difference approximation\n",
        "$$\n",
        "f'(x) ≈ {f(x+2h) - f(x-h) \\over 3h}\n",
        "$$\n",
        "with an appropriately chosen $h$ to approximate\n",
        "$$\n",
        "f(x) = \\cos(x^2)\n",
        "$$\n",
        "at $x = 0.1$ to 5 digits accuracy."
      ]
    },
    {
      "cell_type": "code",
      "execution_count": 4,
      "metadata": {},
      "outputs": [
        {
          "data": {
            "text/plain": [
              "fd (generic function with 1 method)"
            ]
          },
          "execution_count": 4,
          "metadata": {},
          "output_type": "execute_result"
        }
      ],
      "source": [
        "function fd(x)\n",
        "    # TODO: implement a finite-difference rule \n",
        "    # to approximate f'(x)\n",
        "    # for f(x) = cos(x^2)\n",
        "    # with step-size h chosen to get sufficient accuracy\n",
        "    #---------------------------------------------------\n",
        "    f = y -> cos(y^2)\n",
        "    h = 0.0001\n",
        "    return (f(x + 2*h) - f(x - h)) / (3*h)\n",
        "end"
      ]
    },
    {
      "cell_type": "code",
      "execution_count": 14,
      "metadata": {},
      "outputs": [
        {
          "data": {
            "image/png": "[encoded data removed]",
            "image/svg+xml": "<?xml version=\"1.0\" encoding=\"utf-8\"?>\n<svg xmlns=\"http://www.w3.org/2000/svg\" xmlns:xlink=\"http://www.w3.org/1999/xlink\" width=\"600\" height=\"400\" viewBox=\"0 0 2400 1600\">\n<defs>\n  <clipPath id=\"clip610\">\n    <rect x=\"0\" y=\"0\" width=\"2400\" height=\"1600\"/>\n  </clipPath>\n</defs>\n<path clip-path=\"url(#clip610)\" d=\"\nM0 1600 L2400 1600 L2400 0 L0 0  Z\n  \" fill=\"#ffffff\" fill-rule=\"evenodd\" fill-opacity=\"1\"/>\n<defs>\n  <clipPath id=\"clip611\">\n    <rect x=\"480\" y=\"0\" width=\"1681\" height=\"1600\"/>\n  </clipPath>\n</defs>\n<path clip-path=\"url(#clip610)\" d=\"\nM426.073 1486.45 L2352.76 1486.45 L2352.76 47.2441 L426.073 47.2441  Z\n  \" fill=\"#ffffff\" fill-rule=\"evenodd\" fill-opacity=\"1\"/>\n<defs>\n  <clipPath id=\"clip612\">\n    <rect x=\"426\" y=\"47\" width=\"1928\" height=\"1440\"/>\n  </clipPath>\n</defs>\n<polyline clip-path=\"url(#clip612)\" style=\"stroke:#000000; stroke-linecap:butt; stroke-linejoin:round; stroke-width:2; stroke-opacity:0.1; fill:none\" points=\"\n  480.602,1486.45 480.602,47.2441 \n  \"/>\n<polyline clip-path=\"url(#clip612)\" style=\"stroke:#000000; stroke-linecap:butt; stroke-linejoin:round; stroke-width:2; stroke-opacity:0.1; fill:none\" points=\"\n  935.008,1486.45 935.008,47.2441 \n  \"/>\n<polyline clip-path=\"url(#clip612)\" style=\"stroke:#000000; stroke-linecap:butt; stroke-linejoin:round; stroke-width:2; stroke-opacity:0.1; fill:none\" points=\"\n  1389.41,1486.45 1389.41,47.2441 \n  \"/>\n<polyline clip-path=\"url(#clip612)\" style=\"stroke:#000000; stroke-linecap:butt; stroke-linejoin:round; stroke-width:2; stroke-opacity:0.1; fill:none\" points=\"\n  1843.82,1486.45 1843.82,47.2441 \n  \"/>\n<polyline clip-path=\"url(#clip612)\" style=\"stroke:#000000; stroke-linecap:butt; stroke-linejoin:round; stroke-width:2; stroke-opacity:0.1; fill:none\" points=\"\n  2298.23,1486.45 2298.23,47.2441 \n  \"/>\n<polyline clip-path=\"url(#clip610)\" style=\"stroke:#000000; stroke-linecap:butt; stroke-linejoin:round; stroke-width:4; stroke-opacity:1; fill:none\" points=\"\n  426.073,1486.45 2352.76,1486.45 \n  \"/>\n<polyline clip-path=\"url(#clip610)\" style=\"stroke:#000000; stroke-linecap:butt; stroke-linejoin:round; stroke-width:4; stroke-opacity:1; fill:none\" points=\"\n  480.602,1486.45 480.602,1467.55 \n  \"/>\n<polyline clip-path=\"url(#clip610)\" style=\"stroke:#000000; stroke-linecap:butt; stroke-linejoin:round; stroke-width:4; stroke-opacity:1; fill:none\" points=\"\n  935.008,1486.45 935.008,1467.55 \n  \"/>\n<polyline clip-path=\"url(#clip610)\" style=\"stroke:#000000; stroke-linecap:butt; stroke-linejoin:round; stroke-width:4; stroke-opacity:1; fill:none\" points=\"\n  1389.41,1486.45 1389.41,1467.55 \n  \"/>\n<polyline clip-path=\"url(#clip610)\" style=\"stroke:#000000; stroke-linecap:butt; stroke-linejoin:round; stroke-width:4; stroke-opacity:1; fill:none\" points=\"\n  1843.82,1486.45 1843.82,1467.55 \n  \"/>\n<polyline clip-path=\"url(#clip610)\" style=\"stroke:#000000; stroke-linecap:butt; stroke-linejoin:round; stroke-width:4; stroke-opacity:1; fill:none\" points=\"\n  2298.23,1486.45 2298.23,1467.55 \n  \"/>\n<path clip-path=\"url(#clip610)\" d=\"M412.743 1517.37 Q409.132 1517.37 407.304 1520.93 Q405.498 1524.47 405.498 1531.6 Q405.498 1538.71 407.304 1542.27 Q409.132 1545.82 412.743 1545.82 Q416.378 1545.82 418.183 1542.27 Q420.012 1538.71 420.012 1531.6 Q420.012 1524.47 418.183 1520.93 Q416.378 1517.37 412.743 1517.37 M412.743 1513.66 Q418.554 1513.66 421.609 1518.27 Q424.688 1522.85 424.688 1531.6 Q424.688 1540.33 421.609 1544.94 Q418.554 1549.52 412.743 1549.52 Q406.933 1549.52 403.855 1544.94 Q400.799 1540.33 400.799 1531.6 Q400.799 1522.85 403.855 1518.27 Q406.933 1513.66 412.743 1513.66 Z\" fill=\"#000000\" fill-rule=\"evenodd\" fill-opacity=\"1\" /><path clip-path=\"url(#clip610)\" d=\"M432.905 1542.97 L437.79 1542.97 L437.79 1548.85 L432.905 1548.85 L432.905 1542.97 Z\" fill=\"#000000\" fill-rule=\"evenodd\" fill-opacity=\"1\" /><path clip-path=\"url(#clip610)\" d=\"M457.975 1517.37 Q454.364 1517.37 452.535 1520.93 Q450.729 1524.47 450.729 1531.6 Q450.729 1538.71 452.535 1542.27 Q454.364 1545.82 457.975 1545.82 Q461.609 1545.82 463.414 1542.27 Q465.243 1538.71 465.243 1531.6 Q465.243 1524.47 463.414 1520.93 Q461.609 1517.37 457.975 1517.37 M457.975 1513.66 Q463.785 1513.66 466.84 1518.27 Q469.919 1522.85 469.919 1531.6 Q469.919 1540.33 466.84 1544.94 Q463.785 1549.52 457.975 1549.52 Q452.164 1549.52 449.086 1544.94 Q446.03 1540.33 446.03 1531.6 Q446.03 1522.85 449.086 1518.27 Q452.164 1513.66 457.975 1513.66 Z\" fill=\"#000000\" fill-rule=\"evenodd\" fill-opacity=\"1\" /><path clip-path=\"url(#clip610)\" d=\"M488.137 1517.37 Q484.525 1517.37 482.697 1520.93 Q480.891 1524.47 480.891 1531.6 Q480.891 1538.71 482.697 1542.27 Q484.525 1545.82 488.137 1545.82 Q491.771 1545.82 493.576 1542.27 Q495.405 1538.71 495.405 1531.6 Q495.405 1524.47 493.576 1520.93 Q491.771 1517.37 488.137 1517.37 M488.137 1513.66 Q493.947 1513.66 497.002 1518.27 Q500.081 1522.85 500.081 1531.6 Q500.081 1540.33 497.002 1544.94 Q493.947 1549.52 488.137 1549.52 Q482.326 1549.52 479.248 1544.94 Q476.192 1540.33 476.192 1531.6 Q476.192 1522.85 479.248 1518.27 Q482.326 1513.66 488.137 1513.66 Z\" fill=\"#000000\" fill-rule=\"evenodd\" fill-opacity=\"1\" /><path clip-path=\"url(#clip610)\" d=\"M518.298 1517.37 Q514.687 1517.37 512.859 1520.93 Q511.053 1524.47 511.053 1531.6 Q511.053 1538.71 512.859 1542.27 Q514.687 1545.82 518.298 1545.82 Q521.933 1545.82 523.738 1542.27 Q525.567 1538.71 525.567 1531.6 Q525.567 1524.47 523.738 1520.93 Q521.933 1517.37 518.298 1517.37 M518.298 1513.66 Q524.109 1513.66 527.164 1518.27 Q530.243 1522.85 530.243 1531.6 Q530.243 1540.33 527.164 1544.94 Q524.109 1549.52 518.298 1549.52 Q512.488 1549.52 509.41 1544.94 Q506.354 1540.33 506.354 1531.6 Q506.354 1522.85 509.41 1518.27 Q512.488 1513.66 518.298 1513.66 Z\" fill=\"#000000\" fill-rule=\"evenodd\" fill-opacity=\"1\" /><path clip-path=\"url(#clip610)\" d=\"M548.46 1517.37 Q544.849 1517.37 543.02 1520.93 Q541.215 1524.47 541.215 1531.6 Q541.215 1538.71 543.02 1542.27 Q544.849 1545.82 548.46 1545.82 Q552.094 1545.82 553.9 1542.27 Q555.729 1538.71 555.729 1531.6 Q555.729 1524.47 553.9 1520.93 Q552.094 1517.37 548.46 1517.37 M548.46 1513.66 Q554.27 1513.66 557.326 1518.27 Q560.405 1522.85 560.405 1531.6 Q560.405 1540.33 557.326 1544.94 Q554.27 1549.52 548.46 1549.52 Q542.65 1549.52 539.571 1544.94 Q536.516 1540.33 536.516 1531.6 Q536.516 1522.85 539.571 1518.27 Q542.65 1513.66 548.46 1513.66 Z\" fill=\"#000000\" fill-rule=\"evenodd\" fill-opacity=\"1\" /><path clip-path=\"url(#clip610)\" d=\"M867.647 1517.37 Q864.036 1517.37 862.208 1520.93 Q860.402 1524.47 860.402 1531.6 Q860.402 1538.71 862.208 1542.27 Q864.036 1545.82 867.647 1545.82 Q871.282 1545.82 873.087 1542.27 Q874.916 1538.71 874.916 1531.6 Q874.916 1524.47 873.087 1520.93 Q871.282 1517.37 867.647 1517.37 M867.647 1513.66 Q873.458 1513.66 876.513 1518.27 Q879.592 1522.85 879.592 1531.6 Q879.592 1540.33 876.513 1544.94 Q873.458 1549.52 867.647 1549.52 Q861.837 1549.52 858.759 1544.94 Q855.703 1540.33 855.703 1531.6 Q855.703 1522.85 858.759 1518.27 Q861.837 1513.66 867.647 1513.66 Z\" fill=\"#000000\" fill-rule=\"evenodd\" fill-opacity=\"1\" /><path clip-path=\"url(#clip610)\" d=\"M887.809 1542.97 L892.694 1542.97 L892.694 1548.85 L887.809 1548.85 L887.809 1542.97 Z\" fill=\"#000000\" fill-rule=\"evenodd\" fill-opacity=\"1\" /><path clip-path=\"url(#clip610)\" d=\"M912.879 1517.37 Q909.268 1517.37 907.439 1520.93 Q905.633 1524.47 905.633 1531.6 Q905.633 1538.71 907.439 1542.27 Q909.268 1545.82 912.879 1545.82 Q916.513 1545.82 918.318 1542.27 Q920.147 1538.71 920.147 1531.6 Q920.147 1524.47 918.318 1520.93 Q916.513 1517.37 912.879 1517.37 M912.879 1513.66 Q918.689 1513.66 921.744 1518.27 Q924.823 1522.85 924.823 1531.6 Q924.823 1540.33 921.744 1544.94 Q918.689 1549.52 912.879 1549.52 Q907.068 1549.52 903.99 1544.94 Q900.934 1540.33 900.934 1531.6 Q900.934 1522.85 903.99 1518.27 Q907.068 1513.66 912.879 1513.66 Z\" fill=\"#000000\" fill-rule=\"evenodd\" fill-opacity=\"1\" /><path clip-path=\"url(#clip610)\" d=\"M943.041 1517.37 Q939.429 1517.37 937.601 1520.93 Q935.795 1524.47 935.795 1531.6 Q935.795 1538.71 937.601 1542.27 Q939.429 1545.82 943.041 1545.82 Q946.675 1545.82 948.48 1542.27 Q950.309 1538.71 950.309 1531.6 Q950.309 1524.47 948.48 1520.93 Q946.675 1517.37 943.041 1517.37 M943.041 1513.66 Q948.851 1513.66 951.906 1518.27 Q954.985 1522.85 954.985 1531.6 Q954.985 1540.33 951.906 1544.94 Q948.851 1549.52 943.041 1549.52 Q937.23 1549.52 934.152 1544.94 Q931.096 1540.33 931.096 1531.6 Q931.096 1522.85 934.152 1518.27 Q937.23 1513.66 943.041 1513.66 Z\" fill=\"#000000\" fill-rule=\"evenodd\" fill-opacity=\"1\" /><path clip-path=\"url(#clip610)\" d=\"M967.23 1544.91 L983.55 1544.91 L983.55 1548.85 L961.605 1548.85 L961.605 1544.91 Q964.267 1542.16 968.851 1537.53 Q973.457 1532.88 974.638 1531.53 Q976.883 1529.01 977.763 1527.27 Q978.665 1525.51 978.665 1523.82 Q978.665 1521.07 976.721 1519.33 Q974.8 1517.6 971.698 1517.6 Q969.499 1517.6 967.045 1518.36 Q964.614 1519.13 961.837 1520.68 L961.837 1515.95 Q964.661 1514.82 967.114 1514.24 Q969.568 1513.66 971.605 1513.66 Q976.976 1513.66 980.17 1516.35 Q983.364 1519.03 983.364 1523.52 Q983.364 1525.65 982.554 1527.57 Q981.767 1529.47 979.661 1532.07 Q979.082 1532.74 975.98 1535.95 Q972.878 1539.15 967.23 1544.91 Z\" fill=\"#000000\" fill-rule=\"evenodd\" fill-opacity=\"1\" /><path clip-path=\"url(#clip610)\" d=\"M993.411 1514.29 L1011.77 1514.29 L1011.77 1518.22 L997.693 1518.22 L997.693 1526.7 Q998.712 1526.35 999.73 1526.19 Q1000.75 1526 1001.77 1526 Q1007.55 1526 1010.93 1529.17 Q1014.31 1532.34 1014.31 1537.76 Q1014.31 1543.34 1010.84 1546.44 Q1007.37 1549.52 1001.05 1549.52 Q998.874 1549.52 996.605 1549.15 Q994.36 1548.78 991.952 1548.04 L991.952 1543.34 Q994.036 1544.47 996.258 1545.03 Q998.48 1545.58 1000.96 1545.58 Q1004.96 1545.58 1007.3 1543.48 Q1009.64 1541.37 1009.64 1537.76 Q1009.64 1534.15 1007.3 1532.04 Q1004.96 1529.94 1000.96 1529.94 Q999.082 1529.94 997.207 1530.35 Q995.355 1530.77 993.411 1531.65 L993.411 1514.29 Z\" fill=\"#000000\" fill-rule=\"evenodd\" fill-opacity=\"1\" /><path clip-path=\"url(#clip610)\" d=\"M1321.56 1517.37 Q1317.94 1517.37 1316.12 1520.93 Q1314.31 1524.47 1314.31 1531.6 Q1314.31 1538.71 1316.12 1542.27 Q1317.94 1545.82 1321.56 1545.82 Q1325.19 1545.82 1327 1542.27 Q1328.82 1538.71 1328.82 1531.6 Q1328.82 1524.47 1327 1520.93 Q1325.19 1517.37 1321.56 1517.37 M1321.56 1513.66 Q1327.37 1513.66 1330.42 1518.27 Q1333.5 1522.85 1333.5 1531.6 Q1333.5 1540.33 1330.42 1544.94 Q1327.37 1549.52 1321.56 1549.52 Q1315.75 1549.52 1312.67 1544.94 Q1309.61 1540.33 1309.61 1531.6 Q1309.61 1522.85 1312.67 1518.27 Q1315.75 1513.66 1321.56 1513.66 Z\" fill=\"#000000\" fill-rule=\"evenodd\" fill-opacity=\"1\" /><path clip-path=\"url(#clip610)\" d=\"M1341.72 1542.97 L1346.6 1542.97 L1346.6 1548.85 L1341.72 1548.85 L1341.72 1542.97 Z\" fill=\"#000000\" fill-rule=\"evenodd\" fill-opacity=\"1\" /><path clip-path=\"url(#clip610)\" d=\"M1366.79 1517.37 Q1363.18 1517.37 1361.35 1520.93 Q1359.54 1524.47 1359.54 1531.6 Q1359.54 1538.71 1361.35 1542.27 Q1363.18 1545.82 1366.79 1545.82 Q1370.42 1545.82 1372.23 1542.27 Q1374.06 1538.71 1374.06 1531.6 Q1374.06 1524.47 1372.23 1520.93 Q1370.42 1517.37 1366.79 1517.37 M1366.79 1513.66 Q1372.6 1513.66 1375.65 1518.27 Q1378.73 1522.85 1378.73 1531.6 Q1378.73 1540.33 1375.65 1544.94 Q1372.6 1549.52 1366.79 1549.52 Q1360.98 1549.52 1357.9 1544.94 Q1354.84 1540.33 1354.84 1531.6 Q1354.84 1522.85 1357.9 1518.27 Q1360.98 1513.66 1366.79 1513.66 Z\" fill=\"#000000\" fill-rule=\"evenodd\" fill-opacity=\"1\" /><path clip-path=\"url(#clip610)\" d=\"M1396.95 1517.37 Q1393.34 1517.37 1391.51 1520.93 Q1389.7 1524.47 1389.7 1531.6 Q1389.7 1538.71 1391.51 1542.27 Q1393.34 1545.82 1396.95 1545.82 Q1400.58 1545.82 1402.39 1542.27 Q1404.22 1538.71 1404.22 1531.6 Q1404.22 1524.47 1402.39 1520.93 Q1400.58 1517.37 1396.95 1517.37 M1396.95 1513.66 Q1402.76 1513.66 1405.81 1518.27 Q1408.89 1522.85 1408.89 1531.6 Q1408.89 1540.33 1405.81 1544.94 Q1402.76 1549.52 1396.95 1549.52 Q1391.14 1549.52 1388.06 1544.94 Q1385 1540.33 1385 1531.6 Q1385 1522.85 1388.06 1518.27 Q1391.14 1513.66 1396.95 1513.66 Z\" fill=\"#000000\" fill-rule=\"evenodd\" fill-opacity=\"1\" /><path clip-path=\"url(#clip610)\" d=\"M1417.16 1514.29 L1435.51 1514.29 L1435.51 1518.22 L1421.44 1518.22 L1421.44 1526.7 Q1422.46 1526.35 1423.48 1526.19 Q1424.5 1526 1425.51 1526 Q1431.3 1526 1434.68 1529.17 Q1438.06 1532.34 1438.06 1537.76 Q1438.06 1543.34 1434.59 1546.44 Q1431.12 1549.52 1424.8 1549.52 Q1422.62 1549.52 1420.35 1549.15 Q1418.11 1548.78 1415.7 1548.04 L1415.7 1543.34 Q1417.78 1544.47 1420 1545.03 Q1422.23 1545.58 1424.7 1545.58 Q1428.71 1545.58 1431.05 1543.48 Q1433.38 1541.37 1433.38 1537.76 Q1433.38 1534.15 1431.05 1532.04 Q1428.71 1529.94 1424.7 1529.94 Q1422.83 1529.94 1420.95 1530.35 Q1419.1 1530.77 1417.16 1531.65 L1417.16 1514.29 Z\" fill=\"#000000\" fill-rule=\"evenodd\" fill-opacity=\"1\" /><path clip-path=\"url(#clip610)\" d=\"M1457.27 1517.37 Q1453.66 1517.37 1451.83 1520.93 Q1450.03 1524.47 1450.03 1531.6 Q1450.03 1538.71 1451.83 1542.27 Q1453.66 1545.82 1457.27 1545.82 Q1460.91 1545.82 1462.71 1542.27 Q1464.54 1538.71 1464.54 1531.6 Q1464.54 1524.47 1462.71 1520.93 Q1460.91 1517.37 1457.27 1517.37 M1457.27 1513.66 Q1463.08 1513.66 1466.14 1518.27 Q1469.22 1522.85 1469.22 1531.6 Q1469.22 1540.33 1466.14 1544.94 Q1463.08 1549.52 1457.27 1549.52 Q1451.46 1549.52 1448.38 1544.94 Q1445.33 1540.33 1445.33 1531.6 Q1445.33 1522.85 1448.38 1518.27 Q1451.46 1513.66 1457.27 1513.66 Z\" fill=\"#000000\" fill-rule=\"evenodd\" fill-opacity=\"1\" /><path clip-path=\"url(#clip610)\" d=\"M1776.46 1517.37 Q1772.85 1517.37 1771.02 1520.93 Q1769.21 1524.47 1769.21 1531.6 Q1769.21 1538.71 1771.02 1542.27 Q1772.85 1545.82 1776.46 1545.82 Q1780.09 1545.82 1781.9 1542.27 Q1783.73 1538.71 1783.73 1531.6 Q1783.73 1524.47 1781.9 1520.93 Q1780.09 1517.37 1776.46 1517.37 M1776.46 1513.66 Q1782.27 1513.66 1785.33 1518.27 Q1788.4 1522.85 1788.4 1531.6 Q1788.4 1540.33 1785.33 1544.94 Q1782.27 1549.52 1776.46 1549.52 Q1770.65 1549.52 1767.57 1544.94 Q1764.52 1540.33 1764.52 1531.6 Q1764.52 1522.85 1767.57 1518.27 Q1770.65 1513.66 1776.46 1513.66 Z\" fill=\"#000000\" fill-rule=\"evenodd\" fill-opacity=\"1\" /><path clip-path=\"url(#clip610)\" d=\"M1796.62 1542.97 L1801.51 1542.97 L1801.51 1548.85 L1796.62 1548.85 L1796.62 1542.97 Z\" fill=\"#000000\" fill-rule=\"evenodd\" fill-opacity=\"1\" /><path clip-path=\"url(#clip610)\" d=\"M1821.69 1517.37 Q1818.08 1517.37 1816.25 1520.93 Q1814.45 1524.47 1814.45 1531.6 Q1814.45 1538.71 1816.25 1542.27 Q1818.08 1545.82 1821.69 1545.82 Q1825.33 1545.82 1827.13 1542.27 Q1828.96 1538.71 1828.96 1531.6 Q1828.96 1524.47 1827.13 1520.93 Q1825.33 1517.37 1821.69 1517.37 M1821.69 1513.66 Q1827.5 1513.66 1830.56 1518.27 Q1833.64 1522.85 1833.64 1531.6 Q1833.64 1540.33 1830.56 1544.94 Q1827.5 1549.52 1821.69 1549.52 Q1815.88 1549.52 1812.8 1544.94 Q1809.75 1540.33 1809.75 1531.6 Q1809.75 1522.85 1812.8 1518.27 Q1815.88 1513.66 1821.69 1513.66 Z\" fill=\"#000000\" fill-rule=\"evenodd\" fill-opacity=\"1\" /><path clip-path=\"url(#clip610)\" d=\"M1851.85 1517.37 Q1848.24 1517.37 1846.41 1520.93 Q1844.61 1524.47 1844.61 1531.6 Q1844.61 1538.71 1846.41 1542.27 Q1848.24 1545.82 1851.85 1545.82 Q1855.49 1545.82 1857.29 1542.27 Q1859.12 1538.71 1859.12 1531.6 Q1859.12 1524.47 1857.29 1520.93 Q1855.49 1517.37 1851.85 1517.37 M1851.85 1513.66 Q1857.66 1513.66 1860.72 1518.27 Q1863.8 1522.85 1863.8 1531.6 Q1863.8 1540.33 1860.72 1544.94 Q1857.66 1549.52 1851.85 1549.52 Q1846.04 1549.52 1842.96 1544.94 Q1839.91 1540.33 1839.91 1531.6 Q1839.91 1522.85 1842.96 1518.27 Q1846.04 1513.66 1851.85 1513.66 Z\" fill=\"#000000\" fill-rule=\"evenodd\" fill-opacity=\"1\" /><path clip-path=\"url(#clip610)\" d=\"M1870.83 1514.29 L1893.06 1514.29 L1893.06 1516.28 L1880.51 1548.85 L1875.63 1548.85 L1887.43 1518.22 L1870.83 1518.22 L1870.83 1514.29 Z\" fill=\"#000000\" fill-rule=\"evenodd\" fill-opacity=\"1\" /><path clip-path=\"url(#clip610)\" d=\"M1902.22 1514.29 L1920.58 1514.29 L1920.58 1518.22 L1906.51 1518.22 L1906.51 1526.7 Q1907.52 1526.35 1908.54 1526.19 Q1909.56 1526 1910.58 1526 Q1916.37 1526 1919.75 1529.17 Q1923.13 1532.34 1923.13 1537.76 Q1923.13 1543.34 1919.65 1546.44 Q1916.18 1549.52 1909.86 1549.52 Q1907.69 1549.52 1905.42 1549.15 Q1903.17 1548.78 1900.76 1548.04 L1900.76 1543.34 Q1902.85 1544.47 1905.07 1545.03 Q1907.29 1545.58 1909.77 1545.58 Q1913.77 1545.58 1916.11 1543.48 Q1918.45 1541.37 1918.45 1537.76 Q1918.45 1534.15 1916.11 1532.04 Q1913.77 1529.94 1909.77 1529.94 Q1907.89 1529.94 1906.02 1530.35 Q1904.17 1530.77 1902.22 1531.65 L1902.22 1514.29 Z\" fill=\"#000000\" fill-rule=\"evenodd\" fill-opacity=\"1\" /><path clip-path=\"url(#clip610)\" d=\"M2230.37 1517.37 Q2226.76 1517.37 2224.93 1520.93 Q2223.12 1524.47 2223.12 1531.6 Q2223.12 1538.71 2224.93 1542.27 Q2226.76 1545.82 2230.37 1545.82 Q2234 1545.82 2235.81 1542.27 Q2237.64 1538.71 2237.64 1531.6 Q2237.64 1524.47 2235.81 1520.93 Q2234 1517.37 2230.37 1517.37 M2230.37 1513.66 Q2236.18 1513.66 2239.23 1518.27 Q2242.31 1522.85 2242.31 1531.6 Q2242.31 1540.33 2239.23 1544.94 Q2236.18 1549.52 2230.37 1549.52 Q2224.56 1549.52 2221.48 1544.94 Q2218.42 1540.33 2218.42 1531.6 Q2218.42 1522.85 2221.48 1518.27 Q2224.56 1513.66 2230.37 1513.66 Z\" fill=\"#000000\" fill-rule=\"evenodd\" fill-opacity=\"1\" /><path clip-path=\"url(#clip610)\" d=\"M2250.53 1542.97 L2255.41 1542.97 L2255.41 1548.85 L2250.53 1548.85 L2250.53 1542.97 Z\" fill=\"#000000\" fill-rule=\"evenodd\" fill-opacity=\"1\" /><path clip-path=\"url(#clip610)\" d=\"M2275.6 1517.37 Q2271.99 1517.37 2270.16 1520.93 Q2268.35 1524.47 2268.35 1531.6 Q2268.35 1538.71 2270.16 1542.27 Q2271.99 1545.82 2275.6 1545.82 Q2279.23 1545.82 2281.04 1542.27 Q2282.87 1538.71 2282.87 1531.6 Q2282.87 1524.47 2281.04 1520.93 Q2279.23 1517.37 2275.6 1517.37 M2275.6 1513.66 Q2281.41 1513.66 2284.47 1518.27 Q2287.54 1522.85 2287.54 1531.6 Q2287.54 1540.33 2284.47 1544.94 Q2281.41 1549.52 2275.6 1549.52 Q2269.79 1549.52 2266.71 1544.94 Q2263.66 1540.33 2263.66 1531.6 Q2263.66 1522.85 2266.71 1518.27 Q2269.79 1513.66 2275.6 1513.66 Z\" fill=\"#000000\" fill-rule=\"evenodd\" fill-opacity=\"1\" /><path clip-path=\"url(#clip610)\" d=\"M2296.57 1544.91 L2304.21 1544.91 L2304.21 1518.55 L2295.9 1520.21 L2295.9 1515.95 L2304.16 1514.29 L2308.84 1514.29 L2308.84 1544.91 L2316.48 1544.91 L2316.48 1548.85 L2296.57 1548.85 L2296.57 1544.91 Z\" fill=\"#000000\" fill-rule=\"evenodd\" fill-opacity=\"1\" /><path clip-path=\"url(#clip610)\" d=\"M2335.92 1517.37 Q2332.31 1517.37 2330.48 1520.93 Q2328.68 1524.47 2328.68 1531.6 Q2328.68 1538.71 2330.48 1542.27 Q2332.31 1545.82 2335.92 1545.82 Q2339.56 1545.82 2341.36 1542.27 Q2343.19 1538.71 2343.19 1531.6 Q2343.19 1524.47 2341.36 1520.93 Q2339.56 1517.37 2335.92 1517.37 M2335.92 1513.66 Q2341.73 1513.66 2344.79 1518.27 Q2347.87 1522.85 2347.87 1531.6 Q2347.87 1540.33 2344.79 1544.94 Q2341.73 1549.52 2335.92 1549.52 Q2330.11 1549.52 2327.03 1544.94 Q2323.98 1540.33 2323.98 1531.6 Q2323.98 1522.85 2327.03 1518.27 Q2330.11 1513.66 2335.92 1513.66 Z\" fill=\"#000000\" fill-rule=\"evenodd\" fill-opacity=\"1\" /><path clip-path=\"url(#clip610)\" d=\"M2366.09 1517.37 Q2362.47 1517.37 2360.65 1520.93 Q2358.84 1524.47 2358.84 1531.6 Q2358.84 1538.71 2360.65 1542.27 Q2362.47 1545.82 2366.09 1545.82 Q2369.72 1545.82 2371.53 1542.27 Q2373.35 1538.71 2373.35 1531.6 Q2373.35 1524.47 2371.53 1520.93 Q2369.72 1517.37 2366.09 1517.37 M2366.09 1513.66 Q2371.9 1513.66 2374.95 1518.27 Q2378.03 1522.85 2378.03 1531.6 Q2378.03 1540.33 2374.95 1544.94 Q2371.9 1549.52 2366.09 1549.52 Q2360.28 1549.52 2357.2 1544.94 Q2354.14 1540.33 2354.14 1531.6 Q2354.14 1522.85 2357.2 1518.27 Q2360.28 1513.66 2366.09 1513.66 Z\" fill=\"#000000\" fill-rule=\"evenodd\" fill-opacity=\"1\" /><polyline clip-path=\"url(#clip612)\" style=\"stroke:#000000; stroke-linecap:butt; stroke-linejoin:round; stroke-width:2; stroke-opacity:0.1; fill:none\" points=\"\n  426.073,1402.97 2352.76,1402.97 \n  \"/>\n<polyline clip-path=\"url(#clip612)\" style=\"stroke:#000000; stroke-linecap:butt; stroke-linejoin:round; stroke-width:2; stroke-opacity:0.1; fill:none\" points=\"\n  426.073,1068.65 2352.76,1068.65 \n  \"/>\n<polyline clip-path=\"url(#clip612)\" style=\"stroke:#000000; stroke-linecap:butt; stroke-linejoin:round; stroke-width:2; stroke-opacity:0.1; fill:none\" points=\"\n  426.073,734.326 2352.76,734.326 \n  \"/>\n<polyline clip-path=\"url(#clip612)\" style=\"stroke:#000000; stroke-linecap:butt; stroke-linejoin:round; stroke-width:2; stroke-opacity:0.1; fill:none\" points=\"\n  426.073,400.006 2352.76,400.006 \n  \"/>\n<polyline clip-path=\"url(#clip612)\" style=\"stroke:#000000; stroke-linecap:butt; stroke-linejoin:round; stroke-width:2; stroke-opacity:0.1; fill:none\" points=\"\n  426.073,65.6867 2352.76,65.6867 \n  \"/>\n<polyline clip-path=\"url(#clip610)\" style=\"stroke:#000000; stroke-linecap:butt; stroke-linejoin:round; stroke-width:4; stroke-opacity:1; fill:none\" points=\"\n  426.073,1486.45 426.073,47.2441 \n  \"/>\n<polyline clip-path=\"url(#clip610)\" style=\"stroke:#000000; stroke-linecap:butt; stroke-linejoin:round; stroke-width:4; stroke-opacity:1; fill:none\" points=\"\n  426.073,1402.97 444.971,1402.97 \n  \"/>\n<polyline clip-path=\"url(#clip610)\" style=\"stroke:#000000; stroke-linecap:butt; stroke-linejoin:round; stroke-width:4; stroke-opacity:1; fill:none\" points=\"\n  426.073,1068.65 444.971,1068.65 \n  \"/>\n<polyline clip-path=\"url(#clip610)\" style=\"stroke:#000000; stroke-linecap:butt; stroke-linejoin:round; stroke-width:4; stroke-opacity:1; fill:none\" points=\"\n  426.073,734.326 444.971,734.326 \n  \"/>\n<polyline clip-path=\"url(#clip610)\" style=\"stroke:#000000; stroke-linecap:butt; stroke-linejoin:round; stroke-width:4; stroke-opacity:1; fill:none\" points=\"\n  426.073,400.006 444.971,400.006 \n  \"/>\n<polyline clip-path=\"url(#clip610)\" style=\"stroke:#000000; stroke-linecap:butt; stroke-linejoin:round; stroke-width:4; stroke-opacity:1; fill:none\" points=\"\n  426.073,65.6867 444.971,65.6867 \n  \"/>\n<path clip-path=\"url(#clip610)\" d=\"M53.3995 1422.76 L61.0384 1422.76 L61.0384 1396.39 L52.7282 1398.06 L52.7282 1393.8 L60.9921 1392.13 L65.668 1392.13 L65.668 1422.76 L73.3068 1422.76 L73.3068 1426.69 L53.3995 1426.69 L53.3995 1422.76 Z\" fill=\"#000000\" fill-rule=\"evenodd\" fill-opacity=\"1\" /><path clip-path=\"url(#clip610)\" d=\"M82.7512 1420.81 L87.6354 1420.81 L87.6354 1426.69 L82.7512 1426.69 L82.7512 1420.81 Z\" fill=\"#000000\" fill-rule=\"evenodd\" fill-opacity=\"1\" /><path clip-path=\"url(#clip610)\" d=\"M97.9595 1425.98 L97.9595 1421.72 Q99.7187 1422.55 101.524 1422.99 Q103.33 1423.43 105.066 1423.43 Q109.696 1423.43 112.126 1420.33 Q114.58 1417.2 114.927 1410.86 Q113.584 1412.85 111.524 1413.92 Q109.464 1414.98 106.964 1414.98 Q101.779 1414.98 98.7465 1411.86 Q95.7373 1408.71 95.7373 1403.27 Q95.7373 1397.94 98.8854 1394.73 Q102.034 1391.51 107.265 1391.51 Q113.26 1391.51 116.408 1396.11 Q119.58 1400.7 119.58 1409.45 Q119.58 1417.62 115.691 1422.5 Q111.825 1427.36 105.274 1427.36 Q103.515 1427.36 101.709 1427.02 Q99.9039 1426.67 97.9595 1425.98 M107.265 1411.32 Q110.413 1411.32 112.242 1409.17 Q114.094 1407.02 114.094 1403.27 Q114.094 1399.54 112.242 1397.39 Q110.413 1395.21 107.265 1395.21 Q104.117 1395.21 102.265 1397.39 Q100.436 1399.54 100.436 1403.27 Q100.436 1407.02 102.265 1409.17 Q104.117 1411.32 107.265 1411.32 Z\" fill=\"#000000\" fill-rule=\"evenodd\" fill-opacity=\"1\" /><path clip-path=\"url(#clip610)\" d=\"M128.121 1425.98 L128.121 1421.72 Q129.881 1422.55 131.686 1422.99 Q133.492 1423.43 135.228 1423.43 Q139.857 1423.43 142.288 1420.33 Q144.742 1417.2 145.089 1410.86 Q143.746 1412.85 141.686 1413.92 Q139.626 1414.98 137.126 1414.98 Q131.941 1414.98 128.908 1411.86 Q125.899 1408.71 125.899 1403.27 Q125.899 1397.94 129.047 1394.73 Q132.195 1391.51 137.427 1391.51 Q143.422 1391.51 146.57 1396.11 Q149.742 1400.7 149.742 1409.45 Q149.742 1417.62 145.853 1422.5 Q141.987 1427.36 135.436 1427.36 Q133.677 1427.36 131.871 1427.02 Q130.066 1426.67 128.121 1425.98 M137.427 1411.32 Q140.575 1411.32 142.404 1409.17 Q144.256 1407.02 144.256 1403.27 Q144.256 1399.54 142.404 1397.39 Q140.575 1395.21 137.427 1395.21 Q134.279 1395.21 132.427 1397.39 Q130.598 1399.54 130.598 1403.27 Q130.598 1407.02 132.427 1409.17 Q134.279 1411.32 137.427 1411.32 Z\" fill=\"#000000\" fill-rule=\"evenodd\" fill-opacity=\"1\" /><path clip-path=\"url(#clip610)\" d=\"M168.144 1410.28 Q164.811 1410.28 162.89 1412.06 Q160.992 1413.85 160.992 1416.97 Q160.992 1420.1 162.89 1421.88 Q164.811 1423.66 168.144 1423.66 Q171.478 1423.66 173.399 1421.88 Q175.32 1420.07 175.32 1416.97 Q175.32 1413.85 173.399 1412.06 Q171.501 1410.28 168.144 1410.28 M163.468 1408.29 Q160.459 1407.55 158.769 1405.49 Q157.103 1403.43 157.103 1400.47 Q157.103 1396.32 160.042 1393.92 Q163.005 1391.51 168.144 1391.51 Q173.306 1391.51 176.246 1393.92 Q179.186 1396.32 179.186 1400.47 Q179.186 1403.43 177.496 1405.49 Q175.829 1407.55 172.843 1408.29 Q176.223 1409.08 178.098 1411.37 Q179.996 1413.66 179.996 1416.97 Q179.996 1421.99 176.917 1424.68 Q173.862 1427.36 168.144 1427.36 Q162.427 1427.36 159.348 1424.68 Q156.292 1421.99 156.292 1416.97 Q156.292 1413.66 158.191 1411.37 Q160.089 1409.08 163.468 1408.29 M161.755 1400.91 Q161.755 1403.59 163.422 1405.1 Q165.112 1406.6 168.144 1406.6 Q171.154 1406.6 172.843 1405.1 Q174.556 1403.59 174.556 1400.91 Q174.556 1398.22 172.843 1396.72 Q171.154 1395.21 168.144 1395.21 Q165.112 1395.21 163.422 1396.72 Q161.755 1398.22 161.755 1400.91 Z\" fill=\"#000000\" fill-rule=\"evenodd\" fill-opacity=\"1\" /><path clip-path=\"url(#clip610)\" d=\"M198.306 1395.21 Q194.695 1395.21 192.866 1398.78 Q191.061 1402.32 191.061 1409.45 Q191.061 1416.55 192.866 1420.12 Q194.695 1423.66 198.306 1423.66 Q201.94 1423.66 203.746 1420.12 Q205.575 1416.55 205.575 1409.45 Q205.575 1402.32 203.746 1398.78 Q201.94 1395.21 198.306 1395.21 M198.306 1391.51 Q204.116 1391.51 207.172 1396.11 Q210.251 1400.7 210.251 1409.45 Q210.251 1418.17 207.172 1422.78 Q204.116 1427.36 198.306 1427.36 Q192.496 1427.36 189.417 1422.78 Q186.362 1418.17 186.362 1409.45 Q186.362 1400.7 189.417 1396.11 Q192.496 1391.51 198.306 1391.51 Z\" fill=\"#000000\" fill-rule=\"evenodd\" fill-opacity=\"1\" /><path clip-path=\"url(#clip610)\" d=\"M228.468 1395.21 Q224.857 1395.21 223.028 1398.78 Q221.223 1402.32 221.223 1409.45 Q221.223 1416.55 223.028 1420.12 Q224.857 1423.66 228.468 1423.66 Q232.102 1423.66 233.908 1420.12 Q235.737 1416.55 235.737 1409.45 Q235.737 1402.32 233.908 1398.78 Q232.102 1395.21 228.468 1395.21 M228.468 1391.51 Q234.278 1391.51 237.334 1396.11 Q240.412 1400.7 240.412 1409.45 Q240.412 1418.17 237.334 1422.78 Q234.278 1427.36 228.468 1427.36 Q222.658 1427.36 219.579 1422.78 Q216.524 1418.17 216.524 1409.45 Q216.524 1400.7 219.579 1396.11 Q222.658 1391.51 228.468 1391.51 Z\" fill=\"#000000\" fill-rule=\"evenodd\" fill-opacity=\"1\" /><path clip-path=\"url(#clip610)\" d=\"M276.801 1401.23 L266.222 1411.86 L276.801 1422.43 L274.046 1425.23 L263.422 1414.61 L252.797 1425.23 L250.065 1422.43 L260.621 1411.86 L250.065 1401.23 L252.797 1398.43 L263.422 1409.05 L274.046 1398.43 L276.801 1401.23 Z\" fill=\"#000000\" fill-rule=\"evenodd\" fill-opacity=\"1\" /><path clip-path=\"url(#clip610)\" d=\"M289.162 1422.76 L296.801 1422.76 L296.801 1396.39 L288.491 1398.06 L288.491 1393.8 L296.755 1392.13 L301.431 1392.13 L301.431 1422.76 L309.069 1422.76 L309.069 1426.69 L289.162 1426.69 L289.162 1422.76 Z\" fill=\"#000000\" fill-rule=\"evenodd\" fill-opacity=\"1\" /><path clip-path=\"url(#clip610)\" d=\"M328.514 1395.21 Q324.903 1395.21 323.074 1398.78 Q321.268 1402.32 321.268 1409.45 Q321.268 1416.55 323.074 1420.12 Q324.903 1423.66 328.514 1423.66 Q332.148 1423.66 333.954 1420.12 Q335.782 1416.55 335.782 1409.45 Q335.782 1402.32 333.954 1398.78 Q332.148 1395.21 328.514 1395.21 M328.514 1391.51 Q334.324 1391.51 337.379 1396.11 Q340.458 1400.7 340.458 1409.45 Q340.458 1418.17 337.379 1422.78 Q334.324 1427.36 328.514 1427.36 Q322.704 1427.36 319.625 1422.78 Q316.569 1418.17 316.569 1409.45 Q316.569 1400.7 319.625 1396.11 Q322.704 1391.51 328.514 1391.51 Z\" fill=\"#000000\" fill-rule=\"evenodd\" fill-opacity=\"1\" /><path clip-path=\"url(#clip610)\" d=\"M340.458 1385.61 L364.57 1385.61 L364.57 1388.81 L340.458 1388.81 L340.458 1385.61 Z\" fill=\"#000000\" fill-rule=\"evenodd\" fill-opacity=\"1\" /><path clip-path=\"url(#clip610)\" d=\"M384.28 1384.14 Q387.007 1384.73 388.531 1386.57 Q390.073 1388.41 390.073 1391.12 Q390.073 1395.28 387.214 1397.55 Q384.356 1399.83 379.089 1399.83 Q377.321 1399.83 375.441 1399.47 Q373.579 1399.13 371.585 1398.44 L371.585 1394.77 Q373.165 1395.69 375.046 1396.16 Q376.926 1396.63 378.976 1396.63 Q382.55 1396.63 384.412 1395.22 Q386.293 1393.81 386.293 1391.12 Q386.293 1388.64 384.544 1387.25 Q382.813 1385.84 379.71 1385.84 L376.437 1385.84 L376.437 1382.71 L379.86 1382.71 Q382.663 1382.71 384.149 1381.6 Q385.634 1380.48 385.634 1378.37 Q385.634 1376.21 384.092 1375.06 Q382.569 1373.89 379.71 1373.89 Q378.149 1373.89 376.362 1374.23 Q374.575 1374.57 372.431 1375.28 L372.431 1371.9 Q374.594 1371.3 376.475 1371 Q378.375 1370.7 380.049 1370.7 Q384.374 1370.7 386.895 1372.67 Q389.415 1374.63 389.415 1377.97 Q389.415 1380.31 388.079 1381.92 Q386.744 1383.52 384.28 1384.14 Z\" fill=\"#000000\" fill-rule=\"evenodd\" fill-opacity=\"1\" /><path clip-path=\"url(#clip610)\" d=\"M53.3995 1088.44 L61.0384 1088.44 L61.0384 1062.07 L52.7282 1063.74 L52.7282 1059.48 L60.9921 1057.81 L65.668 1057.81 L65.668 1088.44 L73.3068 1088.44 L73.3068 1092.37 L53.3995 1092.37 L53.3995 1088.44 Z\" fill=\"#000000\" fill-rule=\"evenodd\" fill-opacity=\"1\" /><path clip-path=\"url(#clip610)\" d=\"M82.7512 1086.49 L87.6354 1086.49 L87.6354 1092.37 L82.7512 1092.37 L82.7512 1086.49 Z\" fill=\"#000000\" fill-rule=\"evenodd\" fill-opacity=\"1\" /><path clip-path=\"url(#clip610)\" d=\"M97.9595 1091.66 L97.9595 1087.4 Q99.7187 1088.23 101.524 1088.67 Q103.33 1089.11 105.066 1089.11 Q109.696 1089.11 112.126 1086.01 Q114.58 1082.88 114.927 1076.54 Q113.584 1078.53 111.524 1079.6 Q109.464 1080.66 106.964 1080.66 Q101.779 1080.66 98.7465 1077.54 Q95.7373 1074.39 95.7373 1068.95 Q95.7373 1063.62 98.8854 1060.41 Q102.034 1057.19 107.265 1057.19 Q113.26 1057.19 116.408 1061.79 Q119.58 1066.38 119.58 1075.13 Q119.58 1083.3 115.691 1088.18 Q111.825 1093.04 105.274 1093.04 Q103.515 1093.04 101.709 1092.7 Q99.9039 1092.35 97.9595 1091.66 M107.265 1077 Q110.413 1077 112.242 1074.85 Q114.094 1072.7 114.094 1068.95 Q114.094 1065.22 112.242 1063.07 Q110.413 1060.89 107.265 1060.89 Q104.117 1060.89 102.265 1063.07 Q100.436 1065.22 100.436 1068.95 Q100.436 1072.7 102.265 1074.85 Q104.117 1077 107.265 1077 Z\" fill=\"#000000\" fill-rule=\"evenodd\" fill-opacity=\"1\" /><path clip-path=\"url(#clip610)\" d=\"M128.121 1091.66 L128.121 1087.4 Q129.881 1088.23 131.686 1088.67 Q133.492 1089.11 135.228 1089.11 Q139.857 1089.11 142.288 1086.01 Q144.742 1082.88 145.089 1076.54 Q143.746 1078.53 141.686 1079.6 Q139.626 1080.66 137.126 1080.66 Q131.941 1080.66 128.908 1077.54 Q125.899 1074.39 125.899 1068.95 Q125.899 1063.62 129.047 1060.41 Q132.195 1057.19 137.427 1057.19 Q143.422 1057.19 146.57 1061.79 Q149.742 1066.38 149.742 1075.13 Q149.742 1083.3 145.853 1088.18 Q141.987 1093.04 135.436 1093.04 Q133.677 1093.04 131.871 1092.7 Q130.066 1092.35 128.121 1091.66 M137.427 1077 Q140.575 1077 142.404 1074.85 Q144.256 1072.7 144.256 1068.95 Q144.256 1065.22 142.404 1063.07 Q140.575 1060.89 137.427 1060.89 Q134.279 1060.89 132.427 1063.07 Q130.598 1065.22 130.598 1068.95 Q130.598 1072.7 132.427 1074.85 Q134.279 1077 137.427 1077 Z\" fill=\"#000000\" fill-rule=\"evenodd\" fill-opacity=\"1\" /><path clip-path=\"url(#clip610)\" d=\"M168.144 1075.96 Q164.811 1075.96 162.89 1077.74 Q160.992 1079.53 160.992 1082.65 Q160.992 1085.78 162.89 1087.56 Q164.811 1089.34 168.144 1089.34 Q171.478 1089.34 173.399 1087.56 Q175.32 1085.75 175.32 1082.65 Q175.32 1079.53 173.399 1077.74 Q171.501 1075.96 168.144 1075.96 M163.468 1073.97 Q160.459 1073.23 158.769 1071.17 Q157.103 1069.11 157.103 1066.15 Q157.103 1062 160.042 1059.6 Q163.005 1057.19 168.144 1057.19 Q173.306 1057.19 176.246 1059.6 Q179.186 1062 179.186 1066.15 Q179.186 1069.11 177.496 1071.17 Q175.829 1073.23 172.843 1073.97 Q176.223 1074.76 178.098 1077.05 Q179.996 1079.34 179.996 1082.65 Q179.996 1087.67 176.917 1090.36 Q173.862 1093.04 168.144 1093.04 Q162.427 1093.04 159.348 1090.36 Q156.292 1087.67 156.292 1082.65 Q156.292 1079.34 158.191 1077.05 Q160.089 1074.76 163.468 1073.97 M161.755 1066.59 Q161.755 1069.27 163.422 1070.78 Q165.112 1072.28 168.144 1072.28 Q171.154 1072.28 172.843 1070.78 Q174.556 1069.27 174.556 1066.59 Q174.556 1063.9 172.843 1062.4 Q171.154 1060.89 168.144 1060.89 Q165.112 1060.89 163.422 1062.4 Q161.755 1063.9 161.755 1066.59 Z\" fill=\"#000000\" fill-rule=\"evenodd\" fill-opacity=\"1\" /><path clip-path=\"url(#clip610)\" d=\"M188.353 1057.81 L206.709 1057.81 L206.709 1061.75 L192.635 1061.75 L192.635 1070.22 Q193.653 1069.87 194.672 1069.71 Q195.69 1069.53 196.709 1069.53 Q202.496 1069.53 205.876 1072.7 Q209.255 1075.87 209.255 1081.29 Q209.255 1086.86 205.783 1089.97 Q202.311 1093.04 195.991 1093.04 Q193.815 1093.04 191.547 1092.67 Q189.302 1092.3 186.894 1091.56 L186.894 1086.86 Q188.977 1088 191.2 1088.55 Q193.422 1089.11 195.899 1089.11 Q199.903 1089.11 202.241 1087 Q204.579 1084.9 204.579 1081.29 Q204.579 1077.67 202.241 1075.57 Q199.903 1073.46 195.899 1073.46 Q194.024 1073.46 192.149 1073.88 Q190.297 1074.29 188.353 1075.17 L188.353 1057.81 Z\" fill=\"#000000\" fill-rule=\"evenodd\" fill-opacity=\"1\" /><path clip-path=\"url(#clip610)\" d=\"M228.468 1060.89 Q224.857 1060.89 223.028 1064.46 Q221.223 1068 221.223 1075.13 Q221.223 1082.23 223.028 1085.8 Q224.857 1089.34 228.468 1089.34 Q232.102 1089.34 233.908 1085.8 Q235.737 1082.23 235.737 1075.13 Q235.737 1068 233.908 1064.46 Q232.102 1060.89 228.468 1060.89 M228.468 1057.19 Q234.278 1057.19 237.334 1061.79 Q240.412 1066.38 240.412 1075.13 Q240.412 1083.86 237.334 1088.46 Q234.278 1093.04 228.468 1093.04 Q222.658 1093.04 219.579 1088.46 Q216.524 1083.86 216.524 1075.13 Q216.524 1066.38 219.579 1061.79 Q222.658 1057.19 228.468 1057.19 Z\" fill=\"#000000\" fill-rule=\"evenodd\" fill-opacity=\"1\" /><path clip-path=\"url(#clip610)\" d=\"M276.801 1066.91 L266.222 1077.54 L276.801 1088.11 L274.046 1090.92 L263.422 1080.29 L252.797 1090.92 L250.065 1088.11 L260.621 1077.54 L250.065 1066.91 L252.797 1064.11 L263.422 1074.73 L274.046 1064.11 L276.801 1066.91 Z\" fill=\"#000000\" fill-rule=\"evenodd\" fill-opacity=\"1\" /><path clip-path=\"url(#clip610)\" d=\"M289.162 1088.44 L296.801 1088.44 L296.801 1062.07 L288.491 1063.74 L288.491 1059.48 L296.755 1057.81 L301.431 1057.81 L301.431 1088.44 L309.069 1088.44 L309.069 1092.37 L289.162 1092.37 L289.162 1088.44 Z\" fill=\"#000000\" fill-rule=\"evenodd\" fill-opacity=\"1\" /><path clip-path=\"url(#clip610)\" d=\"M328.514 1060.89 Q324.903 1060.89 323.074 1064.46 Q321.268 1068 321.268 1075.13 Q321.268 1082.23 323.074 1085.8 Q324.903 1089.34 328.514 1089.34 Q332.148 1089.34 333.954 1085.8 Q335.782 1082.23 335.782 1075.13 Q335.782 1068 333.954 1064.46 Q332.148 1060.89 328.514 1060.89 M328.514 1057.19 Q334.324 1057.19 337.379 1061.79 Q340.458 1066.38 340.458 1075.13 Q340.458 1083.86 337.379 1088.46 Q334.324 1093.04 328.514 1093.04 Q322.704 1093.04 319.625 1088.46 Q316.569 1083.86 316.569 1075.13 Q316.569 1066.38 319.625 1061.79 Q322.704 1057.19 328.514 1057.19 Z\" fill=\"#000000\" fill-rule=\"evenodd\" fill-opacity=\"1\" /><path clip-path=\"url(#clip610)\" d=\"M340.458 1051.29 L364.57 1051.29 L364.57 1054.49 L340.458 1054.49 L340.458 1051.29 Z\" fill=\"#000000\" fill-rule=\"evenodd\" fill-opacity=\"1\" /><path clip-path=\"url(#clip610)\" d=\"M384.28 1049.82 Q387.007 1050.41 388.531 1052.25 Q390.073 1054.09 390.073 1056.8 Q390.073 1060.96 387.214 1063.23 Q384.356 1065.51 379.089 1065.51 Q377.321 1065.51 375.441 1065.15 Q373.579 1064.81 371.585 1064.12 L371.585 1060.45 Q373.165 1061.37 375.046 1061.84 Q376.926 1062.31 378.976 1062.31 Q382.55 1062.31 384.412 1060.9 Q386.293 1059.49 386.293 1056.8 Q386.293 1054.32 384.544 1052.93 Q382.813 1051.52 379.71 1051.52 L376.437 1051.52 L376.437 1048.39 L379.86 1048.39 Q382.663 1048.39 384.149 1047.28 Q385.634 1046.16 385.634 1044.05 Q385.634 1041.89 384.092 1040.74 Q382.569 1039.57 379.71 1039.57 Q378.149 1039.57 376.362 1039.91 Q374.575 1040.25 372.431 1040.96 L372.431 1037.58 Q374.594 1036.98 376.475 1036.68 Q378.375 1036.38 380.049 1036.38 Q384.374 1036.38 386.895 1038.35 Q389.415 1040.31 389.415 1043.65 Q389.415 1045.99 388.079 1047.6 Q386.744 1049.2 384.28 1049.82 Z\" fill=\"#000000\" fill-rule=\"evenodd\" fill-opacity=\"1\" /><path clip-path=\"url(#clip610)\" d=\"M53.3995 754.119 L61.0384 754.119 L61.0384 727.753 L52.7282 729.42 L52.7282 725.16 L60.9921 723.494 L65.668 723.494 L65.668 754.119 L73.3068 754.119 L73.3068 758.054 L53.3995 758.054 L53.3995 754.119 Z\" fill=\"#000000\" fill-rule=\"evenodd\" fill-opacity=\"1\" /><path clip-path=\"url(#clip610)\" d=\"M82.7512 752.174 L87.6354 752.174 L87.6354 758.054 L82.7512 758.054 L82.7512 752.174 Z\" fill=\"#000000\" fill-rule=\"evenodd\" fill-opacity=\"1\" /><path clip-path=\"url(#clip610)\" d=\"M97.9595 757.336 L97.9595 753.077 Q99.7187 753.91 101.524 754.35 Q103.33 754.79 105.066 754.79 Q109.696 754.79 112.126 751.688 Q114.58 748.563 114.927 742.221 Q113.584 744.211 111.524 745.276 Q109.464 746.341 106.964 746.341 Q101.779 746.341 98.7465 743.216 Q95.7373 740.068 95.7373 734.628 Q95.7373 729.304 98.8854 726.086 Q102.034 722.869 107.265 722.869 Q113.26 722.869 116.408 727.475 Q119.58 732.059 119.58 740.808 Q119.58 748.98 115.691 753.864 Q111.825 758.725 105.274 758.725 Q103.515 758.725 101.709 758.378 Q99.9039 758.031 97.9595 757.336 M107.265 742.683 Q110.413 742.683 112.242 740.531 Q114.094 738.378 114.094 734.628 Q114.094 730.901 112.242 728.748 Q110.413 726.572 107.265 726.572 Q104.117 726.572 102.265 728.748 Q100.436 730.901 100.436 734.628 Q100.436 738.378 102.265 740.531 Q104.117 742.683 107.265 742.683 Z\" fill=\"#000000\" fill-rule=\"evenodd\" fill-opacity=\"1\" /><path clip-path=\"url(#clip610)\" d=\"M128.121 757.336 L128.121 753.077 Q129.881 753.91 131.686 754.35 Q133.492 754.79 135.228 754.79 Q139.857 754.79 142.288 751.688 Q144.742 748.563 145.089 742.221 Q143.746 744.211 141.686 745.276 Q139.626 746.341 137.126 746.341 Q131.941 746.341 128.908 743.216 Q125.899 740.068 125.899 734.628 Q125.899 729.304 129.047 726.086 Q132.195 722.869 137.427 722.869 Q143.422 722.869 146.57 727.475 Q149.742 732.059 149.742 740.808 Q149.742 748.98 145.853 753.864 Q141.987 758.725 135.436 758.725 Q133.677 758.725 131.871 758.378 Q130.066 758.031 128.121 757.336 M137.427 742.683 Q140.575 742.683 142.404 740.531 Q144.256 738.378 144.256 734.628 Q144.256 730.901 142.404 728.748 Q140.575 726.572 137.427 726.572 Q134.279 726.572 132.427 728.748 Q130.598 730.901 130.598 734.628 Q130.598 738.378 132.427 740.531 Q134.279 742.683 137.427 742.683 Z\" fill=\"#000000\" fill-rule=\"evenodd\" fill-opacity=\"1\" /><path clip-path=\"url(#clip610)\" d=\"M158.283 757.336 L158.283 753.077 Q160.042 753.91 161.848 754.35 Q163.654 754.79 165.39 754.79 Q170.019 754.79 172.45 751.688 Q174.903 748.563 175.251 742.221 Q173.908 744.211 171.848 745.276 Q169.788 746.341 167.288 746.341 Q162.103 746.341 159.07 743.216 Q156.061 740.068 156.061 734.628 Q156.061 729.304 159.209 726.086 Q162.357 722.869 167.589 722.869 Q173.584 722.869 176.732 727.475 Q179.903 732.059 179.903 740.808 Q179.903 748.98 176.015 753.864 Q172.149 758.725 165.598 758.725 Q163.839 758.725 162.033 758.378 Q160.228 758.031 158.283 757.336 M167.589 742.683 Q170.737 742.683 172.566 740.531 Q174.417 738.378 174.417 734.628 Q174.417 730.901 172.566 728.748 Q170.737 726.572 167.589 726.572 Q164.441 726.572 162.589 728.748 Q160.76 730.901 160.76 734.628 Q160.76 738.378 162.589 740.531 Q164.441 742.683 167.589 742.683 Z\" fill=\"#000000\" fill-rule=\"evenodd\" fill-opacity=\"1\" /><path clip-path=\"url(#clip610)\" d=\"M198.306 726.572 Q194.695 726.572 192.866 730.137 Q191.061 733.679 191.061 740.808 Q191.061 747.915 192.866 751.48 Q194.695 755.021 198.306 755.021 Q201.94 755.021 203.746 751.48 Q205.575 747.915 205.575 740.808 Q205.575 733.679 203.746 730.137 Q201.94 726.572 198.306 726.572 M198.306 722.869 Q204.116 722.869 207.172 727.475 Q210.251 732.059 210.251 740.808 Q210.251 749.535 207.172 754.142 Q204.116 758.725 198.306 758.725 Q192.496 758.725 189.417 754.142 Q186.362 749.535 186.362 740.808 Q186.362 732.059 189.417 727.475 Q192.496 722.869 198.306 722.869 Z\" fill=\"#000000\" fill-rule=\"evenodd\" fill-opacity=\"1\" /><path clip-path=\"url(#clip610)\" d=\"M228.468 726.572 Q224.857 726.572 223.028 730.137 Q221.223 733.679 221.223 740.808 Q221.223 747.915 223.028 751.48 Q224.857 755.021 228.468 755.021 Q232.102 755.021 233.908 751.48 Q235.737 747.915 235.737 740.808 Q235.737 733.679 233.908 730.137 Q232.102 726.572 228.468 726.572 M228.468 722.869 Q234.278 722.869 237.334 727.475 Q240.412 732.059 240.412 740.808 Q240.412 749.535 237.334 754.142 Q234.278 758.725 228.468 758.725 Q222.658 758.725 219.579 754.142 Q216.524 749.535 216.524 740.808 Q216.524 732.059 219.579 727.475 Q222.658 722.869 228.468 722.869 Z\" fill=\"#000000\" fill-rule=\"evenodd\" fill-opacity=\"1\" /><path clip-path=\"url(#clip610)\" d=\"M276.801 732.591 L266.222 743.216 L276.801 753.795 L274.046 756.595 L263.422 745.97 L252.797 756.595 L250.065 753.795 L260.621 743.216 L250.065 732.591 L252.797 729.79 L263.422 740.415 L274.046 729.79 L276.801 732.591 Z\" fill=\"#000000\" fill-rule=\"evenodd\" fill-opacity=\"1\" /><path clip-path=\"url(#clip610)\" d=\"M289.162 754.119 L296.801 754.119 L296.801 727.753 L288.491 729.42 L288.491 725.16 L296.755 723.494 L301.431 723.494 L301.431 754.119 L309.069 754.119 L309.069 758.054 L289.162 758.054 L289.162 754.119 Z\" fill=\"#000000\" fill-rule=\"evenodd\" fill-opacity=\"1\" /><path clip-path=\"url(#clip610)\" d=\"M328.514 726.572 Q324.903 726.572 323.074 730.137 Q321.268 733.679 321.268 740.808 Q321.268 747.915 323.074 751.48 Q324.903 755.021 328.514 755.021 Q332.148 755.021 333.954 751.48 Q335.782 747.915 335.782 740.808 Q335.782 733.679 333.954 730.137 Q332.148 726.572 328.514 726.572 M328.514 722.869 Q334.324 722.869 337.379 727.475 Q340.458 732.059 340.458 740.808 Q340.458 749.535 337.379 754.142 Q334.324 758.725 328.514 758.725 Q322.704 758.725 319.625 754.142 Q316.569 749.535 316.569 740.808 Q316.569 732.059 319.625 727.475 Q322.704 722.869 328.514 722.869 Z\" fill=\"#000000\" fill-rule=\"evenodd\" fill-opacity=\"1\" /><path clip-path=\"url(#clip610)\" d=\"M340.458 716.97 L364.57 716.97 L364.57 720.167 L340.458 720.167 L340.458 716.97 Z\" fill=\"#000000\" fill-rule=\"evenodd\" fill-opacity=\"1\" /><path clip-path=\"url(#clip610)\" d=\"M384.28 715.503 Q387.007 716.086 388.531 717.929 Q390.073 719.772 390.073 722.481 Q390.073 726.637 387.214 728.913 Q384.356 731.189 379.089 731.189 Q377.321 731.189 375.441 730.831 Q373.579 730.493 371.585 729.797 L371.585 726.129 Q373.165 727.051 375.046 727.521 Q376.926 727.991 378.976 727.991 Q382.55 727.991 384.412 726.581 Q386.293 725.17 386.293 722.481 Q386.293 719.998 384.544 718.606 Q382.813 717.196 379.71 717.196 L376.437 717.196 L376.437 714.074 L379.86 714.074 Q382.663 714.074 384.149 712.964 Q385.634 711.836 385.634 709.729 Q385.634 707.566 384.092 706.419 Q382.569 705.253 379.71 705.253 Q378.149 705.253 376.362 705.591 Q374.575 705.93 372.431 706.645 L372.431 703.259 Q374.594 702.657 376.475 702.356 Q378.375 702.056 380.049 702.056 Q384.374 702.056 386.895 704.03 Q389.415 705.986 389.415 709.334 Q389.415 711.666 388.079 713.284 Q386.744 714.882 384.28 715.503 Z\" fill=\"#000000\" fill-rule=\"evenodd\" fill-opacity=\"1\" /><path clip-path=\"url(#clip610)\" d=\"M53.3995 419.799 L61.0384 419.799 L61.0384 393.433 L52.7282 395.1 L52.7282 390.841 L60.9921 389.174 L65.668 389.174 L65.668 419.799 L73.3068 419.799 L73.3068 423.734 L53.3995 423.734 L53.3995 419.799 Z\" fill=\"#000000\" fill-rule=\"evenodd\" fill-opacity=\"1\" /><path clip-path=\"url(#clip610)\" d=\"M82.7512 417.854 L87.6354 417.854 L87.6354 423.734 L82.7512 423.734 L82.7512 417.854 Z\" fill=\"#000000\" fill-rule=\"evenodd\" fill-opacity=\"1\" /><path clip-path=\"url(#clip610)\" d=\"M97.9595 423.016 L97.9595 418.757 Q99.7187 419.591 101.524 420.03 Q103.33 420.47 105.066 420.47 Q109.696 420.47 112.126 417.368 Q114.58 414.243 114.927 407.901 Q113.584 409.891 111.524 410.956 Q109.464 412.021 106.964 412.021 Q101.779 412.021 98.7465 408.896 Q95.7373 405.748 95.7373 400.308 Q95.7373 394.984 98.8854 391.767 Q102.034 388.549 107.265 388.549 Q113.26 388.549 116.408 393.155 Q119.58 397.739 119.58 406.489 Q119.58 414.66 115.691 419.544 Q111.825 424.405 105.274 424.405 Q103.515 424.405 101.709 424.058 Q99.9039 423.711 97.9595 423.016 M107.265 408.364 Q110.413 408.364 112.242 406.211 Q114.094 404.058 114.094 400.308 Q114.094 396.581 112.242 394.429 Q110.413 392.253 107.265 392.253 Q104.117 392.253 102.265 394.429 Q100.436 396.581 100.436 400.308 Q100.436 404.058 102.265 406.211 Q104.117 408.364 107.265 408.364 Z\" fill=\"#000000\" fill-rule=\"evenodd\" fill-opacity=\"1\" /><path clip-path=\"url(#clip610)\" d=\"M128.121 423.016 L128.121 418.757 Q129.881 419.591 131.686 420.03 Q133.492 420.47 135.228 420.47 Q139.857 420.47 142.288 417.368 Q144.742 414.243 145.089 407.901 Q143.746 409.891 141.686 410.956 Q139.626 412.021 137.126 412.021 Q131.941 412.021 128.908 408.896 Q125.899 405.748 125.899 400.308 Q125.899 394.984 129.047 391.767 Q132.195 388.549 137.427 388.549 Q143.422 388.549 146.57 393.155 Q149.742 397.739 149.742 406.489 Q149.742 414.66 145.853 419.544 Q141.987 424.405 135.436 424.405 Q133.677 424.405 131.871 424.058 Q130.066 423.711 128.121 423.016 M137.427 408.364 Q140.575 408.364 142.404 406.211 Q144.256 404.058 144.256 400.308 Q144.256 396.581 142.404 394.429 Q140.575 392.253 137.427 392.253 Q134.279 392.253 132.427 394.429 Q130.598 396.581 130.598 400.308 Q130.598 404.058 132.427 406.211 Q134.279 408.364 137.427 408.364 Z\" fill=\"#000000\" fill-rule=\"evenodd\" fill-opacity=\"1\" /><path clip-path=\"url(#clip610)\" d=\"M158.283 423.016 L158.283 418.757 Q160.042 419.591 161.848 420.03 Q163.654 420.47 165.39 420.47 Q170.019 420.47 172.45 417.368 Q174.903 414.243 175.251 407.901 Q173.908 409.891 171.848 410.956 Q169.788 412.021 167.288 412.021 Q162.103 412.021 159.07 408.896 Q156.061 405.748 156.061 400.308 Q156.061 394.984 159.209 391.767 Q162.357 388.549 167.589 388.549 Q173.584 388.549 176.732 393.155 Q179.903 397.739 179.903 406.489 Q179.903 414.66 176.015 419.544 Q172.149 424.405 165.598 424.405 Q163.839 424.405 162.033 424.058 Q160.228 423.711 158.283 423.016 M167.589 408.364 Q170.737 408.364 172.566 406.211 Q174.417 404.058 174.417 400.308 Q174.417 396.581 172.566 394.429 Q170.737 392.253 167.589 392.253 Q164.441 392.253 162.589 394.429 Q160.76 396.581 160.76 400.308 Q160.76 404.058 162.589 406.211 Q164.441 408.364 167.589 408.364 Z\" fill=\"#000000\" fill-rule=\"evenodd\" fill-opacity=\"1\" /><path clip-path=\"url(#clip610)\" d=\"M188.353 389.174 L206.709 389.174 L206.709 393.109 L192.635 393.109 L192.635 401.581 Q193.653 401.234 194.672 401.072 Q195.69 400.887 196.709 400.887 Q202.496 400.887 205.876 404.058 Q209.255 407.229 209.255 412.646 Q209.255 418.225 205.783 421.327 Q202.311 424.405 195.991 424.405 Q193.815 424.405 191.547 424.035 Q189.302 423.665 186.894 422.924 L186.894 418.225 Q188.977 419.359 191.2 419.915 Q193.422 420.47 195.899 420.47 Q199.903 420.47 202.241 418.364 Q204.579 416.257 204.579 412.646 Q204.579 409.035 202.241 406.929 Q199.903 404.822 195.899 404.822 Q194.024 404.822 192.149 405.239 Q190.297 405.655 188.353 406.535 L188.353 389.174 Z\" fill=\"#000000\" fill-rule=\"evenodd\" fill-opacity=\"1\" /><path clip-path=\"url(#clip610)\" d=\"M228.468 392.253 Q224.857 392.253 223.028 395.817 Q221.223 399.359 221.223 406.489 Q221.223 413.595 223.028 417.16 Q224.857 420.702 228.468 420.702 Q232.102 420.702 233.908 417.16 Q235.737 413.595 235.737 406.489 Q235.737 399.359 233.908 395.817 Q232.102 392.253 228.468 392.253 M228.468 388.549 Q234.278 388.549 237.334 393.155 Q240.412 397.739 240.412 406.489 Q240.412 415.216 237.334 419.822 Q234.278 424.405 228.468 424.405 Q222.658 424.405 219.579 419.822 Q216.524 415.216 216.524 406.489 Q216.524 397.739 219.579 393.155 Q222.658 388.549 228.468 388.549 Z\" fill=\"#000000\" fill-rule=\"evenodd\" fill-opacity=\"1\" /><path clip-path=\"url(#clip610)\" d=\"M276.801 398.271 L266.222 408.896 L276.801 419.475 L274.046 422.276 L263.422 411.651 L252.797 422.276 L250.065 419.475 L260.621 408.896 L250.065 398.271 L252.797 395.47 L263.422 406.095 L274.046 395.47 L276.801 398.271 Z\" fill=\"#000000\" fill-rule=\"evenodd\" fill-opacity=\"1\" /><path clip-path=\"url(#clip610)\" d=\"M289.162 419.799 L296.801 419.799 L296.801 393.433 L288.491 395.1 L288.491 390.841 L296.755 389.174 L301.431 389.174 L301.431 419.799 L309.069 419.799 L309.069 423.734 L289.162 423.734 L289.162 419.799 Z\" fill=\"#000000\" fill-rule=\"evenodd\" fill-opacity=\"1\" /><path clip-path=\"url(#clip610)\" d=\"M328.514 392.253 Q324.903 392.253 323.074 395.817 Q321.268 399.359 321.268 406.489 Q321.268 413.595 323.074 417.16 Q324.903 420.702 328.514 420.702 Q332.148 420.702 333.954 417.16 Q335.782 413.595 335.782 406.489 Q335.782 399.359 333.954 395.817 Q332.148 392.253 328.514 392.253 M328.514 388.549 Q334.324 388.549 337.379 393.155 Q340.458 397.739 340.458 406.489 Q340.458 415.216 337.379 419.822 Q334.324 424.405 328.514 424.405 Q322.704 424.405 319.625 419.822 Q316.569 415.216 316.569 406.489 Q316.569 397.739 319.625 393.155 Q322.704 388.549 328.514 388.549 Z\" fill=\"#000000\" fill-rule=\"evenodd\" fill-opacity=\"1\" /><path clip-path=\"url(#clip610)\" d=\"M340.458 382.65 L364.57 382.65 L364.57 385.848 L340.458 385.848 L340.458 382.65 Z\" fill=\"#000000\" fill-rule=\"evenodd\" fill-opacity=\"1\" /><path clip-path=\"url(#clip610)\" d=\"M384.28 381.183 Q387.007 381.766 388.531 383.61 Q390.073 385.453 390.073 388.161 Q390.073 392.318 387.214 394.593 Q384.356 396.869 379.089 396.869 Q377.321 396.869 375.441 396.512 Q373.579 396.173 371.585 395.477 L371.585 391.81 Q373.165 392.731 375.046 393.202 Q376.926 393.672 378.976 393.672 Q382.55 393.672 384.412 392.261 Q386.293 390.851 386.293 388.161 Q386.293 385.678 384.544 384.287 Q382.813 382.876 379.71 382.876 L376.437 382.876 L376.437 379.754 L379.86 379.754 Q382.663 379.754 384.149 378.644 Q385.634 377.516 385.634 375.409 Q385.634 373.246 384.092 372.099 Q382.569 370.933 379.71 370.933 Q378.149 370.933 376.362 371.272 Q374.575 371.61 372.431 372.325 L372.431 368.94 Q374.594 368.338 376.475 368.037 Q378.375 367.736 380.049 367.736 Q384.374 367.736 386.895 369.711 Q389.415 371.667 389.415 375.014 Q389.415 377.347 388.079 378.964 Q386.744 380.563 384.28 381.183 Z\" fill=\"#000000\" fill-rule=\"evenodd\" fill-opacity=\"1\" /><path clip-path=\"url(#clip610)\" d=\"M56.6171 85.4791 L72.9365 85.4791 L72.9365 89.4143 L50.9921 89.4143 L50.9921 85.4791 Q53.6541 82.7245 58.2375 78.0949 Q62.8439 73.4421 64.0245 72.0996 Q66.2698 69.5764 67.1494 67.8403 Q68.0522 66.0811 68.0522 64.3913 Q68.0522 61.6366 66.1078 59.9005 Q64.1865 58.1644 61.0847 58.1644 Q58.8856 58.1644 56.4319 58.9283 Q54.0014 59.6922 51.2236 61.2431 L51.2236 56.5209 Q54.0477 55.3867 56.5014 54.808 Q58.955 54.2293 60.9921 54.2293 Q66.3624 54.2293 69.5568 56.9144 Q72.7513 59.5996 72.7513 64.0903 Q72.7513 66.22 71.9411 68.1412 Q71.1541 70.0394 69.0476 72.632 Q68.4689 73.3032 65.367 76.5208 Q62.2652 79.7153 56.6171 85.4791 Z\" fill=\"#000000\" fill-rule=\"evenodd\" fill-opacity=\"1\" /><path clip-path=\"url(#clip610)\" d=\"M82.7512 83.5347 L87.6354 83.5347 L87.6354 89.4143 L82.7512 89.4143 L82.7512 83.5347 Z\" fill=\"#000000\" fill-rule=\"evenodd\" fill-opacity=\"1\" /><path clip-path=\"url(#clip610)\" d=\"M107.821 57.933 Q104.209 57.933 102.381 61.4978 Q100.575 65.0394 100.575 72.169 Q100.575 79.2754 102.381 82.8402 Q104.209 86.3819 107.821 86.3819 Q111.455 86.3819 113.26 82.8402 Q115.089 79.2754 115.089 72.169 Q115.089 65.0394 113.26 61.4978 Q111.455 57.933 107.821 57.933 M107.821 54.2293 Q113.631 54.2293 116.686 58.8357 Q119.765 63.419 119.765 72.169 Q119.765 80.8958 116.686 85.5023 Q113.631 90.0856 107.821 90.0856 Q102.01 90.0856 98.9317 85.5023 Q95.8761 80.8958 95.8761 72.169 Q95.8761 63.419 98.9317 58.8357 Q102.01 54.2293 107.821 54.2293 Z\" fill=\"#000000\" fill-rule=\"evenodd\" fill-opacity=\"1\" /><path clip-path=\"url(#clip610)\" d=\"M137.982 57.933 Q134.371 57.933 132.543 61.4978 Q130.737 65.0394 130.737 72.169 Q130.737 79.2754 132.543 82.8402 Q134.371 86.3819 137.982 86.3819 Q141.617 86.3819 143.422 82.8402 Q145.251 79.2754 145.251 72.169 Q145.251 65.0394 143.422 61.4978 Q141.617 57.933 137.982 57.933 M137.982 54.2293 Q143.793 54.2293 146.848 58.8357 Q149.927 63.419 149.927 72.169 Q149.927 80.8958 146.848 85.5023 Q143.793 90.0856 137.982 90.0856 Q132.172 90.0856 129.094 85.5023 Q126.038 80.8958 126.038 72.169 Q126.038 63.419 129.094 58.8357 Q132.172 54.2293 137.982 54.2293 Z\" fill=\"#000000\" fill-rule=\"evenodd\" fill-opacity=\"1\" /><path clip-path=\"url(#clip610)\" d=\"M168.144 57.933 Q164.533 57.933 162.704 61.4978 Q160.899 65.0394 160.899 72.169 Q160.899 79.2754 162.704 82.8402 Q164.533 86.3819 168.144 86.3819 Q171.779 86.3819 173.584 82.8402 Q175.413 79.2754 175.413 72.169 Q175.413 65.0394 173.584 61.4978 Q171.779 57.933 168.144 57.933 M168.144 54.2293 Q173.954 54.2293 177.01 58.8357 Q180.089 63.419 180.089 72.169 Q180.089 80.8958 177.01 85.5023 Q173.954 90.0856 168.144 90.0856 Q162.334 90.0856 159.255 85.5023 Q156.2 80.8958 156.2 72.169 Q156.2 63.419 159.255 58.8357 Q162.334 54.2293 168.144 54.2293 Z\" fill=\"#000000\" fill-rule=\"evenodd\" fill-opacity=\"1\" /><path clip-path=\"url(#clip610)\" d=\"M198.306 57.933 Q194.695 57.933 192.866 61.4978 Q191.061 65.0394 191.061 72.169 Q191.061 79.2754 192.866 82.8402 Q194.695 86.3819 198.306 86.3819 Q201.94 86.3819 203.746 82.8402 Q205.575 79.2754 205.575 72.169 Q205.575 65.0394 203.746 61.4978 Q201.94 57.933 198.306 57.933 M198.306 54.2293 Q204.116 54.2293 207.172 58.8357 Q210.251 63.419 210.251 72.169 Q210.251 80.8958 207.172 85.5023 Q204.116 90.0856 198.306 90.0856 Q192.496 90.0856 189.417 85.5023 Q186.362 80.8958 186.362 72.169 Q186.362 63.419 189.417 58.8357 Q192.496 54.2293 198.306 54.2293 Z\" fill=\"#000000\" fill-rule=\"evenodd\" fill-opacity=\"1\" /><path clip-path=\"url(#clip610)\" d=\"M228.468 57.933 Q224.857 57.933 223.028 61.4978 Q221.223 65.0394 221.223 72.169 Q221.223 79.2754 223.028 82.8402 Q224.857 86.3819 228.468 86.3819 Q232.102 86.3819 233.908 82.8402 Q235.737 79.2754 235.737 72.169 Q235.737 65.0394 233.908 61.4978 Q232.102 57.933 228.468 57.933 M228.468 54.2293 Q234.278 54.2293 237.334 58.8357 Q240.412 63.419 240.412 72.169 Q240.412 80.8958 237.334 85.5023 Q234.278 90.0856 228.468 90.0856 Q222.658 90.0856 219.579 85.5023 Q216.524 80.8958 216.524 72.169 Q216.524 63.419 219.579 58.8357 Q222.658 54.2293 228.468 54.2293 Z\" fill=\"#000000\" fill-rule=\"evenodd\" fill-opacity=\"1\" /><path clip-path=\"url(#clip610)\" d=\"M276.801 63.9514 L266.222 74.5764 L276.801 85.155 L274.046 87.9559 L263.422 77.331 L252.797 87.9559 L250.065 85.155 L260.621 74.5764 L250.065 63.9514 L252.797 61.1505 L263.422 71.7755 L274.046 61.1505 L276.801 63.9514 Z\" fill=\"#000000\" fill-rule=\"evenodd\" fill-opacity=\"1\" /><path clip-path=\"url(#clip610)\" d=\"M289.162 85.4791 L296.801 85.4791 L296.801 59.1135 L288.491 60.7802 L288.491 56.5209 L296.755 54.8543 L301.431 54.8543 L301.431 85.4791 L309.069 85.4791 L309.069 89.4143 L289.162 89.4143 L289.162 85.4791 Z\" fill=\"#000000\" fill-rule=\"evenodd\" fill-opacity=\"1\" /><path clip-path=\"url(#clip610)\" d=\"M328.514 57.933 Q324.903 57.933 323.074 61.4978 Q321.268 65.0394 321.268 72.169 Q321.268 79.2754 323.074 82.8402 Q324.903 86.3819 328.514 86.3819 Q332.148 86.3819 333.954 82.8402 Q335.782 79.2754 335.782 72.169 Q335.782 65.0394 333.954 61.4978 Q332.148 57.933 328.514 57.933 M328.514 54.2293 Q334.324 54.2293 337.379 58.8357 Q340.458 63.419 340.458 72.169 Q340.458 80.8958 337.379 85.5023 Q334.324 90.0856 328.514 90.0856 Q322.704 90.0856 319.625 85.5023 Q316.569 80.8958 316.569 72.169 Q316.569 63.419 319.625 58.8357 Q322.704 54.2293 328.514 54.2293 Z\" fill=\"#000000\" fill-rule=\"evenodd\" fill-opacity=\"1\" /><path clip-path=\"url(#clip610)\" d=\"M340.458 48.3306 L364.57 48.3306 L364.57 51.5279 L340.458 51.5279 L340.458 48.3306 Z\" fill=\"#000000\" fill-rule=\"evenodd\" fill-opacity=\"1\" /><path clip-path=\"url(#clip610)\" d=\"M384.28 46.8636 Q387.007 47.4467 388.531 49.2898 Q390.073 51.133 390.073 53.8413 Q390.073 57.9978 387.214 60.2736 Q384.356 62.5493 379.089 62.5493 Q377.321 62.5493 375.441 62.192 Q373.579 61.8534 371.585 61.1575 L371.585 57.49 Q373.165 58.4116 375.046 58.8818 Q376.926 59.352 378.976 59.352 Q382.55 59.352 384.412 57.9414 Q386.293 56.5308 386.293 53.8413 Q386.293 51.3587 384.544 49.9669 Q382.813 48.5563 379.71 48.5563 L376.437 48.5563 L376.437 45.4342 L379.86 45.4342 Q382.663 45.4342 384.149 44.3246 Q385.634 43.1961 385.634 41.0896 Q385.634 38.9267 384.092 37.7795 Q382.569 36.6134 379.71 36.6134 Q378.149 36.6134 376.362 36.9519 Q374.575 37.2905 372.431 38.0052 L372.431 34.6198 Q374.594 34.0179 376.475 33.717 Q378.375 33.4161 380.049 33.4161 Q384.374 33.4161 386.895 35.3909 Q389.415 37.3469 389.415 40.6947 Q389.415 43.0268 388.079 44.6443 Q386.744 46.243 384.28 46.8636 Z\" fill=\"#000000\" fill-rule=\"evenodd\" fill-opacity=\"1\" /><polyline clip-path=\"url(#clip612)\" style=\"stroke:#009af9; stroke-linecap:butt; stroke-linejoin:round; stroke-width:4; stroke-opacity:1; fill:none\" points=\"\n  480.602,87.9763 482.421,87.9768 484.241,87.9773 486.06,87.9778 487.88,87.9783 489.699,87.979 491.518,87.9797 493.338,87.9805 495.157,87.9815 496.977,87.9825 \n  498.796,87.9837 500.616,87.9849 502.435,87.9862 504.255,87.9877 506.074,87.9894 507.893,87.9914 509.713,87.9934 511.532,87.9956 513.352,87.9978 515.171,88.0003 \n  516.991,88.0032 518.81,88.006 520.63,88.0089 522.449,88.0124 524.268,88.0159 526.088,88.0198 527.907,88.0238 529.727,88.028 531.546,88.0327 533.366,88.0374 \n  535.185,88.0426 537.005,88.0478 538.824,88.0535 540.644,88.0594 542.463,88.0659 544.282,88.0723 546.102,88.0792 547.921,88.0866 549.741,88.0941 551.56,88.102 \n  553.38,88.1101 555.199,88.1188 557.019,88.128 558.838,88.1371 560.657,88.1473 562.477,88.1572 564.296,88.1678 566.116,88.1787 567.935,88.1903 569.755,88.2019 \n  571.574,88.2141 573.394,88.2269 575.213,88.2401 577.032,88.2537 578.852,88.2675 580.671,88.2821 582.491,88.2972 584.31,88.3128 586.13,88.3289 587.949,88.3452 \n  589.769,88.3623 591.588,88.3801 593.407,88.3979 595.227,88.4167 597.046,88.4358 598.866,88.4556 600.685,88.4759 602.505,88.4967 604.324,88.5182 606.144,88.5402 \n  607.963,88.563 609.782,88.5862 611.602,88.6097 613.421,88.6345 615.241,88.6595 617.06,88.6852 618.88,88.7117 620.699,88.7387 622.519,88.7664 624.338,88.7946 \n  626.157,88.8238 627.977,88.8535 629.796,88.8839 631.616,88.9148 633.435,88.9468 635.255,88.9794 637.074,89.0126 638.894,89.0467 640.713,89.0811 642.532,89.1168 \n  644.352,89.1529 646.171,89.19 647.991,89.2279 649.81,89.2662 651.63,89.3058 653.449,89.3459 655.269,89.3865 657.088,89.4283 658.907,89.4711 660.727,89.5144 \n  662.546,89.5587 664.366,89.6037 666.185,89.6495 668.005,89.6965 669.824,89.744 671.644,89.7928 673.463,89.842 675.282,89.8923 677.102,89.9437 678.921,89.9959 \n  680.741,90.0489 682.56,90.1028 684.38,90.1578 686.199,90.2137 688.019,90.2704 689.838,90.3283 691.657,90.3869 693.477,90.4465 695.296,90.5072 697.116,90.569 \n  698.935,90.6314 700.755,90.6952 702.574,90.76 704.394,90.8256 706.213,90.8924 708.032,90.9602 709.852,91.029 711.671,91.0988 713.491,91.1701 715.31,91.2418 \n  717.13,91.3151 718.949,91.3891 720.769,91.4645 722.588,91.5407 724.407,91.6182 726.227,91.6969 728.046,91.7766 729.866,91.8572 731.685,91.9394 733.505,92.0228 \n  735.324,92.1069 737.144,92.1925 738.963,92.2789 740.782,92.3667 742.602,92.4558 744.421,92.5461 746.241,92.6377 748.06,92.7302 749.88,92.824 751.699,92.9193 \n  753.519,93.0158 755.338,93.1133 757.157,93.212 758.977,93.3122 760.796,93.4134 762.616,93.5161 764.435,93.62 766.255,93.7252 768.074,93.8318 769.894,93.9397 \n  771.713,94.0489 773.532,94.1595 775.352,94.2713 777.171,94.3846 778.991,94.499 780.81,94.615 782.63,94.7323 784.449,94.8511 786.269,94.9708 788.088,95.0921 \n  789.907,95.2151 791.727,95.3395 793.546,95.465 795.366,95.5919 797.185,95.7206 799.005,95.8505 800.824,95.9819 802.644,96.1148 804.463,96.2491 806.282,96.385 \n  808.102,96.5223 809.921,96.6609 811.741,96.8012 813.56,96.943 815.38,97.0863 817.199,97.231 819.019,97.3773 820.838,97.5252 822.657,97.6747 824.477,97.8256 \n  826.296,97.9781 828.116,98.1322 829.935,98.2876 831.755,98.445 833.574,98.6038 835.394,98.7644 837.213,98.9263 839.032,99.0901 840.852,99.2554 842.671,99.4224 \n  844.491,99.5909 846.31,99.7612 848.13,99.9331 849.949,100.107 851.769,100.282 853.588,100.459 855.407,100.637 857.227,100.818 859.046,101 860.866,101.183 \n  862.685,101.369 864.505,101.556 866.324,101.745 868.144,101.935 869.963,102.128 871.782,102.322 873.602,102.518 875.421,102.716 877.241,102.915 879.06,103.117 \n  880.88,103.32 882.699,103.524 884.519,103.731 886.338,103.94 888.157,104.15 889.977,104.362 891.796,104.576 893.616,104.792 895.435,105.01 897.255,105.23 \n  899.074,105.451 900.894,105.675 902.713,105.9 904.532,106.128 906.352,106.357 908.171,106.588 909.991,106.821 911.81,107.056 913.63,107.293 915.449,107.532 \n  917.269,107.772 919.088,108.015 920.907,108.26 922.727,108.507 924.546,108.756 926.366,109.006 928.185,109.259 930.005,109.514 931.824,109.771 933.644,110.03 \n  935.463,110.29 937.282,110.554 939.102,110.819 940.921,111.086 942.741,111.355 944.56,111.626 946.38,111.899 948.199,112.175 950.019,112.453 951.838,112.732 \n  953.657,113.014 955.477,113.298 957.296,113.584 959.116,113.872 960.935,114.163 962.755,114.455 964.574,114.75 966.394,115.047 968.213,115.346 970.032,115.647 \n  971.852,115.951 973.671,116.256 975.491,116.564 977.31,116.875 979.13,117.187 980.949,117.501 982.769,117.818 984.588,118.138 986.407,118.459 988.227,118.783 \n  990.046,119.109 991.866,119.437 993.685,119.768 995.505,120.1 997.324,120.436 999.144,120.773 1000.96,121.113 1002.78,121.455 1004.6,121.8 1006.42,122.147 \n  1008.24,122.496 1010.06,122.848 1011.88,123.202 1013.7,123.558 1015.52,123.917 1017.34,124.278 1019.16,124.642 1020.98,125.008 1022.8,125.376 1024.62,125.747 \n  1026.44,126.121 1028.25,126.496 1030.07,126.875 1031.89,127.256 1033.71,127.639 1035.53,128.024 1037.35,128.413 1039.17,128.803 1040.99,129.197 1042.81,129.593 \n  1044.63,129.991 1046.45,130.392 1048.27,130.795 1050.09,131.201 1051.91,131.609 1053.73,132.02 1055.55,132.434 1057.37,132.85 1059.19,133.269 1061,133.69 \n  1062.82,134.114 1064.64,134.541 1066.46,134.97 1068.28,135.402 1070.1,135.837 1071.92,136.274 1073.74,136.714 1075.56,137.156 1077.38,137.601 1079.2,138.049 \n  1081.02,138.5 1082.84,138.953 1084.66,139.409 1086.48,139.868 1088.3,140.329 1090.12,140.793 1091.94,141.26 1093.75,141.73 1095.57,142.202 1097.39,142.677 \n  1099.21,143.155 1101.03,143.635 1102.85,144.119 1104.67,144.605 1106.49,145.094 1108.31,145.586 1110.13,146.08 1111.95,146.578 1113.77,147.078 1115.59,147.581 \n  1117.41,148.087 1119.23,148.596 1121.05,149.108 1122.87,149.622 1124.69,150.14 1126.5,150.66 1128.32,151.183 1130.14,151.709 1131.96,152.238 1133.78,152.77 \n  1135.6,153.305 1137.42,153.843 1139.24,154.384 1141.06,154.928 1142.88,155.474 1144.7,156.024 1146.52,156.577 1148.34,157.132 1150.16,157.691 1151.98,158.253 \n  1153.8,158.817 1155.62,159.385 1157.44,159.956 1159.25,160.529 1161.07,161.106 1162.89,161.686 1164.71,162.269 1166.53,162.855 1168.35,163.444 1170.17,164.036 \n  1171.99,164.631 1173.81,165.229 1175.63,165.831 1177.45,166.435 1179.27,167.043 1181.09,167.653 1182.91,168.267 1184.73,168.884 1186.55,169.505 1188.37,170.128 \n  1190.19,170.754 1192,171.384 1193.82,172.017 1195.64,172.653 1197.46,173.293 1199.28,173.935 1201.1,174.581 1202.92,175.23 1204.74,175.882 1206.56,176.537 \n  1208.38,177.196 1210.2,177.858 1212.02,178.523 1213.84,179.191 1215.66,179.863 1217.48,180.538 1219.3,181.217 1221.12,181.898 1222.94,182.583 1224.75,183.272 \n  1226.57,183.963 1228.39,184.658 1230.21,185.357 1232.03,186.058 1233.85,186.763 1235.67,187.472 1237.49,188.183 1239.31,188.898 1241.13,189.617 1242.95,190.339 \n  1244.77,191.065 1246.59,191.793 1248.41,192.526 1250.23,193.261 1252.05,194 1253.87,194.743 1255.69,195.489 1257.5,196.238 1259.32,196.991 1261.14,197.748 \n  1262.96,198.508 1264.78,199.271 1266.6,200.038 1268.42,200.809 1270.24,201.583 1272.06,202.36 1273.88,203.142 1275.7,203.926 1277.52,204.714 1279.34,205.506 \n  1281.16,206.301 1282.98,207.1 1284.8,207.903 1286.62,208.709 1288.44,209.519 1290.25,210.332 1292.07,211.149 1293.89,211.969 1295.71,212.794 1297.53,213.621 \n  1299.35,214.453 1301.17,215.288 1302.99,216.127 1304.81,216.97 1306.63,217.816 1308.45,218.666 1310.27,219.519 1312.09,220.376 1313.91,221.237 1315.73,222.102 \n  1317.55,222.971 1319.37,223.843 1321.19,224.719 1323,225.598 1324.82,226.482 1326.64,227.369 1328.46,228.261 1330.28,229.155 1332.1,230.054 1333.92,230.956 \n  1335.74,231.863 1337.56,232.773 1339.38,233.687 1341.2,234.604 1343.02,235.526 1344.84,236.451 1346.66,237.381 1348.48,238.314 1350.3,239.251 1352.12,240.192 \n  1353.94,241.137 1355.75,242.085 1357.57,243.038 1359.39,243.995 1361.21,244.955 1363.03,245.92 1364.85,246.888 1366.67,247.86 1368.49,248.837 1370.31,249.817 \n  1372.13,250.801 1373.95,251.789 1375.77,252.782 1377.59,253.778 1379.41,254.778 1381.23,255.782 1383.05,256.791 1384.87,257.803 1386.69,258.819 1388.5,259.84 \n  1390.32,260.864 1392.14,261.893 1393.96,262.925 1395.78,263.962 1397.6,265.003 1399.42,266.048 1401.24,267.096 1403.06,268.15 1404.88,269.207 1406.7,270.268 \n  1408.52,271.334 1410.34,272.403 1412.16,273.477 1413.98,274.555 1415.8,275.637 1417.62,276.723 1419.44,277.814 1421.25,278.908 1423.07,280.007 1424.89,281.11 \n  1426.71,282.217 1428.53,283.329 1430.35,284.444 1432.17,285.564 1433.99,286.689 1435.81,287.817 1437.63,288.95 1439.45,290.087 1441.27,291.228 1443.09,292.374 \n  1444.91,293.523 1446.73,294.678 1448.55,295.836 1450.37,296.999 1452.19,298.166 1454,299.338 1455.82,300.513 1457.64,301.694 1459.46,302.878 1461.28,304.067 \n  1463.1,305.26 1464.92,306.458 1466.74,307.66 1468.56,308.867 1470.38,310.077 1472.2,311.293 1474.02,312.513 1475.84,313.736 1477.66,314.965 1479.48,316.198 \n  1481.3,317.436 1483.12,318.678 1484.94,319.924 1486.75,321.175 1488.57,322.43 1490.39,323.69 1492.21,324.955 1494.03,326.224 1495.85,327.497 1497.67,328.775 \n  1499.49,330.058 1501.31,331.345 1503.13,332.637 1504.95,333.933 1506.77,335.234 1508.59,336.539 1510.41,337.849 1512.23,339.163 1514.05,340.482 1515.87,341.806 \n  1517.69,343.135 1519.5,344.468 1521.32,345.805 1523.14,347.148 1524.96,348.494 1526.78,349.846 1528.6,351.202 1530.42,352.563 1532.24,353.929 1534.06,355.299 \n  1535.88,356.674 1537.7,358.054 1539.52,359.438 1541.34,360.827 1543.16,362.221 1544.98,363.62 1546.8,365.023 1548.62,366.431 1550.44,367.844 1552.25,369.262 \n  1554.07,370.684 1555.89,372.112 1557.71,373.543 1559.53,374.98 1561.35,376.422 1563.17,377.869 1564.99,379.32 1566.81,380.776 1568.63,382.237 1570.45,383.703 \n  1572.27,385.173 1574.09,386.649 1575.91,388.129 1577.73,389.615 1579.55,391.105 1581.37,392.6 1583.19,394.1 1585,395.605 1586.82,397.115 1588.64,398.63 \n  1590.46,400.15 1592.28,401.674 1594.1,403.204 1595.92,404.738 1597.74,406.278 1599.56,407.823 1601.38,409.372 1603.2,410.927 1605.02,412.486 1606.84,414.051 \n  1608.66,415.62 1610.48,417.195 1612.3,418.775 1614.12,420.36 1615.94,421.949 1617.75,423.544 1619.57,425.144 1621.39,426.749 1623.21,428.359 1625.03,429.974 \n  1626.85,431.594 1628.67,433.22 1630.49,434.85 1632.31,436.486 1634.13,438.127 1635.95,439.772 1637.77,441.424 1639.59,443.08 1641.41,444.741 1643.23,446.407 \n  1645.05,448.079 1646.87,449.756 1648.69,451.439 1650.5,453.126 1652.32,454.818 1654.14,456.516 1655.96,458.219 1657.78,459.927 1659.6,461.641 1661.42,463.36 \n  1663.24,465.083 1665.06,466.813 1666.88,468.547 1668.7,470.287 1670.52,472.032 1672.34,473.783 1674.16,475.538 1675.98,477.299 1677.8,479.066 1679.62,480.837 \n  1681.44,482.615 1683.25,484.397 1685.07,486.185 1686.89,487.978 1688.71,489.777 1690.53,491.58 1692.35,493.39 1694.17,495.204 1695.99,497.025 1697.81,498.85 \n  1699.63,500.681 1701.45,502.517 1703.27,504.359 1705.09,506.206 1706.91,508.059 1708.73,509.917 1710.55,511.781 1712.37,513.65 1714.19,515.525 1716,517.405 \n  1717.82,519.291 1719.64,521.182 1721.46,523.078 1723.28,524.981 1725.1,526.888 1726.92,528.801 1728.74,530.72 1730.56,532.645 1732.38,534.575 1734.2,536.51 \n  1736.02,538.451 1737.84,540.398 1739.66,542.351 1741.48,544.308 1743.3,546.272 1745.12,548.241 1746.94,550.216 1748.75,552.196 1750.57,554.182 1752.39,556.174 \n  1754.21,558.172 1756.03,560.175 1757.85,562.183 1759.67,564.198 1761.49,566.218 1763.31,568.244 1765.13,570.275 1766.95,572.313 1768.77,574.356 1770.59,576.405 \n  1772.41,578.459 1774.23,580.519 1776.05,582.585 1777.87,584.657 1779.69,586.735 1781.5,588.818 1783.32,590.907 1785.14,593.002 1786.96,595.103 1788.78,597.21 \n  1790.6,599.322 1792.42,601.44 1794.24,603.564 1796.06,605.694 1797.88,607.83 1799.7,609.972 1801.52,612.119 1803.34,614.273 1805.16,616.432 1806.98,618.597 \n  1808.8,620.768 1810.62,622.946 1812.44,625.128 1814.25,627.317 1816.07,629.512 1817.89,631.713 1819.71,633.92 1821.53,636.132 1823.35,638.351 1825.17,640.576 \n  1826.99,642.806 1828.81,645.043 1830.63,647.285 1832.45,649.534 1834.27,651.789 1836.09,654.05 1837.91,656.316 1839.73,658.589 1841.55,660.868 1843.37,663.153 \n  1845.19,665.444 1847,667.741 1848.82,670.044 1850.64,672.353 1852.46,674.668 1854.28,676.99 1856.1,679.317 1857.92,681.651 1859.74,683.991 1861.56,686.337 \n  1863.38,688.689 1865.2,691.047 1867.02,693.411 1868.84,695.782 1870.66,698.159 1872.48,700.542 1874.3,702.931 1876.12,705.326 1877.94,707.728 1879.75,710.135 \n  1881.57,712.55 1883.39,714.97 1885.21,717.396 1887.03,719.829 1888.85,722.268 1890.67,724.713 1892.49,727.165 1894.31,729.623 1896.13,732.087 1897.95,734.557 \n  1899.77,737.034 1901.59,739.517 1903.41,742.006 1905.23,744.502 1907.05,747.004 1908.87,749.513 1910.69,752.027 1912.5,754.549 1914.32,757.076 1916.14,759.61 \n  1917.96,762.15 1919.78,764.697 1921.6,767.25 1923.42,769.809 1925.24,772.375 1927.06,774.948 1928.88,777.526 1930.7,780.112 1932.52,782.703 1934.34,785.302 \n  1936.16,787.906 1937.98,790.517 1939.8,793.135 1941.62,795.759 1943.44,798.389 1945.25,801.026 1947.07,803.67 1948.89,806.32 1950.71,808.977 1952.53,811.64 \n  1954.35,814.31 1956.17,816.986 1957.99,819.669 1959.81,822.359 1961.63,825.055 1963.45,827.757 1965.27,830.467 1967.09,833.182 1968.91,835.905 1970.73,838.634 \n  1972.55,841.37 1974.37,844.112 1976.19,846.861 1978,849.617 1979.82,852.379 1981.64,855.148 1983.46,857.924 1985.28,860.706 1987.1,863.495 1988.92,866.291 \n  1990.74,869.093 1992.56,871.903 1994.38,874.718 1996.2,877.541 1998.02,880.37 1999.84,883.207 2001.66,886.05 2003.48,888.899 2005.3,891.756 2007.12,894.619 \n  2008.94,897.489 2010.75,900.366 2012.57,903.249 2014.39,906.14 2016.21,909.037 2018.03,911.941 2019.85,914.852 2021.67,917.77 2023.49,920.695 2025.31,923.626 \n  2027.13,926.564 2028.95,929.51 2030.77,932.462 2032.59,935.421 2034.41,938.387 2036.23,941.36 2038.05,944.339 2039.87,947.326 2041.69,950.32 2043.5,953.321 \n  2045.32,956.328 2047.14,959.343 2048.96,962.364 2050.78,965.393 2052.6,968.428 2054.42,971.471 2056.24,974.52 2058.06,977.577 2059.88,980.64 2061.7,983.711 \n  2063.52,986.788 2065.34,989.873 2067.16,992.964 2068.98,996.063 2070.8,999.169 2072.62,1002.28 2074.44,1005.4 2076.25,1008.53 2078.07,1011.66 2079.89,1014.8 \n  2081.71,1017.95 2083.53,1021.11 2085.35,1024.27 2087.17,1027.44 2088.99,1030.62 2090.81,1033.8 2092.63,1036.99 2094.45,1040.19 2096.27,1043.4 2098.09,1046.61 \n  2099.91,1049.83 2101.73,1053.06 2103.55,1056.29 2105.37,1059.53 2107.19,1062.78 2109,1066.04 2110.82,1069.3 2112.64,1072.57 2114.46,1075.85 2116.28,1079.13 \n  2118.1,1082.42 2119.92,1085.72 2121.74,1089.03 2123.56,1092.35 2125.38,1095.67 2127.2,1099 2129.02,1102.33 2130.84,1105.68 2132.66,1109.03 2134.48,1112.38 \n  2136.3,1115.75 2138.12,1119.12 2139.94,1122.5 2141.75,1125.89 2143.57,1129.29 2145.39,1132.69 2147.21,1136.1 2149.03,1139.51 2150.85,1142.94 2152.67,1146.37 \n  2154.49,1149.81 2156.31,1153.26 2158.13,1156.71 2159.95,1160.17 2161.77,1163.64 2163.59,1167.12 2165.41,1170.6 2167.23,1174.1 2169.05,1177.6 2170.87,1181.1 \n  2172.69,1184.62 2174.5,1188.14 2176.32,1191.67 2178.14,1195.2 2179.96,1198.75 2181.78,1202.3 2183.6,1205.86 2185.42,1209.43 2187.24,1213 2189.06,1216.58 \n  2190.88,1220.17 2192.7,1223.77 2194.52,1227.38 2196.34,1230.99 2198.16,1234.61 2199.98,1238.24 2201.8,1241.87 2203.62,1245.52 2205.44,1249.17 2207.25,1252.83 \n  2209.07,1256.49 2210.89,1260.17 2212.71,1263.85 2214.53,1267.54 2216.35,1271.24 2218.17,1274.94 2219.99,1278.65 2221.81,1282.37 2223.63,1286.1 2225.45,1289.84 \n  2227.27,1293.58 2229.09,1297.33 2230.91,1301.09 2232.73,1304.86 2234.55,1308.63 2236.37,1312.41 2238.19,1316.21 2240,1320 2241.82,1323.81 2243.64,1327.62 \n  2245.46,1331.44 2247.28,1335.27 2249.1,1339.11 2250.92,1342.96 2252.74,1346.81 2254.56,1350.67 2256.38,1354.54 2258.2,1358.42 2260.02,1362.3 2261.84,1366.19 \n  2263.66,1370.09 2265.48,1374 2267.3,1377.92 2269.12,1381.84 2270.94,1385.77 2272.75,1389.71 2274.57,1393.66 2276.39,1397.62 2278.21,1401.58 2280.03,1405.55 \n  2281.85,1409.53 2283.67,1413.52 2285.49,1417.52 2287.31,1421.52 2289.13,1425.53 2290.95,1429.55 2292.77,1433.58 2294.59,1437.62 2296.41,1441.66 2298.23,1445.72 \n  \n  \"/>\n<path clip-path=\"url(#clip610)\" d=\"\nM2022.03 198.898 L2288.53 198.898 L2288.53 95.2176 L2022.03 95.2176  Z\n  \" fill=\"#ffffff\" fill-rule=\"evenodd\" fill-opacity=\"1\"/>\n<polyline clip-path=\"url(#clip610)\" style=\"stroke:#000000; stroke-linecap:butt; stroke-linejoin:round; stroke-width:4; stroke-opacity:1; fill:none\" points=\"\n  2022.03,198.898 2288.53,198.898 2288.53,95.2176 2022.03,95.2176 2022.03,198.898 \n  \"/>\n<polyline clip-path=\"url(#clip610)\" style=\"stroke:#009af9; stroke-linecap:butt; stroke-linejoin:round; stroke-width:4; stroke-opacity:1; fill:none\" points=\"\n  2043.43,147.058 2171.88,147.058 \n  \"/>\n<path clip-path=\"url(#clip610)\" d=\"M2207.13 166.745 Q2205.32 171.375 2203.61 172.787 Q2201.9 174.199 2199.03 174.199 L2195.63 174.199 L2195.63 170.634 L2198.13 170.634 Q2199.88 170.634 2200.86 169.8 Q2201.83 168.967 2203.01 165.865 L2203.77 163.921 L2193.29 138.412 L2197.8 138.412 L2205.9 158.689 L2214.01 138.412 L2218.52 138.412 L2207.13 166.745 Z\" fill=\"#000000\" fill-rule=\"evenodd\" fill-opacity=\"1\" /><path clip-path=\"url(#clip610)\" d=\"M2225.81 160.402 L2233.45 160.402 L2233.45 134.037 L2225.14 135.703 L2225.14 131.444 L2233.4 129.778 L2238.08 129.778 L2238.08 160.402 L2245.72 160.402 L2245.72 164.338 L2225.81 164.338 L2225.81 160.402 Z\" fill=\"#000000\" fill-rule=\"evenodd\" fill-opacity=\"1\" /></svg>\n",
            "text/html": [
              "<?xml version=\"1.0\" encoding=\"utf-8\"?>\n",
              "<svg xmlns=\"http://www.w3.org/2000/svg\" xmlns:xlink=\"http://www.w3.org/1999/xlink\" width=\"600\" height=\"400\" viewBox=\"0 0 2400 1600\">\n",
              "<defs>\n",
              "  <clipPath id=\"clip660\">\n",
              "    <rect x=\"0\" y=\"0\" width=\"2400\" height=\"1600\"/>\n",
              "  </clipPath>\n",
              "</defs>\n",
              "<path clip-path=\"url(#clip660)\" d=\"\n",
              "M0 1600 L2400 1600 L2400 0 L0 0  Z\n",
              "  \" fill=\"#ffffff\" fill-rule=\"evenodd\" fill-opacity=\"1\"/>\n",
              "<defs>\n",
              "  <clipPath id=\"clip661\">\n",
              "    <rect x=\"480\" y=\"0\" width=\"1681\" height=\"1600\"/>\n",
              "  </clipPath>\n",
              "</defs>\n",
              "<path clip-path=\"url(#clip660)\" d=\"\n",
              "M426.073 1486.45 L2352.76 1486.45 L2352.76 47.2441 L426.073 47.2441  Z\n",
              "  \" fill=\"#ffffff\" fill-rule=\"evenodd\" fill-opacity=\"1\"/>\n",
              "<defs>\n",
              "  <clipPath id=\"clip662\">\n",
              "    <rect x=\"426\" y=\"47\" width=\"1928\" height=\"1440\"/>\n",
              "  </clipPath>\n",
              "</defs>\n",
              "<polyline clip-path=\"url(#clip662)\" style=\"stroke:#000000; stroke-linecap:butt; stroke-linejoin:round; stroke-width:2; stroke-opacity:0.1; fill:none\" points=\"\n",
              "  480.602,1486.45 480.602,47.2441 \n",
              "  \"/>\n",
              "<polyline clip-path=\"url(#clip662)\" style=\"stroke:#000000; stroke-linecap:butt; stroke-linejoin:round; stroke-width:2; stroke-opacity:0.1; fill:none\" points=\"\n",
              "  935.008,1486.45 935.008,47.2441 \n",
              "  \"/>\n",
              "<polyline clip-path=\"url(#clip662)\" style=\"stroke:#000000; stroke-linecap:butt; stroke-linejoin:round; stroke-width:2; stroke-opacity:0.1; fill:none\" points=\"\n",
              "  1389.41,1486.45 1389.41,47.2441 \n",
              "  \"/>\n",
              "<polyline clip-path=\"url(#clip662)\" style=\"stroke:#000000; stroke-linecap:butt; stroke-linejoin:round; stroke-width:2; stroke-opacity:0.1; fill:none\" points=\"\n",
              "  1843.82,1486.45 1843.82,47.2441 \n",
              "  \"/>\n",
              "<polyline clip-path=\"url(#clip662)\" style=\"stroke:#000000; stroke-linecap:butt; stroke-linejoin:round; stroke-width:2; stroke-opacity:0.1; fill:none\" points=\"\n",
              "  2298.23,1486.45 2298.23,47.2441 \n",
              "  \"/>\n",
              "<polyline clip-path=\"url(#clip660)\" style=\"stroke:#000000; stroke-linecap:butt; stroke-linejoin:round; stroke-width:4; stroke-opacity:1; fill:none\" points=\"\n",
              "  426.073,1486.45 2352.76,1486.45 \n",
              "  \"/>\n",
              "<polyline clip-path=\"url(#clip660)\" style=\"stroke:#000000; stroke-linecap:butt; stroke-linejoin:round; stroke-width:4; stroke-opacity:1; fill:none\" points=\"\n",
              "  480.602,1486.45 480.602,1467.55 \n",
              "  \"/>\n",
              "<polyline clip-path=\"url(#clip660)\" style=\"stroke:#000000; stroke-linecap:butt; stroke-linejoin:round; stroke-width:4; stroke-opacity:1; fill:none\" points=\"\n",
              "  935.008,1486.45 935.008,1467.55 \n",
              "  \"/>\n",
              "<polyline clip-path=\"url(#clip660)\" style=\"stroke:#000000; stroke-linecap:butt; stroke-linejoin:round; stroke-width:4; stroke-opacity:1; fill:none\" points=\"\n",
              "  1389.41,1486.45 1389.41,1467.55 \n",
              "  \"/>\n",
              "<polyline clip-path=\"url(#clip660)\" style=\"stroke:#000000; stroke-linecap:butt; stroke-linejoin:round; stroke-width:4; stroke-opacity:1; fill:none\" points=\"\n",
              "  1843.82,1486.45 1843.82,1467.55 \n",
              "  \"/>\n",
              "<polyline clip-path=\"url(#clip660)\" style=\"stroke:#000000; stroke-linecap:butt; stroke-linejoin:round; stroke-width:4; stroke-opacity:1; fill:none\" points=\"\n",
              "  2298.23,1486.45 2298.23,1467.55 \n",
              "  \"/>\n",
              "<path clip-path=\"url(#clip660)\" d=\"M412.743 1517.37 Q409.132 1517.37 407.304 1520.93 Q405.498 1524.47 405.498 1531.6 Q405.498 1538.71 407.304 1542.27 Q409.132 1545.82 412.743 1545.82 Q416.378 1545.82 418.183 1542.27 Q420.012 1538.71 420.012 1531.6 Q420.012 1524.47 418.183 1520.93 Q416.378 1517.37 412.743 1517.37 M412.743 1513.66 Q418.554 1513.66 421.609 1518.27 Q424.688 1522.85 424.688 1531.6 Q424.688 1540.33 421.609 1544.94 Q418.554 1549.52 412.743 1549.52 Q406.933 1549.52 403.855 1544.94 Q400.799 1540.33 400.799 1531.6 Q400.799 1522.85 403.855 1518.27 Q406.933 1513.66 412.743 1513.66 Z\" fill=\"#000000\" fill-rule=\"evenodd\" fill-opacity=\"1\" /><path clip-path=\"url(#clip660)\" d=\"M432.905 1542.97 L437.79 1542.97 L437.79 1548.85 L432.905 1548.85 L432.905 1542.97 Z\" fill=\"#000000\" fill-rule=\"evenodd\" fill-opacity=\"1\" /><path clip-path=\"url(#clip660)\" d=\"M457.975 1517.37 Q454.364 1517.37 452.535 1520.93 Q450.729 1524.47 450.729 1531.6 Q450.729 1538.71 452.535 1542.27 Q454.364 1545.82 457.975 1545.82 Q461.609 1545.82 463.414 1542.27 Q465.243 1538.71 465.243 1531.6 Q465.243 1524.47 463.414 1520.93 Q461.609 1517.37 457.975 1517.37 M457.975 1513.66 Q463.785 1513.66 466.84 1518.27 Q469.919 1522.85 469.919 1531.6 Q469.919 1540.33 466.84 1544.94 Q463.785 1549.52 457.975 1549.52 Q452.164 1549.52 449.086 1544.94 Q446.03 1540.33 446.03 1531.6 Q446.03 1522.85 449.086 1518.27 Q452.164 1513.66 457.975 1513.66 Z\" fill=\"#000000\" fill-rule=\"evenodd\" fill-opacity=\"1\" /><path clip-path=\"url(#clip660)\" d=\"M488.137 1517.37 Q484.525 1517.37 482.697 1520.93 Q480.891 1524.47 480.891 1531.6 Q480.891 1538.71 482.697 1542.27 Q484.525 1545.82 488.137 1545.82 Q491.771 1545.82 493.576 1542.27 Q495.405 1538.71 495.405 1531.6 Q495.405 1524.47 493.576 1520.93 Q491.771 1517.37 488.137 1517.37 M488.137 1513.66 Q493.947 1513.66 497.002 1518.27 Q500.081 1522.85 500.081 1531.6 Q500.081 1540.33 497.002 1544.94 Q493.947 1549.52 488.137 1549.52 Q482.326 1549.52 479.248 1544.94 Q476.192 1540.33 476.192 1531.6 Q476.192 1522.85 479.248 1518.27 Q482.326 1513.66 488.137 1513.66 Z\" fill=\"#000000\" fill-rule=\"evenodd\" fill-opacity=\"1\" /><path clip-path=\"url(#clip660)\" d=\"M518.298 1517.37 Q514.687 1517.37 512.859 1520.93 Q511.053 1524.47 511.053 1531.6 Q511.053 1538.71 512.859 1542.27 Q514.687 1545.82 518.298 1545.82 Q521.933 1545.82 523.738 1542.27 Q525.567 1538.71 525.567 1531.6 Q525.567 1524.47 523.738 1520.93 Q521.933 1517.37 518.298 1517.37 M518.298 1513.66 Q524.109 1513.66 527.164 1518.27 Q530.243 1522.85 530.243 1531.6 Q530.243 1540.33 527.164 1544.94 Q524.109 1549.52 518.298 1549.52 Q512.488 1549.52 509.41 1544.94 Q506.354 1540.33 506.354 1531.6 Q506.354 1522.85 509.41 1518.27 Q512.488 1513.66 518.298 1513.66 Z\" fill=\"#000000\" fill-rule=\"evenodd\" fill-opacity=\"1\" /><path clip-path=\"url(#clip660)\" d=\"M548.46 1517.37 Q544.849 1517.37 543.02 1520.93 Q541.215 1524.47 541.215 1531.6 Q541.215 1538.71 543.02 1542.27 Q544.849 1545.82 548.46 1545.82 Q552.094 1545.82 553.9 1542.27 Q555.729 1538.71 555.729 1531.6 Q555.729 1524.47 553.9 1520.93 Q552.094 1517.37 548.46 1517.37 M548.46 1513.66 Q554.27 1513.66 557.326 1518.27 Q560.405 1522.85 560.405 1531.6 Q560.405 1540.33 557.326 1544.94 Q554.27 1549.52 548.46 1549.52 Q542.65 1549.52 539.571 1544.94 Q536.516 1540.33 536.516 1531.6 Q536.516 1522.85 539.571 1518.27 Q542.65 1513.66 548.46 1513.66 Z\" fill=\"#000000\" fill-rule=\"evenodd\" fill-opacity=\"1\" /><path clip-path=\"url(#clip660)\" d=\"M867.647 1517.37 Q864.036 1517.37 862.208 1520.93 Q860.402 1524.47 860.402 1531.6 Q860.402 1538.71 862.208 1542.27 Q864.036 1545.82 867.647 1545.82 Q871.282 1545.82 873.087 1542.27 Q874.916 1538.71 874.916 1531.6 Q874.916 1524.47 873.087 1520.93 Q871.282 1517.37 867.647 1517.37 M867.647 1513.66 Q873.458 1513.66 876.513 1518.27 Q879.592 1522.85 879.592 1531.6 Q879.592 1540.33 876.513 1544.94 Q873.458 1549.52 867.647 1549.52 Q861.837 1549.52 858.759 1544.94 Q855.703 1540.33 855.703 1531.6 Q855.703 1522.85 858.759 1518.27 Q861.837 1513.66 867.647 1513.66 Z\" fill=\"#000000\" fill-rule=\"evenodd\" fill-opacity=\"1\" /><path clip-path=\"url(#clip660)\" d=\"M887.809 1542.97 L892.694 1542.97 L892.694 1548.85 L887.809 1548.85 L887.809 1542.97 Z\" fill=\"#000000\" fill-rule=\"evenodd\" fill-opacity=\"1\" /><path clip-path=\"url(#clip660)\" d=\"M912.879 1517.37 Q909.268 1517.37 907.439 1520.93 Q905.633 1524.47 905.633 1531.6 Q905.633 1538.71 907.439 1542.27 Q909.268 1545.82 912.879 1545.82 Q916.513 1545.82 918.318 1542.27 Q920.147 1538.71 920.147 1531.6 Q920.147 1524.47 918.318 1520.93 Q916.513 1517.37 912.879 1517.37 M912.879 1513.66 Q918.689 1513.66 921.744 1518.27 Q924.823 1522.85 924.823 1531.6 Q924.823 1540.33 921.744 1544.94 Q918.689 1549.52 912.879 1549.52 Q907.068 1549.52 903.99 1544.94 Q900.934 1540.33 900.934 1531.6 Q900.934 1522.85 903.99 1518.27 Q907.068 1513.66 912.879 1513.66 Z\" fill=\"#000000\" fill-rule=\"evenodd\" fill-opacity=\"1\" /><path clip-path=\"url(#clip660)\" d=\"M943.041 1517.37 Q939.429 1517.37 937.601 1520.93 Q935.795 1524.47 935.795 1531.6 Q935.795 1538.71 937.601 1542.27 Q939.429 1545.82 943.041 1545.82 Q946.675 1545.82 948.48 1542.27 Q950.309 1538.71 950.309 1531.6 Q950.309 1524.47 948.48 1520.93 Q946.675 1517.37 943.041 1517.37 M943.041 1513.66 Q948.851 1513.66 951.906 1518.27 Q954.985 1522.85 954.985 1531.6 Q954.985 1540.33 951.906 1544.94 Q948.851 1549.52 943.041 1549.52 Q937.23 1549.52 934.152 1544.94 Q931.096 1540.33 931.096 1531.6 Q931.096 1522.85 934.152 1518.27 Q937.23 1513.66 943.041 1513.66 Z\" fill=\"#000000\" fill-rule=\"evenodd\" fill-opacity=\"1\" /><path clip-path=\"url(#clip660)\" d=\"M967.23 1544.91 L983.55 1544.91 L983.55 1548.85 L961.605 1548.85 L961.605 1544.91 Q964.267 1542.16 968.851 1537.53 Q973.457 1532.88 974.638 1531.53 Q976.883 1529.01 977.763 1527.27 Q978.665 1525.51 978.665 1523.82 Q978.665 1521.07 976.721 1519.33 Q974.8 1517.6 971.698 1517.6 Q969.499 1517.6 967.045 1518.36 Q964.614 1519.13 961.837 1520.68 L961.837 1515.95 Q964.661 1514.82 967.114 1514.24 Q969.568 1513.66 971.605 1513.66 Q976.976 1513.66 980.17 1516.35 Q983.364 1519.03 983.364 1523.52 Q983.364 1525.65 982.554 1527.57 Q981.767 1529.47 979.661 1532.07 Q979.082 1532.74 975.98 1535.95 Q972.878 1539.15 967.23 1544.91 Z\" fill=\"#000000\" fill-rule=\"evenodd\" fill-opacity=\"1\" /><path clip-path=\"url(#clip660)\" d=\"M993.411 1514.29 L1011.77 1514.29 L1011.77 1518.22 L997.693 1518.22 L997.693 1526.7 Q998.712 1526.35 999.73 1526.19 Q1000.75 1526 1001.77 1526 Q1007.55 1526 1010.93 1529.17 Q1014.31 1532.34 1014.31 1537.76 Q1014.31 1543.34 1010.84 1546.44 Q1007.37 1549.52 1001.05 1549.52 Q998.874 1549.52 996.605 1549.15 Q994.36 1548.78 991.952 1548.04 L991.952 1543.34 Q994.036 1544.47 996.258 1545.03 Q998.48 1545.58 1000.96 1545.58 Q1004.96 1545.58 1007.3 1543.48 Q1009.64 1541.37 1009.64 1537.76 Q1009.64 1534.15 1007.3 1532.04 Q1004.96 1529.94 1000.96 1529.94 Q999.082 1529.94 997.207 1530.35 Q995.355 1530.77 993.411 1531.65 L993.411 1514.29 Z\" fill=\"#000000\" fill-rule=\"evenodd\" fill-opacity=\"1\" /><path clip-path=\"url(#clip660)\" d=\"M1321.56 1517.37 Q1317.94 1517.37 1316.12 1520.93 Q1314.31 1524.47 1314.31 1531.6 Q1314.31 1538.71 1316.12 1542.27 Q1317.94 1545.82 1321.56 1545.82 Q1325.19 1545.82 1327 1542.27 Q1328.82 1538.71 1328.82 1531.6 Q1328.82 1524.47 1327 1520.93 Q1325.19 1517.37 1321.56 1517.37 M1321.56 1513.66 Q1327.37 1513.66 1330.42 1518.27 Q1333.5 1522.85 1333.5 1531.6 Q1333.5 1540.33 1330.42 1544.94 Q1327.37 1549.52 1321.56 1549.52 Q1315.75 1549.52 1312.67 1544.94 Q1309.61 1540.33 1309.61 1531.6 Q1309.61 1522.85 1312.67 1518.27 Q1315.75 1513.66 1321.56 1513.66 Z\" fill=\"#000000\" fill-rule=\"evenodd\" fill-opacity=\"1\" /><path clip-path=\"url(#clip660)\" d=\"M1341.72 1542.97 L1346.6 1542.97 L1346.6 1548.85 L1341.72 1548.85 L1341.72 1542.97 Z\" fill=\"#000000\" fill-rule=\"evenodd\" fill-opacity=\"1\" /><path clip-path=\"url(#clip660)\" d=\"M1366.79 1517.37 Q1363.18 1517.37 1361.35 1520.93 Q1359.54 1524.47 1359.54 1531.6 Q1359.54 1538.71 1361.35 1542.27 Q1363.18 1545.82 1366.79 1545.82 Q1370.42 1545.82 1372.23 1542.27 Q1374.06 1538.71 1374.06 1531.6 Q1374.06 1524.47 1372.23 1520.93 Q1370.42 1517.37 1366.79 1517.37 M1366.79 1513.66 Q1372.6 1513.66 1375.65 1518.27 Q1378.73 1522.85 1378.73 1531.6 Q1378.73 1540.33 1375.65 1544.94 Q1372.6 1549.52 1366.79 1549.52 Q1360.98 1549.52 1357.9 1544.94 Q1354.84 1540.33 1354.84 1531.6 Q1354.84 1522.85 1357.9 1518.27 Q1360.98 1513.66 1366.79 1513.66 Z\" fill=\"#000000\" fill-rule=\"evenodd\" fill-opacity=\"1\" /><path clip-path=\"url(#clip660)\" d=\"M1396.95 1517.37 Q1393.34 1517.37 1391.51 1520.93 Q1389.7 1524.47 1389.7 1531.6 Q1389.7 1538.71 1391.51 1542.27 Q1393.34 1545.82 1396.95 1545.82 Q1400.58 1545.82 1402.39 1542.27 Q1404.22 1538.71 1404.22 1531.6 Q1404.22 1524.47 1402.39 1520.93 Q1400.58 1517.37 1396.95 1517.37 M1396.95 1513.66 Q1402.76 1513.66 1405.81 1518.27 Q1408.89 1522.85 1408.89 1531.6 Q1408.89 1540.33 1405.81 1544.94 Q1402.76 1549.52 1396.95 1549.52 Q1391.14 1549.52 1388.06 1544.94 Q1385 1540.33 1385 1531.6 Q1385 1522.85 1388.06 1518.27 Q1391.14 1513.66 1396.95 1513.66 Z\" fill=\"#000000\" fill-rule=\"evenodd\" fill-opacity=\"1\" /><path clip-path=\"url(#clip660)\" d=\"M1417.16 1514.29 L1435.51 1514.29 L1435.51 1518.22 L1421.44 1518.22 L1421.44 1526.7 Q1422.46 1526.35 1423.48 1526.19 Q1424.5 1526 1425.51 1526 Q1431.3 1526 1434.68 1529.17 Q1438.06 1532.34 1438.06 1537.76 Q1438.06 1543.34 1434.59 1546.44 Q1431.12 1549.52 1424.8 1549.52 Q1422.62 1549.52 1420.35 1549.15 Q1418.11 1548.78 1415.7 1548.04 L1415.7 1543.34 Q1417.78 1544.47 1420 1545.03 Q1422.23 1545.58 1424.7 1545.58 Q1428.71 1545.58 1431.05 1543.48 Q1433.38 1541.37 1433.38 1537.76 Q1433.38 1534.15 1431.05 1532.04 Q1428.71 1529.94 1424.7 1529.94 Q1422.83 1529.94 1420.95 1530.35 Q1419.1 1530.77 1417.16 1531.65 L1417.16 1514.29 Z\" fill=\"#000000\" fill-rule=\"evenodd\" fill-opacity=\"1\" /><path clip-path=\"url(#clip660)\" d=\"M1457.27 1517.37 Q1453.66 1517.37 1451.83 1520.93 Q1450.03 1524.47 1450.03 1531.6 Q1450.03 1538.71 1451.83 1542.27 Q1453.66 1545.82 1457.27 1545.82 Q1460.91 1545.82 1462.71 1542.27 Q1464.54 1538.71 1464.54 1531.6 Q1464.54 1524.47 1462.71 1520.93 Q1460.91 1517.37 1457.27 1517.37 M1457.27 1513.66 Q1463.08 1513.66 1466.14 1518.27 Q1469.22 1522.85 1469.22 1531.6 Q1469.22 1540.33 1466.14 1544.94 Q1463.08 1549.52 1457.27 1549.52 Q1451.46 1549.52 1448.38 1544.94 Q1445.33 1540.33 1445.33 1531.6 Q1445.33 1522.85 1448.38 1518.27 Q1451.46 1513.66 1457.27 1513.66 Z\" fill=\"#000000\" fill-rule=\"evenodd\" fill-opacity=\"1\" /><path clip-path=\"url(#clip660)\" d=\"M1776.46 1517.37 Q1772.85 1517.37 1771.02 1520.93 Q1769.21 1524.47 1769.21 1531.6 Q1769.21 1538.71 1771.02 1542.27 Q1772.85 1545.82 1776.46 1545.82 Q1780.09 1545.82 1781.9 1542.27 Q1783.73 1538.71 1783.73 1531.6 Q1783.73 1524.47 1781.9 1520.93 Q1780.09 1517.37 1776.46 1517.37 M1776.46 1513.66 Q1782.27 1513.66 1785.33 1518.27 Q1788.4 1522.85 1788.4 1531.6 Q1788.4 1540.33 1785.33 1544.94 Q1782.27 1549.52 1776.46 1549.52 Q1770.65 1549.52 1767.57 1544.94 Q1764.52 1540.33 1764.52 1531.6 Q1764.52 1522.85 1767.57 1518.27 Q1770.65 1513.66 1776.46 1513.66 Z\" fill=\"#000000\" fill-rule=\"evenodd\" fill-opacity=\"1\" /><path clip-path=\"url(#clip660)\" d=\"M1796.62 1542.97 L1801.51 1542.97 L1801.51 1548.85 L1796.62 1548.85 L1796.62 1542.97 Z\" fill=\"#000000\" fill-rule=\"evenodd\" fill-opacity=\"1\" /><path clip-path=\"url(#clip660)\" d=\"M1821.69 1517.37 Q1818.08 1517.37 1816.25 1520.93 Q1814.45 1524.47 1814.45 1531.6 Q1814.45 1538.71 1816.25 1542.27 Q1818.08 1545.82 1821.69 1545.82 Q1825.33 1545.82 1827.13 1542.27 Q1828.96 1538.71 1828.96 1531.6 Q1828.96 1524.47 1827.13 1520.93 Q1825.33 1517.37 1821.69 1517.37 M1821.69 1513.66 Q1827.5 1513.66 1830.56 1518.27 Q1833.64 1522.85 1833.64 1531.6 Q1833.64 1540.33 1830.56 1544.94 Q1827.5 1549.52 1821.69 1549.52 Q1815.88 1549.52 1812.8 1544.94 Q1809.75 1540.33 1809.75 1531.6 Q1809.75 1522.85 1812.8 1518.27 Q1815.88 1513.66 1821.69 1513.66 Z\" fill=\"#000000\" fill-rule=\"evenodd\" fill-opacity=\"1\" /><path clip-path=\"url(#clip660)\" d=\"M1851.85 1517.37 Q1848.24 1517.37 1846.41 1520.93 Q1844.61 1524.47 1844.61 1531.6 Q1844.61 1538.71 1846.41 1542.27 Q1848.24 1545.82 1851.85 1545.82 Q1855.49 1545.82 1857.29 1542.27 Q1859.12 1538.71 1859.12 1531.6 Q1859.12 1524.47 1857.29 1520.93 Q1855.49 1517.37 1851.85 1517.37 M1851.85 1513.66 Q1857.66 1513.66 1860.72 1518.27 Q1863.8 1522.85 1863.8 1531.6 Q1863.8 1540.33 1860.72 1544.94 Q1857.66 1549.52 1851.85 1549.52 Q1846.04 1549.52 1842.96 1544.94 Q1839.91 1540.33 1839.91 1531.6 Q1839.91 1522.85 1842.96 1518.27 Q1846.04 1513.66 1851.85 1513.66 Z\" fill=\"#000000\" fill-rule=\"evenodd\" fill-opacity=\"1\" /><path clip-path=\"url(#clip660)\" d=\"M1870.83 1514.29 L1893.06 1514.29 L1893.06 1516.28 L1880.51 1548.85 L1875.63 1548.85 L1887.43 1518.22 L1870.83 1518.22 L1870.83 1514.29 Z\" fill=\"#000000\" fill-rule=\"evenodd\" fill-opacity=\"1\" /><path clip-path=\"url(#clip660)\" d=\"M1902.22 1514.29 L1920.58 1514.29 L1920.58 1518.22 L1906.51 1518.22 L1906.51 1526.7 Q1907.52 1526.35 1908.54 1526.19 Q1909.56 1526 1910.58 1526 Q1916.37 1526 1919.75 1529.17 Q1923.13 1532.34 1923.13 1537.76 Q1923.13 1543.34 1919.65 1546.44 Q1916.18 1549.52 1909.86 1549.52 Q1907.69 1549.52 1905.42 1549.15 Q1903.17 1548.78 1900.76 1548.04 L1900.76 1543.34 Q1902.85 1544.47 1905.07 1545.03 Q1907.29 1545.58 1909.77 1545.58 Q1913.77 1545.58 1916.11 1543.48 Q1918.45 1541.37 1918.45 1537.76 Q1918.45 1534.15 1916.11 1532.04 Q1913.77 1529.94 1909.77 1529.94 Q1907.89 1529.94 1906.02 1530.35 Q1904.17 1530.77 1902.22 1531.65 L1902.22 1514.29 Z\" fill=\"#000000\" fill-rule=\"evenodd\" fill-opacity=\"1\" /><path clip-path=\"url(#clip660)\" d=\"M2230.37 1517.37 Q2226.76 1517.37 2224.93 1520.93 Q2223.12 1524.47 2223.12 1531.6 Q2223.12 1538.71 2224.93 1542.27 Q2226.76 1545.82 2230.37 1545.82 Q2234 1545.82 2235.81 1542.27 Q2237.64 1538.71 2237.64 1531.6 Q2237.64 1524.47 2235.81 1520.93 Q2234 1517.37 2230.37 1517.37 M2230.37 1513.66 Q2236.18 1513.66 2239.23 1518.27 Q2242.31 1522.85 2242.31 1531.6 Q2242.31 1540.33 2239.23 1544.94 Q2236.18 1549.52 2230.37 1549.52 Q2224.56 1549.52 2221.48 1544.94 Q2218.42 1540.33 2218.42 1531.6 Q2218.42 1522.85 2221.48 1518.27 Q2224.56 1513.66 2230.37 1513.66 Z\" fill=\"#000000\" fill-rule=\"evenodd\" fill-opacity=\"1\" /><path clip-path=\"url(#clip660)\" d=\"M2250.53 1542.97 L2255.41 1542.97 L2255.41 1548.85 L2250.53 1548.85 L2250.53 1542.97 Z\" fill=\"#000000\" fill-rule=\"evenodd\" fill-opacity=\"1\" /><path clip-path=\"url(#clip660)\" d=\"M2275.6 1517.37 Q2271.99 1517.37 2270.16 1520.93 Q2268.35 1524.47 2268.35 1531.6 Q2268.35 1538.71 2270.16 1542.27 Q2271.99 1545.82 2275.6 1545.82 Q2279.23 1545.82 2281.04 1542.27 Q2282.87 1538.71 2282.87 1531.6 Q2282.87 1524.47 2281.04 1520.93 Q2279.23 1517.37 2275.6 1517.37 M2275.6 1513.66 Q2281.41 1513.66 2284.47 1518.27 Q2287.54 1522.85 2287.54 1531.6 Q2287.54 1540.33 2284.47 1544.94 Q2281.41 1549.52 2275.6 1549.52 Q2269.79 1549.52 2266.71 1544.94 Q2263.66 1540.33 2263.66 1531.6 Q2263.66 1522.85 2266.71 1518.27 Q2269.79 1513.66 2275.6 1513.66 Z\" fill=\"#000000\" fill-rule=\"evenodd\" fill-opacity=\"1\" /><path clip-path=\"url(#clip660)\" d=\"M2296.57 1544.91 L2304.21 1544.91 L2304.21 1518.55 L2295.9 1520.21 L2295.9 1515.95 L2304.16 1514.29 L2308.84 1514.29 L2308.84 1544.91 L2316.48 1544.91 L2316.48 1548.85 L2296.57 1548.85 L2296.57 1544.91 Z\" fill=\"#000000\" fill-rule=\"evenodd\" fill-opacity=\"1\" /><path clip-path=\"url(#clip660)\" d=\"M2335.92 1517.37 Q2332.31 1517.37 2330.48 1520.93 Q2328.68 1524.47 2328.68 1531.6 Q2328.68 1538.71 2330.48 1542.27 Q2332.31 1545.82 2335.92 1545.82 Q2339.56 1545.82 2341.36 1542.27 Q2343.19 1538.71 2343.19 1531.6 Q2343.19 1524.47 2341.36 1520.93 Q2339.56 1517.37 2335.92 1517.37 M2335.92 1513.66 Q2341.73 1513.66 2344.79 1518.27 Q2347.87 1522.85 2347.87 1531.6 Q2347.87 1540.33 2344.79 1544.94 Q2341.73 1549.52 2335.92 1549.52 Q2330.11 1549.52 2327.03 1544.94 Q2323.98 1540.33 2323.98 1531.6 Q2323.98 1522.85 2327.03 1518.27 Q2330.11 1513.66 2335.92 1513.66 Z\" fill=\"#000000\" fill-rule=\"evenodd\" fill-opacity=\"1\" /><path clip-path=\"url(#clip660)\" d=\"M2366.09 1517.37 Q2362.47 1517.37 2360.65 1520.93 Q2358.84 1524.47 2358.84 1531.6 Q2358.84 1538.71 2360.65 1542.27 Q2362.47 1545.82 2366.09 1545.82 Q2369.72 1545.82 2371.53 1542.27 Q2373.35 1538.71 2373.35 1531.6 Q2373.35 1524.47 2371.53 1520.93 Q2369.72 1517.37 2366.09 1517.37 M2366.09 1513.66 Q2371.9 1513.66 2374.95 1518.27 Q2378.03 1522.85 2378.03 1531.6 Q2378.03 1540.33 2374.95 1544.94 Q2371.9 1549.52 2366.09 1549.52 Q2360.28 1549.52 2357.2 1544.94 Q2354.14 1540.33 2354.14 1531.6 Q2354.14 1522.85 2357.2 1518.27 Q2360.28 1513.66 2366.09 1513.66 Z\" fill=\"#000000\" fill-rule=\"evenodd\" fill-opacity=\"1\" /><polyline clip-path=\"url(#clip662)\" style=\"stroke:#000000; stroke-linecap:butt; stroke-linejoin:round; stroke-width:2; stroke-opacity:0.1; fill:none\" points=\"\n",
              "  426.073,1402.97 2352.76,1402.97 \n",
              "  \"/>\n",
              "<polyline clip-path=\"url(#clip662)\" style=\"stroke:#000000; stroke-linecap:butt; stroke-linejoin:round; stroke-width:2; stroke-opacity:0.1; fill:none\" points=\"\n",
              "  426.073,1068.65 2352.76,1068.65 \n",
              "  \"/>\n",
              "<polyline clip-path=\"url(#clip662)\" style=\"stroke:#000000; stroke-linecap:butt; stroke-linejoin:round; stroke-width:2; stroke-opacity:0.1; fill:none\" points=\"\n",
              "  426.073,734.326 2352.76,734.326 \n",
              "  \"/>\n",
              "<polyline clip-path=\"url(#clip662)\" style=\"stroke:#000000; stroke-linecap:butt; stroke-linejoin:round; stroke-width:2; stroke-opacity:0.1; fill:none\" points=\"\n",
              "  426.073,400.006 2352.76,400.006 \n",
              "  \"/>\n",
              "<polyline clip-path=\"url(#clip662)\" style=\"stroke:#000000; stroke-linecap:butt; stroke-linejoin:round; stroke-width:2; stroke-opacity:0.1; fill:none\" points=\"\n",
              "  426.073,65.6867 2352.76,65.6867 \n",
              "  \"/>\n",
              "<polyline clip-path=\"url(#clip660)\" style=\"stroke:#000000; stroke-linecap:butt; stroke-linejoin:round; stroke-width:4; stroke-opacity:1; fill:none\" points=\"\n",
              "  426.073,1486.45 426.073,47.2441 \n",
              "  \"/>\n",
              "<polyline clip-path=\"url(#clip660)\" style=\"stroke:#000000; stroke-linecap:butt; stroke-linejoin:round; stroke-width:4; stroke-opacity:1; fill:none\" points=\"\n",
              "  426.073,1402.97 444.971,1402.97 \n",
              "  \"/>\n",
              "<polyline clip-path=\"url(#clip660)\" style=\"stroke:#000000; stroke-linecap:butt; stroke-linejoin:round; stroke-width:4; stroke-opacity:1; fill:none\" points=\"\n",
              "  426.073,1068.65 444.971,1068.65 \n",
              "  \"/>\n",
              "<polyline clip-path=\"url(#clip660)\" style=\"stroke:#000000; stroke-linecap:butt; stroke-linejoin:round; stroke-width:4; stroke-opacity:1; fill:none\" points=\"\n",
              "  426.073,734.326 444.971,734.326 \n",
              "  \"/>\n",
              "<polyline clip-path=\"url(#clip660)\" style=\"stroke:#000000; stroke-linecap:butt; stroke-linejoin:round; stroke-width:4; stroke-opacity:1; fill:none\" points=\"\n",
              "  426.073,400.006 444.971,400.006 \n",
              "  \"/>\n",
              "<polyline clip-path=\"url(#clip660)\" style=\"stroke:#000000; stroke-linecap:butt; stroke-linejoin:round; stroke-width:4; stroke-opacity:1; fill:none\" points=\"\n",
              "  426.073,65.6867 444.971,65.6867 \n",
              "  \"/>\n",
              "<path clip-path=\"url(#clip660)\" d=\"M53.3995 1422.76 L61.0384 1422.76 L61.0384 1396.39 L52.7282 1398.06 L52.7282 1393.8 L60.9921 1392.13 L65.668 1392.13 L65.668 1422.76 L73.3068 1422.76 L73.3068 1426.69 L53.3995 1426.69 L53.3995 1422.76 Z\" fill=\"#000000\" fill-rule=\"evenodd\" fill-opacity=\"1\" /><path clip-path=\"url(#clip660)\" d=\"M82.7512 1420.81 L87.6354 1420.81 L87.6354 1426.69 L82.7512 1426.69 L82.7512 1420.81 Z\" fill=\"#000000\" fill-rule=\"evenodd\" fill-opacity=\"1\" /><path clip-path=\"url(#clip660)\" d=\"M97.9595 1425.98 L97.9595 1421.72 Q99.7187 1422.55 101.524 1422.99 Q103.33 1423.43 105.066 1423.43 Q109.696 1423.43 112.126 1420.33 Q114.58 1417.2 114.927 1410.86 Q113.584 1412.85 111.524 1413.92 Q109.464 1414.98 106.964 1414.98 Q101.779 1414.98 98.7465 1411.86 Q95.7373 1408.71 95.7373 1403.27 Q95.7373 1397.94 98.8854 1394.73 Q102.034 1391.51 107.265 1391.51 Q113.26 1391.51 116.408 1396.11 Q119.58 1400.7 119.58 1409.45 Q119.58 1417.62 115.691 1422.5 Q111.825 1427.36 105.274 1427.36 Q103.515 1427.36 101.709 1427.02 Q99.9039 1426.67 97.9595 1425.98 M107.265 1411.32 Q110.413 1411.32 112.242 1409.17 Q114.094 1407.02 114.094 1403.27 Q114.094 1399.54 112.242 1397.39 Q110.413 1395.21 107.265 1395.21 Q104.117 1395.21 102.265 1397.39 Q100.436 1399.54 100.436 1403.27 Q100.436 1407.02 102.265 1409.17 Q104.117 1411.32 107.265 1411.32 Z\" fill=\"#000000\" fill-rule=\"evenodd\" fill-opacity=\"1\" /><path clip-path=\"url(#clip660)\" d=\"M128.121 1425.98 L128.121 1421.72 Q129.881 1422.55 131.686 1422.99 Q133.492 1423.43 135.228 1423.43 Q139.857 1423.43 142.288 1420.33 Q144.742 1417.2 145.089 1410.86 Q143.746 1412.85 141.686 1413.92 Q139.626 1414.98 137.126 1414.98 Q131.941 1414.98 128.908 1411.86 Q125.899 1408.71 125.899 1403.27 Q125.899 1397.94 129.047 1394.73 Q132.195 1391.51 137.427 1391.51 Q143.422 1391.51 146.57 1396.11 Q149.742 1400.7 149.742 1409.45 Q149.742 1417.62 145.853 1422.5 Q141.987 1427.36 135.436 1427.36 Q133.677 1427.36 131.871 1427.02 Q130.066 1426.67 128.121 1425.98 M137.427 1411.32 Q140.575 1411.32 142.404 1409.17 Q144.256 1407.02 144.256 1403.27 Q144.256 1399.54 142.404 1397.39 Q140.575 1395.21 137.427 1395.21 Q134.279 1395.21 132.427 1397.39 Q130.598 1399.54 130.598 1403.27 Q130.598 1407.02 132.427 1409.17 Q134.279 1411.32 137.427 1411.32 Z\" fill=\"#000000\" fill-rule=\"evenodd\" fill-opacity=\"1\" /><path clip-path=\"url(#clip660)\" d=\"M168.144 1410.28 Q164.811 1410.28 162.89 1412.06 Q160.992 1413.85 160.992 1416.97 Q160.992 1420.1 162.89 1421.88 Q164.811 1423.66 168.144 1423.66 Q171.478 1423.66 173.399 1421.88 Q175.32 1420.07 175.32 1416.97 Q175.32 1413.85 173.399 1412.06 Q171.501 1410.28 168.144 1410.28 M163.468 1408.29 Q160.459 1407.55 158.769 1405.49 Q157.103 1403.43 157.103 1400.47 Q157.103 1396.32 160.042 1393.92 Q163.005 1391.51 168.144 1391.51 Q173.306 1391.51 176.246 1393.92 Q179.186 1396.32 179.186 1400.47 Q179.186 1403.43 177.496 1405.49 Q175.829 1407.55 172.843 1408.29 Q176.223 1409.08 178.098 1411.37 Q179.996 1413.66 179.996 1416.97 Q179.996 1421.99 176.917 1424.68 Q173.862 1427.36 168.144 1427.36 Q162.427 1427.36 159.348 1424.68 Q156.292 1421.99 156.292 1416.97 Q156.292 1413.66 158.191 1411.37 Q160.089 1409.08 163.468 1408.29 M161.755 1400.91 Q161.755 1403.59 163.422 1405.1 Q165.112 1406.6 168.144 1406.6 Q171.154 1406.6 172.843 1405.1 Q174.556 1403.59 174.556 1400.91 Q174.556 1398.22 172.843 1396.72 Q171.154 1395.21 168.144 1395.21 Q165.112 1395.21 163.422 1396.72 Q161.755 1398.22 161.755 1400.91 Z\" fill=\"#000000\" fill-rule=\"evenodd\" fill-opacity=\"1\" /><path clip-path=\"url(#clip660)\" d=\"M198.306 1395.21 Q194.695 1395.21 192.866 1398.78 Q191.061 1402.32 191.061 1409.45 Q191.061 1416.55 192.866 1420.12 Q194.695 1423.66 198.306 1423.66 Q201.94 1423.66 203.746 1420.12 Q205.575 1416.55 205.575 1409.45 Q205.575 1402.32 203.746 1398.78 Q201.94 1395.21 198.306 1395.21 M198.306 1391.51 Q204.116 1391.51 207.172 1396.11 Q210.251 1400.7 210.251 1409.45 Q210.251 1418.17 207.172 1422.78 Q204.116 1427.36 198.306 1427.36 Q192.496 1427.36 189.417 1422.78 Q186.362 1418.17 186.362 1409.45 Q186.362 1400.7 189.417 1396.11 Q192.496 1391.51 198.306 1391.51 Z\" fill=\"#000000\" fill-rule=\"evenodd\" fill-opacity=\"1\" /><path clip-path=\"url(#clip660)\" d=\"M228.468 1395.21 Q224.857 1395.21 223.028 1398.78 Q221.223 1402.32 221.223 1409.45 Q221.223 1416.55 223.028 1420.12 Q224.857 1423.66 228.468 1423.66 Q232.102 1423.66 233.908 1420.12 Q235.737 1416.55 235.737 1409.45 Q235.737 1402.32 233.908 1398.78 Q232.102 1395.21 228.468 1395.21 M228.468 1391.51 Q234.278 1391.51 237.334 1396.11 Q240.412 1400.7 240.412 1409.45 Q240.412 1418.17 237.334 1422.78 Q234.278 1427.36 228.468 1427.36 Q222.658 1427.36 219.579 1422.78 Q216.524 1418.17 216.524 1409.45 Q216.524 1400.7 219.579 1396.11 Q222.658 1391.51 228.468 1391.51 Z\" fill=\"#000000\" fill-rule=\"evenodd\" fill-opacity=\"1\" /><path clip-path=\"url(#clip660)\" d=\"M276.801 1401.23 L266.222 1411.86 L276.801 1422.43 L274.046 1425.23 L263.422 1414.61 L252.797 1425.23 L250.065 1422.43 L260.621 1411.86 L250.065 1401.23 L252.797 1398.43 L263.422 1409.05 L274.046 1398.43 L276.801 1401.23 Z\" fill=\"#000000\" fill-rule=\"evenodd\" fill-opacity=\"1\" /><path clip-path=\"url(#clip660)\" d=\"M289.162 1422.76 L296.801 1422.76 L296.801 1396.39 L288.491 1398.06 L288.491 1393.8 L296.755 1392.13 L301.431 1392.13 L301.431 1422.76 L309.069 1422.76 L309.069 1426.69 L289.162 1426.69 L289.162 1422.76 Z\" fill=\"#000000\" fill-rule=\"evenodd\" fill-opacity=\"1\" /><path clip-path=\"url(#clip660)\" d=\"M328.514 1395.21 Q324.903 1395.21 323.074 1398.78 Q321.268 1402.32 321.268 1409.45 Q321.268 1416.55 323.074 1420.12 Q324.903 1423.66 328.514 1423.66 Q332.148 1423.66 333.954 1420.12 Q335.782 1416.55 335.782 1409.45 Q335.782 1402.32 333.954 1398.78 Q332.148 1395.21 328.514 1395.21 M328.514 1391.51 Q334.324 1391.51 337.379 1396.11 Q340.458 1400.7 340.458 1409.45 Q340.458 1418.17 337.379 1422.78 Q334.324 1427.36 328.514 1427.36 Q322.704 1427.36 319.625 1422.78 Q316.569 1418.17 316.569 1409.45 Q316.569 1400.7 319.625 1396.11 Q322.704 1391.51 328.514 1391.51 Z\" fill=\"#000000\" fill-rule=\"evenodd\" fill-opacity=\"1\" /><path clip-path=\"url(#clip660)\" d=\"M340.458 1385.61 L364.57 1385.61 L364.57 1388.81 L340.458 1388.81 L340.458 1385.61 Z\" fill=\"#000000\" fill-rule=\"evenodd\" fill-opacity=\"1\" /><path clip-path=\"url(#clip660)\" d=\"M384.28 1384.14 Q387.007 1384.73 388.531 1386.57 Q390.073 1388.41 390.073 1391.12 Q390.073 1395.28 387.214 1397.55 Q384.356 1399.83 379.089 1399.83 Q377.321 1399.83 375.441 1399.47 Q373.579 1399.13 371.585 1398.44 L371.585 1394.77 Q373.165 1395.69 375.046 1396.16 Q376.926 1396.63 378.976 1396.63 Q382.55 1396.63 384.412 1395.22 Q386.293 1393.81 386.293 1391.12 Q386.293 1388.64 384.544 1387.25 Q382.813 1385.84 379.71 1385.84 L376.437 1385.84 L376.437 1382.71 L379.86 1382.71 Q382.663 1382.71 384.149 1381.6 Q385.634 1380.48 385.634 1378.37 Q385.634 1376.21 384.092 1375.06 Q382.569 1373.89 379.71 1373.89 Q378.149 1373.89 376.362 1374.23 Q374.575 1374.57 372.431 1375.28 L372.431 1371.9 Q374.594 1371.3 376.475 1371 Q378.375 1370.7 380.049 1370.7 Q384.374 1370.7 386.895 1372.67 Q389.415 1374.63 389.415 1377.97 Q389.415 1380.31 388.079 1381.92 Q386.744 1383.52 384.28 1384.14 Z\" fill=\"#000000\" fill-rule=\"evenodd\" fill-opacity=\"1\" /><path clip-path=\"url(#clip660)\" d=\"M53.3995 1088.44 L61.0384 1088.44 L61.0384 1062.07 L52.7282 1063.74 L52.7282 1059.48 L60.9921 1057.81 L65.668 1057.81 L65.668 1088.44 L73.3068 1088.44 L73.3068 1092.37 L53.3995 1092.37 L53.3995 1088.44 Z\" fill=\"#000000\" fill-rule=\"evenodd\" fill-opacity=\"1\" /><path clip-path=\"url(#clip660)\" d=\"M82.7512 1086.49 L87.6354 1086.49 L87.6354 1092.37 L82.7512 1092.37 L82.7512 1086.49 Z\" fill=\"#000000\" fill-rule=\"evenodd\" fill-opacity=\"1\" /><path clip-path=\"url(#clip660)\" d=\"M97.9595 1091.66 L97.9595 1087.4 Q99.7187 1088.23 101.524 1088.67 Q103.33 1089.11 105.066 1089.11 Q109.696 1089.11 112.126 1086.01 Q114.58 1082.88 114.927 1076.54 Q113.584 1078.53 111.524 1079.6 Q109.464 1080.66 106.964 1080.66 Q101.779 1080.66 98.7465 1077.54 Q95.7373 1074.39 95.7373 1068.95 Q95.7373 1063.62 98.8854 1060.41 Q102.034 1057.19 107.265 1057.19 Q113.26 1057.19 116.408 1061.79 Q119.58 1066.38 119.58 1075.13 Q119.58 1083.3 115.691 1088.18 Q111.825 1093.04 105.274 1093.04 Q103.515 1093.04 101.709 1092.7 Q99.9039 1092.35 97.9595 1091.66 M107.265 1077 Q110.413 1077 112.242 1074.85 Q114.094 1072.7 114.094 1068.95 Q114.094 1065.22 112.242 1063.07 Q110.413 1060.89 107.265 1060.89 Q104.117 1060.89 102.265 1063.07 Q100.436 1065.22 100.436 1068.95 Q100.436 1072.7 102.265 1074.85 Q104.117 1077 107.265 1077 Z\" fill=\"#000000\" fill-rule=\"evenodd\" fill-opacity=\"1\" /><path clip-path=\"url(#clip660)\" d=\"M128.121 1091.66 L128.121 1087.4 Q129.881 1088.23 131.686 1088.67 Q133.492 1089.11 135.228 1089.11 Q139.857 1089.11 142.288 1086.01 Q144.742 1082.88 145.089 1076.54 Q143.746 1078.53 141.686 1079.6 Q139.626 1080.66 137.126 1080.66 Q131.941 1080.66 128.908 1077.54 Q125.899 1074.39 125.899 1068.95 Q125.899 1063.62 129.047 1060.41 Q132.195 1057.19 137.427 1057.19 Q143.422 1057.19 146.57 1061.79 Q149.742 1066.38 149.742 1075.13 Q149.742 1083.3 145.853 1088.18 Q141.987 1093.04 135.436 1093.04 Q133.677 1093.04 131.871 1092.7 Q130.066 1092.35 128.121 1091.66 M137.427 1077 Q140.575 1077 142.404 1074.85 Q144.256 1072.7 144.256 1068.95 Q144.256 1065.22 142.404 1063.07 Q140.575 1060.89 137.427 1060.89 Q134.279 1060.89 132.427 1063.07 Q130.598 1065.22 130.598 1068.95 Q130.598 1072.7 132.427 1074.85 Q134.279 1077 137.427 1077 Z\" fill=\"#000000\" fill-rule=\"evenodd\" fill-opacity=\"1\" /><path clip-path=\"url(#clip660)\" d=\"M168.144 1075.96 Q164.811 1075.96 162.89 1077.74 Q160.992 1079.53 160.992 1082.65 Q160.992 1085.78 162.89 1087.56 Q164.811 1089.34 168.144 1089.34 Q171.478 1089.34 173.399 1087.56 Q175.32 1085.75 175.32 1082.65 Q175.32 1079.53 173.399 1077.74 Q171.501 1075.96 168.144 1075.96 M163.468 1073.97 Q160.459 1073.23 158.769 1071.17 Q157.103 1069.11 157.103 1066.15 Q157.103 1062 160.042 1059.6 Q163.005 1057.19 168.144 1057.19 Q173.306 1057.19 176.246 1059.6 Q179.186 1062 179.186 1066.15 Q179.186 1069.11 177.496 1071.17 Q175.829 1073.23 172.843 1073.97 Q176.223 1074.76 178.098 1077.05 Q179.996 1079.34 179.996 1082.65 Q179.996 1087.67 176.917 1090.36 Q173.862 1093.04 168.144 1093.04 Q162.427 1093.04 159.348 1090.36 Q156.292 1087.67 156.292 1082.65 Q156.292 1079.34 158.191 1077.05 Q160.089 1074.76 163.468 1073.97 M161.755 1066.59 Q161.755 1069.27 163.422 1070.78 Q165.112 1072.28 168.144 1072.28 Q171.154 1072.28 172.843 1070.78 Q174.556 1069.27 174.556 1066.59 Q174.556 1063.9 172.843 1062.4 Q171.154 1060.89 168.144 1060.89 Q165.112 1060.89 163.422 1062.4 Q161.755 1063.9 161.755 1066.59 Z\" fill=\"#000000\" fill-rule=\"evenodd\" fill-opacity=\"1\" /><path clip-path=\"url(#clip660)\" d=\"M188.353 1057.81 L206.709 1057.81 L206.709 1061.75 L192.635 1061.75 L192.635 1070.22 Q193.653 1069.87 194.672 1069.71 Q195.69 1069.53 196.709 1069.53 Q202.496 1069.53 205.876 1072.7 Q209.255 1075.87 209.255 1081.29 Q209.255 1086.86 205.783 1089.97 Q202.311 1093.04 195.991 1093.04 Q193.815 1093.04 191.547 1092.67 Q189.302 1092.3 186.894 1091.56 L186.894 1086.86 Q188.977 1088 191.2 1088.55 Q193.422 1089.11 195.899 1089.11 Q199.903 1089.11 202.241 1087 Q204.579 1084.9 204.579 1081.29 Q204.579 1077.67 202.241 1075.57 Q199.903 1073.46 195.899 1073.46 Q194.024 1073.46 192.149 1073.88 Q190.297 1074.29 188.353 1075.17 L188.353 1057.81 Z\" fill=\"#000000\" fill-rule=\"evenodd\" fill-opacity=\"1\" /><path clip-path=\"url(#clip660)\" d=\"M228.468 1060.89 Q224.857 1060.89 223.028 1064.46 Q221.223 1068 221.223 1075.13 Q221.223 1082.23 223.028 1085.8 Q224.857 1089.34 228.468 1089.34 Q232.102 1089.34 233.908 1085.8 Q235.737 1082.23 235.737 1075.13 Q235.737 1068 233.908 1064.46 Q232.102 1060.89 228.468 1060.89 M228.468 1057.19 Q234.278 1057.19 237.334 1061.79 Q240.412 1066.38 240.412 1075.13 Q240.412 1083.86 237.334 1088.46 Q234.278 1093.04 228.468 1093.04 Q222.658 1093.04 219.579 1088.46 Q216.524 1083.86 216.524 1075.13 Q216.524 1066.38 219.579 1061.79 Q222.658 1057.19 228.468 1057.19 Z\" fill=\"#000000\" fill-rule=\"evenodd\" fill-opacity=\"1\" /><path clip-path=\"url(#clip660)\" d=\"M276.801 1066.91 L266.222 1077.54 L276.801 1088.11 L274.046 1090.92 L263.422 1080.29 L252.797 1090.92 L250.065 1088.11 L260.621 1077.54 L250.065 1066.91 L252.797 1064.11 L263.422 1074.73 L274.046 1064.11 L276.801 1066.91 Z\" fill=\"#000000\" fill-rule=\"evenodd\" fill-opacity=\"1\" /><path clip-path=\"url(#clip660)\" d=\"M289.162 1088.44 L296.801 1088.44 L296.801 1062.07 L288.491 1063.74 L288.491 1059.48 L296.755 1057.81 L301.431 1057.81 L301.431 1088.44 L309.069 1088.44 L309.069 1092.37 L289.162 1092.37 L289.162 1088.44 Z\" fill=\"#000000\" fill-rule=\"evenodd\" fill-opacity=\"1\" /><path clip-path=\"url(#clip660)\" d=\"M328.514 1060.89 Q324.903 1060.89 323.074 1064.46 Q321.268 1068 321.268 1075.13 Q321.268 1082.23 323.074 1085.8 Q324.903 1089.34 328.514 1089.34 Q332.148 1089.34 333.954 1085.8 Q335.782 1082.23 335.782 1075.13 Q335.782 1068 333.954 1064.46 Q332.148 1060.89 328.514 1060.89 M328.514 1057.19 Q334.324 1057.19 337.379 1061.79 Q340.458 1066.38 340.458 1075.13 Q340.458 1083.86 337.379 1088.46 Q334.324 1093.04 328.514 1093.04 Q322.704 1093.04 319.625 1088.46 Q316.569 1083.86 316.569 1075.13 Q316.569 1066.38 319.625 1061.79 Q322.704 1057.19 328.514 1057.19 Z\" fill=\"#000000\" fill-rule=\"evenodd\" fill-opacity=\"1\" /><path clip-path=\"url(#clip660)\" d=\"M340.458 1051.29 L364.57 1051.29 L364.57 1054.49 L340.458 1054.49 L340.458 1051.29 Z\" fill=\"#000000\" fill-rule=\"evenodd\" fill-opacity=\"1\" /><path clip-path=\"url(#clip660)\" d=\"M384.28 1049.82 Q387.007 1050.41 388.531 1052.25 Q390.073 1054.09 390.073 1056.8 Q390.073 1060.96 387.214 1063.23 Q384.356 1065.51 379.089 1065.51 Q377.321 1065.51 375.441 1065.15 Q373.579 1064.81 371.585 1064.12 L371.585 1060.45 Q373.165 1061.37 375.046 1061.84 Q376.926 1062.31 378.976 1062.31 Q382.55 1062.31 384.412 1060.9 Q386.293 1059.49 386.293 1056.8 Q386.293 1054.32 384.544 1052.93 Q382.813 1051.52 379.71 1051.52 L376.437 1051.52 L376.437 1048.39 L379.86 1048.39 Q382.663 1048.39 384.149 1047.28 Q385.634 1046.16 385.634 1044.05 Q385.634 1041.89 384.092 1040.74 Q382.569 1039.57 379.71 1039.57 Q378.149 1039.57 376.362 1039.91 Q374.575 1040.25 372.431 1040.96 L372.431 1037.58 Q374.594 1036.98 376.475 1036.68 Q378.375 1036.38 380.049 1036.38 Q384.374 1036.38 386.895 1038.35 Q389.415 1040.31 389.415 1043.65 Q389.415 1045.99 388.079 1047.6 Q386.744 1049.2 384.28 1049.82 Z\" fill=\"#000000\" fill-rule=\"evenodd\" fill-opacity=\"1\" /><path clip-path=\"url(#clip660)\" d=\"M53.3995 754.119 L61.0384 754.119 L61.0384 727.753 L52.7282 729.42 L52.7282 725.16 L60.9921 723.494 L65.668 723.494 L65.668 754.119 L73.3068 754.119 L73.3068 758.054 L53.3995 758.054 L53.3995 754.119 Z\" fill=\"#000000\" fill-rule=\"evenodd\" fill-opacity=\"1\" /><path clip-path=\"url(#clip660)\" d=\"M82.7512 752.174 L87.6354 752.174 L87.6354 758.054 L82.7512 758.054 L82.7512 752.174 Z\" fill=\"#000000\" fill-rule=\"evenodd\" fill-opacity=\"1\" /><path clip-path=\"url(#clip660)\" d=\"M97.9595 757.336 L97.9595 753.077 Q99.7187 753.91 101.524 754.35 Q103.33 754.79 105.066 754.79 Q109.696 754.79 112.126 751.688 Q114.58 748.563 114.927 742.221 Q113.584 744.211 111.524 745.276 Q109.464 746.341 106.964 746.341 Q101.779 746.341 98.7465 743.216 Q95.7373 740.068 95.7373 734.628 Q95.7373 729.304 98.8854 726.086 Q102.034 722.869 107.265 722.869 Q113.26 722.869 116.408 727.475 Q119.58 732.059 119.58 740.808 Q119.58 748.98 115.691 753.864 Q111.825 758.725 105.274 758.725 Q103.515 758.725 101.709 758.378 Q99.9039 758.031 97.9595 757.336 M107.265 742.683 Q110.413 742.683 112.242 740.531 Q114.094 738.378 114.094 734.628 Q114.094 730.901 112.242 728.748 Q110.413 726.572 107.265 726.572 Q104.117 726.572 102.265 728.748 Q100.436 730.901 100.436 734.628 Q100.436 738.378 102.265 740.531 Q104.117 742.683 107.265 742.683 Z\" fill=\"#000000\" fill-rule=\"evenodd\" fill-opacity=\"1\" /><path clip-path=\"url(#clip660)\" d=\"M128.121 757.336 L128.121 753.077 Q129.881 753.91 131.686 754.35 Q133.492 754.79 135.228 754.79 Q139.857 754.79 142.288 751.688 Q144.742 748.563 145.089 742.221 Q143.746 744.211 141.686 745.276 Q139.626 746.341 137.126 746.341 Q131.941 746.341 128.908 743.216 Q125.899 740.068 125.899 734.628 Q125.899 729.304 129.047 726.086 Q132.195 722.869 137.427 722.869 Q143.422 722.869 146.57 727.475 Q149.742 732.059 149.742 740.808 Q149.742 748.98 145.853 753.864 Q141.987 758.725 135.436 758.725 Q133.677 758.725 131.871 758.378 Q130.066 758.031 128.121 757.336 M137.427 742.683 Q140.575 742.683 142.404 740.531 Q144.256 738.378 144.256 734.628 Q144.256 730.901 142.404 728.748 Q140.575 726.572 137.427 726.572 Q134.279 726.572 132.427 728.748 Q130.598 730.901 130.598 734.628 Q130.598 738.378 132.427 740.531 Q134.279 742.683 137.427 742.683 Z\" fill=\"#000000\" fill-rule=\"evenodd\" fill-opacity=\"1\" /><path clip-path=\"url(#clip660)\" d=\"M158.283 757.336 L158.283 753.077 Q160.042 753.91 161.848 754.35 Q163.654 754.79 165.39 754.79 Q170.019 754.79 172.45 751.688 Q174.903 748.563 175.251 742.221 Q173.908 744.211 171.848 745.276 Q169.788 746.341 167.288 746.341 Q162.103 746.341 159.07 743.216 Q156.061 740.068 156.061 734.628 Q156.061 729.304 159.209 726.086 Q162.357 722.869 167.589 722.869 Q173.584 722.869 176.732 727.475 Q179.903 732.059 179.903 740.808 Q179.903 748.98 176.015 753.864 Q172.149 758.725 165.598 758.725 Q163.839 758.725 162.033 758.378 Q160.228 758.031 158.283 757.336 M167.589 742.683 Q170.737 742.683 172.566 740.531 Q174.417 738.378 174.417 734.628 Q174.417 730.901 172.566 728.748 Q170.737 726.572 167.589 726.572 Q164.441 726.572 162.589 728.748 Q160.76 730.901 160.76 734.628 Q160.76 738.378 162.589 740.531 Q164.441 742.683 167.589 742.683 Z\" fill=\"#000000\" fill-rule=\"evenodd\" fill-opacity=\"1\" /><path clip-path=\"url(#clip660)\" d=\"M198.306 726.572 Q194.695 726.572 192.866 730.137 Q191.061 733.679 191.061 740.808 Q191.061 747.915 192.866 751.48 Q194.695 755.021 198.306 755.021 Q201.94 755.021 203.746 751.48 Q205.575 747.915 205.575 740.808 Q205.575 733.679 203.746 730.137 Q201.94 726.572 198.306 726.572 M198.306 722.869 Q204.116 722.869 207.172 727.475 Q210.251 732.059 210.251 740.808 Q210.251 749.535 207.172 754.142 Q204.116 758.725 198.306 758.725 Q192.496 758.725 189.417 754.142 Q186.362 749.535 186.362 740.808 Q186.362 732.059 189.417 727.475 Q192.496 722.869 198.306 722.869 Z\" fill=\"#000000\" fill-rule=\"evenodd\" fill-opacity=\"1\" /><path clip-path=\"url(#clip660)\" d=\"M228.468 726.572 Q224.857 726.572 223.028 730.137 Q221.223 733.679 221.223 740.808 Q221.223 747.915 223.028 751.48 Q224.857 755.021 228.468 755.021 Q232.102 755.021 233.908 751.48 Q235.737 747.915 235.737 740.808 Q235.737 733.679 233.908 730.137 Q232.102 726.572 228.468 726.572 M228.468 722.869 Q234.278 722.869 237.334 727.475 Q240.412 732.059 240.412 740.808 Q240.412 749.535 237.334 754.142 Q234.278 758.725 228.468 758.725 Q222.658 758.725 219.579 754.142 Q216.524 749.535 216.524 740.808 Q216.524 732.059 219.579 727.475 Q222.658 722.869 228.468 722.869 Z\" fill=\"#000000\" fill-rule=\"evenodd\" fill-opacity=\"1\" /><path clip-path=\"url(#clip660)\" d=\"M276.801 732.591 L266.222 743.216 L276.801 753.795 L274.046 756.595 L263.422 745.97 L252.797 756.595 L250.065 753.795 L260.621 743.216 L250.065 732.591 L252.797 729.79 L263.422 740.415 L274.046 729.79 L276.801 732.591 Z\" fill=\"#000000\" fill-rule=\"evenodd\" fill-opacity=\"1\" /><path clip-path=\"url(#clip660)\" d=\"M289.162 754.119 L296.801 754.119 L296.801 727.753 L288.491 729.42 L288.491 725.16 L296.755 723.494 L301.431 723.494 L301.431 754.119 L309.069 754.119 L309.069 758.054 L289.162 758.054 L289.162 754.119 Z\" fill=\"#000000\" fill-rule=\"evenodd\" fill-opacity=\"1\" /><path clip-path=\"url(#clip660)\" d=\"M328.514 726.572 Q324.903 726.572 323.074 730.137 Q321.268 733.679 321.268 740.808 Q321.268 747.915 323.074 751.48 Q324.903 755.021 328.514 755.021 Q332.148 755.021 333.954 751.48 Q335.782 747.915 335.782 740.808 Q335.782 733.679 333.954 730.137 Q332.148 726.572 328.514 726.572 M328.514 722.869 Q334.324 722.869 337.379 727.475 Q340.458 732.059 340.458 740.808 Q340.458 749.535 337.379 754.142 Q334.324 758.725 328.514 758.725 Q322.704 758.725 319.625 754.142 Q316.569 749.535 316.569 740.808 Q316.569 732.059 319.625 727.475 Q322.704 722.869 328.514 722.869 Z\" fill=\"#000000\" fill-rule=\"evenodd\" fill-opacity=\"1\" /><path clip-path=\"url(#clip660)\" d=\"M340.458 716.97 L364.57 716.97 L364.57 720.167 L340.458 720.167 L340.458 716.97 Z\" fill=\"#000000\" fill-rule=\"evenodd\" fill-opacity=\"1\" /><path clip-path=\"url(#clip660)\" d=\"M384.28 715.503 Q387.007 716.086 388.531 717.929 Q390.073 719.772 390.073 722.481 Q390.073 726.637 387.214 728.913 Q384.356 731.189 379.089 731.189 Q377.321 731.189 375.441 730.831 Q373.579 730.493 371.585 729.797 L371.585 726.129 Q373.165 727.051 375.046 727.521 Q376.926 727.991 378.976 727.991 Q382.55 727.991 384.412 726.581 Q386.293 725.17 386.293 722.481 Q386.293 719.998 384.544 718.606 Q382.813 717.196 379.71 717.196 L376.437 717.196 L376.437 714.074 L379.86 714.074 Q382.663 714.074 384.149 712.964 Q385.634 711.836 385.634 709.729 Q385.634 707.566 384.092 706.419 Q382.569 705.253 379.71 705.253 Q378.149 705.253 376.362 705.591 Q374.575 705.93 372.431 706.645 L372.431 703.259 Q374.594 702.657 376.475 702.356 Q378.375 702.056 380.049 702.056 Q384.374 702.056 386.895 704.03 Q389.415 705.986 389.415 709.334 Q389.415 711.666 388.079 713.284 Q386.744 714.882 384.28 715.503 Z\" fill=\"#000000\" fill-rule=\"evenodd\" fill-opacity=\"1\" /><path clip-path=\"url(#clip660)\" d=\"M53.3995 419.799 L61.0384 419.799 L61.0384 393.433 L52.7282 395.1 L52.7282 390.841 L60.9921 389.174 L65.668 389.174 L65.668 419.799 L73.3068 419.799 L73.3068 423.734 L53.3995 423.734 L53.3995 419.799 Z\" fill=\"#000000\" fill-rule=\"evenodd\" fill-opacity=\"1\" /><path clip-path=\"url(#clip660)\" d=\"M82.7512 417.854 L87.6354 417.854 L87.6354 423.734 L82.7512 423.734 L82.7512 417.854 Z\" fill=\"#000000\" fill-rule=\"evenodd\" fill-opacity=\"1\" /><path clip-path=\"url(#clip660)\" d=\"M97.9595 423.016 L97.9595 418.757 Q99.7187 419.591 101.524 420.03 Q103.33 420.47 105.066 420.47 Q109.696 420.47 112.126 417.368 Q114.58 414.243 114.927 407.901 Q113.584 409.891 111.524 410.956 Q109.464 412.021 106.964 412.021 Q101.779 412.021 98.7465 408.896 Q95.7373 405.748 95.7373 400.308 Q95.7373 394.984 98.8854 391.767 Q102.034 388.549 107.265 388.549 Q113.26 388.549 116.408 393.155 Q119.58 397.739 119.58 406.489 Q119.58 414.66 115.691 419.544 Q111.825 424.405 105.274 424.405 Q103.515 424.405 101.709 424.058 Q99.9039 423.711 97.9595 423.016 M107.265 408.364 Q110.413 408.364 112.242 406.211 Q114.094 404.058 114.094 400.308 Q114.094 396.581 112.242 394.429 Q110.413 392.253 107.265 392.253 Q104.117 392.253 102.265 394.429 Q100.436 396.581 100.436 400.308 Q100.436 404.058 102.265 406.211 Q104.117 408.364 107.265 408.364 Z\" fill=\"#000000\" fill-rule=\"evenodd\" fill-opacity=\"1\" /><path clip-path=\"url(#clip660)\" d=\"M128.121 423.016 L128.121 418.757 Q129.881 419.591 131.686 420.03 Q133.492 420.47 135.228 420.47 Q139.857 420.47 142.288 417.368 Q144.742 414.243 145.089 407.901 Q143.746 409.891 141.686 410.956 Q139.626 412.021 137.126 412.021 Q131.941 412.021 128.908 408.896 Q125.899 405.748 125.899 400.308 Q125.899 394.984 129.047 391.767 Q132.195 388.549 137.427 388.549 Q143.422 388.549 146.57 393.155 Q149.742 397.739 149.742 406.489 Q149.742 414.66 145.853 419.544 Q141.987 424.405 135.436 424.405 Q133.677 424.405 131.871 424.058 Q130.066 423.711 128.121 423.016 M137.427 408.364 Q140.575 408.364 142.404 406.211 Q144.256 404.058 144.256 400.308 Q144.256 396.581 142.404 394.429 Q140.575 392.253 137.427 392.253 Q134.279 392.253 132.427 394.429 Q130.598 396.581 130.598 400.308 Q130.598 404.058 132.427 406.211 Q134.279 408.364 137.427 408.364 Z\" fill=\"#000000\" fill-rule=\"evenodd\" fill-opacity=\"1\" /><path clip-path=\"url(#clip660)\" d=\"M158.283 423.016 L158.283 418.757 Q160.042 419.591 161.848 420.03 Q163.654 420.47 165.39 420.47 Q170.019 420.47 172.45 417.368 Q174.903 414.243 175.251 407.901 Q173.908 409.891 171.848 410.956 Q169.788 412.021 167.288 412.021 Q162.103 412.021 159.07 408.896 Q156.061 405.748 156.061 400.308 Q156.061 394.984 159.209 391.767 Q162.357 388.549 167.589 388.549 Q173.584 388.549 176.732 393.155 Q179.903 397.739 179.903 406.489 Q179.903 414.66 176.015 419.544 Q172.149 424.405 165.598 424.405 Q163.839 424.405 162.033 424.058 Q160.228 423.711 158.283 423.016 M167.589 408.364 Q170.737 408.364 172.566 406.211 Q174.417 404.058 174.417 400.308 Q174.417 396.581 172.566 394.429 Q170.737 392.253 167.589 392.253 Q164.441 392.253 162.589 394.429 Q160.76 396.581 160.76 400.308 Q160.76 404.058 162.589 406.211 Q164.441 408.364 167.589 408.364 Z\" fill=\"#000000\" fill-rule=\"evenodd\" fill-opacity=\"1\" /><path clip-path=\"url(#clip660)\" d=\"M188.353 389.174 L206.709 389.174 L206.709 393.109 L192.635 393.109 L192.635 401.581 Q193.653 401.234 194.672 401.072 Q195.69 400.887 196.709 400.887 Q202.496 400.887 205.876 404.058 Q209.255 407.229 209.255 412.646 Q209.255 418.225 205.783 421.327 Q202.311 424.405 195.991 424.405 Q193.815 424.405 191.547 424.035 Q189.302 423.665 186.894 422.924 L186.894 418.225 Q188.977 419.359 191.2 419.915 Q193.422 420.47 195.899 420.47 Q199.903 420.47 202.241 418.364 Q204.579 416.257 204.579 412.646 Q204.579 409.035 202.241 406.929 Q199.903 404.822 195.899 404.822 Q194.024 404.822 192.149 405.239 Q190.297 405.655 188.353 406.535 L188.353 389.174 Z\" fill=\"#000000\" fill-rule=\"evenodd\" fill-opacity=\"1\" /><path clip-path=\"url(#clip660)\" d=\"M228.468 392.253 Q224.857 392.253 223.028 395.817 Q221.223 399.359 221.223 406.489 Q221.223 413.595 223.028 417.16 Q224.857 420.702 228.468 420.702 Q232.102 420.702 233.908 417.16 Q235.737 413.595 235.737 406.489 Q235.737 399.359 233.908 395.817 Q232.102 392.253 228.468 392.253 M228.468 388.549 Q234.278 388.549 237.334 393.155 Q240.412 397.739 240.412 406.489 Q240.412 415.216 237.334 419.822 Q234.278 424.405 228.468 424.405 Q222.658 424.405 219.579 419.822 Q216.524 415.216 216.524 406.489 Q216.524 397.739 219.579 393.155 Q222.658 388.549 228.468 388.549 Z\" fill=\"#000000\" fill-rule=\"evenodd\" fill-opacity=\"1\" /><path clip-path=\"url(#clip660)\" d=\"M276.801 398.271 L266.222 408.896 L276.801 419.475 L274.046 422.276 L263.422 411.651 L252.797 422.276 L250.065 419.475 L260.621 408.896 L250.065 398.271 L252.797 395.47 L263.422 406.095 L274.046 395.47 L276.801 398.271 Z\" fill=\"#000000\" fill-rule=\"evenodd\" fill-opacity=\"1\" /><path clip-path=\"url(#clip660)\" d=\"M289.162 419.799 L296.801 419.799 L296.801 393.433 L288.491 395.1 L288.491 390.841 L296.755 389.174 L301.431 389.174 L301.431 419.799 L309.069 419.799 L309.069 423.734 L289.162 423.734 L289.162 419.799 Z\" fill=\"#000000\" fill-rule=\"evenodd\" fill-opacity=\"1\" /><path clip-path=\"url(#clip660)\" d=\"M328.514 392.253 Q324.903 392.253 323.074 395.817 Q321.268 399.359 321.268 406.489 Q321.268 413.595 323.074 417.16 Q324.903 420.702 328.514 420.702 Q332.148 420.702 333.954 417.16 Q335.782 413.595 335.782 406.489 Q335.782 399.359 333.954 395.817 Q332.148 392.253 328.514 392.253 M328.514 388.549 Q334.324 388.549 337.379 393.155 Q340.458 397.739 340.458 406.489 Q340.458 415.216 337.379 419.822 Q334.324 424.405 328.514 424.405 Q322.704 424.405 319.625 419.822 Q316.569 415.216 316.569 406.489 Q316.569 397.739 319.625 393.155 Q322.704 388.549 328.514 388.549 Z\" fill=\"#000000\" fill-rule=\"evenodd\" fill-opacity=\"1\" /><path clip-path=\"url(#clip660)\" d=\"M340.458 382.65 L364.57 382.65 L364.57 385.848 L340.458 385.848 L340.458 382.65 Z\" fill=\"#000000\" fill-rule=\"evenodd\" fill-opacity=\"1\" /><path clip-path=\"url(#clip660)\" d=\"M384.28 381.183 Q387.007 381.766 388.531 383.61 Q390.073 385.453 390.073 388.161 Q390.073 392.318 387.214 394.593 Q384.356 396.869 379.089 396.869 Q377.321 396.869 375.441 396.512 Q373.579 396.173 371.585 395.477 L371.585 391.81 Q373.165 392.731 375.046 393.202 Q376.926 393.672 378.976 393.672 Q382.55 393.672 384.412 392.261 Q386.293 390.851 386.293 388.161 Q386.293 385.678 384.544 384.287 Q382.813 382.876 379.71 382.876 L376.437 382.876 L376.437 379.754 L379.86 379.754 Q382.663 379.754 384.149 378.644 Q385.634 377.516 385.634 375.409 Q385.634 373.246 384.092 372.099 Q382.569 370.933 379.71 370.933 Q378.149 370.933 376.362 371.272 Q374.575 371.61 372.431 372.325 L372.431 368.94 Q374.594 368.338 376.475 368.037 Q378.375 367.736 380.049 367.736 Q384.374 367.736 386.895 369.711 Q389.415 371.667 389.415 375.014 Q389.415 377.347 388.079 378.964 Q386.744 380.563 384.28 381.183 Z\" fill=\"#000000\" fill-rule=\"evenodd\" fill-opacity=\"1\" /><path clip-path=\"url(#clip660)\" d=\"M56.6171 85.4791 L72.9365 85.4791 L72.9365 89.4143 L50.9921 89.4143 L50.9921 85.4791 Q53.6541 82.7245 58.2375 78.0949 Q62.8439 73.4421 64.0245 72.0996 Q66.2698 69.5764 67.1494 67.8403 Q68.0522 66.0811 68.0522 64.3913 Q68.0522 61.6366 66.1078 59.9005 Q64.1865 58.1644 61.0847 58.1644 Q58.8856 58.1644 56.4319 58.9283 Q54.0014 59.6922 51.2236 61.2431 L51.2236 56.5209 Q54.0477 55.3867 56.5014 54.808 Q58.955 54.2293 60.9921 54.2293 Q66.3624 54.2293 69.5568 56.9144 Q72.7513 59.5996 72.7513 64.0903 Q72.7513 66.22 71.9411 68.1412 Q71.1541 70.0394 69.0476 72.632 Q68.4689 73.3032 65.367 76.5208 Q62.2652 79.7153 56.6171 85.4791 Z\" fill=\"#000000\" fill-rule=\"evenodd\" fill-opacity=\"1\" /><path clip-path=\"url(#clip660)\" d=\"M82.7512 83.5347 L87.6354 83.5347 L87.6354 89.4143 L82.7512 89.4143 L82.7512 83.5347 Z\" fill=\"#000000\" fill-rule=\"evenodd\" fill-opacity=\"1\" /><path clip-path=\"url(#clip660)\" d=\"M107.821 57.933 Q104.209 57.933 102.381 61.4978 Q100.575 65.0394 100.575 72.169 Q100.575 79.2754 102.381 82.8402 Q104.209 86.3819 107.821 86.3819 Q111.455 86.3819 113.26 82.8402 Q115.089 79.2754 115.089 72.169 Q115.089 65.0394 113.26 61.4978 Q111.455 57.933 107.821 57.933 M107.821 54.2293 Q113.631 54.2293 116.686 58.8357 Q119.765 63.419 119.765 72.169 Q119.765 80.8958 116.686 85.5023 Q113.631 90.0856 107.821 90.0856 Q102.01 90.0856 98.9317 85.5023 Q95.8761 80.8958 95.8761 72.169 Q95.8761 63.419 98.9317 58.8357 Q102.01 54.2293 107.821 54.2293 Z\" fill=\"#000000\" fill-rule=\"evenodd\" fill-opacity=\"1\" /><path clip-path=\"url(#clip660)\" d=\"M137.982 57.933 Q134.371 57.933 132.543 61.4978 Q130.737 65.0394 130.737 72.169 Q130.737 79.2754 132.543 82.8402 Q134.371 86.3819 137.982 86.3819 Q141.617 86.3819 143.422 82.8402 Q145.251 79.2754 145.251 72.169 Q145.251 65.0394 143.422 61.4978 Q141.617 57.933 137.982 57.933 M137.982 54.2293 Q143.793 54.2293 146.848 58.8357 Q149.927 63.419 149.927 72.169 Q149.927 80.8958 146.848 85.5023 Q143.793 90.0856 137.982 90.0856 Q132.172 90.0856 129.094 85.5023 Q126.038 80.8958 126.038 72.169 Q126.038 63.419 129.094 58.8357 Q132.172 54.2293 137.982 54.2293 Z\" fill=\"#000000\" fill-rule=\"evenodd\" fill-opacity=\"1\" /><path clip-path=\"url(#clip660)\" d=\"M168.144 57.933 Q164.533 57.933 162.704 61.4978 Q160.899 65.0394 160.899 72.169 Q160.899 79.2754 162.704 82.8402 Q164.533 86.3819 168.144 86.3819 Q171.779 86.3819 173.584 82.8402 Q175.413 79.2754 175.413 72.169 Q175.413 65.0394 173.584 61.4978 Q171.779 57.933 168.144 57.933 M168.144 54.2293 Q173.954 54.2293 177.01 58.8357 Q180.089 63.419 180.089 72.169 Q180.089 80.8958 177.01 85.5023 Q173.954 90.0856 168.144 90.0856 Q162.334 90.0856 159.255 85.5023 Q156.2 80.8958 156.2 72.169 Q156.2 63.419 159.255 58.8357 Q162.334 54.2293 168.144 54.2293 Z\" fill=\"#000000\" fill-rule=\"evenodd\" fill-opacity=\"1\" /><path clip-path=\"url(#clip660)\" d=\"M198.306 57.933 Q194.695 57.933 192.866 61.4978 Q191.061 65.0394 191.061 72.169 Q191.061 79.2754 192.866 82.8402 Q194.695 86.3819 198.306 86.3819 Q201.94 86.3819 203.746 82.8402 Q205.575 79.2754 205.575 72.169 Q205.575 65.0394 203.746 61.4978 Q201.94 57.933 198.306 57.933 M198.306 54.2293 Q204.116 54.2293 207.172 58.8357 Q210.251 63.419 210.251 72.169 Q210.251 80.8958 207.172 85.5023 Q204.116 90.0856 198.306 90.0856 Q192.496 90.0856 189.417 85.5023 Q186.362 80.8958 186.362 72.169 Q186.362 63.419 189.417 58.8357 Q192.496 54.2293 198.306 54.2293 Z\" fill=\"#000000\" fill-rule=\"evenodd\" fill-opacity=\"1\" /><path clip-path=\"url(#clip660)\" d=\"M228.468 57.933 Q224.857 57.933 223.028 61.4978 Q221.223 65.0394 221.223 72.169 Q221.223 79.2754 223.028 82.8402 Q224.857 86.3819 228.468 86.3819 Q232.102 86.3819 233.908 82.8402 Q235.737 79.2754 235.737 72.169 Q235.737 65.0394 233.908 61.4978 Q232.102 57.933 228.468 57.933 M228.468 54.2293 Q234.278 54.2293 237.334 58.8357 Q240.412 63.419 240.412 72.169 Q240.412 80.8958 237.334 85.5023 Q234.278 90.0856 228.468 90.0856 Q222.658 90.0856 219.579 85.5023 Q216.524 80.8958 216.524 72.169 Q216.524 63.419 219.579 58.8357 Q222.658 54.2293 228.468 54.2293 Z\" fill=\"#000000\" fill-rule=\"evenodd\" fill-opacity=\"1\" /><path clip-path=\"url(#clip660)\" d=\"M276.801 63.9514 L266.222 74.5764 L276.801 85.155 L274.046 87.9559 L263.422 77.331 L252.797 87.9559 L250.065 85.155 L260.621 74.5764 L250.065 63.9514 L252.797 61.1505 L263.422 71.7755 L274.046 61.1505 L276.801 63.9514 Z\" fill=\"#000000\" fill-rule=\"evenodd\" fill-opacity=\"1\" /><path clip-path=\"url(#clip660)\" d=\"M289.162 85.4791 L296.801 85.4791 L296.801 59.1135 L288.491 60.7802 L288.491 56.5209 L296.755 54.8543 L301.431 54.8543 L301.431 85.4791 L309.069 85.4791 L309.069 89.4143 L289.162 89.4143 L289.162 85.4791 Z\" fill=\"#000000\" fill-rule=\"evenodd\" fill-opacity=\"1\" /><path clip-path=\"url(#clip660)\" d=\"M328.514 57.933 Q324.903 57.933 323.074 61.4978 Q321.268 65.0394 321.268 72.169 Q321.268 79.2754 323.074 82.8402 Q324.903 86.3819 328.514 86.3819 Q332.148 86.3819 333.954 82.8402 Q335.782 79.2754 335.782 72.169 Q335.782 65.0394 333.954 61.4978 Q332.148 57.933 328.514 57.933 M328.514 54.2293 Q334.324 54.2293 337.379 58.8357 Q340.458 63.419 340.458 72.169 Q340.458 80.8958 337.379 85.5023 Q334.324 90.0856 328.514 90.0856 Q322.704 90.0856 319.625 85.5023 Q316.569 80.8958 316.569 72.169 Q316.569 63.419 319.625 58.8357 Q322.704 54.2293 328.514 54.2293 Z\" fill=\"#000000\" fill-rule=\"evenodd\" fill-opacity=\"1\" /><path clip-path=\"url(#clip660)\" d=\"M340.458 48.3306 L364.57 48.3306 L364.57 51.5279 L340.458 51.5279 L340.458 48.3306 Z\" fill=\"#000000\" fill-rule=\"evenodd\" fill-opacity=\"1\" /><path clip-path=\"url(#clip660)\" d=\"M384.28 46.8636 Q387.007 47.4467 388.531 49.2898 Q390.073 51.133 390.073 53.8413 Q390.073 57.9978 387.214 60.2736 Q384.356 62.5493 379.089 62.5493 Q377.321 62.5493 375.441 62.192 Q373.579 61.8534 371.585 61.1575 L371.585 57.49 Q373.165 58.4116 375.046 58.8818 Q376.926 59.352 378.976 59.352 Q382.55 59.352 384.412 57.9414 Q386.293 56.5308 386.293 53.8413 Q386.293 51.3587 384.544 49.9669 Q382.813 48.5563 379.71 48.5563 L376.437 48.5563 L376.437 45.4342 L379.86 45.4342 Q382.663 45.4342 384.149 44.3246 Q385.634 43.1961 385.634 41.0896 Q385.634 38.9267 384.092 37.7795 Q382.569 36.6134 379.71 36.6134 Q378.149 36.6134 376.362 36.9519 Q374.575 37.2905 372.431 38.0052 L372.431 34.6198 Q374.594 34.0179 376.475 33.717 Q378.375 33.4161 380.049 33.4161 Q384.374 33.4161 386.895 35.3909 Q389.415 37.3469 389.415 40.6947 Q389.415 43.0268 388.079 44.6443 Q386.744 46.243 384.28 46.8636 Z\" fill=\"#000000\" fill-rule=\"evenodd\" fill-opacity=\"1\" /><polyline clip-path=\"url(#clip662)\" style=\"stroke:#009af9; stroke-linecap:butt; stroke-linejoin:round; stroke-width:4; stroke-opacity:1; fill:none\" points=\"\n",
              "  480.602,87.9763 482.421,87.9768 484.241,87.9773 486.06,87.9778 487.88,87.9783 489.699,87.979 491.518,87.9797 493.338,87.9805 495.157,87.9815 496.977,87.9825 \n",
              "  498.796,87.9837 500.616,87.9849 502.435,87.9862 504.255,87.9877 506.074,87.9894 507.893,87.9914 509.713,87.9934 511.532,87.9956 513.352,87.9978 515.171,88.0003 \n",
              "  516.991,88.0032 518.81,88.006 520.63,88.0089 522.449,88.0124 524.268,88.0159 526.088,88.0198 527.907,88.0238 529.727,88.028 531.546,88.0327 533.366,88.0374 \n",
              "  535.185,88.0426 537.005,88.0478 538.824,88.0535 540.644,88.0594 542.463,88.0659 544.282,88.0723 546.102,88.0792 547.921,88.0866 549.741,88.0941 551.56,88.102 \n",
              "  553.38,88.1101 555.199,88.1188 557.019,88.128 558.838,88.1371 560.657,88.1473 562.477,88.1572 564.296,88.1678 566.116,88.1787 567.935,88.1903 569.755,88.2019 \n",
              "  571.574,88.2141 573.394,88.2269 575.213,88.2401 577.032,88.2537 578.852,88.2675 580.671,88.2821 582.491,88.2972 584.31,88.3128 586.13,88.3289 587.949,88.3452 \n",
              "  589.769,88.3623 591.588,88.3801 593.407,88.3979 595.227,88.4167 597.046,88.4358 598.866,88.4556 600.685,88.4759 602.505,88.4967 604.324,88.5182 606.144,88.5402 \n",
              "  607.963,88.563 609.782,88.5862 611.602,88.6097 613.421,88.6345 615.241,88.6595 617.06,88.6852 618.88,88.7117 620.699,88.7387 622.519,88.7664 624.338,88.7946 \n",
              "  626.157,88.8238 627.977,88.8535 629.796,88.8839 631.616,88.9148 633.435,88.9468 635.255,88.9794 637.074,89.0126 638.894,89.0467 640.713,89.0811 642.532,89.1168 \n",
              "  644.352,89.1529 646.171,89.19 647.991,89.2279 649.81,89.2662 651.63,89.3058 653.449,89.3459 655.269,89.3865 657.088,89.4283 658.907,89.4711 660.727,89.5144 \n",
              "  662.546,89.5587 664.366,89.6037 666.185,89.6495 668.005,89.6965 669.824,89.744 671.644,89.7928 673.463,89.842 675.282,89.8923 677.102,89.9437 678.921,89.9959 \n",
              "  680.741,90.0489 682.56,90.1028 684.38,90.1578 686.199,90.2137 688.019,90.2704 689.838,90.3283 691.657,90.3869 693.477,90.4465 695.296,90.5072 697.116,90.569 \n",
              "  698.935,90.6314 700.755,90.6952 702.574,90.76 704.394,90.8256 706.213,90.8924 708.032,90.9602 709.852,91.029 711.671,91.0988 713.491,91.1701 715.31,91.2418 \n",
              "  717.13,91.3151 718.949,91.3891 720.769,91.4645 722.588,91.5407 724.407,91.6182 726.227,91.6969 728.046,91.7766 729.866,91.8572 731.685,91.9394 733.505,92.0228 \n",
              "  735.324,92.1069 737.144,92.1925 738.963,92.2789 740.782,92.3667 742.602,92.4558 744.421,92.5461 746.241,92.6377 748.06,92.7302 749.88,92.824 751.699,92.9193 \n",
              "  753.519,93.0158 755.338,93.1133 757.157,93.212 758.977,93.3122 760.796,93.4134 762.616,93.5161 764.435,93.62 766.255,93.7252 768.074,93.8318 769.894,93.9397 \n",
              "  771.713,94.0489 773.532,94.1595 775.352,94.2713 777.171,94.3846 778.991,94.499 780.81,94.615 782.63,94.7323 784.449,94.8511 786.269,94.9708 788.088,95.0921 \n",
              "  789.907,95.2151 791.727,95.3395 793.546,95.465 795.366,95.5919 797.185,95.7206 799.005,95.8505 800.824,95.9819 802.644,96.1148 804.463,96.2491 806.282,96.385 \n",
              "  808.102,96.5223 809.921,96.6609 811.741,96.8012 813.56,96.943 815.38,97.0863 817.199,97.231 819.019,97.3773 820.838,97.5252 822.657,97.6747 824.477,97.8256 \n",
              "  826.296,97.9781 828.116,98.1322 829.935,98.2876 831.755,98.445 833.574,98.6038 835.394,98.7644 837.213,98.9263 839.032,99.0901 840.852,99.2554 842.671,99.4224 \n",
              "  844.491,99.5909 846.31,99.7612 848.13,99.9331 849.949,100.107 851.769,100.282 853.588,100.459 855.407,100.637 857.227,100.818 859.046,101 860.866,101.183 \n",
              "  862.685,101.369 864.505,101.556 866.324,101.745 868.144,101.935 869.963,102.128 871.782,102.322 873.602,102.518 875.421,102.716 877.241,102.915 879.06,103.117 \n",
              "  880.88,103.32 882.699,103.524 884.519,103.731 886.338,103.94 888.157,104.15 889.977,104.362 891.796,104.576 893.616,104.792 895.435,105.01 897.255,105.23 \n",
              "  899.074,105.451 900.894,105.675 902.713,105.9 904.532,106.128 906.352,106.357 908.171,106.588 909.991,106.821 911.81,107.056 913.63,107.293 915.449,107.532 \n",
              "  917.269,107.772 919.088,108.015 920.907,108.26 922.727,108.507 924.546,108.756 926.366,109.006 928.185,109.259 930.005,109.514 931.824,109.771 933.644,110.03 \n",
              "  935.463,110.29 937.282,110.554 939.102,110.819 940.921,111.086 942.741,111.355 944.56,111.626 946.38,111.899 948.199,112.175 950.019,112.453 951.838,112.732 \n",
              "  953.657,113.014 955.477,113.298 957.296,113.584 959.116,113.872 960.935,114.163 962.755,114.455 964.574,114.75 966.394,115.047 968.213,115.346 970.032,115.647 \n",
              "  971.852,115.951 973.671,116.256 975.491,116.564 977.31,116.875 979.13,117.187 980.949,117.501 982.769,117.818 984.588,118.138 986.407,118.459 988.227,118.783 \n",
              "  990.046,119.109 991.866,119.437 993.685,119.768 995.505,120.1 997.324,120.436 999.144,120.773 1000.96,121.113 1002.78,121.455 1004.6,121.8 1006.42,122.147 \n",
              "  1008.24,122.496 1010.06,122.848 1011.88,123.202 1013.7,123.558 1015.52,123.917 1017.34,124.278 1019.16,124.642 1020.98,125.008 1022.8,125.376 1024.62,125.747 \n",
              "  1026.44,126.121 1028.25,126.496 1030.07,126.875 1031.89,127.256 1033.71,127.639 1035.53,128.024 1037.35,128.413 1039.17,128.803 1040.99,129.197 1042.81,129.593 \n",
              "  1044.63,129.991 1046.45,130.392 1048.27,130.795 1050.09,131.201 1051.91,131.609 1053.73,132.02 1055.55,132.434 1057.37,132.85 1059.19,133.269 1061,133.69 \n",
              "  1062.82,134.114 1064.64,134.541 1066.46,134.97 1068.28,135.402 1070.1,135.837 1071.92,136.274 1073.74,136.714 1075.56,137.156 1077.38,137.601 1079.2,138.049 \n",
              "  1081.02,138.5 1082.84,138.953 1084.66,139.409 1086.48,139.868 1088.3,140.329 1090.12,140.793 1091.94,141.26 1093.75,141.73 1095.57,142.202 1097.39,142.677 \n",
              "  1099.21,143.155 1101.03,143.635 1102.85,144.119 1104.67,144.605 1106.49,145.094 1108.31,145.586 1110.13,146.08 1111.95,146.578 1113.77,147.078 1115.59,147.581 \n",
              "  1117.41,148.087 1119.23,148.596 1121.05,149.108 1122.87,149.622 1124.69,150.14 1126.5,150.66 1128.32,151.183 1130.14,151.709 1131.96,152.238 1133.78,152.77 \n",
              "  1135.6,153.305 1137.42,153.843 1139.24,154.384 1141.06,154.928 1142.88,155.474 1144.7,156.024 1146.52,156.577 1148.34,157.132 1150.16,157.691 1151.98,158.253 \n",
              "  1153.8,158.817 1155.62,159.385 1157.44,159.956 1159.25,160.529 1161.07,161.106 1162.89,161.686 1164.71,162.269 1166.53,162.855 1168.35,163.444 1170.17,164.036 \n",
              "  1171.99,164.631 1173.81,165.229 1175.63,165.831 1177.45,166.435 1179.27,167.043 1181.09,167.653 1182.91,168.267 1184.73,168.884 1186.55,169.505 1188.37,170.128 \n",
              "  1190.19,170.754 1192,171.384 1193.82,172.017 1195.64,172.653 1197.46,173.293 1199.28,173.935 1201.1,174.581 1202.92,175.23 1204.74,175.882 1206.56,176.537 \n",
              "  1208.38,177.196 1210.2,177.858 1212.02,178.523 1213.84,179.191 1215.66,179.863 1217.48,180.538 1219.3,181.217 1221.12,181.898 1222.94,182.583 1224.75,183.272 \n",
              "  1226.57,183.963 1228.39,184.658 1230.21,185.357 1232.03,186.058 1233.85,186.763 1235.67,187.472 1237.49,188.183 1239.31,188.898 1241.13,189.617 1242.95,190.339 \n",
              "  1244.77,191.065 1246.59,191.793 1248.41,192.526 1250.23,193.261 1252.05,194 1253.87,194.743 1255.69,195.489 1257.5,196.238 1259.32,196.991 1261.14,197.748 \n",
              "  1262.96,198.508 1264.78,199.271 1266.6,200.038 1268.42,200.809 1270.24,201.583 1272.06,202.36 1273.88,203.142 1275.7,203.926 1277.52,204.714 1279.34,205.506 \n",
              "  1281.16,206.301 1282.98,207.1 1284.8,207.903 1286.62,208.709 1288.44,209.519 1290.25,210.332 1292.07,211.149 1293.89,211.969 1295.71,212.794 1297.53,213.621 \n",
              "  1299.35,214.453 1301.17,215.288 1302.99,216.127 1304.81,216.97 1306.63,217.816 1308.45,218.666 1310.27,219.519 1312.09,220.376 1313.91,221.237 1315.73,222.102 \n",
              "  1317.55,222.971 1319.37,223.843 1321.19,224.719 1323,225.598 1324.82,226.482 1326.64,227.369 1328.46,228.261 1330.28,229.155 1332.1,230.054 1333.92,230.956 \n",
              "  1335.74,231.863 1337.56,232.773 1339.38,233.687 1341.2,234.604 1343.02,235.526 1344.84,236.451 1346.66,237.381 1348.48,238.314 1350.3,239.251 1352.12,240.192 \n",
              "  1353.94,241.137 1355.75,242.085 1357.57,243.038 1359.39,243.995 1361.21,244.955 1363.03,245.92 1364.85,246.888 1366.67,247.86 1368.49,248.837 1370.31,249.817 \n",
              "  1372.13,250.801 1373.95,251.789 1375.77,252.782 1377.59,253.778 1379.41,254.778 1381.23,255.782 1383.05,256.791 1384.87,257.803 1386.69,258.819 1388.5,259.84 \n",
              "  1390.32,260.864 1392.14,261.893 1393.96,262.925 1395.78,263.962 1397.6,265.003 1399.42,266.048 1401.24,267.096 1403.06,268.15 1404.88,269.207 1406.7,270.268 \n",
              "  1408.52,271.334 1410.34,272.403 1412.16,273.477 1413.98,274.555 1415.8,275.637 1417.62,276.723 1419.44,277.814 1421.25,278.908 1423.07,280.007 1424.89,281.11 \n",
              "  1426.71,282.217 1428.53,283.329 1430.35,284.444 1432.17,285.564 1433.99,286.689 1435.81,287.817 1437.63,288.95 1439.45,290.087 1441.27,291.228 1443.09,292.374 \n",
              "  1444.91,293.523 1446.73,294.678 1448.55,295.836 1450.37,296.999 1452.19,298.166 1454,299.338 1455.82,300.513 1457.64,301.694 1459.46,302.878 1461.28,304.067 \n",
              "  1463.1,305.26 1464.92,306.458 1466.74,307.66 1468.56,308.867 1470.38,310.077 1472.2,311.293 1474.02,312.513 1475.84,313.736 1477.66,314.965 1479.48,316.198 \n",
              "  1481.3,317.436 1483.12,318.678 1484.94,319.924 1486.75,321.175 1488.57,322.43 1490.39,323.69 1492.21,324.955 1494.03,326.224 1495.85,327.497 1497.67,328.775 \n",
              "  1499.49,330.058 1501.31,331.345 1503.13,332.637 1504.95,333.933 1506.77,335.234 1508.59,336.539 1510.41,337.849 1512.23,339.163 1514.05,340.482 1515.87,341.806 \n",
              "  1517.69,343.135 1519.5,344.468 1521.32,345.805 1523.14,347.148 1524.96,348.494 1526.78,349.846 1528.6,351.202 1530.42,352.563 1532.24,353.929 1534.06,355.299 \n",
              "  1535.88,356.674 1537.7,358.054 1539.52,359.438 1541.34,360.827 1543.16,362.221 1544.98,363.62 1546.8,365.023 1548.62,366.431 1550.44,367.844 1552.25,369.262 \n",
              "  1554.07,370.684 1555.89,372.112 1557.71,373.543 1559.53,374.98 1561.35,376.422 1563.17,377.869 1564.99,379.32 1566.81,380.776 1568.63,382.237 1570.45,383.703 \n",
              "  1572.27,385.173 1574.09,386.649 1575.91,388.129 1577.73,389.615 1579.55,391.105 1581.37,392.6 1583.19,394.1 1585,395.605 1586.82,397.115 1588.64,398.63 \n",
              "  1590.46,400.15 1592.28,401.674 1594.1,403.204 1595.92,404.738 1597.74,406.278 1599.56,407.823 1601.38,409.372 1603.2,410.927 1605.02,412.486 1606.84,414.051 \n",
              "  1608.66,415.62 1610.48,417.195 1612.3,418.775 1614.12,420.36 1615.94,421.949 1617.75,423.544 1619.57,425.144 1621.39,426.749 1623.21,428.359 1625.03,429.974 \n",
              "  1626.85,431.594 1628.67,433.22 1630.49,434.85 1632.31,436.486 1634.13,438.127 1635.95,439.772 1637.77,441.424 1639.59,443.08 1641.41,444.741 1643.23,446.407 \n",
              "  1645.05,448.079 1646.87,449.756 1648.69,451.439 1650.5,453.126 1652.32,454.818 1654.14,456.516 1655.96,458.219 1657.78,459.927 1659.6,461.641 1661.42,463.36 \n",
              "  1663.24,465.083 1665.06,466.813 1666.88,468.547 1668.7,470.287 1670.52,472.032 1672.34,473.783 1674.16,475.538 1675.98,477.299 1677.8,479.066 1679.62,480.837 \n",
              "  1681.44,482.615 1683.25,484.397 1685.07,486.185 1686.89,487.978 1688.71,489.777 1690.53,491.58 1692.35,493.39 1694.17,495.204 1695.99,497.025 1697.81,498.85 \n",
              "  1699.63,500.681 1701.45,502.517 1703.27,504.359 1705.09,506.206 1706.91,508.059 1708.73,509.917 1710.55,511.781 1712.37,513.65 1714.19,515.525 1716,517.405 \n",
              "  1717.82,519.291 1719.64,521.182 1721.46,523.078 1723.28,524.981 1725.1,526.888 1726.92,528.801 1728.74,530.72 1730.56,532.645 1732.38,534.575 1734.2,536.51 \n",
              "  1736.02,538.451 1737.84,540.398 1739.66,542.351 1741.48,544.308 1743.3,546.272 1745.12,548.241 1746.94,550.216 1748.75,552.196 1750.57,554.182 1752.39,556.174 \n",
              "  1754.21,558.172 1756.03,560.175 1757.85,562.183 1759.67,564.198 1761.49,566.218 1763.31,568.244 1765.13,570.275 1766.95,572.313 1768.77,574.356 1770.59,576.405 \n",
              "  1772.41,578.459 1774.23,580.519 1776.05,582.585 1777.87,584.657 1779.69,586.735 1781.5,588.818 1783.32,590.907 1785.14,593.002 1786.96,595.103 1788.78,597.21 \n",
              "  1790.6,599.322 1792.42,601.44 1794.24,603.564 1796.06,605.694 1797.88,607.83 1799.7,609.972 1801.52,612.119 1803.34,614.273 1805.16,616.432 1806.98,618.597 \n",
              "  1808.8,620.768 1810.62,622.946 1812.44,625.128 1814.25,627.317 1816.07,629.512 1817.89,631.713 1819.71,633.92 1821.53,636.132 1823.35,638.351 1825.17,640.576 \n",
              "  1826.99,642.806 1828.81,645.043 1830.63,647.285 1832.45,649.534 1834.27,651.789 1836.09,654.05 1837.91,656.316 1839.73,658.589 1841.55,660.868 1843.37,663.153 \n",
              "  1845.19,665.444 1847,667.741 1848.82,670.044 1850.64,672.353 1852.46,674.668 1854.28,676.99 1856.1,679.317 1857.92,681.651 1859.74,683.991 1861.56,686.337 \n",
              "  1863.38,688.689 1865.2,691.047 1867.02,693.411 1868.84,695.782 1870.66,698.159 1872.48,700.542 1874.3,702.931 1876.12,705.326 1877.94,707.728 1879.75,710.135 \n",
              "  1881.57,712.55 1883.39,714.97 1885.21,717.396 1887.03,719.829 1888.85,722.268 1890.67,724.713 1892.49,727.165 1894.31,729.623 1896.13,732.087 1897.95,734.557 \n",
              "  1899.77,737.034 1901.59,739.517 1903.41,742.006 1905.23,744.502 1907.05,747.004 1908.87,749.513 1910.69,752.027 1912.5,754.549 1914.32,757.076 1916.14,759.61 \n",
              "  1917.96,762.15 1919.78,764.697 1921.6,767.25 1923.42,769.809 1925.24,772.375 1927.06,774.948 1928.88,777.526 1930.7,780.112 1932.52,782.703 1934.34,785.302 \n",
              "  1936.16,787.906 1937.98,790.517 1939.8,793.135 1941.62,795.759 1943.44,798.389 1945.25,801.026 1947.07,803.67 1948.89,806.32 1950.71,808.977 1952.53,811.64 \n",
              "  1954.35,814.31 1956.17,816.986 1957.99,819.669 1959.81,822.359 1961.63,825.055 1963.45,827.757 1965.27,830.467 1967.09,833.182 1968.91,835.905 1970.73,838.634 \n",
              "  1972.55,841.37 1974.37,844.112 1976.19,846.861 1978,849.617 1979.82,852.379 1981.64,855.148 1983.46,857.924 1985.28,860.706 1987.1,863.495 1988.92,866.291 \n",
              "  1990.74,869.093 1992.56,871.903 1994.38,874.718 1996.2,877.541 1998.02,880.37 1999.84,883.207 2001.66,886.05 2003.48,888.899 2005.3,891.756 2007.12,894.619 \n",
              "  2008.94,897.489 2010.75,900.366 2012.57,903.249 2014.39,906.14 2016.21,909.037 2018.03,911.941 2019.85,914.852 2021.67,917.77 2023.49,920.695 2025.31,923.626 \n",
              "  2027.13,926.564 2028.95,929.51 2030.77,932.462 2032.59,935.421 2034.41,938.387 2036.23,941.36 2038.05,944.339 2039.87,947.326 2041.69,950.32 2043.5,953.321 \n",
              "  2045.32,956.328 2047.14,959.343 2048.96,962.364 2050.78,965.393 2052.6,968.428 2054.42,971.471 2056.24,974.52 2058.06,977.577 2059.88,980.64 2061.7,983.711 \n",
              "  2063.52,986.788 2065.34,989.873 2067.16,992.964 2068.98,996.063 2070.8,999.169 2072.62,1002.28 2074.44,1005.4 2076.25,1008.53 2078.07,1011.66 2079.89,1014.8 \n",
              "  2081.71,1017.95 2083.53,1021.11 2085.35,1024.27 2087.17,1027.44 2088.99,1030.62 2090.81,1033.8 2092.63,1036.99 2094.45,1040.19 2096.27,1043.4 2098.09,1046.61 \n",
              "  2099.91,1049.83 2101.73,1053.06 2103.55,1056.29 2105.37,1059.53 2107.19,1062.78 2109,1066.04 2110.82,1069.3 2112.64,1072.57 2114.46,1075.85 2116.28,1079.13 \n",
              "  2118.1,1082.42 2119.92,1085.72 2121.74,1089.03 2123.56,1092.35 2125.38,1095.67 2127.2,1099 2129.02,1102.33 2130.84,1105.68 2132.66,1109.03 2134.48,1112.38 \n",
              "  2136.3,1115.75 2138.12,1119.12 2139.94,1122.5 2141.75,1125.89 2143.57,1129.29 2145.39,1132.69 2147.21,1136.1 2149.03,1139.51 2150.85,1142.94 2152.67,1146.37 \n",
              "  2154.49,1149.81 2156.31,1153.26 2158.13,1156.71 2159.95,1160.17 2161.77,1163.64 2163.59,1167.12 2165.41,1170.6 2167.23,1174.1 2169.05,1177.6 2170.87,1181.1 \n",
              "  2172.69,1184.62 2174.5,1188.14 2176.32,1191.67 2178.14,1195.2 2179.96,1198.75 2181.78,1202.3 2183.6,1205.86 2185.42,1209.43 2187.24,1213 2189.06,1216.58 \n",
              "  2190.88,1220.17 2192.7,1223.77 2194.52,1227.38 2196.34,1230.99 2198.16,1234.61 2199.98,1238.24 2201.8,1241.87 2203.62,1245.52 2205.44,1249.17 2207.25,1252.83 \n",
              "  2209.07,1256.49 2210.89,1260.17 2212.71,1263.85 2214.53,1267.54 2216.35,1271.24 2218.17,1274.94 2219.99,1278.65 2221.81,1282.37 2223.63,1286.1 2225.45,1289.84 \n",
              "  2227.27,1293.58 2229.09,1297.33 2230.91,1301.09 2232.73,1304.86 2234.55,1308.63 2236.37,1312.41 2238.19,1316.21 2240,1320 2241.82,1323.81 2243.64,1327.62 \n",
              "  2245.46,1331.44 2247.28,1335.27 2249.1,1339.11 2250.92,1342.96 2252.74,1346.81 2254.56,1350.67 2256.38,1354.54 2258.2,1358.42 2260.02,1362.3 2261.84,1366.19 \n",
              "  2263.66,1370.09 2265.48,1374 2267.3,1377.92 2269.12,1381.84 2270.94,1385.77 2272.75,1389.71 2274.57,1393.66 2276.39,1397.62 2278.21,1401.58 2280.03,1405.55 \n",
              "  2281.85,1409.53 2283.67,1413.52 2285.49,1417.52 2287.31,1421.52 2289.13,1425.53 2290.95,1429.55 2292.77,1433.58 2294.59,1437.62 2296.41,1441.66 2298.23,1445.72 \n",
              "  \n",
              "  \"/>\n",
              "<path clip-path=\"url(#clip660)\" d=\"\n",
              "M2022.03 198.898 L2288.53 198.898 L2288.53 95.2176 L2022.03 95.2176  Z\n",
              "  \" fill=\"#ffffff\" fill-rule=\"evenodd\" fill-opacity=\"1\"/>\n",
              "<polyline clip-path=\"url(#clip660)\" style=\"stroke:#000000; stroke-linecap:butt; stroke-linejoin:round; stroke-width:4; stroke-opacity:1; fill:none\" points=\"\n",
              "  2022.03,198.898 2288.53,198.898 2288.53,95.2176 2022.03,95.2176 2022.03,198.898 \n",
              "  \"/>\n",
              "<polyline clip-path=\"url(#clip660)\" style=\"stroke:#009af9; stroke-linecap:butt; stroke-linejoin:round; stroke-width:4; stroke-opacity:1; fill:none\" points=\"\n",
              "  2043.43,147.058 2171.88,147.058 \n",
              "  \"/>\n",
              "<path clip-path=\"url(#clip660)\" d=\"M2207.13 166.745 Q2205.32 171.375 2203.61 172.787 Q2201.9 174.199 2199.03 174.199 L2195.63 174.199 L2195.63 170.634 L2198.13 170.634 Q2199.88 170.634 2200.86 169.8 Q2201.83 168.967 2203.01 165.865 L2203.77 163.921 L2193.29 138.412 L2197.8 138.412 L2205.9 158.689 L2214.01 138.412 L2218.52 138.412 L2207.13 166.745 Z\" fill=\"#000000\" fill-rule=\"evenodd\" fill-opacity=\"1\" /><path clip-path=\"url(#clip660)\" d=\"M2225.81 160.402 L2233.45 160.402 L2233.45 134.037 L2225.14 135.703 L2225.14 131.444 L2233.4 129.778 L2238.08 129.778 L2238.08 160.402 L2245.72 160.402 L2245.72 164.338 L2225.81 164.338 L2225.81 160.402 Z\" fill=\"#000000\" fill-rule=\"evenodd\" fill-opacity=\"1\" /></svg>\n"
            ]
          },
          "execution_count": 14,
          "metadata": {},
          "output_type": "execute_result"
        }
      ],
      "source": [
        "# Testing\n",
        "function fdh(h, x)\n",
        "    f = y -> cos(y^2)\n",
        "    return (f(x + 2*h) - f(x - h)) / (3*h)\n",
        "end\n",
        "\n",
        "h = range(0, 0.01; length=1000)\n",
        "\n",
        "g = y -> -2*y*sin(y^2)\n",
        "\n",
        "using Plots\n",
        "plot(h, abs.(fdh.(h, 0.1) .- g(0.1)))\n"
      ]
    },
    {
      "cell_type": "markdown",
      "metadata": {},
      "source": [
        "\n",
        "Note: For finite differences we should choose h = $\\sqrt{ \\epsilon }$"
      ]
    },
    {
      "cell_type": "code",
      "execution_count": 5,
      "metadata": {},
      "outputs": [
        {
          "data": {
            "text/plain": [
              "\u001b[32m\u001b[1mTest Passed\u001b[22m\u001b[39m"
            ]
          },
          "execution_count": 5,
          "metadata": {},
          "output_type": "execute_result"
        }
      ],
      "source": [
        "@test abs(fd(0.1) + 2*0.1*sin(0.1^2)) ≤ 1E-5"
      ]
    },
    {
      "cell_type": "markdown",
      "metadata": {},
      "source": [
        "**Problem 2.2 (A)** Consider a 2D version of a dual number:\n",
        "$$\n",
        "a + b ϵ_x + c ϵ_y\n",
        "$$\n",
        "such that\n",
        "$$\n",
        "ϵ_x^2 = ϵ_y^2 = ϵ_x ϵ_y =  0.\n",
        "$$\n",
        "Complete the following implementation supporting `+` and `*` (and\n",
        "assuming `a,b,c` are `Float64`). Hint: you may need to work out on paper\n",
        "how to multiply `(s.a + s.b ϵ_x + s.c ϵ_y)*(t.a + t.b ϵ_x + t.c ϵ_y)` using the\n",
        "relationship above."
      ]
    },
    {
      "cell_type": "code",
      "execution_count": 6,
      "metadata": {},
      "outputs": [
        {
          "data": {
            "text/plain": [
              "* (generic function with 699 methods)"
            ]
          },
          "execution_count": 6,
          "metadata": {},
          "output_type": "execute_result"
        }
      ],
      "source": [
        "import Base: *, +, ^\n",
        "struct Dual2D\n",
        "    a::Float64\n",
        "    b::Float64\n",
        "    c::Float64\n",
        "end\n",
        "\n",
        "\n",
        "function +(s::Dual2D, t::Dual2D)\n",
        "    ## TODO: Implement +, returning a Dual2D\n",
        "    return Dual2D(s.a + t.a, s.b + t.b, s.c + t.c)\n",
        "end\n",
        "\n",
        "function *(r::Number, s::Dual2D)\n",
        "    ## TODO: Implement r * Dual2D(...), returning a Dual2D\n",
        "    return Dual2D(r*s.a, r*s.b, r*s.c)\n",
        "end\n",
        "\n",
        "*(s::Dual2D, r::Number) = r * s  # Commutative\n",
        "\n",
        "function *(s::Dual2D, t::Dual2D)\n",
        "    ## TODO: Implement Dual2D(...) * Dual2D(...), returning a Dual2D\n",
        "    return Dual2D(s.a*t.a, s.a*t.b + s.b*t.a, s.a*t.c + s.c*t.a)\n",
        "end"
      ]
    },
    {
      "cell_type": "code",
      "execution_count": 7,
      "metadata": {},
      "outputs": [
        {
          "data": {
            "text/plain": [
              "\u001b[32m\u001b[1mTest Passed\u001b[22m\u001b[39m"
            ]
          },
          "execution_count": 7,
          "metadata": {},
          "output_type": "execute_result"
        }
      ],
      "source": [
        "f = function (x, y) # (x+2y^2)^3 using only * and +\n",
        "    z = (x + 2y * y)\n",
        "    z * z * z\n",
        "end\n",
        "\n",
        "x,y = 1., 2.\n",
        "@test f(Dual2D(x,1.,0.), Dual2D(y,0.,1.)) == Dual2D(f(x,y), 3(x+2y^2)^2, 12y*(x+2y^2)^2)\n",
        "\n",
        "# This has computed the gradient as f(x,y) + f_x*ϵ_x + f_y*ϵ_y\n",
        "# == (x+2y^2)^3 + 3(x+2y^2)^2*ϵ_x + 12y(x+2y^2)^2*ϵ_y"
      ]
    },
    {
      "cell_type": "markdown",
      "metadata": {},
      "source": [
        "## 3. Structured Matrices\n",
        "\n",
        "**Problem 3.1 (C)** Add an implementation of `inv(::PermutationMatrix)`\n",
        "to return the inverse permutation as a `PermutationMatrix`. Hint: use\n",
        "`invperm`."
      ]
    },
    {
      "cell_type": "code",
      "execution_count": 8,
      "metadata": {},
      "outputs": [
        {
          "data": {
            "text/plain": [
              "inv (generic function with 99 methods)"
            ]
          },
          "execution_count": 8,
          "metadata": {},
          "output_type": "execute_result"
        }
      ],
      "source": [
        "import Base: getindex, size, *, inv\n",
        "\n",
        "struct PermutationMatrix <: AbstractMatrix{Int}\n",
        "    p::Vector{Int} # represents the permutation whose action is v[p]\n",
        "    function PermutationMatrix(p::Vector)\n",
        "        sort(p) == 1:length(p) || error(\"input is not a valid permutation\")\n",
        "        new(p)\n",
        "    end\n",
        "end\n",
        "\n",
        "size(P::PermutationMatrix) = (length(P.p),length(P.p))\n",
        "getindex(P::PermutationMatrix, k::Int, j::Int) = P.p[k] == j ? 1 : 0\n",
        "*(P::PermutationMatrix, x::AbstractVector) = x[P.p]\n",
        "\n",
        "function inv(P::PermutationMatrix)\n",
        "    # TODO: return a PermutationMatrix representing the inverse permutation\n",
        "    return PermutationMatrix(invperm(P.p))\n",
        "end"
      ]
    },
    {
      "cell_type": "code",
      "execution_count": 9,
      "metadata": {},
      "outputs": [
        {
          "data": {
            "text/plain": [
              "\u001b[32m\u001b[1mTest Passed\u001b[22m\u001b[39m"
            ]
          },
          "execution_count": 9,
          "metadata": {},
          "output_type": "execute_result"
        }
      ],
      "source": [
        "P = PermutationMatrix([3,4,2,1])\n",
        "@test inv(P) isa PermutationMatrix\n",
        "@test P*inv(P) == I"
      ]
    },
    {
      "cell_type": "markdown",
      "metadata": {},
      "source": [
        "## 4. Decompositions\n",
        "\n",
        "**Problem 4.1 (C)** For $𝐱 ∈ ℝ^n$ implement the reflection defined by\n",
        "$$\n",
        "\\begin{align*}\n",
        "𝐲 &:= 𝐱 + \\|𝐱\\| 𝐞_n \\\\\n",
        "𝐰 &:= 𝐲/\\|𝐲\\| \\\\\n",
        "Q_𝐱 &:= I - 2𝐰𝐰^⊤\n",
        "\\end{align*}\n",
        "$$\n",
        "in `lowerhouseholderreflection(x)`, which should return a `Matrix{Float64}`.\n",
        "You may assume that `x` is a `Vector{Float64}`."
      ]
    },
    {
      "cell_type": "code",
      "execution_count": 18,
      "metadata": {},
      "outputs": [
        {
          "data": {
            "text/plain": [
              "lowerhouseholderreflection (generic function with 1 method)"
            ]
          },
          "execution_count": 18,
          "metadata": {},
          "output_type": "execute_result"
        }
      ],
      "source": [
        "function lowerhouseholderreflection(x::Vector{Float64})\n",
        "    ## TODO: implement the householder reflector defined above\n",
        "    n = length(x)\n",
        "    eₙ = zeros(n)\n",
        "    eₙ[n] = 1.0\n",
        "    y = x + norm(x)*eₙ\n",
        "    w = y / norm(y)\n",
        "    Q = I - 2*w*w'\n",
        "    return Q\n",
        "end"
      ]
    },
    {
      "cell_type": "code",
      "execution_count": 26,
      "metadata": {},
      "outputs": [
        {
          "data": {
            "text/plain": [
              "3-element Array{Float64,1}:\n",
              " -2.220446049250313e-16\n",
              " -4.440892098500626e-16\n",
              " -3.741657386773942"
            ]
          },
          "execution_count": 26,
          "metadata": {},
          "output_type": "execute_result"
        }
      ],
      "source": [
        "x = [1.0,2, 3]\n",
        "A = [5.0 2 1; 6 4 2; 1 7 3]\n",
        "Q = lowerhouseholderreflection(x)\n",
        "Q*A"
      ]
    },
    {
      "cell_type": "code",
      "execution_count": 25,
      "metadata": {},
      "outputs": [
        {
          "data": {
            "text/plain": [
              "5.477225575051661"
            ]
          },
          "execution_count": 25,
          "metadata": {},
          "output_type": "execute_result"
        }
      ],
      "source": [
        "norm(x)"
      ]
    },
    {
      "cell_type": "code",
      "execution_count": 19,
      "metadata": {},
      "outputs": [
        {
          "data": {
            "text/plain": [
              "\u001b[32m\u001b[1mTest Passed\u001b[22m\u001b[39m"
            ]
          },
          "execution_count": 19,
          "metadata": {},
          "output_type": "execute_result"
        }
      ],
      "source": [
        "x = [1.0,2,3,4]\n",
        "Q = lowerhouseholderreflection(x)\n",
        "@test Q*x ≈ [zeros(3); -norm(x)]\n",
        "@test Q'Q ≈ I\n",
        "@test Q ≈ Q'"
      ]
    },
    {
      "cell_type": "markdown",
      "metadata": {},
      "source": [
        "**Problem 4.2 (A)** Complete the function `ql(A)` that\n",
        "returns a QL decomposition, that is, `Q` is an orthogonal\n",
        "matrix and `L` is lower triangular. You may assume that `A`\n",
        "is a square `Matrix{Float64}`. Hint: use Problem 4.1 to lower triangularise."
      ]
    },
    {
      "cell_type": "code",
      "execution_count": 23,
      "metadata": {},
      "outputs": [
        {
          "data": {
            "text/plain": [
              "ql (generic function with 1 method)"
            ]
          },
          "execution_count": 23,
          "metadata": {},
          "output_type": "execute_result"
        }
      ],
      "source": [
        "function ql(A)\n",
        "    m,n = size(A)\n",
        "    m == n || error(\"not square\")\n",
        "    ## TODO Create Q and L such that Q'Q == I and L is lower triangular\n",
        "    m, n = size(A)\n",
        "    L = copy(A)\n",
        "    Q = Matrix(1.0I, m, m)\n",
        "    for j = 1:n\n",
        "        Qⱼ = lowerhouseholderreflection(L[1:end-j+1, end-j+1])\n",
        "        L[1:end-j+1, :] = Qⱼ * L[1:end-j+1, :]\n",
        "        Q[:, 1:end-j+1] = Q[:, 1:end-j+1] * Qⱼ\n",
        "    end\n",
        "    return Q, L\n",
        "end"
      ]
    },
    {
      "cell_type": "code",
      "execution_count": 21,
      "metadata": {},
      "outputs": [
        {
          "data": {
            "text/plain": [
              "ql (generic function with 1 method)"
            ]
          },
          "execution_count": 21,
          "metadata": {},
          "output_type": "execute_result"
        }
      ],
      "source": [
        "function ql(A)\n",
        "    m,n = size(A)\n",
        "    m == n || error(\"not square\")\n",
        "    ## TODO Create Q and L such that Q'Q == I and L is lower triangular\n",
        "    ## SOLUTION\n",
        "    L = copy(A)\n",
        "    Q = Matrix(1.0I, n, n)\n",
        "    for j = n:-1:2\n",
        "        Qⱼ = lowerhouseholderreflection(L[1:j, j])\n",
        "        L[1:j, 1:j] = Qⱼ * L[1:j, 1:j]\n",
        "        Q[:,1:j] = Q[:,1:j]*Qⱼ\n",
        "    end\n",
        "    Q,L\n",
        "    ## END\n",
        "end\n"
      ]
    },
    {
      "cell_type": "code",
      "execution_count": 24,
      "metadata": {},
      "outputs": [
        {
          "data": {
            "text/plain": [
              "\u001b[32m\u001b[1mTest Passed\u001b[22m\u001b[39m"
            ]
          },
          "execution_count": 24,
          "metadata": {},
          "output_type": "execute_result"
        }
      ],
      "source": [
        "A = [1.0 2 3; 1 4 9; 1 1 1]\n",
        "Q,L = ql(A)\n",
        "@test Q'Q ≈ I\n",
        "@test Q*L ≈ A\n",
        "@test L ≈ tril(L) # it is acceptable to have small non-zero entries in L"
      ]
    },
    {
      "cell_type": "markdown",
      "metadata": {},
      "source": [
        "## 5. Singular Value Decomposition\n",
        "\n",
        "**Problem 5.1 (C)** Find the best rank-4 approximation (in the $2$-norm) to\n",
        "$$\n",
        "f(x,y) = \\cos(x - y)/(x+y+1)\n",
        "$$\n",
        "evaluated at an evenly spaced 100 × 100 grid on the square $[0,1]^2$."
      ]
    },
    {
      "cell_type": "code",
      "execution_count": 15,
      "metadata": {},
      "outputs": [
        {
          "data": {
            "text/plain": [
              "100×100 Array{Float64,2}:\n",
              " 0.999993  0.989945  0.979995  0.970141  …  0.281434  0.275776  0.270146\n",
              " 0.989945  0.980195  0.970537  0.960968     0.284208  0.278592  0.273005\n",
              " 0.979995  0.970537  0.961164  0.951874     0.286924  0.281352  0.275807\n",
              " 0.970141  0.960968  0.951874  0.942857     0.289584  0.284055  0.278553\n",
              " 0.96038   0.951486  0.942665  0.933915     0.292187  0.286703  0.281244\n",
              " 0.95071   0.942088  0.933534  0.925045  …  0.294735  0.289295  0.283879\n",
              " 0.941128  0.932772  0.924479  0.916246     0.297228  0.291832  0.286459\n",
              " 0.931631  0.923536  0.915499  0.907516     0.299665  0.294314  0.288985\n",
              " 0.922217  0.914378  0.90659   0.898853     0.302049  0.296742  0.291457\n",
              " 0.912884  0.905295  0.897752  0.890255     0.304378  0.299117  0.293876\n",
              " 0.90363   0.896286  0.888983  0.881721  …  0.306654  0.301438  0.296241\n",
              " 0.894453  0.887348  0.88028   0.873248     0.308877  0.303706  0.298554\n",
              " 0.885351  0.87848   0.871642  0.864836     0.311047  0.305921  0.300814\n",
              " ⋮                                       ⋱                      \n",
              " 0.333675  0.336013  0.338292  0.340512     0.347152  0.345598  0.34402\n",
              " 0.327754  0.330144  0.332476  0.334749     0.346235  0.344725  0.34319\n",
              " 0.321861  0.324303  0.326687  0.329012  …  0.345289  0.343822  0.34233\n",
              " 0.315998  0.318491  0.320925  0.323302     0.344314  0.342891  0.341442\n",
              " 0.310165  0.312707  0.315191  0.317617     0.343311  0.341931  0.340526\n",
              " 0.30436   0.306951  0.309483  0.311958     0.34228   0.340943  0.339581\n",
              " 0.298585  0.301223  0.303803  0.306325     0.341222  0.339927  0.338607\n",
              " 0.292839  0.295523  0.298149  0.300719  …  0.340135  0.338884  0.337606\n",
              " 0.287122  0.289851  0.292523  0.295138     0.339022  0.337813  0.336578\n",
              " 0.281434  0.284208  0.286924  0.289584     0.337882  0.336715  0.335522\n",
              " 0.275776  0.278592  0.281352  0.284055     0.336715  0.335591  0.334439\n",
              " 0.270146  0.273005  0.275807  0.278553     0.335522  0.334439  0.33333"
            ]
          },
          "execution_count": 15,
          "metadata": {},
          "output_type": "execute_result"
        }
      ],
      "source": [
        "function bestrank4()\n",
        "    # TODO: return best rank-4 approximation\n",
        "    #---------------------------------------\n",
        "    # Define g(x, y)\n",
        "    g(x, y) = cos(x - y) / (x + y + 1)\n",
        "    n = 100\n",
        "    # X and Y axis of our grid\n",
        "    X = range(0, 1; length=n)\n",
        "    Y = X\n",
        "    # Create matrix of grid points, s.t a_ij = f(x_i, y_j)\n",
        "    A = zeros(n, n)\n",
        "    for (i, x) in enumerate(X)\n",
        "        for (j, y) in enumerate(Y)\n",
        "            A[i, j] = g(x, y)\n",
        "        end    \n",
        "    end\n",
        "    U, σ, V = svd(A)\n",
        "    rank = 4\n",
        "    Σₖ = Diagonal(σ[1:rank])\n",
        "    Uₖ = U[:, 1:rank]\n",
        "    Vₖ = V[:, 1:rank]\n",
        "    return Uₖ * Σₖ * Vₖ'\n",
        "end\n",
        "\n",
        "Fr = bestrank4()"
      ]
    },
    {
      "cell_type": "code",
      "execution_count": 16,
      "metadata": {},
      "outputs": [
        {
          "data": {
            "text/plain": [
              "\u001b[32m\u001b[1mTest Passed\u001b[22m\u001b[39m"
            ]
          },
          "execution_count": 16,
          "metadata": {},
          "output_type": "execute_result"
        }
      ],
      "source": [
        "x = 9/99\n",
        "y = 10/99\n",
        "@test rank(Fr) == 4\n",
        "@test abs(Fr[10,11] - cos(x - y)/(x + y + 1)) ≤ 2E-6"
      ]
    },
    {
      "cell_type": "markdown",
      "metadata": {},
      "source": [
        "## 6. Differential Equations\n",
        "\n",
        "**Problem 6.1 (A)** Complete the function `airyai(n)` that returns a length-$n$ `Vector{Float64}`\n",
        "$$\n",
        "\\begin{bmatrix}\n",
        "u_1 \\\\\n",
        "⋮ \\\\\n",
        "u_n\n",
        "\\end{bmatrix}\n",
        "$$\n",
        "such that $u_k$ approximates the solution to the equation\n",
        "$$\n",
        "\\begin{align*}\n",
        "u(0) &= 1 \\\\\n",
        "u(1) &= 0 \\\\\n",
        "u'' - x u &= 0\n",
        "\\end{align*}\n",
        "$$\n",
        "at the point $x_k = (k-1)/(n-1)$ using the second order finite-difference approximation:\n",
        "$$\n",
        "u''(x_k) ≈ {u_{k-1} - 2u_k + u{k+1} \\over h^2}\n",
        "$$\n",
        "for $k = 2, …, n-1$, in $O(n)$ operations."
      ]
    },
    {
      "cell_type": "code",
      "execution_count": 29,
      "metadata": {},
      "outputs": [
        {
          "data": {
            "text/plain": [
              "airy (generic function with 1 method)"
            ]
          },
          "execution_count": 29,
          "metadata": {},
          "output_type": "execute_result"
        }
      ],
      "source": [
        "function airy(n)\n",
        "    # TODO: return a Vector{Float64} approximating the solution to the ODE\n",
        "    ## SOLUTION\n",
        "    x = range(0, 1; length = n)\n",
        "    h = step(x)\n",
        "    A = SymTridiagonal(fill(-2 / h^2, n - 2) .- x[2:end-1], fill(1 / h^2, n - 3))\n",
        "    u = A \\ [-1 / h^2; zeros(n - 3)]\n",
        "    [1; u; 0]\n",
        "    ## END\n",
        "end"
      ]
    },
    {
      "cell_type": "code",
      "execution_count": 30,
      "metadata": {},
      "outputs": [
        {
          "data": {
            "text/plain": [
              "\u001b[32m\u001b[1mTest Passed\u001b[22m\u001b[39m"
            ]
          },
          "execution_count": 30,
          "metadata": {},
          "output_type": "execute_result"
        }
      ],
      "source": [
        "u = airy(1000)\n",
        "@test u[1] == 1\n",
        "@test u[end] == 0\n",
        "# this compares agianst the exact formula\n",
        "@test abs(u[500] - 0.4757167332829094) ≤ 2E-8"
      ]
    },
    {
      "cell_type": "code",
      "execution_count": 33,
      "metadata": {},
      "outputs": [
        {
          "data": {
            "text/plain": [
              "4×4 SymTridiagonal{Int64,Array{Int64,1}}:\n",
              " 2  3  ⋅  ⋅\n",
              " 3  2  3  ⋅\n",
              " ⋅  3  2  3\n",
              " ⋅  ⋅  3  2"
            ]
          },
          "execution_count": 33,
          "metadata": {},
          "output_type": "execute_result"
        }
      ],
      "source": [
        "A = SymTridiagonal([2, 2, 2, 2], [3, 3, 3])"
      ]
    },
    {
      "cell_type": "code",
      "execution_count": 39,
      "metadata": {},
      "outputs": [
        {
          "data": {
            "text/plain": [
              "3-element Array{Int64,1}:\n",
              " 2\n",
              " 3\n",
              " 4"
            ]
          },
          "execution_count": 39,
          "metadata": {},
          "output_type": "execute_result"
        }
      ],
      "source": [
        "[-1 / 2; zeros(5)]"
      ]
    },
    {
      "cell_type": "code",
      "execution_count": null,
      "metadata": {},
      "outputs": [],
      "source": []
    }
  ],
  "metadata": {
    "kernelspec": {
      "display_name": "Julia Data Analysis Common 1.5.3",
      "language": "julia",
      "name": "julia-data-analysis-common-1.5"
    },
    "language_info": {
      "file_extension": ".jl",
      "mimetype": "application/julia",
      "name": "julia",
      "version": "1.5.3"
    }
  },
  "nbformat": 4,
  "nbformat_minor": 2
}
